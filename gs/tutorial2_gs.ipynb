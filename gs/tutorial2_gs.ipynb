{
 "cells": [
  {
   "cell_type": "markdown",
   "id": "4e9e84e8-1d14-4583-aac0-62d7cec61430",
   "metadata": {},
   "source": [
    "# Tutorial 2: Feature importance, and some scatter plots (GS)"
   ]
  },
  {
   "cell_type": "markdown",
   "id": "6d561e63-85f5-4bba-847d-907f0e3392e3",
   "metadata": {},
   "source": [
    "---"
   ]
  },
  {
   "cell_type": "markdown",
   "id": "e994b14f-17a9-4daf-a82a-04ee70ed8f49",
   "metadata": {},
   "source": [
    "The aim of this notebook, is to reorder the 2074 columns according to their importance\n",
    "\n",
    "First, let us recall the data from the previous notebook"
   ]
  },
  {
   "cell_type": "code",
   "execution_count": 1,
   "id": "8f9e1d65-2442-4b33-afcf-8f781ae6add5",
   "metadata": {},
   "outputs": [],
   "source": [
    "%store -r df_input_GS\n",
    "%store -r y_GS\n",
    "%store -r df_GS\n"
   ]
  },
  {
   "cell_type": "markdown",
   "id": "ee2c793a-3d90-441c-9bc3-d546656ce534",
   "metadata": {},
   "source": [
    "<b><i> Data splitting </i></b> "
   ]
  },
  {
   "cell_type": "code",
   "execution_count": 2,
   "id": "0055b953-a0eb-45b3-924b-40f227d5184c",
   "metadata": {},
   "outputs": [],
   "source": [
    "from sklearn.model_selection import train_test_split\n",
    "\n",
    "Xtrain, Xtest, Ytrain, Ytest = train_test_split( df_input_GS, y_GS, test_size = 0.3, random_state=3, stratify=y_GS) # train and valid sets"
   ]
  },
  {
   "cell_type": "code",
   "execution_count": 3,
   "id": "fd99ebbc-2c26-48e3-a8bf-c355eb5cfe96",
   "metadata": {},
   "outputs": [
    {
     "name": "stdout",
     "output_type": "stream",
     "text": [
      "(352, 2074)\n",
      "(151, 2074)\n"
     ]
    }
   ],
   "source": [
    "print(Xtrain.shape)\n",
    "print(Xtest.shape)"
   ]
  },
  {
   "cell_type": "markdown",
   "id": "aaf181b9-306a-49eb-9519-f1636bb76070",
   "metadata": {},
   "source": [
    "---"
   ]
  },
  {
   "cell_type": "markdown",
   "id": "cab4d6ca-a608-41be-b571-b44f0a631403",
   "metadata": {},
   "source": [
    "<b><i> Permutation Importance </i></b> "
   ]
  },
  {
   "cell_type": "code",
   "execution_count": 4,
   "id": "34f9f754-9f79-4fb8-acc8-8d5baac366c9",
   "metadata": {},
   "outputs": [],
   "source": [
    "from sklearn.ensemble import RandomForestClassifier\n",
    "from sklearn.inspection import permutation_importance\n",
    "from random import *\n",
    "import random\n",
    "from matplotlib import pyplot\n",
    "import numpy as np"
   ]
  },
  {
   "cell_type": "code",
   "execution_count": 5,
   "id": "0db85c94-a468-467e-95af-e6c1e31c18b6",
   "metadata": {},
   "outputs": [],
   "source": [
    "featImp_GS = [] # an empty list to store the important features"
   ]
  },
  {
   "cell_type": "code",
   "execution_count": null,
   "id": "496fa754-9171-4537-a4a9-52ef6ae29163",
   "metadata": {
    "collapsed": true,
    "jupyter": {
     "outputs_hidden": true
    },
    "tags": []
   },
   "outputs": [
    {
     "name": "stdout",
     "output_type": "stream",
     "text": [
      "itr: 0\n",
      "Train shape: (177, 2074)\n",
      "Valid shape: (175, 2074)\n",
      "\n",
      "itr: 1\n",
      "Train shape: (209, 2074)\n",
      "Valid shape: (143, 2074)\n",
      "\n",
      "itr: 2\n",
      "Train shape: (216, 2074)\n",
      "Valid shape: (136, 2074)\n",
      "\n",
      "itr: 3\n",
      "Train shape: (270, 2074)\n",
      "Valid shape: (82, 2074)\n",
      "\n",
      "itr: 4\n",
      "Train shape: (224, 2074)\n",
      "Valid shape: (128, 2074)\n",
      "\n",
      "itr: 5\n",
      "Train shape: (233, 2074)\n",
      "Valid shape: (119, 2074)\n",
      "\n",
      "itr: 6\n",
      "Train shape: (245, 2074)\n",
      "Valid shape: (107, 2074)\n",
      "\n",
      "itr: 7\n",
      "Train shape: (208, 2074)\n",
      "Valid shape: (144, 2074)\n",
      "\n",
      "itr: 8\n",
      "Train shape: (204, 2074)\n",
      "Valid shape: (148, 2074)\n",
      "\n",
      "itr: 9\n",
      "Train shape: (187, 2074)\n",
      "Valid shape: (165, 2074)\n",
      "\n",
      "itr: 10\n",
      "Train shape: (214, 2074)\n",
      "Valid shape: (138, 2074)\n",
      "\n",
      "itr: 11\n",
      "Train shape: (213, 2074)\n",
      "Valid shape: (139, 2074)\n",
      "\n",
      "itr: 12\n",
      "Train shape: (212, 2074)\n",
      "Valid shape: (140, 2074)\n",
      "\n",
      "itr: 13\n",
      "Train shape: (273, 2074)\n",
      "Valid shape: (79, 2074)\n",
      "\n",
      "itr: 14\n",
      "Train shape: (191, 2074)\n",
      "Valid shape: (161, 2074)\n",
      "\n",
      "itr: 15\n",
      "Train shape: (209, 2074)\n",
      "Valid shape: (143, 2074)\n",
      "\n",
      "itr: 16\n",
      "Train shape: (278, 2074)\n",
      "Valid shape: (74, 2074)\n",
      "\n",
      "itr: 17\n",
      "Train shape: (235, 2074)\n",
      "Valid shape: (117, 2074)\n",
      "\n",
      "itr: 18\n",
      "Train shape: (259, 2074)\n",
      "Valid shape: (93, 2074)\n",
      "\n",
      "itr: 19\n",
      "Train shape: (255, 2074)\n",
      "Valid shape: (97, 2074)\n",
      "\n",
      "itr: 20\n",
      "Train shape: (265, 2074)\n",
      "Valid shape: (87, 2074)\n",
      "\n",
      "itr: 21\n",
      "Train shape: (213, 2074)\n",
      "Valid shape: (139, 2074)\n",
      "\n",
      "itr: 22\n",
      "Train shape: (226, 2074)\n",
      "Valid shape: (126, 2074)\n",
      "\n",
      "itr: 23\n",
      "Train shape: (278, 2074)\n",
      "Valid shape: (74, 2074)\n",
      "\n",
      "itr: 24\n",
      "Train shape: (235, 2074)\n",
      "Valid shape: (117, 2074)\n",
      "\n",
      "itr: 25\n",
      "Train shape: (198, 2074)\n",
      "Valid shape: (154, 2074)\n",
      "\n",
      "itr: 26\n",
      "Train shape: (184, 2074)\n",
      "Valid shape: (168, 2074)\n",
      "\n",
      "itr: 27\n",
      "Train shape: (270, 2074)\n",
      "Valid shape: (82, 2074)\n",
      "\n",
      "itr: 28\n",
      "Train shape: (217, 2074)\n",
      "Valid shape: (135, 2074)\n",
      "\n",
      "itr: 29\n",
      "Train shape: (272, 2074)\n",
      "Valid shape: (80, 2074)\n",
      "\n",
      "itr: 30\n",
      "Train shape: (223, 2074)\n",
      "Valid shape: (129, 2074)\n",
      "\n",
      "itr: 31\n",
      "Train shape: (235, 2074)\n",
      "Valid shape: (117, 2074)\n",
      "\n",
      "itr: 32\n",
      "Train shape: (208, 2074)\n",
      "Valid shape: (144, 2074)\n",
      "\n",
      "itr: 33\n",
      "Train shape: (211, 2074)\n",
      "Valid shape: (141, 2074)\n",
      "\n",
      "itr: 34\n",
      "Train shape: (218, 2074)\n",
      "Valid shape: (134, 2074)\n",
      "\n",
      "itr: 35\n",
      "Train shape: (235, 2074)\n",
      "Valid shape: (117, 2074)\n",
      "\n",
      "itr: 36\n",
      "Train shape: (253, 2074)\n",
      "Valid shape: (99, 2074)\n",
      "\n",
      "itr: 37\n",
      "Train shape: (251, 2074)\n",
      "Valid shape: (101, 2074)\n",
      "\n",
      "itr: 38\n",
      "Train shape: (210, 2074)\n",
      "Valid shape: (142, 2074)\n",
      "\n",
      "itr: 39\n",
      "Train shape: (209, 2074)\n",
      "Valid shape: (143, 2074)\n",
      "\n",
      "itr: 40\n",
      "Train shape: (179, 2074)\n",
      "Valid shape: (173, 2074)\n",
      "\n",
      "itr: 41\n",
      "Train shape: (210, 2074)\n",
      "Valid shape: (142, 2074)\n",
      "\n",
      "itr: 42\n",
      "Train shape: (281, 2074)\n",
      "Valid shape: (71, 2074)\n",
      "\n",
      "itr: 43\n",
      "Train shape: (229, 2074)\n",
      "Valid shape: (123, 2074)\n",
      "\n",
      "itr: 44\n",
      "Train shape: (200, 2074)\n",
      "Valid shape: (152, 2074)\n",
      "\n",
      "itr: 45\n",
      "Train shape: (211, 2074)\n",
      "Valid shape: (141, 2074)\n",
      "\n"
     ]
    }
   ],
   "source": [
    "# for i in range (1000): # we will take the average of 1000 permutations, with different sizes and random splits (you can increase the number for it to be more robust)\n",
    "#     print(\"itr: \" + str(i))\n",
    "    \n",
    "#     RandomStateValid = randrange(50)\n",
    "#     ranodmSplitValid = random.uniform(0.2, 0.5)\n",
    "#     XtrainPer, XvalidPer, YtrainPer, YvalidPer = train_test_split( np.array(Xtrain), np.array(Ytrain), test_size = ranodmSplitValid, random_state=RandomStateValid, stratify=Ytrain) # train and valid sets\n",
    "#     print(\"Train shape: \"+str(XtrainPer.shape))\n",
    "#     print(\"Valid shape: \"+str(XvalidPer.shape))\n",
    "#     print()\n",
    "   \n",
    "#     # train\n",
    "#     model = RandomForestClassifier(n_estimators=50, random_state=0, n_jobs = -1)\n",
    "#     model.fit(XtrainPer, YtrainPer)\n",
    "    \n",
    "#     results = permutation_importance(model, XvalidPer, YvalidPer, scoring='precision_macro', n_repeats = 10, n_jobs = -1)\n",
    "#     importance = results.importances_mean\n",
    "#     # print(importance)\n",
    "\n",
    "#     featImp_GS.append(importance)"
   ]
  },
  {
   "cell_type": "code",
   "execution_count": 11,
   "id": "1e23bce7-34a5-4146-984d-f4a5a7ad59b4",
   "metadata": {},
   "outputs": [
    {
     "name": "stdout",
     "output_type": "stream",
     "text": [
      "Stored 'featImp_GS' (list)\n"
     ]
    }
   ],
   "source": [
    "%store featImp_GS"
   ]
  },
  {
   "cell_type": "code",
   "execution_count": 12,
   "id": "5c74f811-c95c-45b9-8b7a-f740c432d48b",
   "metadata": {},
   "outputs": [],
   "source": [
    "# we need to continue with this notebook."
   ]
  },
  {
   "cell_type": "code",
   "execution_count": 13,
   "id": "3d1ad3c0-d4c7-4529-89b5-539d98c55e98",
   "metadata": {},
   "outputs": [
    {
     "name": "stdout",
     "output_type": "stream",
     "text": [
      "1\n"
     ]
    }
   ],
   "source": [
    "print(1)"
   ]
  },
  {
   "cell_type": "code",
   "execution_count": 14,
   "id": "ee7b489b-ab80-485a-a670-19edf64ad85f",
   "metadata": {},
   "outputs": [
    {
     "data": {
      "text/plain": [
       "(1000, 2074)"
      ]
     },
     "execution_count": 14,
     "metadata": {},
     "output_type": "execute_result"
    }
   ],
   "source": [
    "np.array(featImp_GS).shape"
   ]
  },
  {
   "cell_type": "code",
   "execution_count": null,
   "id": "0c56ff14-b700-40ab-9a2c-b84f7791f9e6",
   "metadata": {},
   "outputs": [],
   "source": []
  }
 ],
 "metadata": {
  "kernelspec": {
   "display_name": "apple_kernel",
   "language": "python",
   "name": "apple_kernel"
  },
  "language_info": {
   "codemirror_mode": {
    "name": "ipython",
    "version": 3
   },
   "file_extension": ".py",
   "mimetype": "text/x-python",
   "name": "python",
   "nbconvert_exporter": "python",
   "pygments_lexer": "ipython3",
   "version": "3.8.10"
  }
 },
 "nbformat": 4,
 "nbformat_minor": 5
}
