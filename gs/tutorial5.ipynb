{
 "cells": [
  {
   "cell_type": "markdown",
   "id": "6f893407-c45b-4a97-8906-702e72754885",
   "metadata": {},
   "source": [
    "# Tutorial 5: RFE on the best 400 features"
   ]
  },
  {
   "cell_type": "markdown",
   "id": "7f7f0a3d-c257-43a6-84d1-643324886063",
   "metadata": {},
   "source": [
    "---"
   ]
  },
  {
   "cell_type": "markdown",
   "id": "76a661a3-77c9-4e5c-ba18-72f455a25c91",
   "metadata": {},
   "source": [
    "### Introduction"
   ]
  },
  {
   "cell_type": "markdown",
   "id": "c21305f5-293e-4bbe-bfd8-ec8d01787f48",
   "metadata": {},
   "source": [
    "Hello, this notebook will show how to use RFE to perform further feature selection, as we found that most features are very highly correlated, therfore we would need to remove those using the tool that we mentioned above. "
   ]
  },
  {
   "cell_type": "markdown",
   "id": "45456717-90bf-44c1-be0b-f2ad9314737f",
   "metadata": {},
   "source": [
    "first, let us call the data"
   ]
  },
  {
   "cell_type": "code",
   "execution_count": 1,
   "id": "fbec0b60-3e98-432e-9de6-fb444ce4c70c",
   "metadata": {},
   "outputs": [],
   "source": [
    "%store -r df_input_GS\n",
    "%store -r y_GS\n",
    "%store -r df_GS"
   ]
  },
  {
   "cell_type": "code",
   "execution_count": 2,
   "id": "cc2bd9ee-bb2c-453d-97fb-7104a64d8120",
   "metadata": {},
   "outputs": [],
   "source": [
    "y_GS = y_GS.map({'S': 1, 'B': 0})"
   ]
  },
  {
   "cell_type": "markdown",
   "id": "4a963998-c26e-40b6-bbfc-d5c1110dd9bf",
   "metadata": {},
   "source": [
    "---"
   ]
  },
  {
   "cell_type": "markdown",
   "id": "eea3bba6-fa62-43bf-a543-fb088617b9cf",
   "metadata": {},
   "source": [
    "calling some packages"
   ]
  },
  {
   "cell_type": "code",
   "execution_count": 3,
   "id": "4be29664-f490-4ef1-a263-7fcaaa093c34",
   "metadata": {},
   "outputs": [],
   "source": [
    "# Python packages \n",
    "import pandas as pd # for importing data into data frame format\n",
    "import seaborn as sns # For drawing useful graphs, such as bar graphs\n",
    "import numpy as np\n",
    "import matplotlib.pyplot as plt"
   ]
  },
  {
   "cell_type": "markdown",
   "id": "e08c43a3-5668-4360-92fb-7d28a1bdb3a0",
   "metadata": {},
   "source": [
    "---"
   ]
  },
  {
   "cell_type": "markdown",
   "id": "785b56a0-0772-4cc2-a2f6-34a9fe598b80",
   "metadata": {},
   "source": [
    "<b><i> Data splitting </i></b> "
   ]
  },
  {
   "cell_type": "code",
   "execution_count": 4,
   "id": "24b557bd-4d21-4767-bd55-f27cfbfdd8f8",
   "metadata": {},
   "outputs": [],
   "source": [
    "from sklearn.model_selection import train_test_split\n",
    "\n",
    "Xtrain, Xtest, Ytrain, Ytest = train_test_split( df_input_GS, y_GS, test_size = 0.3, random_state=3, stratify=y_GS) # train and valid sets"
   ]
  },
  {
   "cell_type": "code",
   "execution_count": 5,
   "id": "5acc93a2-c050-4d22-8e18-c37c179060a0",
   "metadata": {},
   "outputs": [
    {
     "name": "stdout",
     "output_type": "stream",
     "text": [
      "(352, 2074)\n",
      "(151, 2074)\n"
     ]
    }
   ],
   "source": [
    "print(Xtrain.shape)\n",
    "print(Xtest.shape)"
   ]
  },
  {
   "cell_type": "markdown",
   "id": "df8fc28e-022b-4cd0-be84-e590c7774324",
   "metadata": {},
   "source": [
    "---"
   ]
  },
  {
   "cell_type": "markdown",
   "id": "3c2c9fb6-2e96-47e3-8469-6e09beaecf49",
   "metadata": {},
   "source": [
    "<b><i> get the best N features </i></b> "
   ]
  },
  {
   "cell_type": "code",
   "execution_count": 6,
   "id": "6266887b-9436-4e2a-8171-a17156afd675",
   "metadata": {},
   "outputs": [],
   "source": [
    "%store -r featImp_GS"
   ]
  },
  {
   "cell_type": "code",
   "execution_count": 7,
   "id": "923b7f48-f1a0-417f-8627-9fac12335347",
   "metadata": {},
   "outputs": [
    {
     "name": "stdout",
     "output_type": "stream",
     "text": [
      "[1793 1775 2048   31    3 1771  544 1781   17   45]\n"
     ]
    }
   ],
   "source": [
    "arrimp = np.array(featImp_GS).mean(0)\n",
    "sorted_idx = arrimp.argsort()\n",
    "print(sorted_idx[-10:])"
   ]
  },
  {
   "cell_type": "code",
   "execution_count": 8,
   "id": "ee471b52-e1ce-4089-b174-da8dc69196fa",
   "metadata": {},
   "outputs": [
    {
     "data": {
      "text/plain": [
       "Index([1841.364,  980.575, 1133.147, 2337.819,  911.297, 1075.338, 1155.366,\n",
       "        974.677, 1447.594, 1613.342,\n",
       "       ...\n",
       "       1968.596, 1942.053, 2441.281,   842.04,  834.451, 1936.251, 1010.382,\n",
       "       1950.821,  838.229,  845.886],\n",
       "      dtype='object', length=400)"
      ]
     },
     "execution_count": 8,
     "metadata": {},
     "output_type": "execute_result"
    }
   ],
   "source": [
    "cols_ordered = df_input_GS.columns[sorted_idx][-400:]\n",
    "cols_ordered"
   ]
  },
  {
   "cell_type": "markdown",
   "id": "43148aed-4094-4725-929c-49df2386b9b6",
   "metadata": {},
   "source": [
    "---"
   ]
  },
  {
   "cell_type": "code",
   "execution_count": 9,
   "id": "c7b866b9-ee31-4b8f-86d6-3aca428a092a",
   "metadata": {},
   "outputs": [
    {
     "data": {
      "text/html": [
       "<div>\n",
       "<style scoped>\n",
       "    .dataframe tbody tr th:only-of-type {\n",
       "        vertical-align: middle;\n",
       "    }\n",
       "\n",
       "    .dataframe tbody tr th {\n",
       "        vertical-align: top;\n",
       "    }\n",
       "\n",
       "    .dataframe thead th {\n",
       "        text-align: right;\n",
       "    }\n",
       "</style>\n",
       "<table border=\"1\" class=\"dataframe\">\n",
       "  <thead>\n",
       "    <tr style=\"text-align: right;\">\n",
       "      <th></th>\n",
       "      <th>1841.364</th>\n",
       "      <th>980.575</th>\n",
       "      <th>1133.147</th>\n",
       "      <th>2337.819</th>\n",
       "      <th>911.297</th>\n",
       "      <th>1075.338</th>\n",
       "      <th>1155.366</th>\n",
       "      <th>974.677</th>\n",
       "      <th>1447.594</th>\n",
       "      <th>1613.342</th>\n",
       "      <th>...</th>\n",
       "      <th>1968.596</th>\n",
       "      <th>1942.053</th>\n",
       "      <th>2441.281</th>\n",
       "      <th>842.040</th>\n",
       "      <th>834.451</th>\n",
       "      <th>1936.251</th>\n",
       "      <th>1010.382</th>\n",
       "      <th>1950.821</th>\n",
       "      <th>838.229</th>\n",
       "      <th>845.886</th>\n",
       "    </tr>\n",
       "  </thead>\n",
       "  <tbody>\n",
       "    <tr>\n",
       "      <th>210</th>\n",
       "      <td>-0.347752</td>\n",
       "      <td>-0.782148</td>\n",
       "      <td>-0.788094</td>\n",
       "      <td>-0.165300</td>\n",
       "      <td>-0.825079</td>\n",
       "      <td>-0.805515</td>\n",
       "      <td>-0.716025</td>\n",
       "      <td>-0.784317</td>\n",
       "      <td>-0.259222</td>\n",
       "      <td>-0.440796</td>\n",
       "      <td>...</td>\n",
       "      <td>-0.103180</td>\n",
       "      <td>-0.064431</td>\n",
       "      <td>-0.126623</td>\n",
       "      <td>-0.852611</td>\n",
       "      <td>-0.868323</td>\n",
       "      <td>-0.056824</td>\n",
       "      <td>-0.791167</td>\n",
       "      <td>-0.077484</td>\n",
       "      <td>-0.863861</td>\n",
       "      <td>-0.859112</td>\n",
       "    </tr>\n",
       "    <tr>\n",
       "      <th>266</th>\n",
       "      <td>0.597408</td>\n",
       "      <td>0.973945</td>\n",
       "      <td>0.975639</td>\n",
       "      <td>0.444570</td>\n",
       "      <td>1.038538</td>\n",
       "      <td>1.021833</td>\n",
       "      <td>0.902108</td>\n",
       "      <td>0.969298</td>\n",
       "      <td>0.414803</td>\n",
       "      <td>0.681119</td>\n",
       "      <td>...</td>\n",
       "      <td>0.323973</td>\n",
       "      <td>0.292242</td>\n",
       "      <td>0.386553</td>\n",
       "      <td>1.040755</td>\n",
       "      <td>1.046849</td>\n",
       "      <td>0.284218</td>\n",
       "      <td>0.986368</td>\n",
       "      <td>0.303714</td>\n",
       "      <td>1.044837</td>\n",
       "      <td>1.048485</td>\n",
       "    </tr>\n",
       "    <tr>\n",
       "      <th>458</th>\n",
       "      <td>0.954467</td>\n",
       "      <td>0.148099</td>\n",
       "      <td>0.146223</td>\n",
       "      <td>1.005679</td>\n",
       "      <td>-0.014365</td>\n",
       "      <td>0.042751</td>\n",
       "      <td>0.305590</td>\n",
       "      <td>0.144290</td>\n",
       "      <td>1.058035</td>\n",
       "      <td>0.908711</td>\n",
       "      <td>...</td>\n",
       "      <td>0.992127</td>\n",
       "      <td>0.954164</td>\n",
       "      <td>0.948222</td>\n",
       "      <td>-0.020894</td>\n",
       "      <td>-0.012900</td>\n",
       "      <td>0.947342</td>\n",
       "      <td>0.135750</td>\n",
       "      <td>0.966534</td>\n",
       "      <td>-0.014697</td>\n",
       "      <td>-0.009475</td>\n",
       "    </tr>\n",
       "    <tr>\n",
       "      <th>322</th>\n",
       "      <td>0.843525</td>\n",
       "      <td>1.076064</td>\n",
       "      <td>1.073435</td>\n",
       "      <td>0.764227</td>\n",
       "      <td>1.160048</td>\n",
       "      <td>1.132404</td>\n",
       "      <td>1.006338</td>\n",
       "      <td>1.075378</td>\n",
       "      <td>0.779457</td>\n",
       "      <td>0.892410</td>\n",
       "      <td>...</td>\n",
       "      <td>0.693932</td>\n",
       "      <td>0.669354</td>\n",
       "      <td>0.738082</td>\n",
       "      <td>1.176984</td>\n",
       "      <td>1.173067</td>\n",
       "      <td>0.661299</td>\n",
       "      <td>1.091540</td>\n",
       "      <td>0.674564</td>\n",
       "      <td>1.178287</td>\n",
       "      <td>1.173193</td>\n",
       "    </tr>\n",
       "    <tr>\n",
       "      <th>171</th>\n",
       "      <td>-1.332538</td>\n",
       "      <td>-1.178695</td>\n",
       "      <td>-1.178955</td>\n",
       "      <td>-1.317824</td>\n",
       "      <td>-1.103519</td>\n",
       "      <td>-1.118396</td>\n",
       "      <td>-1.244864</td>\n",
       "      <td>-1.178938</td>\n",
       "      <td>-1.322936</td>\n",
       "      <td>-1.319953</td>\n",
       "      <td>...</td>\n",
       "      <td>-1.295124</td>\n",
       "      <td>-1.280268</td>\n",
       "      <td>-1.305844</td>\n",
       "      <td>-1.101613</td>\n",
       "      <td>-1.111279</td>\n",
       "      <td>-1.276586</td>\n",
       "      <td>-1.157541</td>\n",
       "      <td>-1.285318</td>\n",
       "      <td>-1.109319</td>\n",
       "      <td>-1.106318</td>\n",
       "    </tr>\n",
       "    <tr>\n",
       "      <th>...</th>\n",
       "      <td>...</td>\n",
       "      <td>...</td>\n",
       "      <td>...</td>\n",
       "      <td>...</td>\n",
       "      <td>...</td>\n",
       "      <td>...</td>\n",
       "      <td>...</td>\n",
       "      <td>...</td>\n",
       "      <td>...</td>\n",
       "      <td>...</td>\n",
       "      <td>...</td>\n",
       "      <td>...</td>\n",
       "      <td>...</td>\n",
       "      <td>...</td>\n",
       "      <td>...</td>\n",
       "      <td>...</td>\n",
       "      <td>...</td>\n",
       "      <td>...</td>\n",
       "      <td>...</td>\n",
       "      <td>...</td>\n",
       "      <td>...</td>\n",
       "    </tr>\n",
       "    <tr>\n",
       "      <th>45</th>\n",
       "      <td>-0.471415</td>\n",
       "      <td>-0.655091</td>\n",
       "      <td>-0.660125</td>\n",
       "      <td>-0.330135</td>\n",
       "      <td>-0.755149</td>\n",
       "      <td>-0.722527</td>\n",
       "      <td>-0.582161</td>\n",
       "      <td>-0.651424</td>\n",
       "      <td>-0.520635</td>\n",
       "      <td>-0.539580</td>\n",
       "      <td>...</td>\n",
       "      <td>-0.318073</td>\n",
       "      <td>-0.258179</td>\n",
       "      <td>-0.249466</td>\n",
       "      <td>-0.775807</td>\n",
       "      <td>-0.771421</td>\n",
       "      <td>-0.246058</td>\n",
       "      <td>-0.683964</td>\n",
       "      <td>-0.277660</td>\n",
       "      <td>-0.772976</td>\n",
       "      <td>-0.771858</td>\n",
       "    </tr>\n",
       "    <tr>\n",
       "      <th>430</th>\n",
       "      <td>1.887427</td>\n",
       "      <td>1.430805</td>\n",
       "      <td>1.428148</td>\n",
       "      <td>1.911442</td>\n",
       "      <td>1.390439</td>\n",
       "      <td>1.399330</td>\n",
       "      <td>1.493246</td>\n",
       "      <td>1.431303</td>\n",
       "      <td>2.074960</td>\n",
       "      <td>1.798811</td>\n",
       "      <td>...</td>\n",
       "      <td>1.950348</td>\n",
       "      <td>1.916986</td>\n",
       "      <td>1.834398</td>\n",
       "      <td>1.378890</td>\n",
       "      <td>1.385954</td>\n",
       "      <td>1.913913</td>\n",
       "      <td>1.412999</td>\n",
       "      <td>1.927220</td>\n",
       "      <td>1.381970</td>\n",
       "      <td>1.384165</td>\n",
       "    </tr>\n",
       "    <tr>\n",
       "      <th>5</th>\n",
       "      <td>-0.639943</td>\n",
       "      <td>-0.965198</td>\n",
       "      <td>-0.951341</td>\n",
       "      <td>-0.497273</td>\n",
       "      <td>-0.938288</td>\n",
       "      <td>-0.954291</td>\n",
       "      <td>-0.937417</td>\n",
       "      <td>-0.962535</td>\n",
       "      <td>-0.507058</td>\n",
       "      <td>-0.808180</td>\n",
       "      <td>...</td>\n",
       "      <td>-0.417211</td>\n",
       "      <td>-0.403042</td>\n",
       "      <td>-0.442860</td>\n",
       "      <td>-0.919328</td>\n",
       "      <td>-0.912298</td>\n",
       "      <td>-0.401600</td>\n",
       "      <td>-0.971304</td>\n",
       "      <td>-0.407482</td>\n",
       "      <td>-0.916736</td>\n",
       "      <td>-0.915225</td>\n",
       "    </tr>\n",
       "    <tr>\n",
       "      <th>310</th>\n",
       "      <td>1.131033</td>\n",
       "      <td>1.209887</td>\n",
       "      <td>1.212979</td>\n",
       "      <td>1.132749</td>\n",
       "      <td>1.248526</td>\n",
       "      <td>1.238886</td>\n",
       "      <td>1.187899</td>\n",
       "      <td>1.216206</td>\n",
       "      <td>1.094078</td>\n",
       "      <td>1.152663</td>\n",
       "      <td>...</td>\n",
       "      <td>1.100754</td>\n",
       "      <td>1.096170</td>\n",
       "      <td>1.103933</td>\n",
       "      <td>1.246935</td>\n",
       "      <td>1.246373</td>\n",
       "      <td>1.096653</td>\n",
       "      <td>1.219850</td>\n",
       "      <td>1.098692</td>\n",
       "      <td>1.251592</td>\n",
       "      <td>1.253352</td>\n",
       "    </tr>\n",
       "    <tr>\n",
       "      <th>216</th>\n",
       "      <td>-1.165062</td>\n",
       "      <td>-0.867770</td>\n",
       "      <td>-0.856187</td>\n",
       "      <td>-1.312964</td>\n",
       "      <td>-0.910115</td>\n",
       "      <td>-0.898960</td>\n",
       "      <td>-0.867514</td>\n",
       "      <td>-0.866244</td>\n",
       "      <td>-1.411909</td>\n",
       "      <td>-1.112098</td>\n",
       "      <td>...</td>\n",
       "      <td>-1.353762</td>\n",
       "      <td>-1.344218</td>\n",
       "      <td>-1.298266</td>\n",
       "      <td>-0.896448</td>\n",
       "      <td>-0.895655</td>\n",
       "      <td>-1.341808</td>\n",
       "      <td>-0.876360</td>\n",
       "      <td>-1.348288</td>\n",
       "      <td>-0.895031</td>\n",
       "      <td>-0.900403</td>\n",
       "    </tr>\n",
       "  </tbody>\n",
       "</table>\n",
       "<p>352 rows × 400 columns</p>\n",
       "</div>"
      ],
      "text/plain": [
       "     1841.364  980.575   1133.147  2337.819  911.297   1075.338  1155.366  \\\n",
       "210 -0.347752 -0.782148 -0.788094 -0.165300 -0.825079 -0.805515 -0.716025   \n",
       "266  0.597408  0.973945  0.975639  0.444570  1.038538  1.021833  0.902108   \n",
       "458  0.954467  0.148099  0.146223  1.005679 -0.014365  0.042751  0.305590   \n",
       "322  0.843525  1.076064  1.073435  0.764227  1.160048  1.132404  1.006338   \n",
       "171 -1.332538 -1.178695 -1.178955 -1.317824 -1.103519 -1.118396 -1.244864   \n",
       "..        ...       ...       ...       ...       ...       ...       ...   \n",
       "45  -0.471415 -0.655091 -0.660125 -0.330135 -0.755149 -0.722527 -0.582161   \n",
       "430  1.887427  1.430805  1.428148  1.911442  1.390439  1.399330  1.493246   \n",
       "5   -0.639943 -0.965198 -0.951341 -0.497273 -0.938288 -0.954291 -0.937417   \n",
       "310  1.131033  1.209887  1.212979  1.132749  1.248526  1.238886  1.187899   \n",
       "216 -1.165062 -0.867770 -0.856187 -1.312964 -0.910115 -0.898960 -0.867514   \n",
       "\n",
       "     974.677   1447.594  1613.342  ...  1968.596  1942.053  2441.281  \\\n",
       "210 -0.784317 -0.259222 -0.440796  ... -0.103180 -0.064431 -0.126623   \n",
       "266  0.969298  0.414803  0.681119  ...  0.323973  0.292242  0.386553   \n",
       "458  0.144290  1.058035  0.908711  ...  0.992127  0.954164  0.948222   \n",
       "322  1.075378  0.779457  0.892410  ...  0.693932  0.669354  0.738082   \n",
       "171 -1.178938 -1.322936 -1.319953  ... -1.295124 -1.280268 -1.305844   \n",
       "..        ...       ...       ...  ...       ...       ...       ...   \n",
       "45  -0.651424 -0.520635 -0.539580  ... -0.318073 -0.258179 -0.249466   \n",
       "430  1.431303  2.074960  1.798811  ...  1.950348  1.916986  1.834398   \n",
       "5   -0.962535 -0.507058 -0.808180  ... -0.417211 -0.403042 -0.442860   \n",
       "310  1.216206  1.094078  1.152663  ...  1.100754  1.096170  1.103933   \n",
       "216 -0.866244 -1.411909 -1.112098  ... -1.353762 -1.344218 -1.298266   \n",
       "\n",
       "     842.040   834.451   1936.251  1010.382  1950.821  838.229   845.886   \n",
       "210 -0.852611 -0.868323 -0.056824 -0.791167 -0.077484 -0.863861 -0.859112  \n",
       "266  1.040755  1.046849  0.284218  0.986368  0.303714  1.044837  1.048485  \n",
       "458 -0.020894 -0.012900  0.947342  0.135750  0.966534 -0.014697 -0.009475  \n",
       "322  1.176984  1.173067  0.661299  1.091540  0.674564  1.178287  1.173193  \n",
       "171 -1.101613 -1.111279 -1.276586 -1.157541 -1.285318 -1.109319 -1.106318  \n",
       "..        ...       ...       ...       ...       ...       ...       ...  \n",
       "45  -0.775807 -0.771421 -0.246058 -0.683964 -0.277660 -0.772976 -0.771858  \n",
       "430  1.378890  1.385954  1.913913  1.412999  1.927220  1.381970  1.384165  \n",
       "5   -0.919328 -0.912298 -0.401600 -0.971304 -0.407482 -0.916736 -0.915225  \n",
       "310  1.246935  1.246373  1.096653  1.219850  1.098692  1.251592  1.253352  \n",
       "216 -0.896448 -0.895655 -1.341808 -0.876360 -1.348288 -0.895031 -0.900403  \n",
       "\n",
       "[352 rows x 400 columns]"
      ]
     },
     "execution_count": 9,
     "metadata": {},
     "output_type": "execute_result"
    }
   ],
   "source": [
    "Xtrain[cols_ordered]"
   ]
  },
  {
   "cell_type": "markdown",
   "id": "fe4dfa48-8b96-4f31-9081-1d39baf91227",
   "metadata": {},
   "source": [
    "### RFE"
   ]
  },
  {
   "cell_type": "code",
   "execution_count": 10,
   "id": "e3d3e511-442e-4cf4-a107-3b8e8c7ef666",
   "metadata": {},
   "outputs": [],
   "source": [
    "# explore the number of selected features for RFE\n",
    "from numpy import mean\n",
    "from numpy import std\n",
    "from sklearn.model_selection import cross_val_score\n",
    "from sklearn.model_selection import RepeatedStratifiedKFold\n",
    "from sklearn.feature_selection import RFE\n",
    "from sklearn.pipeline import Pipeline\n",
    "from matplotlib import pyplot\n",
    "from sklearn.linear_model import LogisticRegression"
   ]
  },
  {
   "cell_type": "code",
   "execution_count": null,
   "id": "d47f7269-7cce-43f1-a53c-a9f0a436d21b",
   "metadata": {
    "tags": []
   },
   "outputs": [
    {
     "name": "stdout",
     "output_type": "stream",
     "text": [
      ">2 0.682 (0.081)\n",
      ">3 0.685 (0.082)\n",
      ">4 0.690 (0.083)\n",
      ">5 0.708 (0.085)\n",
      ">6 0.773 (0.091)\n",
      ">7 0.785 (0.080)\n",
      ">8 0.791 (0.078)\n",
      ">9 0.794 (0.078)\n",
      ">10 0.792 (0.078)\n",
      ">11 0.795 (0.077)\n",
      ">12 0.793 (0.077)\n",
      ">13 0.793 (0.078)\n",
      ">14 0.797 (0.077)\n",
      ">15 0.798 (0.077)\n",
      ">16 0.801 (0.076)\n",
      ">17 0.800 (0.076)\n",
      ">18 0.801 (0.076)\n",
      ">19 0.801 (0.076)\n",
      ">20 0.801 (0.076)\n",
      ">21 0.800 (0.076)\n",
      ">22 0.799 (0.075)\n",
      ">23 0.801 (0.075)\n",
      ">24 0.801 (0.076)\n",
      ">25 0.801 (0.076)\n",
      ">26 0.804 (0.077)\n",
      ">27 0.805 (0.076)\n",
      ">28 0.808 (0.077)\n",
      ">29 0.809 (0.077)\n",
      ">30 0.810 (0.077)\n",
      ">31 0.811 (0.077)\n",
      ">32 0.812 (0.077)\n",
      ">33 0.813 (0.076)\n",
      ">34 0.813 (0.076)\n",
      ">35 0.813 (0.076)\n",
      ">36 0.815 (0.076)\n",
      ">37 0.815 (0.076)\n",
      ">38 0.815 (0.076)\n",
      ">39 0.814 (0.076)\n",
      ">40 0.815 (0.075)\n",
      ">41 0.815 (0.076)\n",
      ">42 0.814 (0.076)\n",
      ">43 0.815 (0.077)\n",
      ">44 0.814 (0.076)\n",
      ">45 0.814 (0.076)\n",
      ">46 0.814 (0.076)\n",
      ">47 0.815 (0.077)\n"
     ]
    }
   ],
   "source": [
    "\n",
    "def get_models():\n",
    "    models = dict()\n",
    "    for i in range(2, 51):\n",
    "        rfe = RFE(estimator=LogisticRegression(solver = 'newton-cg'), n_features_to_select=i, verbose = 0)\n",
    "        model = LogisticRegression(solver = 'newton-cg')\n",
    "        models[str(i)] = Pipeline(steps=[('s',rfe),('m',model)])\n",
    "    return models\n",
    "\n",
    "# evaluate a give model using cross-validation\n",
    "def evaluate_model(model, X, y):\n",
    "    cv = RepeatedStratifiedKFold(n_splits=10, n_repeats=50, random_state=1)\n",
    "    # cv = RepeatedStratifiedKFold(n_splits=3, n_repeats=3, random_state=1)\n",
    "    \n",
    "    scores = cross_val_score(model, X, y, scoring='precision', cv=cv, n_jobs=-1, error_score='raise')\n",
    "    return scores\n",
    "\n",
    "# get the models to evaluate\n",
    "models = get_models()\n",
    "\n",
    "# evaluate the models and store results\n",
    "results, names = list(), list()\n",
    "for name, model in models.items():\n",
    "    scores = evaluate_model(model, Xtrain[cols_ordered[-400:]].values, Ytrain)\n",
    "    results.append(scores)\n",
    "    names.append(name)\n",
    "    print('>%s %.3f (%.3f)' % (name, mean(scores), std(scores)))\n",
    "    \n"
   ]
  },
  {
   "cell_type": "code",
   "execution_count": 14,
   "id": "444e9bf4-2e4a-4f8c-823d-e32cd7778a6f",
   "metadata": {},
   "outputs": [
    {
     "data": {
      "image/png": "[encoded data removed]",
      "text/plain": [
       "<Figure size 1080x504 with 1 Axes>"
      ]
     },
     "metadata": {
      "needs_background": "light"
     },
     "output_type": "display_data"
    }
   ],
   "source": [
    "# plot model performance for comparison\n",
    "plt.figure(figsize=(15, 7))\n",
    "pyplot.boxplot(results, labels=names, showmeans=True)\n",
    "pyplot.show()"
   ]
  },
  {
   "cell_type": "code",
   "execution_count": 12,
   "id": "dd9c4aa7-7e45-4e1e-960d-a8891cc7a46f",
   "metadata": {},
   "outputs": [
    {
     "name": "stdout",
     "output_type": "stream",
     "text": [
      "1\n"
     ]
    }
   ],
   "source": [
    "print(1)"
   ]
  },
  {
   "cell_type": "code",
   "execution_count": null,
   "id": "6b41a4ae-55dc-4f60-955f-4b4f0a25007f",
   "metadata": {},
   "outputs": [],
   "source": []
  }
 ],
 "metadata": {
  "kernelspec": {
   "display_name": "apple_kernel",
   "language": "python",
   "name": "apple_kernel"
  },
  "language_info": {
   "codemirror_mode": {
    "name": "ipython",
    "version": 3
   },
   "file_extension": ".py",
   "mimetype": "text/x-python",
   "name": "python",
   "nbconvert_exporter": "python",
   "pygments_lexer": "ipython3",
   "version": "3.8.10"
  }
 },
 "nbformat": 4,
 "nbformat_minor": 5
}
