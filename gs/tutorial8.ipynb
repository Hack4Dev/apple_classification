{
 "cells": [
  {
   "cell_type": "markdown",
   "id": "6f893407-c45b-4a97-8906-702e72754885",
   "metadata": {},
   "source": [
    "# Tutorial 8: Why is there a Jump2??"
   ]
  },
  {
   "cell_type": "markdown",
   "id": "7f7f0a3d-c257-43a6-84d1-643324886063",
   "metadata": {},
   "source": [
    "---"
   ]
  },
  {
   "cell_type": "markdown",
   "id": "76a661a3-77c9-4e5c-ba18-72f455a25c91",
   "metadata": {},
   "source": [
    "### Introduction"
   ]
  },
  {
   "cell_type": "markdown",
   "id": "c21305f5-293e-4bbe-bfd8-ec8d01787f48",
   "metadata": {},
   "source": [
    "Hello, in the last notebook we noticed that there is a jump with a certain feature, now we want to investigate why is that is the case. In the prevoius notebook, we noticed a jump by the 5th feature. "
   ]
  },
  {
   "cell_type": "markdown",
   "id": "45456717-90bf-44c1-be0b-f2ad9314737f",
   "metadata": {},
   "source": [
    "first, let us call the data"
   ]
  },
  {
   "cell_type": "code",
   "execution_count": 13,
   "id": "fbec0b60-3e98-432e-9de6-fb444ce4c70c",
   "metadata": {},
   "outputs": [],
   "source": [
    "%store -r df_input_GS\n",
    "%store -r y_GS\n",
    "%store -r df_GS"
   ]
  },
  {
   "cell_type": "code",
   "execution_count": 14,
   "id": "cc2bd9ee-bb2c-453d-97fb-7104a64d8120",
   "metadata": {},
   "outputs": [],
   "source": [
    "y_GS = y_GS.map({'S': 1, 'B': 0})"
   ]
  },
  {
   "cell_type": "markdown",
   "id": "4a963998-c26e-40b6-bbfc-d5c1110dd9bf",
   "metadata": {},
   "source": [
    "---"
   ]
  },
  {
   "cell_type": "markdown",
   "id": "eea3bba6-fa62-43bf-a543-fb088617b9cf",
   "metadata": {},
   "source": [
    "calling some packages"
   ]
  },
  {
   "cell_type": "code",
   "execution_count": 15,
   "id": "4be29664-f490-4ef1-a263-7fcaaa093c34",
   "metadata": {},
   "outputs": [],
   "source": [
    "# Python packages \n",
    "import pandas as pd # for importing data into data frame format\n",
    "import seaborn as sns # For drawing useful graphs, such as bar graphs\n",
    "import numpy as np\n",
    "import matplotlib.pyplot as plt"
   ]
  },
  {
   "cell_type": "markdown",
   "id": "e08c43a3-5668-4360-92fb-7d28a1bdb3a0",
   "metadata": {},
   "source": [
    "---"
   ]
  },
  {
   "cell_type": "markdown",
   "id": "785b56a0-0772-4cc2-a2f6-34a9fe598b80",
   "metadata": {},
   "source": [
    "<b><i> Data splitting </i></b> "
   ]
  },
  {
   "cell_type": "code",
   "execution_count": 16,
   "id": "24b557bd-4d21-4767-bd55-f27cfbfdd8f8",
   "metadata": {},
   "outputs": [],
   "source": [
    "from sklearn.model_selection import train_test_split\n",
    "\n",
    "Xtrain, Xtest, Ytrain, Ytest = train_test_split( df_input_GS, y_GS, test_size = 0.3, random_state=3, stratify=y_GS) # train and valid sets"
   ]
  },
  {
   "cell_type": "code",
   "execution_count": 17,
   "id": "5acc93a2-c050-4d22-8e18-c37c179060a0",
   "metadata": {},
   "outputs": [
    {
     "name": "stdout",
     "output_type": "stream",
     "text": [
      "(352, 2074)\n",
      "(151, 2074)\n"
     ]
    }
   ],
   "source": [
    "print(Xtrain.shape)\n",
    "print(Xtest.shape)"
   ]
  },
  {
   "cell_type": "markdown",
   "id": "df8fc28e-022b-4cd0-be84-e590c7774324",
   "metadata": {},
   "source": [
    "---"
   ]
  },
  {
   "cell_type": "markdown",
   "id": "3c2c9fb6-2e96-47e3-8469-6e09beaecf49",
   "metadata": {},
   "source": [
    "<b><i> get the best N features </i></b> "
   ]
  },
  {
   "cell_type": "code",
   "execution_count": 18,
   "id": "6266887b-9436-4e2a-8171-a17156afd675",
   "metadata": {},
   "outputs": [],
   "source": [
    "%store -r featImp_GS"
   ]
  },
  {
   "cell_type": "code",
   "execution_count": 19,
   "id": "923b7f48-f1a0-417f-8627-9fac12335347",
   "metadata": {},
   "outputs": [
    {
     "name": "stdout",
     "output_type": "stream",
     "text": [
      "[1793 1775 2048   31    3 1771  544 1781   17   45]\n"
     ]
    }
   ],
   "source": [
    "arrimp = np.array(featImp_GS).mean(0)\n",
    "sorted_idx = arrimp.argsort()\n",
    "print(sorted_idx[-10:])"
   ]
  },
  {
   "cell_type": "code",
   "execution_count": 20,
   "id": "ee471b52-e1ce-4089-b174-da8dc69196fa",
   "metadata": {},
   "outputs": [
    {
     "data": {
      "text/plain": [
       "Index([1841.364,  980.575, 1133.147, 2337.819,  911.297, 1075.338, 1155.366,\n",
       "        974.677, 1447.594, 1613.342,\n",
       "       ...\n",
       "       1968.596, 1942.053, 2441.281,   842.04,  834.451, 1936.251, 1010.382,\n",
       "       1950.821,  838.229,  845.886],\n",
       "      dtype='object', length=400)"
      ]
     },
     "execution_count": 20,
     "metadata": {},
     "output_type": "execute_result"
    }
   ],
   "source": [
    "cols_ordered = df_input_GS.columns[sorted_idx][-400:]\n",
    "cols_ordered"
   ]
  },
  {
   "cell_type": "markdown",
   "id": "43148aed-4094-4725-929c-49df2386b9b6",
   "metadata": {},
   "source": [
    "---"
   ]
  },
  {
   "cell_type": "code",
   "execution_count": 21,
   "id": "c7b866b9-ee31-4b8f-86d6-3aca428a092a",
   "metadata": {},
   "outputs": [
    {
     "data": {
      "text/html": [
       "<div>\n",
       "<style scoped>\n",
       "    .dataframe tbody tr th:only-of-type {\n",
       "        vertical-align: middle;\n",
       "    }\n",
       "\n",
       "    .dataframe tbody tr th {\n",
       "        vertical-align: top;\n",
       "    }\n",
       "\n",
       "    .dataframe thead th {\n",
       "        text-align: right;\n",
       "    }\n",
       "</style>\n",
       "<table border=\"1\" class=\"dataframe\">\n",
       "  <thead>\n",
       "    <tr style=\"text-align: right;\">\n",
       "      <th></th>\n",
       "      <th>1841.364</th>\n",
       "      <th>980.575</th>\n",
       "      <th>1133.147</th>\n",
       "      <th>2337.819</th>\n",
       "      <th>911.297</th>\n",
       "      <th>1075.338</th>\n",
       "      <th>1155.366</th>\n",
       "      <th>974.677</th>\n",
       "      <th>1447.594</th>\n",
       "      <th>1613.342</th>\n",
       "      <th>...</th>\n",
       "      <th>1968.596</th>\n",
       "      <th>1942.053</th>\n",
       "      <th>2441.281</th>\n",
       "      <th>842.040</th>\n",
       "      <th>834.451</th>\n",
       "      <th>1936.251</th>\n",
       "      <th>1010.382</th>\n",
       "      <th>1950.821</th>\n",
       "      <th>838.229</th>\n",
       "      <th>845.886</th>\n",
       "    </tr>\n",
       "  </thead>\n",
       "  <tbody>\n",
       "    <tr>\n",
       "      <th>210</th>\n",
       "      <td>-0.347752</td>\n",
       "      <td>-0.782148</td>\n",
       "      <td>-0.788094</td>\n",
       "      <td>-0.165300</td>\n",
       "      <td>-0.825079</td>\n",
       "      <td>-0.805515</td>\n",
       "      <td>-0.716025</td>\n",
       "      <td>-0.784317</td>\n",
       "      <td>-0.259222</td>\n",
       "      <td>-0.440796</td>\n",
       "      <td>...</td>\n",
       "      <td>-0.103180</td>\n",
       "      <td>-0.064431</td>\n",
       "      <td>-0.126623</td>\n",
       "      <td>-0.852611</td>\n",
       "      <td>-0.868323</td>\n",
       "      <td>-0.056824</td>\n",
       "      <td>-0.791167</td>\n",
       "      <td>-0.077484</td>\n",
       "      <td>-0.863861</td>\n",
       "      <td>-0.859112</td>\n",
       "    </tr>\n",
       "    <tr>\n",
       "      <th>266</th>\n",
       "      <td>0.597408</td>\n",
       "      <td>0.973945</td>\n",
       "      <td>0.975639</td>\n",
       "      <td>0.444570</td>\n",
       "      <td>1.038538</td>\n",
       "      <td>1.021833</td>\n",
       "      <td>0.902108</td>\n",
       "      <td>0.969298</td>\n",
       "      <td>0.414803</td>\n",
       "      <td>0.681119</td>\n",
       "      <td>...</td>\n",
       "      <td>0.323973</td>\n",
       "      <td>0.292242</td>\n",
       "      <td>0.386553</td>\n",
       "      <td>1.040755</td>\n",
       "      <td>1.046849</td>\n",
       "      <td>0.284218</td>\n",
       "      <td>0.986368</td>\n",
       "      <td>0.303714</td>\n",
       "      <td>1.044837</td>\n",
       "      <td>1.048485</td>\n",
       "    </tr>\n",
       "    <tr>\n",
       "      <th>458</th>\n",
       "      <td>0.954467</td>\n",
       "      <td>0.148099</td>\n",
       "      <td>0.146223</td>\n",
       "      <td>1.005679</td>\n",
       "      <td>-0.014365</td>\n",
       "      <td>0.042751</td>\n",
       "      <td>0.305590</td>\n",
       "      <td>0.144290</td>\n",
       "      <td>1.058035</td>\n",
       "      <td>0.908711</td>\n",
       "      <td>...</td>\n",
       "      <td>0.992127</td>\n",
       "      <td>0.954164</td>\n",
       "      <td>0.948222</td>\n",
       "      <td>-0.020894</td>\n",
       "      <td>-0.012900</td>\n",
       "      <td>0.947342</td>\n",
       "      <td>0.135750</td>\n",
       "      <td>0.966534</td>\n",
       "      <td>-0.014697</td>\n",
       "      <td>-0.009475</td>\n",
       "    </tr>\n",
       "    <tr>\n",
       "      <th>322</th>\n",
       "      <td>0.843525</td>\n",
       "      <td>1.076064</td>\n",
       "      <td>1.073435</td>\n",
       "      <td>0.764227</td>\n",
       "      <td>1.160048</td>\n",
       "      <td>1.132404</td>\n",
       "      <td>1.006338</td>\n",
       "      <td>1.075378</td>\n",
       "      <td>0.779457</td>\n",
       "      <td>0.892410</td>\n",
       "      <td>...</td>\n",
       "      <td>0.693932</td>\n",
       "      <td>0.669354</td>\n",
       "      <td>0.738082</td>\n",
       "      <td>1.176984</td>\n",
       "      <td>1.173067</td>\n",
       "      <td>0.661299</td>\n",
       "      <td>1.091540</td>\n",
       "      <td>0.674564</td>\n",
       "      <td>1.178287</td>\n",
       "      <td>1.173193</td>\n",
       "    </tr>\n",
       "    <tr>\n",
       "      <th>171</th>\n",
       "      <td>-1.332538</td>\n",
       "      <td>-1.178695</td>\n",
       "      <td>-1.178955</td>\n",
       "      <td>-1.317824</td>\n",
       "      <td>-1.103519</td>\n",
       "      <td>-1.118396</td>\n",
       "      <td>-1.244864</td>\n",
       "      <td>-1.178938</td>\n",
       "      <td>-1.322936</td>\n",
       "      <td>-1.319953</td>\n",
       "      <td>...</td>\n",
       "      <td>-1.295124</td>\n",
       "      <td>-1.280268</td>\n",
       "      <td>-1.305844</td>\n",
       "      <td>-1.101613</td>\n",
       "      <td>-1.111279</td>\n",
       "      <td>-1.276586</td>\n",
       "      <td>-1.157541</td>\n",
       "      <td>-1.285318</td>\n",
       "      <td>-1.109319</td>\n",
       "      <td>-1.106318</td>\n",
       "    </tr>\n",
       "    <tr>\n",
       "      <th>...</th>\n",
       "      <td>...</td>\n",
       "      <td>...</td>\n",
       "      <td>...</td>\n",
       "      <td>...</td>\n",
       "      <td>...</td>\n",
       "      <td>...</td>\n",
       "      <td>...</td>\n",
       "      <td>...</td>\n",
       "      <td>...</td>\n",
       "      <td>...</td>\n",
       "      <td>...</td>\n",
       "      <td>...</td>\n",
       "      <td>...</td>\n",
       "      <td>...</td>\n",
       "      <td>...</td>\n",
       "      <td>...</td>\n",
       "      <td>...</td>\n",
       "      <td>...</td>\n",
       "      <td>...</td>\n",
       "      <td>...</td>\n",
       "      <td>...</td>\n",
       "    </tr>\n",
       "    <tr>\n",
       "      <th>45</th>\n",
       "      <td>-0.471415</td>\n",
       "      <td>-0.655091</td>\n",
       "      <td>-0.660125</td>\n",
       "      <td>-0.330135</td>\n",
       "      <td>-0.755149</td>\n",
       "      <td>-0.722527</td>\n",
       "      <td>-0.582161</td>\n",
       "      <td>-0.651424</td>\n",
       "      <td>-0.520635</td>\n",
       "      <td>-0.539580</td>\n",
       "      <td>...</td>\n",
       "      <td>-0.318073</td>\n",
       "      <td>-0.258179</td>\n",
       "      <td>-0.249466</td>\n",
       "      <td>-0.775807</td>\n",
       "      <td>-0.771421</td>\n",
       "      <td>-0.246058</td>\n",
       "      <td>-0.683964</td>\n",
       "      <td>-0.277660</td>\n",
       "      <td>-0.772976</td>\n",
       "      <td>-0.771858</td>\n",
       "    </tr>\n",
       "    <tr>\n",
       "      <th>430</th>\n",
       "      <td>1.887427</td>\n",
       "      <td>1.430805</td>\n",
       "      <td>1.428148</td>\n",
       "      <td>1.911442</td>\n",
       "      <td>1.390439</td>\n",
       "      <td>1.399330</td>\n",
       "      <td>1.493246</td>\n",
       "      <td>1.431303</td>\n",
       "      <td>2.074960</td>\n",
       "      <td>1.798811</td>\n",
       "      <td>...</td>\n",
       "      <td>1.950348</td>\n",
       "      <td>1.916986</td>\n",
       "      <td>1.834398</td>\n",
       "      <td>1.378890</td>\n",
       "      <td>1.385954</td>\n",
       "      <td>1.913913</td>\n",
       "      <td>1.412999</td>\n",
       "      <td>1.927220</td>\n",
       "      <td>1.381970</td>\n",
       "      <td>1.384165</td>\n",
       "    </tr>\n",
       "    <tr>\n",
       "      <th>5</th>\n",
       "      <td>-0.639943</td>\n",
       "      <td>-0.965198</td>\n",
       "      <td>-0.951341</td>\n",
       "      <td>-0.497273</td>\n",
       "      <td>-0.938288</td>\n",
       "      <td>-0.954291</td>\n",
       "      <td>-0.937417</td>\n",
       "      <td>-0.962535</td>\n",
       "      <td>-0.507058</td>\n",
       "      <td>-0.808180</td>\n",
       "      <td>...</td>\n",
       "      <td>-0.417211</td>\n",
       "      <td>-0.403042</td>\n",
       "      <td>-0.442860</td>\n",
       "      <td>-0.919328</td>\n",
       "      <td>-0.912298</td>\n",
       "      <td>-0.401600</td>\n",
       "      <td>-0.971304</td>\n",
       "      <td>-0.407482</td>\n",
       "      <td>-0.916736</td>\n",
       "      <td>-0.915225</td>\n",
       "    </tr>\n",
       "    <tr>\n",
       "      <th>310</th>\n",
       "      <td>1.131033</td>\n",
       "      <td>1.209887</td>\n",
       "      <td>1.212979</td>\n",
       "      <td>1.132749</td>\n",
       "      <td>1.248526</td>\n",
       "      <td>1.238886</td>\n",
       "      <td>1.187899</td>\n",
       "      <td>1.216206</td>\n",
       "      <td>1.094078</td>\n",
       "      <td>1.152663</td>\n",
       "      <td>...</td>\n",
       "      <td>1.100754</td>\n",
       "      <td>1.096170</td>\n",
       "      <td>1.103933</td>\n",
       "      <td>1.246935</td>\n",
       "      <td>1.246373</td>\n",
       "      <td>1.096653</td>\n",
       "      <td>1.219850</td>\n",
       "      <td>1.098692</td>\n",
       "      <td>1.251592</td>\n",
       "      <td>1.253352</td>\n",
       "    </tr>\n",
       "    <tr>\n",
       "      <th>216</th>\n",
       "      <td>-1.165062</td>\n",
       "      <td>-0.867770</td>\n",
       "      <td>-0.856187</td>\n",
       "      <td>-1.312964</td>\n",
       "      <td>-0.910115</td>\n",
       "      <td>-0.898960</td>\n",
       "      <td>-0.867514</td>\n",
       "      <td>-0.866244</td>\n",
       "      <td>-1.411909</td>\n",
       "      <td>-1.112098</td>\n",
       "      <td>...</td>\n",
       "      <td>-1.353762</td>\n",
       "      <td>-1.344218</td>\n",
       "      <td>-1.298266</td>\n",
       "      <td>-0.896448</td>\n",
       "      <td>-0.895655</td>\n",
       "      <td>-1.341808</td>\n",
       "      <td>-0.876360</td>\n",
       "      <td>-1.348288</td>\n",
       "      <td>-0.895031</td>\n",
       "      <td>-0.900403</td>\n",
       "    </tr>\n",
       "  </tbody>\n",
       "</table>\n",
       "<p>352 rows × 400 columns</p>\n",
       "</div>"
      ],
      "text/plain": [
       "     1841.364  980.575   1133.147  2337.819  911.297   1075.338  1155.366  \\\n",
       "210 -0.347752 -0.782148 -0.788094 -0.165300 -0.825079 -0.805515 -0.716025   \n",
       "266  0.597408  0.973945  0.975639  0.444570  1.038538  1.021833  0.902108   \n",
       "458  0.954467  0.148099  0.146223  1.005679 -0.014365  0.042751  0.305590   \n",
       "322  0.843525  1.076064  1.073435  0.764227  1.160048  1.132404  1.006338   \n",
       "171 -1.332538 -1.178695 -1.178955 -1.317824 -1.103519 -1.118396 -1.244864   \n",
       "..        ...       ...       ...       ...       ...       ...       ...   \n",
       "45  -0.471415 -0.655091 -0.660125 -0.330135 -0.755149 -0.722527 -0.582161   \n",
       "430  1.887427  1.430805  1.428148  1.911442  1.390439  1.399330  1.493246   \n",
       "5   -0.639943 -0.965198 -0.951341 -0.497273 -0.938288 -0.954291 -0.937417   \n",
       "310  1.131033  1.209887  1.212979  1.132749  1.248526  1.238886  1.187899   \n",
       "216 -1.165062 -0.867770 -0.856187 -1.312964 -0.910115 -0.898960 -0.867514   \n",
       "\n",
       "     974.677   1447.594  1613.342  ...  1968.596  1942.053  2441.281  \\\n",
       "210 -0.784317 -0.259222 -0.440796  ... -0.103180 -0.064431 -0.126623   \n",
       "266  0.969298  0.414803  0.681119  ...  0.323973  0.292242  0.386553   \n",
       "458  0.144290  1.058035  0.908711  ...  0.992127  0.954164  0.948222   \n",
       "322  1.075378  0.779457  0.892410  ...  0.693932  0.669354  0.738082   \n",
       "171 -1.178938 -1.322936 -1.319953  ... -1.295124 -1.280268 -1.305844   \n",
       "..        ...       ...       ...  ...       ...       ...       ...   \n",
       "45  -0.651424 -0.520635 -0.539580  ... -0.318073 -0.258179 -0.249466   \n",
       "430  1.431303  2.074960  1.798811  ...  1.950348  1.916986  1.834398   \n",
       "5   -0.962535 -0.507058 -0.808180  ... -0.417211 -0.403042 -0.442860   \n",
       "310  1.216206  1.094078  1.152663  ...  1.100754  1.096170  1.103933   \n",
       "216 -0.866244 -1.411909 -1.112098  ... -1.353762 -1.344218 -1.298266   \n",
       "\n",
       "     842.040   834.451   1936.251  1010.382  1950.821  838.229   845.886   \n",
       "210 -0.852611 -0.868323 -0.056824 -0.791167 -0.077484 -0.863861 -0.859112  \n",
       "266  1.040755  1.046849  0.284218  0.986368  0.303714  1.044837  1.048485  \n",
       "458 -0.020894 -0.012900  0.947342  0.135750  0.966534 -0.014697 -0.009475  \n",
       "322  1.176984  1.173067  0.661299  1.091540  0.674564  1.178287  1.173193  \n",
       "171 -1.101613 -1.111279 -1.276586 -1.157541 -1.285318 -1.109319 -1.106318  \n",
       "..        ...       ...       ...       ...       ...       ...       ...  \n",
       "45  -0.775807 -0.771421 -0.246058 -0.683964 -0.277660 -0.772976 -0.771858  \n",
       "430  1.378890  1.385954  1.913913  1.412999  1.927220  1.381970  1.384165  \n",
       "5   -0.919328 -0.912298 -0.401600 -0.971304 -0.407482 -0.916736 -0.915225  \n",
       "310  1.246935  1.246373  1.096653  1.219850  1.098692  1.251592  1.253352  \n",
       "216 -0.896448 -0.895655 -1.341808 -0.876360 -1.348288 -0.895031 -0.900403  \n",
       "\n",
       "[352 rows x 400 columns]"
      ]
     },
     "execution_count": 21,
     "metadata": {},
     "output_type": "execute_result"
    }
   ],
   "source": [
    "Xtrain[cols_ordered]"
   ]
  },
  {
   "cell_type": "markdown",
   "id": "fe4dfa48-8b96-4f31-9081-1d39baf91227",
   "metadata": {},
   "source": [
    "### RFE"
   ]
  },
  {
   "cell_type": "code",
   "execution_count": 22,
   "id": "e3d3e511-442e-4cf4-a107-3b8e8c7ef666",
   "metadata": {},
   "outputs": [],
   "source": [
    "# explore the number of selected features for RFE\n",
    "from numpy import mean\n",
    "from numpy import std\n",
    "from sklearn.model_selection import cross_val_score\n",
    "from sklearn.model_selection import RepeatedStratifiedKFold\n",
    "from sklearn.feature_selection import RFE\n",
    "from sklearn.pipeline import Pipeline\n",
    "from matplotlib import pyplot\n",
    "from sklearn.linear_model import LogisticRegression"
   ]
  },
  {
   "cell_type": "code",
   "execution_count": 23,
   "id": "dd9c4aa7-7e45-4e1e-960d-a8891cc7a46f",
   "metadata": {
    "tags": []
   },
   "outputs": [
    {
     "name": "stdout",
     "output_type": "stream",
     "text": [
      "1\n",
      "Column: 58, Selected True, Rank: 1.000\n",
      "\n",
      "2\n",
      "Column: 58, Selected True, Rank: 1.000\n",
      "Column: 104, Selected True, Rank: 1.000\n",
      "\n",
      "3\n",
      "Column: 58, Selected True, Rank: 1.000\n",
      "Column: 104, Selected True, Rank: 1.000\n",
      "Column: 298, Selected True, Rank: 1.000\n",
      "\n",
      "4\n",
      "Column: 6, Selected True, Rank: 1.000\n",
      "Column: 58, Selected True, Rank: 1.000\n",
      "Column: 104, Selected True, Rank: 1.000\n",
      "Column: 298, Selected True, Rank: 1.000\n",
      "\n",
      "5\n",
      "Column: 6, Selected True, Rank: 1.000\n",
      "Column: 58, Selected True, Rank: 1.000\n",
      "Column: 104, Selected True, Rank: 1.000\n",
      "Column: 131, Selected True, Rank: 1.000\n",
      "Column: 298, Selected True, Rank: 1.000\n",
      "\n"
     ]
    }
   ],
   "source": [
    "# https://machinelearningmastery.com/rfe-feature-selection-in-python/\n",
    "selected = []\n",
    "for i in range (1, 6):\n",
    "    print(i)\n",
    "    rfe = RFE(estimator=LogisticRegression(solver = 'newton-cg'), n_features_to_select=i)\n",
    "    # fit RFE\n",
    "    rfe.fit(Xtrain[cols_ordered].values, Ytrain)\n",
    "    # summarize all features\n",
    "    selected_feat = []\n",
    "    for i in range(Xtrain[cols_ordered].shape[1]):\n",
    "        if rfe.support_[i] == True:\n",
    "            selected_feat.append(i)\n",
    "            print('Column: %d, Selected %s, Rank: %.3f' % (i, rfe.support_[i], rfe.ranking_[i]))\n",
    "        \n",
    "    print()\n",
    "    selected.append(selected_feat)\n",
    "    \n",
    "    \n",
    "    "
   ]
  },
  {
   "cell_type": "markdown",
   "id": "54893115-0196-4a34-9244-7327c3ad3fc2",
   "metadata": {},
   "source": [
    "---"
   ]
  },
  {
   "cell_type": "code",
   "execution_count": 24,
   "id": "e6d1e7a9-7b89-4dbd-8e0c-c323734fc24e",
   "metadata": {},
   "outputs": [
    {
     "data": {
      "text/plain": [
       "[[58], [58, 104], [58, 104, 298], [6, 58, 104, 298], [6, 58, 104, 131, 298]]"
      ]
     },
     "execution_count": 24,
     "metadata": {},
     "output_type": "execute_result"
    }
   ],
   "source": [
    "selected"
   ]
  },
  {
   "cell_type": "code",
   "execution_count": 25,
   "id": "9eff63e7-9933-487d-aab2-19e51286e473",
   "metadata": {},
   "outputs": [
    {
     "data": {
      "text/plain": [
       "[[6],\n",
       " [58],\n",
       " [104],\n",
       " [131],\n",
       " [298],\n",
       " [6, 58],\n",
       " [6, 104],\n",
       " [6, 131],\n",
       " [6, 298],\n",
       " [58, 104],\n",
       " [58, 131],\n",
       " [58, 298],\n",
       " [104, 131],\n",
       " [104, 298],\n",
       " [131, 298],\n",
       " [6, 58, 104],\n",
       " [6, 58, 131],\n",
       " [6, 58, 298],\n",
       " [6, 104, 131],\n",
       " [6, 104, 298],\n",
       " [6, 131, 298],\n",
       " [58, 104, 131],\n",
       " [58, 104, 298],\n",
       " [58, 131, 298],\n",
       " [104, 131, 298],\n",
       " [6, 58, 104, 131],\n",
       " [6, 58, 104, 298],\n",
       " [6, 58, 131, 298],\n",
       " [6, 104, 131, 298],\n",
       " [58, 104, 131, 298],\n",
       " [6, 58, 104, 131, 298]]"
      ]
     },
     "execution_count": 25,
     "metadata": {},
     "output_type": "execute_result"
    }
   ],
   "source": [
    "from itertools import combinations\n",
    "\n",
    "input = selected[-1]\n",
    "\n",
    "output = sum([list(map(list, combinations(input, i))) for i in range(len(input) + 1)], [])\n",
    "selected2 = output[1:] \n",
    "selected2"
   ]
  },
  {
   "cell_type": "markdown",
   "id": "cc2b3ae3-b433-485b-ba64-407a4f6973bf",
   "metadata": {},
   "source": [
    "### LR"
   ]
  },
  {
   "cell_type": "code",
   "execution_count": 26,
   "id": "ee4737a0-0c38-4129-8bd3-06c6db467448",
   "metadata": {},
   "outputs": [],
   "source": [
    "lr = LogisticRegression()"
   ]
  },
  {
   "cell_type": "code",
   "execution_count": 31,
   "id": "2aa04eb1-468b-4ae4-9609-14e8e9d6b5be",
   "metadata": {},
   "outputs": [],
   "source": [
    "solvers = ['newton-cg', 'liblinear']\n",
    "penalty = ['l2']\n",
    "c_values = [1000, 100, 10, 1.0, 0.1, 0.01, 0.001]\n",
    "lr_par = dict(solver=solvers,penalty=penalty,C=c_values)"
   ]
  },
  {
   "cell_type": "code",
   "execution_count": 32,
   "id": "3ac639b5-aa00-4f5e-bde6-10880db78b5c",
   "metadata": {},
   "outputs": [],
   "source": [
    "models = [[lr, 'lr', 14]]\n",
    "par = [lr_par]"
   ]
  },
  {
   "cell_type": "code",
   "execution_count": 33,
   "id": "3249a265-608f-4923-8b8b-c9b9c5451946",
   "metadata": {},
   "outputs": [],
   "source": [
    "from source.ml_acc import get_accuracy_ml"
   ]
  },
  {
   "cell_type": "code",
   "execution_count": 34,
   "id": "37426a51-91bb-4d4d-83d0-ed64b27c893f",
   "metadata": {},
   "outputs": [
    {
     "name": "stdout",
     "output_type": "stream",
     "text": [
      "Index([1155.366], dtype='object')\n",
      "Index([1286.67], dtype='object')\n",
      "Index([884.86], dtype='object')\n",
      "Index([1315.393], dtype='object')\n",
      "Index([885.163], dtype='object')\n",
      "Index([1155.366, 1286.67], dtype='object')\n",
      "Index([1155.366, 884.86], dtype='object')\n",
      "Index([1155.366, 1315.393], dtype='object')\n",
      "Index([1155.366, 885.163], dtype='object')\n",
      "Index([1286.67, 884.86], dtype='object')\n",
      "Index([1286.67, 1315.393], dtype='object')\n",
      "Index([1286.67, 885.163], dtype='object')\n",
      "Index([884.86, 1315.393], dtype='object')\n",
      "Index([884.86, 885.163], dtype='object')\n",
      "Index([1315.393, 885.163], dtype='object')\n",
      "Index([1155.366, 1286.67, 884.86], dtype='object')\n",
      "Index([1155.366, 1286.67, 1315.393], dtype='object')\n",
      "Index([1155.366, 1286.67, 885.163], dtype='object')\n",
      "Index([1155.366, 884.86, 1315.393], dtype='object')\n",
      "Index([1155.366, 884.86, 885.163], dtype='object')\n",
      "Index([1155.366, 1315.393, 885.163], dtype='object')\n",
      "Index([1286.67, 884.86, 1315.393], dtype='object')\n",
      "Index([1286.67, 884.86, 885.163], dtype='object')\n",
      "Index([1286.67, 1315.393, 885.163], dtype='object')\n",
      "Index([884.86, 1315.393, 885.163], dtype='object')\n",
      "Index([1155.366, 1286.67, 884.86, 1315.393], dtype='object')\n",
      "Index([1155.366, 1286.67, 884.86, 885.163], dtype='object')\n",
      "Index([1155.366, 1286.67, 1315.393, 885.163], dtype='object')\n",
      "Index([1155.366, 884.86, 1315.393, 885.163], dtype='object')\n",
      "Index([1286.67, 884.86, 1315.393, 885.163], dtype='object')\n",
      "Index([1155.366, 1286.67, 884.86, 1315.393, 885.163], dtype='object')\n"
     ]
    }
   ],
   "source": [
    "num_ml_tools = len(par)\n",
    "ml_dicts = {}\n",
    "\n",
    "for m, par in zip(models, par):\n",
    "    key0 = str(m[1])\n",
    "    ml_dicts[key0] = {}\n",
    "    for f in selected2:\n",
    "        print(cols_ordered[f])\n",
    "\n",
    "        xtr =  Xtrain[cols_ordered].iloc[:, f]\n",
    "        xte =  Xtest[cols_ordered].iloc[:, f]\n",
    "        # print(xtr)\n",
    "        results = get_accuracy_ml (m[0], m[2], par, np.array(xtr), np.array(Ytrain), np.array(xte), np.array(Ytest)) # to get the accuracies for the ml model\n",
    "\n",
    "        key = str(m[1])+\",\"+str((f))\n",
    "        ml_dicts[key0][key] = {}\n",
    "\n",
    "        ml_dicts[key0][key]['tot_acc'] = results[0]\n",
    "        ml_dicts[key0][key]['jack_train'] = results[1]\n",
    "        ml_dicts[key0][key]['jack_test'] = results[2]"
   ]
  },
  {
   "cell_type": "markdown",
   "id": "1304bd7a-dd4d-4ce6-8745-69540fac025a",
   "metadata": {},
   "source": [
    "---"
   ]
  },
  {
   "cell_type": "code",
   "execution_count": 35,
   "id": "414a8053-6820-4fd5-ad87-b38c720e96e5",
   "metadata": {},
   "outputs": [],
   "source": [
    "# ml_dicts"
   ]
  },
  {
   "cell_type": "code",
   "execution_count": 36,
   "id": "eaaae12b-34bf-46f6-8a5a-9884c196363a",
   "metadata": {},
   "outputs": [],
   "source": [
    "import json"
   ]
  },
  {
   "cell_type": "code",
   "execution_count": 37,
   "id": "a2e6b5bd-7255-4b92-b9de-2f415f47e0ac",
   "metadata": {},
   "outputs": [],
   "source": [
    "with open('ml_gs_inv2.txt', 'w') as file:\n",
    "     file.write(json.dumps(ml_dicts)) # use `json.loads` to do the reverse"
   ]
  },
  {
   "cell_type": "code",
   "execution_count": 38,
   "id": "02c4f2c1-a7cc-457e-9034-bc84d1ec8521",
   "metadata": {},
   "outputs": [
    {
     "data": {
      "text/plain": [
       "dict_keys(['lr, all'])"
      ]
     },
     "execution_count": 38,
     "metadata": {},
     "output_type": "execute_result"
    }
   ],
   "source": [
    "import json\n",
    "with open('ml_gs_inv2.txt') as f:\n",
    "    data = f.read()\n",
    "    \n",
    "ml_dicts = json.loads(data)\n",
    "\n",
    "with open('base_gs.txt') as f:\n",
    "    data = f.read()\n",
    "    \n",
    "baseDict = json.loads(data)\n",
    "baseDict['lr'].keys()    "
   ]
  },
  {
   "cell_type": "code",
   "execution_count": 39,
   "id": "3204d7e8-9217-4d45-878d-39ef9237200b",
   "metadata": {},
   "outputs": [
    {
     "name": "stdout",
     "output_type": "stream",
     "text": [
      "dict_keys(['lr, all'])\n",
      "dict_keys(['lr,[6]', 'lr,[58]', 'lr,[104]', 'lr,[131]', 'lr,[298]', 'lr,[6, 58]', 'lr,[6, 104]', 'lr,[6, 131]', 'lr,[6, 298]', 'lr,[58, 104]', 'lr,[58, 131]', 'lr,[58, 298]', 'lr,[104, 131]', 'lr,[104, 298]', 'lr,[131, 298]', 'lr,[6, 58, 104]', 'lr,[6, 58, 131]', 'lr,[6, 58, 298]', 'lr,[6, 104, 131]', 'lr,[6, 104, 298]', 'lr,[6, 131, 298]', 'lr,[58, 104, 131]', 'lr,[58, 104, 298]', 'lr,[58, 131, 298]', 'lr,[104, 131, 298]', 'lr,[6, 58, 104, 131]', 'lr,[6, 58, 104, 298]', 'lr,[6, 58, 131, 298]', 'lr,[6, 104, 131, 298]', 'lr,[58, 104, 131, 298]', 'lr,[6, 58, 104, 131, 298]'])\n"
     ]
    }
   ],
   "source": [
    "print(baseDict['lr'].keys()    )\n",
    "print(ml_dicts['lr'].keys()    )"
   ]
  },
  {
   "cell_type": "code",
   "execution_count": 40,
   "id": "5dd5f1be-96e6-4d5f-b781-db4b02f11952",
   "metadata": {},
   "outputs": [],
   "source": [
    "from source.calculate_jack import jack_SD # importing the baseline code from source.basline file"
   ]
  },
  {
   "cell_type": "code",
   "execution_count": 41,
   "id": "e38e5fcd-f6a0-42de-a8b4-891ead0c9bcf",
   "metadata": {},
   "outputs": [],
   "source": [
    "arr_all = []\n",
    "for m, d in zip (models, ml_dicts.keys()):\n",
    "    acc_arr = [] \n",
    "    sd_arr = [] \n",
    "\n",
    "    # print(ml_dicts[d])\n",
    "    for key in ml_dicts[d].keys():\n",
    "        acc_arr.append(ml_dicts[d][key][ 'tot_acc' ]) # append total accuracy to an array\n",
    "        sd_train = jack_SD(np.zeros( len(ml_dicts[d][key][ 'jack_train' ]) ), ml_dicts[d][key][ 'jack_train' ])[0]\n",
    "        sd_test = jack_SD(np.zeros( len(ml_dicts[d][key][ 'jack_test' ]) ), ml_dicts[d][key][ 'jack_test' ])[0]\n",
    "        sd = np.sqrt( np.array((sd_train**2)) + np.array((sd_test**2)))\n",
    "        sd_arr.append(sd) # append sd_arr to an array\n",
    "    arr_all.append([ list(ml_dicts[d].keys()), acc_arr, sd_arr])    "
   ]
  },
  {
   "cell_type": "code",
   "execution_count": null,
   "id": "3a7176c1-28fe-4a62-96e8-4a7926bbb7bf",
   "metadata": {},
   "outputs": [],
   "source": []
  },
  {
   "cell_type": "code",
   "execution_count": 42,
   "id": "55a1daa9-9415-4b03-b738-09e74f7196e5",
   "metadata": {},
   "outputs": [
    {
     "name": "stdout",
     "output_type": "stream",
     "text": [
      "[0.  0.1 0.2 0.3 0.4 0.5 0.6 0.7 0.8 0.9 1.  1.1 1.2 1.3 1.4 1.5 1.6 1.7\n",
      " 1.8 1.9 2.  2.1 2.2 2.3 2.4 2.5 2.6 2.7 2.8 2.9 3. ]\n"
     ]
    },
    {
     "data": {
      "image/png": "[encoded data removed]",
      "text/plain": [
       "<Figure size 1080x504 with 1 Axes>"
      ]
     },
     "metadata": {
      "needs_background": "light"
     },
     "output_type": "display_data"
    }
   ],
   "source": [
    "colors = ['blue', 'purple', 'green', 'orange', 'red', 'brown']\n",
    "plt.figure(figsize=(15, 7))\n",
    "plt.title( \"Precision  for different features with the SD\", fontweight ='bold', fontsize =12)\n",
    "plt.xlabel(\"Features\", fontweight ='bold', fontsize =12)\n",
    "plt.ylabel(\"Precision\", fontweight ='bold', fontsize =12)\n",
    "\n",
    "count = 0\n",
    "n = len(colors)-1\n",
    "\n",
    "space = []\n",
    "tickFeat = []\n",
    "\n",
    "for result, model, color in zip(arr_all, models, colors):\n",
    "    a = np.linspace(n*count, n*(1+count)-2,31)\n",
    "    print(a)\n",
    "    space.extend(a)\n",
    "    tickFeat.extend(result[0])\n",
    "    plt.errorbar( a, result[1], result[2], fmt='o', label =model[1], color = color)\n",
    "    count += 1\n",
    "\n",
    "plt.xticks(space, tickFeat, rotation = '45',  fontsize =12)\n",
    "plt.ylim(.2, 1)\n",
    "plt.legend()\n",
    "\n",
    "plt.show()"
   ]
  },
  {
   "cell_type": "code",
   "execution_count": null,
   "id": "97535205-879c-4e1b-ad08-aa753c7fda53",
   "metadata": {},
   "outputs": [],
   "source": []
  },
  {
   "cell_type": "code",
   "execution_count": 43,
   "id": "b63f2c60-45b1-4c9b-8520-93086ab1b86a",
   "metadata": {},
   "outputs": [],
   "source": [
    "arr_diff_all = []\n",
    "\n",
    "for m, m_key in zip (models, ml_dicts.keys()):\n",
    "    acc_diff_arr = [] \n",
    "    sd_diff_arr = [] \n",
    "    for f_key in ml_dicts[m_key].keys():\n",
    "        value = f_key.split(',')\n",
    "        acc_diff_arr.append( ml_dicts[m_key][f_key][ 'tot_acc' ] - baseDict['lr']['lr, all'][ 'tot_acc' ]  )\n",
    "\n",
    "        sd_train = jack_SD( baseDict['lr']['lr, all'][ 'jack_train' ], ml_dicts[m_key][f_key]['jack_train'] )[0]\n",
    "        sd_test = jack_SD(  baseDict['lr']['lr, all'][ 'jack_test' ],  ml_dicts[m_key][f_key]['jack_test']   )[0]\n",
    "\n",
    "        sd = np.sqrt( np.array((sd_train**2)) + np.array((sd_test**2)))\n",
    "        sd_diff_arr.append(sd) # append sd_arr to an array\n",
    "    arr_diff_all.append([ list(ml_dicts[m_key].keys()), acc_diff_arr, sd_diff_arr]) "
   ]
  },
  {
   "cell_type": "code",
   "execution_count": 45,
   "id": "9444c457-e05f-46b6-8937-6cffae594cdb",
   "metadata": {},
   "outputs": [
    {
     "data": {
      "image/png": "[encoded data removed]",
      "text/plain": [
       "<Figure size 1080x504 with 1 Axes>"
      ]
     },
     "metadata": {
      "needs_background": "light"
     },
     "output_type": "display_data"
    }
   ],
   "source": [
    "colors = ['blue', 'purple', 'green', 'orange', 'red', 'brown']\n",
    "plt.figure(figsize=(15, 7))\n",
    "plt.title( \"Precision  differences for ML methods versus LR_all for feature setsD\", fontweight ='bold', fontsize =12)\n",
    "plt.xlabel(\"Features\", fontweight ='bold', fontsize =12)\n",
    "plt.ylabel(\"Precision  difference\", fontweight ='bold', fontsize =12)\n",
    "\n",
    "count = 0\n",
    "n = len(colors)-0.5\n",
    "space = []\n",
    "tickFeat = []\n",
    "\n",
    "for result, model, color in zip(arr_diff_all, models, colors):\n",
    "    a = np.linspace(n*count, n*(1+count)-2,31)\n",
    "    space.extend(a)\n",
    "    tickFeat.extend(result[0])\n",
    "    plt.errorbar( a, result[1], result[2], fmt='o', label =model[1], color = color)\n",
    "    count += 1\n",
    "    \n",
    "plt.plot(np.array(space), np.zeros(31*1), color = 'Black')        \n",
    "plt.xticks(space, tickFeat, rotation = '90',  fontsize =12)\n",
    "plt.ylim(-.5, 1)\n",
    "plt.legend()\n",
    "\n",
    "plt.show()"
   ]
  },
  {
   "cell_type": "code",
   "execution_count": null,
   "id": "85deea14-a57f-43ab-ab70-ffb99c0dec0d",
   "metadata": {},
   "outputs": [],
   "source": [
    "[[58], [58, 104], [58, 104, 298], [6, 58, 104, 298], [6, 58, 104, 131, 298]]\n"
   ]
  },
  {
   "cell_type": "code",
   "execution_count": null,
   "id": "e71c9551-08d2-4cd7-9218-eed6f7403e60",
   "metadata": {},
   "outputs": [],
   "source": []
  },
  {
   "cell_type": "code",
   "execution_count": null,
   "id": "690f75da-9b4e-4857-8655-a571b1c10704",
   "metadata": {},
   "outputs": [],
   "source": []
  }
 ],
 "metadata": {
  "kernelspec": {
   "display_name": "apple_kernel",
   "language": "python",
   "name": "apple_kernel"
  },
  "language_info": {
   "codemirror_mode": {
    "name": "ipython",
    "version": 3
   },
   "file_extension": ".py",
   "mimetype": "text/x-python",
   "name": "python",
   "nbconvert_exporter": "python",
   "pygments_lexer": "ipython3",
   "version": "3.8.10"
  }
 },
 "nbformat": 4,
 "nbformat_minor": 5
}
