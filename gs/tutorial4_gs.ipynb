{
 "cells": [
  {
   "cell_type": "markdown",
   "id": "6f893407-c45b-4a97-8906-702e72754885",
   "metadata": {},
   "source": [
    "# Tutorial 4: ML on the best [2~200] features"
   ]
  },
  {
   "cell_type": "markdown",
   "id": "7f7f0a3d-c257-43a6-84d1-643324886063",
   "metadata": {},
   "source": [
    "---"
   ]
  },
  {
   "cell_type": "markdown",
   "id": "76a661a3-77c9-4e5c-ba18-72f455a25c91",
   "metadata": {},
   "source": [
    "### Introduction"
   ]
  },
  {
   "cell_type": "markdown",
   "id": "c21305f5-293e-4bbe-bfd8-ec8d01787f48",
   "metadata": {},
   "source": [
    "Hello, this notebook will show how to use machine learning (ML) to classify apples using the best [2, .. , 50] wavelength. The notebook will show how to visualize the final accuracy and their relative performance in two different graphs."
   ]
  },
  {
   "cell_type": "markdown",
   "id": "45456717-90bf-44c1-be0b-f2ad9314737f",
   "metadata": {},
   "source": [
    "first, let us call the data"
   ]
  },
  {
   "cell_type": "code",
   "execution_count": 1,
   "id": "fbec0b60-3e98-432e-9de6-fb444ce4c70c",
   "metadata": {},
   "outputs": [],
   "source": [
    "%store -r df_input_GS\n",
    "%store -r y_GS\n",
    "%store -r df_GS"
   ]
  },
  {
   "cell_type": "code",
   "execution_count": 2,
   "id": "cc2bd9ee-bb2c-453d-97fb-7104a64d8120",
   "metadata": {},
   "outputs": [],
   "source": [
    "y_GS = y_GS.map({'S': 1, 'B': 0})"
   ]
  },
  {
   "cell_type": "markdown",
   "id": "4a963998-c26e-40b6-bbfc-d5c1110dd9bf",
   "metadata": {},
   "source": [
    "---"
   ]
  },
  {
   "cell_type": "markdown",
   "id": "eea3bba6-fa62-43bf-a543-fb088617b9cf",
   "metadata": {},
   "source": [
    "calling some packages"
   ]
  },
  {
   "cell_type": "code",
   "execution_count": 3,
   "id": "4be29664-f490-4ef1-a263-7fcaaa093c34",
   "metadata": {},
   "outputs": [],
   "source": [
    "# Python packages \n",
    "import pandas as pd # for importing data into data frame format\n",
    "import seaborn as sns # For drawing useful graphs, such as bar graphs\n",
    "import numpy as np\n",
    "import matplotlib.pyplot as plt"
   ]
  },
  {
   "cell_type": "markdown",
   "id": "e08c43a3-5668-4360-92fb-7d28a1bdb3a0",
   "metadata": {},
   "source": [
    "---"
   ]
  },
  {
   "cell_type": "markdown",
   "id": "785b56a0-0772-4cc2-a2f6-34a9fe598b80",
   "metadata": {},
   "source": [
    "<b><i> Data splitting </i></b> "
   ]
  },
  {
   "cell_type": "code",
   "execution_count": 4,
   "id": "24b557bd-4d21-4767-bd55-f27cfbfdd8f8",
   "metadata": {},
   "outputs": [],
   "source": [
    "from sklearn.model_selection import train_test_split\n",
    "\n",
    "Xtrain, Xtest, Ytrain, Ytest = train_test_split( df_input_GS, y_GS, test_size = 0.3, random_state=3, stratify=y_GS) # train and valid sets"
   ]
  },
  {
   "cell_type": "code",
   "execution_count": 5,
   "id": "5acc93a2-c050-4d22-8e18-c37c179060a0",
   "metadata": {},
   "outputs": [
    {
     "name": "stdout",
     "output_type": "stream",
     "text": [
      "(352, 2074)\n",
      "(151, 2074)\n"
     ]
    }
   ],
   "source": [
    "print(Xtrain.shape)\n",
    "print(Xtest.shape)"
   ]
  },
  {
   "cell_type": "markdown",
   "id": "df8fc28e-022b-4cd0-be84-e590c7774324",
   "metadata": {},
   "source": [
    "---"
   ]
  },
  {
   "cell_type": "markdown",
   "id": "3c2c9fb6-2e96-47e3-8469-6e09beaecf49",
   "metadata": {},
   "source": [
    "<b><i> get the best N features </i></b> "
   ]
  },
  {
   "cell_type": "code",
   "execution_count": 41,
   "id": "6266887b-9436-4e2a-8171-a17156afd675",
   "metadata": {},
   "outputs": [],
   "source": [
    "%store -r featImp_GS"
   ]
  },
  {
   "cell_type": "code",
   "execution_count": 42,
   "id": "923b7f48-f1a0-417f-8627-9fac12335347",
   "metadata": {},
   "outputs": [
    {
     "name": "stdout",
     "output_type": "stream",
     "text": [
      "[1793 1775 2048   31    3 1771  544 1781   17   45]\n"
     ]
    }
   ],
   "source": [
    "arrimp = np.array(featImp_GS).mean(0)\n",
    "sorted_idx = arrimp.argsort()\n",
    "print(sorted_idx[-10:])"
   ]
  },
  {
   "cell_type": "code",
   "execution_count": 43,
   "id": "ee471b52-e1ce-4089-b174-da8dc69196fa",
   "metadata": {},
   "outputs": [
    {
     "data": {
      "text/plain": [
       "Index([1841.364,  980.575, 1133.147, 2337.819,  911.297, 1075.338, 1155.366,\n",
       "        974.677, 1447.594, 1613.342,\n",
       "       ...\n",
       "       1968.596, 1942.053, 2441.281,   842.04,  834.451, 1936.251, 1010.382,\n",
       "       1950.821,  838.229,  845.886],\n",
       "      dtype='object', length=400)"
      ]
     },
     "execution_count": 43,
     "metadata": {},
     "output_type": "execute_result"
    }
   ],
   "source": [
    "cols_ordered = df_input_GS.columns[sorted_idx][-400:]\n",
    "cols_ordered"
   ]
  },
  {
   "cell_type": "markdown",
   "id": "43148aed-4094-4725-929c-49df2386b9b6",
   "metadata": {},
   "source": [
    "---"
   ]
  },
  {
   "cell_type": "markdown",
   "id": "aad166b5-87cf-4ac7-81da-e6351514f9ef",
   "metadata": {},
   "source": [
    "<b><i> prepare diffrint feature set sizes </i></b> "
   ]
  },
  {
   "cell_type": "code",
   "execution_count": 44,
   "id": "adafede0-01db-4a8c-8e97-c169bf85b697",
   "metadata": {},
   "outputs": [],
   "source": [
    "number_features = [2, 4, 6, 8, 10, 20, 50, 100, 200, 400] # define the number features. \n"
   ]
  },
  {
   "cell_type": "markdown",
   "id": "338b5481-cd5e-4c5c-b1cd-64a68c907b66",
   "metadata": {},
   "source": [
    "---"
   ]
  },
  {
   "cell_type": "markdown",
   "id": "f2bb8b07-4957-4f49-b6f2-f9ab27fd3e8b",
   "metadata": {},
   "source": [
    "<b><i> ML model and thier hyper-parameters </i></b> "
   ]
  },
  {
   "cell_type": "code",
   "execution_count": 13,
   "id": "ceb26d5d-a221-42a9-8a31-b7291d7363e9",
   "metadata": {},
   "outputs": [],
   "source": [
    "from sklearn.neural_network import MLPClassifier\n",
    "from sklearn.linear_model import LogisticRegression\n",
    "from sklearn.svm import SVC\n",
    "from sklearn.ensemble import RandomForestClassifier\n",
    "from sklearn.neighbors import KNeighborsClassifier\n",
    "from xgboost import XGBClassifier\n",
    "from numpy import random as np_random"
   ]
  },
  {
   "cell_type": "markdown",
   "id": "38b74cb9-6eea-4214-8cc7-20a4a8448050",
   "metadata": {},
   "source": [
    "first let us define the model\n"
   ]
  },
  {
   "cell_type": "code",
   "execution_count": 14,
   "id": "8150affb-0221-4a6b-a93c-05913bc89f08",
   "metadata": {},
   "outputs": [],
   "source": [
    "lr = LogisticRegression()\n",
    "svm = SVC(kernel=\"rbf\")\n",
    "rf = RandomForestClassifier(random_state=1)\n",
    "xgb = XGBClassifier(random_state=1)\n",
    "knns = KNeighborsClassifier()\n",
    "anns = MLPClassifier(max_iter=3000, random_state=1, activation = 'relu', solver = 'sgd')"
   ]
  },
  {
   "cell_type": "markdown",
   "id": "6d41e85a-4553-4c15-8b01-40a3d6e43d4e",
   "metadata": {},
   "source": [
    "defining the hyper-paramter per model"
   ]
  },
  {
   "cell_type": "code",
   "execution_count": 15,
   "id": "2cf9c1c3-5b7f-438a-ac88-19277d9efe3b",
   "metadata": {},
   "outputs": [],
   "source": [
    "solvers = ['newton-cg', 'liblinear']\n",
    "penalty = ['l2']\n",
    "c_values = [1000, 100, 10, 1.0, 0.1, 0.01, 0.001]\n",
    "lr_par = dict(solver=solvers,penalty=penalty,C=c_values)\n",
    "\n",
    "##############################\n",
    "C_range = np.logspace(-1, 10, 20) # define a set of values for the parameter C\n",
    "gamma_range = np.logspace(-9, 3, 20) # define a set of values for the parameter gamma\n",
    "\n",
    "svm_par = dict(gamma=gamma_range, C=C_range)\n",
    "\n",
    "#########################\n",
    "\n",
    "# Number of trees in random forest\n",
    "n_estimators = [int(x) for x in np.linspace(start = 200, stop = 2000, num = 10)]\n",
    "# Number of features to consider at every split\n",
    "max_features = ['auto', 'sqrt']\n",
    "# Maximum number of levels in tree\n",
    "max_depth = [int(x) for x in np.linspace(10, 110, num = 11)]\n",
    "max_depth.append(None)\n",
    "# Minimum number of samples required to split a node\n",
    "min_samples_split = [2, 5, 10]\n",
    "# Minimum number of samples required at each leaf node\n",
    "min_samples_leaf = [1, 2, 4]\n",
    "# Method of selecting samples for training each tree\n",
    "bootstrap = [True, False]\n",
    "# Create the random grid\n",
    "\n",
    "#max_features = ['sqrt', 'log2']\n",
    "\n",
    "rf_par = {'n_estimators': n_estimators,\n",
    "               'max_features': max_features,\n",
    "               'max_depth': max_depth,\n",
    "               'min_samples_split': min_samples_split,\n",
    "               'min_samples_leaf': min_samples_leaf,\n",
    "               'bootstrap': bootstrap}\n",
    "#######################\n",
    "# https://www.kaggle.com/code/tilii7/hyperparameter-grid-search-with-xgboost/notebook\n",
    "xgb_par = {\n",
    "        'min_child_weight': [1, 5, 10],\n",
    "        'gamma': [0.5, 1, 1.5, 2, 5, 9],\n",
    "        'subsample': [0.6, 0.8, 1.0],\n",
    "        'colsample_bytree': [0.6, 0.8, 1.0],\n",
    "        'max_depth': [3, 4, 5, 8]\n",
    "        }\n",
    "##################################\n",
    "n_neighbors = range(1, 30, 2)\n",
    "weights = ['uniform', 'distance']\n",
    "metric = ['euclidean', 'manhattan', 'minkowski']\n",
    "\n",
    "knns_par = dict(n_neighbors=n_neighbors,weights=weights,metric=metric)\n",
    "################\n",
    "anns_par = {\n",
    "    'hidden_layer_sizes': [(3,3),(5,5),(8,3)],\n",
    "#     'activation': ['relu'],\n",
    "    'solver': ['sgd', 'adam'],\n",
    "    'alpha': [0.0001, 0.001,0.01,0.1, 0.05, 0.005 , 0.005, 0.00005],\n",
    "#     'learning_rate': ['constant','adaptive'],\n",
    "}\n",
    "################"
   ]
  },
  {
   "cell_type": "markdown",
   "id": "c5b6d3f5-7684-4e7d-aa9e-2db156b1f7ae",
   "metadata": {},
   "source": [
    "group the above into two lists"
   ]
  },
  {
   "cell_type": "code",
   "execution_count": 16,
   "id": "f022d938-448a-4de5-8688-d5d626c0e959",
   "metadata": {},
   "outputs": [],
   "source": [
    "models = [[lr, 'lr', 14], [svm, 'svm', 15], [rf, 'rf', 30], [xgb, 'xgb', 30], [knns, 'knns', 30], [anns, 'anns', 30]]\n",
    "par = [lr_par, svm_par, rf_par, xgb_par, knns_par, anns_par]\n",
    "\n",
    "# models = [[lr, 'lr', 14]]\n",
    "# par = [lr_par]"
   ]
  },
  {
   "cell_type": "markdown",
   "id": "f4fb20f6-da76-40e4-a71e-f52e812126eb",
   "metadata": {},
   "source": [
    "---"
   ]
  },
  {
   "cell_type": "markdown",
   "id": "c6ca1f27-6bdc-4101-b28d-4a9206a988b7",
   "metadata": {},
   "source": [
    "<b><i> train and test </i></b> "
   ]
  },
  {
   "cell_type": "code",
   "execution_count": 49,
   "id": "f4ec3bc6-20fa-4a1a-ae67-9b68cd6e0577",
   "metadata": {},
   "outputs": [],
   "source": [
    "from source.ml_acc import get_accuracy_ml"
   ]
  },
  {
   "cell_type": "code",
   "execution_count": null,
   "id": "fee5f7d5-8636-43ec-b23b-f20971bbdd9d",
   "metadata": {
    "tags": []
   },
   "outputs": [
    {
     "name": "stdout",
     "output_type": "stream",
     "text": [
      "2\n",
      "Index([838.229, 845.886], dtype='object')\n",
      "<class 'pandas.core.frame.DataFrame'>\n",
      "4\n",
      "Index([1010.382, 1950.821, 838.229, 845.886], dtype='object')\n",
      "<class 'pandas.core.frame.DataFrame'>\n",
      "6\n",
      "Index([834.451, 1936.251, 1010.382, 1950.821, 838.229, 845.886], dtype='object')\n",
      "<class 'pandas.core.frame.DataFrame'>\n",
      "8\n",
      "Index([2441.281, 842.04, 834.451, 1936.251, 1010.382, 1950.821, 838.229,\n",
      "       845.886],\n",
      "      dtype='object')\n",
      "<class 'pandas.core.frame.DataFrame'>\n",
      "10\n",
      "Index([1968.596, 1942.053, 2441.281,   842.04,  834.451, 1936.251, 1010.382,\n",
      "       1950.821,  838.229,  845.886],\n",
      "      dtype='object')\n",
      "<class 'pandas.core.frame.DataFrame'>\n",
      "20\n",
      "Index([  968.85,  844.508, 1959.668, 1926.182, 1521.503,  836.875,  849.768,\n",
      "        984.672,  835.796,  842.587, 1968.596, 1942.053, 2441.281,   842.04,\n",
      "        834.451, 1936.251, 1010.382, 1950.821,  838.229,  845.886],\n",
      "      dtype='object')\n",
      "<class 'pandas.core.frame.DataFrame'>\n",
      "50\n",
      "Index([2280.247, 2011.358, 1437.162,  835.258,  851.721,  840.675,  1956.71,\n",
      "       1142.636,  968.125,   841.22,  850.604, 1964.122, 1896.591,  833.647,\n",
      "        836.066, 1917.633, 1924.752, 1903.554,  836.606, 1360.966, 1953.761,\n",
      "        885.767, 1003.732,  983.551, 1913.388, 2043.058, 1946.427,  985.046,\n",
      "        874.415,  986.545,   968.85,  844.508, 1959.668, 1926.182, 1521.503,\n",
      "        836.875,  849.768,  984.672,  835.796,  842.587, 1968.596, 1942.053,\n",
      "       2441.281,   842.04,  834.451, 1936.251, 1010.382, 1950.821,  838.229,\n",
      "        845.886],\n",
      "      dtype='object')\n",
      "<class 'pandas.core.frame.DataFrame'>\n",
      "100\n",
      "Index([2155.146, 2466.832,  956.341, 1906.353,  963.807,  1897.98, 1329.559,\n",
      "        894.939, 1529.581, 1070.013, 2278.243, 1509.104,  855.375,  860.484,\n",
      "        841.493, 1015.925,  958.462,  973.213, 2302.522,  875.005,  1011.17,\n",
      "        897.418, 1427.665, 1502.109, 1021.932, 1892.438, 1000.633, 1454.089,\n",
      "        865.367,  850.046,    860.2,  857.922,  900.848,  856.505, 1430.028,\n",
      "        965.961,  876.188,  895.249, 1989.747,  864.501, 2457.479,  878.563,\n",
      "        842.861, 1920.475,  847.268, 1923.324,  968.487,   858.49, 1909.161,\n",
      "        846.162, 2280.247, 2011.358, 1437.162,  835.258,  851.721,  840.675,\n",
      "        1956.71, 1142.636,  968.125,   841.22,  850.604, 1964.122, 1896.591,\n",
      "        833.647,  836.066, 1917.633, 1924.752, 1903.554,  836.606, 1360.966,\n",
      "       1953.761,  885.767, 1003.732,  983.551, 1913.388, 2043.058, 1946.427,\n",
      "        985.046,  874.415,  986.545,   968.85,  844.508, 1959.668, 1926.182,\n",
      "       1521.503,  836.875,  849.768,  984.672,  835.796,  842.587, 1968.596,\n",
      "       1942.053, 2441.281,   842.04,  834.451, 1936.251, 1010.382, 1950.821,\n",
      "        838.229,  845.886],\n",
      "      dtype='object')\n",
      "<class 'pandas.core.frame.DataFrame'>\n",
      "200\n",
      "Index([2212.151, 1018.319,  884.558,  836.336, 1919.053, 1527.779, 1446.786,\n",
      "       2286.279, 1676.999,  979.834,\n",
      "       ...\n",
      "       1968.596, 1942.053, 2441.281,   842.04,  834.451, 1936.251, 1010.382,\n",
      "       1950.821,  838.229,  845.886],\n",
      "      dtype='object', length=200)\n",
      "<class 'pandas.core.frame.DataFrame'>\n",
      "400\n",
      "Index([1841.364,  980.575, 1133.147, 2337.819,  911.297, 1075.338, 1155.366,\n",
      "        974.677, 1447.594, 1613.342,\n",
      "       ...\n",
      "       1968.596, 1942.053, 2441.281,   842.04,  834.451, 1936.251, 1010.382,\n",
      "       1950.821,  838.229,  845.886],\n",
      "      dtype='object', length=400)\n",
      "<class 'pandas.core.frame.DataFrame'>\n",
      "2\n",
      "Index([838.229, 845.886], dtype='object')\n",
      "<class 'pandas.core.frame.DataFrame'>\n",
      "4\n",
      "Index([1010.382, 1950.821, 838.229, 845.886], dtype='object')\n",
      "<class 'pandas.core.frame.DataFrame'>\n",
      "6\n",
      "Index([834.451, 1936.251, 1010.382, 1950.821, 838.229, 845.886], dtype='object')\n",
      "<class 'pandas.core.frame.DataFrame'>\n"
     ]
    }
   ],
   "source": [
    "# num_ml_tools = len(par)\n",
    "# ml_dicts = {}\n",
    "\n",
    "# for m, par in zip(models, par):\n",
    "#     key0 = str(m[1])\n",
    "#     ml_dicts[key0] = {}\n",
    "#     for f in number_features:\n",
    "#         print(f)\n",
    "#         print(cols_ordered[-f:])\n",
    "#         print(type(Xtrain))\n",
    "#         xtr =  Xtrain[cols_ordered[-f:]]\n",
    "#         xte =  Xtest[cols_ordered[-f:]]\n",
    "#         results = get_accuracy_ml (m[0], m[2], par, np.array(xtr), np.array(Ytrain), np.array(xte), np.array(Ytest)) # to get the accuracies for the ml model\n",
    "\n",
    "#         key = str(m[1])+\",\"+str((f))\n",
    "#         ml_dicts[key0][key] = {}\n",
    "\n",
    "#         ml_dicts[key0][key]['tot_acc'] = results[0]\n",
    "#         ml_dicts[key0][key]['jack_train'] = results[1]\n",
    "#         ml_dicts[key0][key]['jack_test'] = results[2]"
   ]
  },
  {
   "cell_type": "code",
   "execution_count": null,
   "id": "3ba162e7-96f2-43b9-ba82-7d9614624673",
   "metadata": {},
   "outputs": [],
   "source": [
    "import json"
   ]
  },
  {
   "cell_type": "code",
   "execution_count": null,
   "id": "dfed86ab-ac1b-4227-9445-36b264c96608",
   "metadata": {},
   "outputs": [],
   "source": [
    "# with open('ml_gs.txt', 'w') as file:\n",
    "#      file.write(json.dumps(ml_dicts)) # use `json.loads` to do the reverse"
   ]
  },
  {
   "cell_type": "markdown",
   "id": "42dc679a-7496-460b-8c1e-13600f07d8e4",
   "metadata": {},
   "source": [
    "---"
   ]
  },
  {
   "cell_type": "markdown",
   "id": "8b3d6bf5-1b84-4c06-92b7-f1deab65e55e",
   "metadata": {},
   "source": [
    "<b><i> accuracy visualisation </i></b> "
   ]
  },
  {
   "cell_type": "code",
   "execution_count": 27,
   "id": "f70a4cbc-fa33-4859-b3ff-be245a83de0a",
   "metadata": {},
   "outputs": [
    {
     "data": {
      "text/plain": [
       "dict_keys(['lr, all'])"
      ]
     },
     "execution_count": 27,
     "metadata": {},
     "output_type": "execute_result"
    }
   ],
   "source": [
    "import json\n",
    "with open('ml_gs.txt') as f:\n",
    "    data = f.read()\n",
    "    \n",
    "ml_dicts = json.loads(data)\n",
    "\n",
    "with open('base_gs.txt') as f:\n",
    "    data = f.read()\n",
    "    \n",
    "baseDict = json.loads(data)\n",
    "baseDict['lr'].keys()    "
   ]
  },
  {
   "cell_type": "code",
   "execution_count": 28,
   "id": "250c10b9-1d38-426a-b7ed-4e2bb966b96e",
   "metadata": {},
   "outputs": [
    {
     "name": "stdout",
     "output_type": "stream",
     "text": [
      "dict_keys(['lr, all'])\n",
      "dict_keys(['lr,2', 'lr,4', 'lr,6', 'lr,8', 'lr,10', 'lr,20', 'lr,50', 'lr,100', 'lr,200', 'lr,400'])\n"
     ]
    }
   ],
   "source": [
    "print(baseDict['lr'].keys()    )\n",
    "print(ml_dicts['lr'].keys()    )"
   ]
  },
  {
   "cell_type": "code",
   "execution_count": 29,
   "id": "3e1b30c1-5910-4c65-bc21-8b5fd4c37399",
   "metadata": {},
   "outputs": [],
   "source": [
    "from source.calculate_jack import jack_SD # importing the baseline code from source.basline file"
   ]
  },
  {
   "cell_type": "code",
   "execution_count": 30,
   "id": "fccc55b9-bb52-4e46-9f4b-4fbac7760ea4",
   "metadata": {},
   "outputs": [],
   "source": [
    "arr_all = []\n",
    "for m, d in zip (models, ml_dicts.keys()):\n",
    "    acc_arr = [] \n",
    "    sd_arr = [] \n",
    "\n",
    "    # print(ml_dicts[d])\n",
    "    for key in ml_dicts[d].keys():\n",
    "        acc_arr.append(ml_dicts[d][key][ 'tot_acc' ]) # append total accuracy to an array\n",
    "        sd_train = jack_SD(np.zeros( len(ml_dicts[d][key][ 'jack_train' ]) ), ml_dicts[d][key][ 'jack_train' ])[0]\n",
    "        sd_test = jack_SD(np.zeros( len(ml_dicts[d][key][ 'jack_test' ]) ), ml_dicts[d][key][ 'jack_test' ])[0]\n",
    "        sd = np.sqrt( np.array((sd_train**2)) + np.array((sd_test**2)))\n",
    "        sd_arr.append(sd) # append sd_arr to an array\n",
    "    arr_all.append([ list(ml_dicts[d].keys()), acc_arr, sd_arr])    "
   ]
  },
  {
   "cell_type": "code",
   "execution_count": 31,
   "id": "637d66b4-1dbc-4aad-9293-37e1c9415bbc",
   "metadata": {},
   "outputs": [
    {
     "name": "stdout",
     "output_type": "stream",
     "text": [
      "[[['lr,2', 'lr,4', 'lr,6', 'lr,8', 'lr,10', 'lr,20', 'lr,50', 'lr,100', 'lr,200', 'lr,400'], [0.5416666666666666, 0.7011494252873564, 0.7159090909090909, 0.7011494252873564, 0.7, 0.7439024390243902, 0.8021978021978022, 0.8181818181818182, 0.8295454545454546, 0.8372093023255814], [0.12095948801892525, 0.08711400018213507, 0.05036392870062058, 0.05128611704542644, 0.06484671244678855, 0.052862989654729256, 0.04289450501536302, 0.05479896849900473, 0.05475680759369007, 0.05115106142523657]], [['svm,2', 'svm,4', 'svm,6', 'svm,8', 'svm,10', 'svm,20', 'svm,50', 'svm,100', 'svm,200', 'svm,400'], [0.5875, 0.7191011235955056, 0.7093023255813954, 0.7127659574468085, 0.7375, 0.7727272727272727, 0.8068181818181818, 0.8181818181818182, 0.8202247191011236, 0.8023255813953488], [0.06367849155153964, 0.18105828309521213, 0.15156415496808473, 0.09837109377101826, 0.11244000033331143, 0.0456828451773217, 0.04759280704955924, 0.186827978389236, 0.12371199098514109, 0.1349186452454473]], [['rf,2', 'rf,4', 'rf,6', 'rf,8', 'rf,10', 'rf,20', 'rf,50', 'rf,100', 'rf,200', 'rf,400'], [0.589041095890411, 0.7432432432432432, 0.7428571428571429, 0.7333333333333333, 0.7466666666666667, 0.7307692307692307, 0.7654320987654321, 0.7142857142857143, 0.7654320987654321, 0.7777777777777778], [0.39922952071959433, 0.12242869117965693, 0.12011203917021945, 0.10179703024325734, 0.12253576878713575, 0.09536196861702398, 0.14051140778863436, 0.1766172349669718, 0.17918735471222405, 0.25629249497305306]], [['xgb,2', 'xgb,4', 'xgb,6', 'xgb,8', 'xgb,10', 'xgb,20', 'xgb,50', 'xgb,100', 'xgb,200', 'xgb,400'], [0.5405405405405406, 0.7571428571428571, 0.75, 0.7435897435897436, 0.7439024390243902, 0.725, 0.7721518987341772, 0.7441860465116279, 0.7349397590361446, 0.7160493827160493], [0.20485129599938887, 0.18317935018506754, 0.19155564006493522, 0.20218020892136665, 0.1706146378168043, 0.21307880424508596, 0.22405196014851717, 0.16658280201713827, 0.17565280424721474, 0.1769931616660454]], [['knns,2', 'knns,4', 'knns,6', 'knns,8', 'knns,10', 'knns,20', 'knns,50', 'knns,100', 'knns,200', 'knns,400'], [0.5942028985507246, 0.7368421052631579, 0.6923076923076923, 0.72, 0.6923076923076923, 0.7037037037037037, 0.6835443037974683, 0.7468354430379747, 0.7126436781609196, 0.7037037037037037], [0.0826863588912767, 0.07229902815157908, 0.0693215378301475, 0.06092618154813583, 0.060465758060419275, 0.098088478489017, 0.06389765321819624, 0.09049146551482545, 0.057706279118198534, 0.05863363829671857]], [['anns,2', 'anns,4', 'anns,6', 'anns,8', 'anns,10', 'anns,20', 'anns,50', 'anns,100', 'anns,200', 'anns,400'], [0.417910447761194, 0.7222222222222222, 0.7159090909090909, 0.5964912280701754, 0.7317073170731707, 0.7586206896551724, 0.7790697674418605, 0.7528089887640449, 0.75, 0.7444444444444445], [0.18130050884434107, 0.13987249219457787, 0.09995808005085272, 0.7295724968971679, 0.5262033503685524, 0.10678042275609097, 0.13636611958405145, 0.1170833004147687, 0.15599655384476674, 0.14437859839822464]]]\n"
     ]
    }
   ],
   "source": [
    "print(arr_all)"
   ]
  },
  {
   "cell_type": "code",
   "execution_count": 36,
   "id": "43344a45-963e-4aec-8673-63388a69d1dc",
   "metadata": {},
   "outputs": [
    {
     "name": "stdout",
     "output_type": "stream",
     "text": [
      "[0.         0.33333333 0.66666667 1.         1.33333333 1.66666667\n",
      " 2.         2.33333333 2.66666667 3.        ]\n",
      "[5.         5.33333333 5.66666667 6.         6.33333333 6.66666667\n",
      " 7.         7.33333333 7.66666667 8.        ]\n",
      "[10.         10.33333333 10.66666667 11.         11.33333333 11.66666667\n",
      " 12.         12.33333333 12.66666667 13.        ]\n",
      "[15.         15.33333333 15.66666667 16.         16.33333333 16.66666667\n",
      " 17.         17.33333333 17.66666667 18.        ]\n",
      "[20.         20.33333333 20.66666667 21.         21.33333333 21.66666667\n",
      " 22.         22.33333333 22.66666667 23.        ]\n",
      "[25.         25.33333333 25.66666667 26.         26.33333333 26.66666667\n",
      " 27.         27.33333333 27.66666667 28.        ]\n"
     ]
    },
    {
     "data": {
      "image/png": "[encoded data removed]",
      "text/plain": [
       "<Figure size 1080x504 with 1 Axes>"
      ]
     },
     "metadata": {
      "needs_background": "light"
     },
     "output_type": "display_data"
    }
   ],
   "source": [
    "colors = ['blue', 'purple', 'green', 'orange', 'red', 'brown']\n",
    "plt.figure(figsize=(15, 7))\n",
    "plt.title( \"Precision  for different features with the SD\", fontweight ='bold', fontsize =12)\n",
    "plt.xlabel(\"Features\", fontweight ='bold', fontsize =12)\n",
    "plt.ylabel(\"Precision\", fontweight ='bold', fontsize =12)\n",
    "\n",
    "count = 0\n",
    "n = len(colors)-1\n",
    "\n",
    "space = []\n",
    "tickFeat = []\n",
    "\n",
    "for result, model, color in zip(arr_all, models, colors):\n",
    "    a = np.linspace(n*count, n*(1+count)-2,10)\n",
    "    print(a)\n",
    "    space.extend(a)\n",
    "    tickFeat.extend(result[0])\n",
    "    plt.errorbar( a, result[1], result[2], fmt='o', label =model[1], color = color)\n",
    "    count += 1\n",
    "\n",
    "plt.xticks(space, tickFeat, rotation = 'vertical',  fontsize =12)\n",
    "plt.ylim(.2, 1)\n",
    "plt.legend()\n",
    "\n",
    "plt.show()"
   ]
  },
  {
   "cell_type": "markdown",
   "id": "b3fbfcfc-a2f8-4a01-b01d-0867b45aa380",
   "metadata": {},
   "source": [
    "<b><i> relative performance </i></b> "
   ]
  },
  {
   "cell_type": "code",
   "execution_count": 37,
   "id": "f3dea982-8617-47c1-a7e0-a16d661be6db",
   "metadata": {},
   "outputs": [],
   "source": [
    "arr_diff_all = []\n",
    "\n",
    "for m, m_key in zip (models, ml_dicts.keys()):\n",
    "    acc_diff_arr = [] \n",
    "    sd_diff_arr = [] \n",
    "    for f_key in ml_dicts[m_key].keys():\n",
    "        value = f_key.split(',')\n",
    "        acc_diff_arr.append( ml_dicts[m_key][f_key][ 'tot_acc' ] - baseDict['lr']['lr, all'][ 'tot_acc' ]  )\n",
    "\n",
    "        sd_train = jack_SD( baseDict['lr']['lr, all'][ 'jack_train' ], ml_dicts[m_key][f_key]['jack_train'] )[0]\n",
    "        sd_test = jack_SD(  baseDict['lr']['lr, all'][ 'jack_test' ],  ml_dicts[m_key][f_key]['jack_test']   )[0]\n",
    "\n",
    "        sd = np.sqrt( np.array((sd_train**2)) + np.array((sd_test**2)))\n",
    "        sd_diff_arr.append(sd) # append sd_arr to an array\n",
    "    arr_diff_all.append([ list(ml_dicts[m_key].keys()), acc_diff_arr, sd_diff_arr]) "
   ]
  },
  {
   "cell_type": "code",
   "execution_count": 41,
   "id": "e93a0e34-e4b1-4b5a-ba89-caef3297647d",
   "metadata": {},
   "outputs": [
    {
     "data": {
      "image/png": "[encoded data removed]",
      "text/plain": [
       "<Figure size 1080x504 with 1 Axes>"
      ]
     },
     "metadata": {
      "needs_background": "light"
     },
     "output_type": "display_data"
    }
   ],
   "source": [
    "colors = ['blue', 'purple', 'green', 'orange', 'red', 'brown']\n",
    "plt.figure(figsize=(15, 7))\n",
    "plt.title( \"Precision  differences for ML methods versus LR_all for feature setsD\", fontweight ='bold', fontsize =12)\n",
    "plt.xlabel(\"Features\", fontweight ='bold', fontsize =12)\n",
    "plt.ylabel(\"Precision  difference\", fontweight ='bold', fontsize =12)\n",
    "\n",
    "count = 0\n",
    "n = len(colors)-0.5\n",
    "space = []\n",
    "tickFeat = []\n",
    "\n",
    "for result, model, color in zip(arr_diff_all, models, colors):\n",
    "    a = np.linspace(n*count, n*(1+count)-2,10)\n",
    "    space.extend(a)\n",
    "    tickFeat.extend(result[0])\n",
    "    plt.errorbar( a, result[1], result[2], fmt='o', label =model[1], color = color)\n",
    "    count += 1\n",
    "    \n",
    "plt.plot(np.array(space), np.zeros(10*6), color = 'Black')        \n",
    "plt.xticks(space, tickFeat, rotation = 'vertical',  fontsize =12)\n",
    "plt.ylim(-.5, 1)\n",
    "plt.legend()\n",
    "\n",
    "plt.show()"
   ]
  },
  {
   "cell_type": "code",
   "execution_count": null,
   "id": "ecbe0d8b-72e3-4fab-b994-e96873737bda",
   "metadata": {},
   "outputs": [],
   "source": []
  }
 ],
 "metadata": {
  "kernelspec": {
   "display_name": "apple_kernel",
   "language": "python",
   "name": "apple_kernel"
  },
  "language_info": {
   "codemirror_mode": {
    "name": "ipython",
    "version": 3
   },
   "file_extension": ".py",
   "mimetype": "text/x-python",
   "name": "python",
   "nbconvert_exporter": "python",
   "pygments_lexer": "ipython3",
   "version": "3.8.10"
  }
 },
 "nbformat": 4,
 "nbformat_minor": 5
}
