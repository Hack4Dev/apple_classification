{
 "cells": [
  {
   "cell_type": "markdown",
   "id": "6f893407-c45b-4a97-8906-702e72754885",
   "metadata": {},
   "source": [
    "# Tutorial 4: ML on the best [2~50] features"
   ]
  },
  {
   "cell_type": "markdown",
   "id": "7f7f0a3d-c257-43a6-84d1-643324886063",
   "metadata": {},
   "source": [
    "---"
   ]
  },
  {
   "cell_type": "markdown",
   "id": "76a661a3-77c9-4e5c-ba18-72f455a25c91",
   "metadata": {},
   "source": [
    "### Introduction"
   ]
  },
  {
   "cell_type": "markdown",
   "id": "c21305f5-293e-4bbe-bfd8-ec8d01787f48",
   "metadata": {},
   "source": [
    "Hello, this notebook will show how to use machine learning (ML) to classify apples using the best [2, .. , 50] wavelength. The notebook will show how to visualize the final accuracy and their relative performance in two different graphs."
   ]
  },
  {
   "cell_type": "markdown",
   "id": "45456717-90bf-44c1-be0b-f2ad9314737f",
   "metadata": {},
   "source": [
    "first, let us call the data"
   ]
  },
  {
   "cell_type": "code",
   "execution_count": 1,
   "id": "fbec0b60-3e98-432e-9de6-fb444ce4c70c",
   "metadata": {},
   "outputs": [],
   "source": [
    "%store -r df_input_GS\n",
    "%store -r y_GS\n",
    "%store -r df_GS"
   ]
  },
  {
   "cell_type": "code",
   "execution_count": 2,
   "id": "cc2bd9ee-bb2c-453d-97fb-7104a64d8120",
   "metadata": {},
   "outputs": [],
   "source": [
    "y_GS = y_GS.map({'S': 1, 'B': 0})"
   ]
  },
  {
   "cell_type": "markdown",
   "id": "4a963998-c26e-40b6-bbfc-d5c1110dd9bf",
   "metadata": {},
   "source": [
    "---"
   ]
  },
  {
   "cell_type": "markdown",
   "id": "eea3bba6-fa62-43bf-a543-fb088617b9cf",
   "metadata": {},
   "source": [
    "calling some packages"
   ]
  },
  {
   "cell_type": "code",
   "execution_count": 3,
   "id": "4be29664-f490-4ef1-a263-7fcaaa093c34",
   "metadata": {},
   "outputs": [],
   "source": [
    "# Python packages \n",
    "import pandas as pd # for importing data into data frame format\n",
    "import seaborn as sns # For drawing useful graphs, such as bar graphs\n",
    "import numpy as np\n",
    "import matplotlib.pyplot as plt"
   ]
  },
  {
   "cell_type": "markdown",
   "id": "e08c43a3-5668-4360-92fb-7d28a1bdb3a0",
   "metadata": {},
   "source": [
    "---"
   ]
  },
  {
   "cell_type": "markdown",
   "id": "785b56a0-0772-4cc2-a2f6-34a9fe598b80",
   "metadata": {},
   "source": [
    "<b><i> Data splitting </i></b> "
   ]
  },
  {
   "cell_type": "code",
   "execution_count": 4,
   "id": "24b557bd-4d21-4767-bd55-f27cfbfdd8f8",
   "metadata": {},
   "outputs": [],
   "source": [
    "from sklearn.model_selection import train_test_split\n",
    "\n",
    "Xtrain, Xtest, Ytrain, Ytest = train_test_split( df_input_GS, y_GS, test_size = 0.3, random_state=3, stratify=y_GS) # train and valid sets"
   ]
  },
  {
   "cell_type": "code",
   "execution_count": 5,
   "id": "5acc93a2-c050-4d22-8e18-c37c179060a0",
   "metadata": {},
   "outputs": [
    {
     "name": "stdout",
     "output_type": "stream",
     "text": [
      "(352, 2074)\n",
      "(151, 2074)\n"
     ]
    }
   ],
   "source": [
    "print(Xtrain.shape)\n",
    "print(Xtest.shape)"
   ]
  },
  {
   "cell_type": "markdown",
   "id": "df8fc28e-022b-4cd0-be84-e590c7774324",
   "metadata": {},
   "source": [
    "---"
   ]
  },
  {
   "cell_type": "markdown",
   "id": "3c2c9fb6-2e96-47e3-8469-6e09beaecf49",
   "metadata": {},
   "source": [
    "<b><i> get the best N features </i></b> "
   ]
  },
  {
   "cell_type": "code",
   "execution_count": 6,
   "id": "6266887b-9436-4e2a-8171-a17156afd675",
   "metadata": {},
   "outputs": [],
   "source": [
    "%store -r featImp_GS"
   ]
  },
  {
   "cell_type": "code",
   "execution_count": 7,
   "id": "923b7f48-f1a0-417f-8627-9fac12335347",
   "metadata": {},
   "outputs": [
    {
     "name": "stdout",
     "output_type": "stream",
     "text": [
      "[1774   45  118  572   69  842 1781  877   18   52]\n"
     ]
    }
   ],
   "source": [
    "arrimp = np.array(featImp_GS).mean(0)\n",
    "sorted_idx = arrimp.argsort()\n",
    "print(sorted_idx[-10:])"
   ]
  },
  {
   "cell_type": "code",
   "execution_count": 8,
   "id": "ee471b52-e1ce-4089-b174-da8dc69196fa",
   "metadata": {},
   "outputs": [
    {
     "data": {
      "text/plain": [
       "Index([ 938.682, 1131.663,  835.258, 2079.102, 1077.573,  1368.87, 2072.455,\n",
       "       1666.222, 2478.624,    888.5,\n",
       "       ...\n",
       "       1940.599,  845.886,  866.524, 1021.529,  852.562,  1143.14, 1950.821,\n",
       "       1161.057,    838.5,  847.823],\n",
       "      dtype='object', length=400)"
      ]
     },
     "execution_count": 8,
     "metadata": {},
     "output_type": "execute_result"
    }
   ],
   "source": [
    "cols_ordered = df_input_GS.columns[sorted_idx][-400:]\n",
    "cols_ordered"
   ]
  },
  {
   "cell_type": "markdown",
   "id": "43148aed-4094-4725-929c-49df2386b9b6",
   "metadata": {},
   "source": [
    "---"
   ]
  },
  {
   "cell_type": "markdown",
   "id": "aad166b5-87cf-4ac7-81da-e6351514f9ef",
   "metadata": {},
   "source": [
    "<b><i> prepare diffrint feature set sizes </i></b> "
   ]
  },
  {
   "cell_type": "code",
   "execution_count": 9,
   "id": "adafede0-01db-4a8c-8e97-c169bf85b697",
   "metadata": {},
   "outputs": [],
   "source": [
    "number_features = [2, 4, 6, 8, 10, 20, 50] # define the number features. \n"
   ]
  },
  {
   "cell_type": "markdown",
   "id": "338b5481-cd5e-4c5c-b1cd-64a68c907b66",
   "metadata": {},
   "source": [
    "---"
   ]
  },
  {
   "cell_type": "markdown",
   "id": "f2bb8b07-4957-4f49-b6f2-f9ab27fd3e8b",
   "metadata": {},
   "source": [
    "<b><i> ML model and thier hyper-parameters </i></b> "
   ]
  },
  {
   "cell_type": "code",
   "execution_count": 10,
   "id": "ceb26d5d-a221-42a9-8a31-b7291d7363e9",
   "metadata": {},
   "outputs": [],
   "source": [
    "from sklearn.neural_network import MLPClassifier\n",
    "from sklearn.linear_model import LogisticRegression\n",
    "from sklearn.svm import SVC\n",
    "from sklearn.ensemble import RandomForestClassifier\n",
    "from sklearn.neighbors import KNeighborsClassifier\n",
    "from xgboost import XGBClassifier\n",
    "from numpy import random as np_random"
   ]
  },
  {
   "cell_type": "markdown",
   "id": "38b74cb9-6eea-4214-8cc7-20a4a8448050",
   "metadata": {},
   "source": [
    "first let us define the model\n"
   ]
  },
  {
   "cell_type": "code",
   "execution_count": 11,
   "id": "8150affb-0221-4a6b-a93c-05913bc89f08",
   "metadata": {},
   "outputs": [],
   "source": [
    "lr = LogisticRegression()\n",
    "svm = SVC(kernel=\"rbf\")\n",
    "rf = RandomForestClassifier(random_state=1)\n",
    "xgb = XGBClassifier(random_state=1)\n",
    "knns = KNeighborsClassifier()\n",
    "anns = MLPClassifier(max_iter=3000, random_state=1, activation = 'relu', solver = 'sgd')"
   ]
  },
  {
   "cell_type": "markdown",
   "id": "6d41e85a-4553-4c15-8b01-40a3d6e43d4e",
   "metadata": {},
   "source": [
    "defining the hyper-paramter per model"
   ]
  },
  {
   "cell_type": "code",
   "execution_count": 12,
   "id": "2cf9c1c3-5b7f-438a-ac88-19277d9efe3b",
   "metadata": {},
   "outputs": [],
   "source": [
    "solvers = ['newton-cg', 'liblinear']\n",
    "penalty = ['l2']\n",
    "c_values = [1000, 100, 10, 1.0, 0.1, 0.01, 0.001]\n",
    "lr_par = dict(solver=solvers,penalty=penalty,C=c_values)\n",
    "\n",
    "##############################\n",
    "C_range = np.logspace(-1, 10, 20) # define a set of values for the parameter C\n",
    "gamma_range = np.logspace(-9, 3, 20) # define a set of values for the parameter gamma\n",
    "\n",
    "svm_par = dict(gamma=gamma_range, C=C_range)\n",
    "\n",
    "#########################\n",
    "\n",
    "# Number of trees in random forest\n",
    "n_estimators = [int(x) for x in np.linspace(start = 200, stop = 2000, num = 10)]\n",
    "# Number of features to consider at every split\n",
    "max_features = ['auto', 'sqrt']\n",
    "# Maximum number of levels in tree\n",
    "max_depth = [int(x) for x in np.linspace(10, 110, num = 11)]\n",
    "max_depth.append(None)\n",
    "# Minimum number of samples required to split a node\n",
    "min_samples_split = [2, 5, 10]\n",
    "# Minimum number of samples required at each leaf node\n",
    "min_samples_leaf = [1, 2, 4]\n",
    "# Method of selecting samples for training each tree\n",
    "bootstrap = [True, False]\n",
    "# Create the random grid\n",
    "\n",
    "#max_features = ['sqrt', 'log2']\n",
    "\n",
    "rf_par = {'n_estimators': n_estimators,\n",
    "               'max_features': max_features,\n",
    "               'max_depth': max_depth,\n",
    "               'min_samples_split': min_samples_split,\n",
    "               'min_samples_leaf': min_samples_leaf,\n",
    "               'bootstrap': bootstrap}\n",
    "#######################\n",
    "# https://www.kaggle.com/code/tilii7/hyperparameter-grid-search-with-xgboost/notebook\n",
    "xgb_par = {\n",
    "        'min_child_weight': [1, 5, 10],\n",
    "        'gamma': [0.5, 1, 1.5, 2, 5, 9],\n",
    "        'subsample': [0.6, 0.8, 1.0],\n",
    "        'colsample_bytree': [0.6, 0.8, 1.0],\n",
    "        'max_depth': [3, 4, 5, 8]\n",
    "        }\n",
    "##################################\n",
    "n_neighbors = range(1, 30, 2)\n",
    "weights = ['uniform', 'distance']\n",
    "metric = ['euclidean', 'manhattan', 'minkowski']\n",
    "\n",
    "knns_par = dict(n_neighbors=n_neighbors,weights=weights,metric=metric)\n",
    "################\n",
    "anns_par = {\n",
    "    'hidden_layer_sizes': [(3,3),(5,5),(8,3)],\n",
    "#     'activation': ['relu'],\n",
    "    'solver': ['sgd', 'adam'],\n",
    "    'alpha': [0.0001, 0.001,0.01,0.1, 0.05, 0.005 , 0.005, 0.00005],\n",
    "#     'learning_rate': ['constant','adaptive'],\n",
    "}\n",
    "################"
   ]
  },
  {
   "cell_type": "markdown",
   "id": "c5b6d3f5-7684-4e7d-aa9e-2db156b1f7ae",
   "metadata": {},
   "source": [
    "group the above into two lists"
   ]
  },
  {
   "cell_type": "code",
   "execution_count": 13,
   "id": "f022d938-448a-4de5-8688-d5d626c0e959",
   "metadata": {},
   "outputs": [],
   "source": [
    "models = [[lr, 'lr', 14], [svm, 'svm', 15], [rf, 'rf', 30], [xgb, 'xgb', 30], [knns, 'knns', 30], [anns, 'anns', 30]]\n",
    "par = [lr_par, svm_par, rf_par, xgb_par, knns_par, anns_par]"
   ]
  },
  {
   "cell_type": "markdown",
   "id": "f4fb20f6-da76-40e4-a71e-f52e812126eb",
   "metadata": {},
   "source": [
    "---"
   ]
  },
  {
   "cell_type": "markdown",
   "id": "c6ca1f27-6bdc-4101-b28d-4a9206a988b7",
   "metadata": {},
   "source": [
    "<b><i> train and test </i></b> "
   ]
  },
  {
   "cell_type": "code",
   "execution_count": 14,
   "id": "f4ec3bc6-20fa-4a1a-ae67-9b68cd6e0577",
   "metadata": {},
   "outputs": [],
   "source": [
    "from source.ml_acc import get_accuracy_ml"
   ]
  },
  {
   "cell_type": "code",
   "execution_count": null,
   "id": "fee5f7d5-8636-43ec-b23b-f20971bbdd9d",
   "metadata": {
    "collapsed": true,
    "jupyter": {
     "outputs_hidden": true
    },
    "tags": []
   },
   "outputs": [
    {
     "name": "stdout",
     "output_type": "stream",
     "text": [
      "2\n",
      "Index([838.5, 847.823], dtype='object')\n",
      "<class 'pandas.core.frame.DataFrame'>\n"
     ]
    },
    {
     "name": "stderr",
     "output_type": "stream",
     "text": [
      "/users/hussein/source/apple_classification/appleVer/lib/python3.8/site-packages/sklearn/metrics/_classification.py:1318: UndefinedMetricWarning: Precision is ill-defined and being set to 0.0 due to no predicted samples. Use `zero_division` parameter to control this behavior.\n",
      "  _warn_prf(average, modifier, msg_start, len(result))\n",
      "/users/hussein/source/apple_classification/appleVer/lib/python3.8/site-packages/sklearn/metrics/_classification.py:1318: UndefinedMetricWarning: Precision is ill-defined and being set to 0.0 due to no predicted samples. Use `zero_division` parameter to control this behavior.\n",
      "  _warn_prf(average, modifier, msg_start, len(result))\n",
      "/users/hussein/source/apple_classification/appleVer/lib/python3.8/site-packages/sklearn/metrics/_classification.py:1318: UndefinedMetricWarning: Precision is ill-defined and being set to 0.0 due to no predicted samples. Use `zero_division` parameter to control this behavior.\n",
      "  _warn_prf(average, modifier, msg_start, len(result))\n",
      "/users/hussein/source/apple_classification/appleVer/lib/python3.8/site-packages/sklearn/metrics/_classification.py:1318: UndefinedMetricWarning: Precision is ill-defined and being set to 0.0 due to no predicted samples. Use `zero_division` parameter to control this behavior.\n",
      "  _warn_prf(average, modifier, msg_start, len(result))\n",
      "/users/hussein/source/apple_classification/appleVer/lib/python3.8/site-packages/sklearn/metrics/_classification.py:1318: UndefinedMetricWarning: Precision is ill-defined and being set to 0.0 due to no predicted samples. Use `zero_division` parameter to control this behavior.\n",
      "  _warn_prf(average, modifier, msg_start, len(result))\n",
      "/users/hussein/source/apple_classification/appleVer/lib/python3.8/site-packages/sklearn/metrics/_classification.py:1318: UndefinedMetricWarning: Precision is ill-defined and being set to 0.0 due to no predicted samples. Use `zero_division` parameter to control this behavior.\n",
      "  _warn_prf(average, modifier, msg_start, len(result))\n",
      "/users/hussein/source/apple_classification/appleVer/lib/python3.8/site-packages/sklearn/metrics/_classification.py:1318: UndefinedMetricWarning: Precision is ill-defined and being set to 0.0 due to no predicted samples. Use `zero_division` parameter to control this behavior.\n",
      "  _warn_prf(average, modifier, msg_start, len(result))\n",
      "/users/hussein/source/apple_classification/appleVer/lib/python3.8/site-packages/sklearn/metrics/_classification.py:1318: UndefinedMetricWarning: Precision is ill-defined and being set to 0.0 due to no predicted samples. Use `zero_division` parameter to control this behavior.\n",
      "  _warn_prf(average, modifier, msg_start, len(result))\n",
      "/users/hussein/source/apple_classification/appleVer/lib/python3.8/site-packages/sklearn/metrics/_classification.py:1318: UndefinedMetricWarning: Precision is ill-defined and being set to 0.0 due to no predicted samples. Use `zero_division` parameter to control this behavior.\n",
      "  _warn_prf(average, modifier, msg_start, len(result))\n",
      "/users/hussein/source/apple_classification/appleVer/lib/python3.8/site-packages/sklearn/metrics/_classification.py:1318: UndefinedMetricWarning: Precision is ill-defined and being set to 0.0 due to no predicted samples. Use `zero_division` parameter to control this behavior.\n",
      "  _warn_prf(average, modifier, msg_start, len(result))\n",
      "/users/hussein/source/apple_classification/appleVer/lib/python3.8/site-packages/sklearn/metrics/_classification.py:1318: UndefinedMetricWarning: Precision is ill-defined and being set to 0.0 due to no predicted samples. Use `zero_division` parameter to control this behavior.\n",
      "  _warn_prf(average, modifier, msg_start, len(result))\n",
      "/users/hussein/source/apple_classification/appleVer/lib/python3.8/site-packages/sklearn/metrics/_classification.py:1318: UndefinedMetricWarning: Precision is ill-defined and being set to 0.0 due to no predicted samples. Use `zero_division` parameter to control this behavior.\n",
      "  _warn_prf(average, modifier, msg_start, len(result))\n",
      "/users/hussein/source/apple_classification/appleVer/lib/python3.8/site-packages/sklearn/metrics/_classification.py:1318: UndefinedMetricWarning: Precision is ill-defined and being set to 0.0 due to no predicted samples. Use `zero_division` parameter to control this behavior.\n",
      "  _warn_prf(average, modifier, msg_start, len(result))\n",
      "/users/hussein/source/apple_classification/appleVer/lib/python3.8/site-packages/sklearn/metrics/_classification.py:1318: UndefinedMetricWarning: Precision is ill-defined and being set to 0.0 due to no predicted samples. Use `zero_division` parameter to control this behavior.\n",
      "  _warn_prf(average, modifier, msg_start, len(result))\n",
      "/users/hussein/source/apple_classification/appleVer/lib/python3.8/site-packages/sklearn/metrics/_classification.py:1318: UndefinedMetricWarning: Precision is ill-defined and being set to 0.0 due to no predicted samples. Use `zero_division` parameter to control this behavior.\n",
      "  _warn_prf(average, modifier, msg_start, len(result))\n",
      "/users/hussein/source/apple_classification/appleVer/lib/python3.8/site-packages/sklearn/metrics/_classification.py:1318: UndefinedMetricWarning: Precision is ill-defined and being set to 0.0 due to no predicted samples. Use `zero_division` parameter to control this behavior.\n",
      "  _warn_prf(average, modifier, msg_start, len(result))\n",
      "/users/hussein/source/apple_classification/appleVer/lib/python3.8/site-packages/sklearn/metrics/_classification.py:1318: UndefinedMetricWarning: Precision is ill-defined and being set to 0.0 due to no predicted samples. Use `zero_division` parameter to control this behavior.\n",
      "  _warn_prf(average, modifier, msg_start, len(result))\n",
      "/users/hussein/source/apple_classification/appleVer/lib/python3.8/site-packages/sklearn/metrics/_classification.py:1318: UndefinedMetricWarning: Precision is ill-defined and being set to 0.0 due to no predicted samples. Use `zero_division` parameter to control this behavior.\n",
      "  _warn_prf(average, modifier, msg_start, len(result))\n",
      "/users/hussein/source/apple_classification/appleVer/lib/python3.8/site-packages/sklearn/metrics/_classification.py:1318: UndefinedMetricWarning: Precision is ill-defined and being set to 0.0 due to no predicted samples. Use `zero_division` parameter to control this behavior.\n",
      "  _warn_prf(average, modifier, msg_start, len(result))\n",
      "/users/hussein/source/apple_classification/appleVer/lib/python3.8/site-packages/sklearn/metrics/_classification.py:1318: UndefinedMetricWarning: Precision is ill-defined and being set to 0.0 due to no predicted samples. Use `zero_division` parameter to control this behavior.\n",
      "  _warn_prf(average, modifier, msg_start, len(result))\n",
      "/users/hussein/source/apple_classification/appleVer/lib/python3.8/site-packages/sklearn/metrics/_classification.py:1318: UndefinedMetricWarning: Precision is ill-defined and being set to 0.0 due to no predicted samples. Use `zero_division` parameter to control this behavior.\n",
      "  _warn_prf(average, modifier, msg_start, len(result))\n",
      "/users/hussein/source/apple_classification/appleVer/lib/python3.8/site-packages/sklearn/metrics/_classification.py:1318: UndefinedMetricWarning: Precision is ill-defined and being set to 0.0 due to no predicted samples. Use `zero_division` parameter to control this behavior.\n",
      "  _warn_prf(average, modifier, msg_start, len(result))\n",
      "/users/hussein/source/apple_classification/appleVer/lib/python3.8/site-packages/sklearn/metrics/_classification.py:1318: UndefinedMetricWarning: Precision is ill-defined and being set to 0.0 due to no predicted samples. Use `zero_division` parameter to control this behavior.\n",
      "  _warn_prf(average, modifier, msg_start, len(result))\n",
      "/users/hussein/source/apple_classification/appleVer/lib/python3.8/site-packages/sklearn/metrics/_classification.py:1318: UndefinedMetricWarning: Precision is ill-defined and being set to 0.0 due to no predicted samples. Use `zero_division` parameter to control this behavior.\n",
      "  _warn_prf(average, modifier, msg_start, len(result))\n",
      "/users/hussein/source/apple_classification/appleVer/lib/python3.8/site-packages/sklearn/metrics/_classification.py:1318: UndefinedMetricWarning: Precision is ill-defined and being set to 0.0 due to no predicted samples. Use `zero_division` parameter to control this behavior.\n",
      "  _warn_prf(average, modifier, msg_start, len(result))\n",
      "/users/hussein/source/apple_classification/appleVer/lib/python3.8/site-packages/sklearn/metrics/_classification.py:1318: UndefinedMetricWarning: Precision is ill-defined and being set to 0.0 due to no predicted samples. Use `zero_division` parameter to control this behavior.\n",
      "  _warn_prf(average, modifier, msg_start, len(result))\n",
      "/users/hussein/source/apple_classification/appleVer/lib/python3.8/site-packages/sklearn/metrics/_classification.py:1318: UndefinedMetricWarning: Precision is ill-defined and being set to 0.0 due to no predicted samples. Use `zero_division` parameter to control this behavior.\n",
      "  _warn_prf(average, modifier, msg_start, len(result))\n",
      "/users/hussein/source/apple_classification/appleVer/lib/python3.8/site-packages/sklearn/metrics/_classification.py:1318: UndefinedMetricWarning: Precision is ill-defined and being set to 0.0 due to no predicted samples. Use `zero_division` parameter to control this behavior.\n",
      "  _warn_prf(average, modifier, msg_start, len(result))\n"
     ]
    },
    {
     "name": "stdout",
     "output_type": "stream",
     "text": [
      "4\n",
      "Index([1950.821, 1161.057, 838.5, 847.823], dtype='object')\n",
      "<class 'pandas.core.frame.DataFrame'>\n",
      "6\n",
      "Index([852.562, 1143.14, 1950.821, 1161.057, 838.5, 847.823], dtype='object')\n",
      "<class 'pandas.core.frame.DataFrame'>\n",
      "8\n",
      "Index([866.524, 1021.529, 852.562, 1143.14, 1950.821, 1161.057, 838.5,\n",
      "       847.823],\n",
      "      dtype='object')\n",
      "<class 'pandas.core.frame.DataFrame'>\n",
      "10\n",
      "Index([1940.599,  845.886,  866.524, 1021.529,  852.562,  1143.14, 1950.821,\n",
      "       1161.057,    838.5,  847.823],\n",
      "      dtype='object')\n",
      "<class 'pandas.core.frame.DataFrame'>\n",
      "20\n",
      "Index([1021.932,  836.606,  844.784,  855.375,  862.202,  849.489,  835.796,\n",
      "         968.85,  833.915, 1968.596, 1940.599,  845.886,  866.524, 1021.529,\n",
      "        852.562,  1143.14, 1950.821, 1161.057,    838.5,  847.823],\n",
      "      dtype='object')\n",
      "<class 'pandas.core.frame.DataFrame'>\n",
      "50\n",
      "Index([ 852.282, 1891.058,  871.183, 1128.707,  853.123,  836.875,   842.04,\n",
      "        854.247, 1147.694, 1354.567,  965.243, 1906.353,  863.638,  838.229,\n",
      "        952.476,  876.484, 2497.727,  848.655,  862.776, 1962.635,  833.647,\n",
      "       1917.633, 1001.406,  987.296, 2052.764,  865.079,  874.121, 1148.711,\n",
      "         989.18, 1911.977, 1021.932,  836.606,  844.784,  855.375,  862.202,\n",
      "        849.489,  835.796,   968.85,  833.915, 1968.596, 1940.599,  845.886,\n",
      "        866.524, 1021.529,  852.562,  1143.14, 1950.821, 1161.057,    838.5,\n",
      "        847.823],\n",
      "      dtype='object')\n",
      "<class 'pandas.core.frame.DataFrame'>\n",
      "2\n",
      "Index([838.5, 847.823], dtype='object')\n",
      "<class 'pandas.core.frame.DataFrame'>\n",
      "4\n",
      "Index([1950.821, 1161.057, 838.5, 847.823], dtype='object')\n",
      "<class 'pandas.core.frame.DataFrame'>\n",
      "6\n",
      "Index([852.562, 1143.14, 1950.821, 1161.057, 838.5, 847.823], dtype='object')\n",
      "<class 'pandas.core.frame.DataFrame'>\n",
      "8\n",
      "Index([866.524, 1021.529, 852.562, 1143.14, 1950.821, 1161.057, 838.5,\n",
      "       847.823],\n",
      "      dtype='object')\n",
      "<class 'pandas.core.frame.DataFrame'>\n",
      "10\n",
      "Index([1940.599,  845.886,  866.524, 1021.529,  852.562,  1143.14, 1950.821,\n",
      "       1161.057,    838.5,  847.823],\n",
      "      dtype='object')\n",
      "<class 'pandas.core.frame.DataFrame'>\n",
      "20\n",
      "Index([1021.932,  836.606,  844.784,  855.375,  862.202,  849.489,  835.796,\n",
      "         968.85,  833.915, 1968.596, 1940.599,  845.886,  866.524, 1021.529,\n",
      "        852.562,  1143.14, 1950.821, 1161.057,    838.5,  847.823],\n",
      "      dtype='object')\n",
      "<class 'pandas.core.frame.DataFrame'>\n",
      "50\n",
      "Index([ 852.282, 1891.058,  871.183, 1128.707,  853.123,  836.875,   842.04,\n",
      "        854.247, 1147.694, 1354.567,  965.243, 1906.353,  863.638,  838.229,\n",
      "        952.476,  876.484, 2497.727,  848.655,  862.776, 1962.635,  833.647,\n",
      "       1917.633, 1001.406,  987.296, 2052.764,  865.079,  874.121, 1148.711,\n",
      "         989.18, 1911.977, 1021.932,  836.606,  844.784,  855.375,  862.202,\n",
      "        849.489,  835.796,   968.85,  833.915, 1968.596, 1940.599,  845.886,\n",
      "        866.524, 1021.529,  852.562,  1143.14, 1950.821, 1161.057,    838.5,\n",
      "        847.823],\n",
      "      dtype='object')\n",
      "<class 'pandas.core.frame.DataFrame'>\n",
      "2\n",
      "Index([838.5, 847.823], dtype='object')\n",
      "<class 'pandas.core.frame.DataFrame'>\n",
      "4\n",
      "Index([1950.821, 1161.057, 838.5, 847.823], dtype='object')\n",
      "<class 'pandas.core.frame.DataFrame'>\n"
     ]
    }
   ],
   "source": [
    "num_ml_tools = len(par)\n",
    "ml_dicts = {}\n",
    "\n",
    "for m, par in zip(models, par):\n",
    "    key0 = str(m[1])\n",
    "    ml_dicts[key0] = {}\n",
    "    for f in number_features:\n",
    "        print(f)\n",
    "        print(cols_ordered[-f:])\n",
    "        print(type(Xtrain))\n",
    "        xtr =  Xtrain[cols_ordered[-f:]]\n",
    "        xte =  Xtest[cols_ordered[-f:]]\n",
    "        results = get_accuracy_ml (m[0], m[2], par, np.array(xtr), np.array(Ytrain), np.array(xte), np.array(Ytest)) # to get the accuracies for the ml model\n",
    "\n",
    "        key = str(m[1])+\",\"+str((f))\n",
    "        ml_dicts[key0][key] = {}\n",
    "\n",
    "        ml_dicts[key0][key]['tot_acc'] = results[0]\n",
    "        ml_dicts[key0][key]['jack_train'] = results[1]\n",
    "        ml_dicts[key0][key]['jack_test'] = results[2]"
   ]
  },
  {
   "cell_type": "code",
   "execution_count": null,
   "id": "3ba162e7-96f2-43b9-ba82-7d9614624673",
   "metadata": {},
   "outputs": [],
   "source": [
    "import json"
   ]
  },
  {
   "cell_type": "code",
   "execution_count": null,
   "id": "dfed86ab-ac1b-4227-9445-36b264c96608",
   "metadata": {},
   "outputs": [],
   "source": [
    "with open('ml_gs.txt', 'w') as file:\n",
    "     file.write(json.dumps(ml_dicts)) # use `json.loads` to do the reverse"
   ]
  },
  {
   "cell_type": "code",
   "execution_count": null,
   "id": "04c00b92-51d6-4437-aa9a-46faa270cd5a",
   "metadata": {},
   "outputs": [],
   "source": [
    "print(1)"
   ]
  },
  {
   "cell_type": "code",
   "execution_count": null,
   "id": "9e8c161c-1214-4433-921e-f2f74dbad85b",
   "metadata": {},
   "outputs": [],
   "source": []
  },
  {
   "cell_type": "code",
   "execution_count": null,
   "id": "fb91b255-ce8c-42d3-8ba7-8925db357a2b",
   "metadata": {},
   "outputs": [],
   "source": []
  }
 ],
 "metadata": {
  "kernelspec": {
   "display_name": "apple_kernel",
   "language": "python",
   "name": "apple_kernel"
  },
  "language_info": {
   "codemirror_mode": {
    "name": "ipython",
    "version": 3
   },
   "file_extension": ".py",
   "mimetype": "text/x-python",
   "name": "python",
   "nbconvert_exporter": "python",
   "pygments_lexer": "ipython3",
   "version": "3.8.10"
  }
 },
 "nbformat": 4,
 "nbformat_minor": 5
}
