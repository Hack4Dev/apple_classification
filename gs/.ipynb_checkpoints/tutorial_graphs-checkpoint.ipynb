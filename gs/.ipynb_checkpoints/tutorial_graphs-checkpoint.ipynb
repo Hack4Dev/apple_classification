{
 "cells": [
  {
   "cell_type": "markdown",
   "id": "6f893407-c45b-4a97-8906-702e72754885",
   "metadata": {},
   "source": [
    "# Tutorial: graphs"
   ]
  },
  {
   "cell_type": "markdown",
   "id": "7f7f0a3d-c257-43a6-84d1-643324886063",
   "metadata": {},
   "source": [
    "---"
   ]
  },
  {
   "cell_type": "code",
   "execution_count": 1,
   "id": "1ba5b328-7469-449d-b8ee-2360db0432f4",
   "metadata": {},
   "outputs": [],
   "source": [
    "import numpy as np\n",
    "from sklearn.linear_model import LogisticRegression\n",
    "# Python packages \n",
    "import pandas as pd # for importing data into data frame format\n",
    "import seaborn as sns # For drawing useful graphs, such as bar graphs\n",
    "import matplotlib.pyplot as plt"
   ]
  },
  {
   "cell_type": "code",
   "execution_count": 2,
   "id": "1eef33ad-651e-48f9-9d39-eef368607c46",
   "metadata": {},
   "outputs": [],
   "source": [
    "lr = LogisticRegression()\n",
    "models = [[lr, 'lr', 14]]"
   ]
  },
  {
   "cell_type": "code",
   "execution_count": 3,
   "id": "eaaae12b-34bf-46f6-8a5a-9884c196363a",
   "metadata": {},
   "outputs": [],
   "source": [
    "import json"
   ]
  },
  {
   "cell_type": "code",
   "execution_count": 4,
   "id": "02c4f2c1-a7cc-457e-9034-bc84d1ec8521",
   "metadata": {
    "tags": []
   },
   "outputs": [],
   "source": [
    "with open('ml_gs_fs.txt') as f:\n",
    "    data = f.read()\n",
    "    \n",
    "ml_dicts = json.loads(data)\n",
    "\n",
    "with open('ml_gs_fs6.txt') as f:\n",
    "    data = f.read()\n",
    "    \n",
    "ml_dicts6 = json.loads(data)\n",
    "\n",
    "# with open('base_gd_tr.txt') as f:\n",
    "#     data = f.read()\n",
    "    \n",
    "# baseDict = json.loads(data)\n",
    "# baseDict['lr'].keys()    "
   ]
  },
  {
   "cell_type": "code",
   "execution_count": 5,
   "id": "3204d7e8-9217-4d45-878d-39ef9237200b",
   "metadata": {},
   "outputs": [
    {
     "name": "stdout",
     "output_type": "stream",
     "text": [
      "dict_keys(['lr,1', 'lr,2', 'lr,3', 'lr,4', 'lr,5', 'lr,6', 'lr,7', 'lr,8', 'lr,9', 'lr,10', 'lr,11', 'lr,12', 'lr,13', 'lr,14', 'lr,15', 'lr,16', 'lr,17', 'lr,18', 'lr,19', 'lr,20', 'lr,21', 'lr,22', 'lr,23', 'lr,24', 'lr,25', 'lr,26', 'lr,27', 'lr,28', 'lr,29', 'lr,30', 'lr,31', 'lr,32', 'lr,33', 'lr,34', 'lr,35', 'lr,36', 'lr,37', 'lr,38', 'lr,39', 'lr,40', 'lr,41', 'lr,42', 'lr,43', 'lr,44', 'lr,45', 'lr,46', 'lr,47', 'lr,48', 'lr,49', 'lr,50'])\n",
      "\n",
      "dict_keys(['lr,1', 'lr,2', 'lr,3', 'lr,4', 'lr,5', 'lr,6', 'lr,7', 'lr,8', 'lr,9', 'lr,10', 'lr,11', 'lr,12', 'lr,13', 'lr,14', 'lr,15', 'lr,16', 'lr,17', 'lr,18', 'lr,19', 'lr,20', 'lr,21', 'lr,22', 'lr,23', 'lr,24', 'lr,25', 'lr,26', 'lr,27', 'lr,28', 'lr,29', 'lr,30', 'lr,31', 'lr,32', 'lr,33', 'lr,34', 'lr,35', 'lr,36', 'lr,37', 'lr,38', 'lr,39', 'lr,40', 'lr,41', 'lr,42', 'lr,43', 'lr,44', 'lr,45', 'lr,46', 'lr,47', 'lr,48', 'lr,49', 'lr,50'])\n"
     ]
    }
   ],
   "source": [
    "# print(baseDict['lr'].keys()    )\n",
    "print(ml_dicts['lr'].keys()    )\n",
    "print()\n",
    "print(ml_dicts6['lr'].keys()    )"
   ]
  },
  {
   "cell_type": "code",
   "execution_count": 6,
   "id": "5dd5f1be-96e6-4d5f-b781-db4b02f11952",
   "metadata": {},
   "outputs": [],
   "source": [
    "from source.calculate_jack import jack_SD # importing the baseline code from source.basline file"
   ]
  },
  {
   "cell_type": "code",
   "execution_count": 7,
   "id": "e38e5fcd-f6a0-42de-a8b4-891ead0c9bcf",
   "metadata": {},
   "outputs": [],
   "source": [
    "def acc (ml_dicts, models):\n",
    "    arr_all = []\n",
    "    for m, d in zip (models, ml_dicts.keys()):\n",
    "        acc_arr = [] \n",
    "        sd_arr = [] \n",
    "\n",
    "        # print(ml_dicts[d])\n",
    "        for key in ml_dicts[d].keys():\n",
    "            acc_arr.append(ml_dicts[d][key][ 'tot_acc' ]) # append total accuracy to an array\n",
    "            sd_train = jack_SD(np.zeros( len(ml_dicts[d][key][ 'jack_train' ]) ), ml_dicts[d][key][ 'jack_train' ])[0]\n",
    "            sd_test = jack_SD(np.zeros( len(ml_dicts[d][key][ 'jack_test' ]) ), ml_dicts[d][key][ 'jack_test' ])[0]\n",
    "            sd = np.sqrt( np.array((sd_train**2)) + np.array((sd_test**2)))\n",
    "            sd_arr.append(sd) # append sd_arr to an array\n",
    "        arr_all.append([ list(ml_dicts[d].keys()), acc_arr, sd_arr])    \n",
    "    return  arr_all   "
   ]
  },
  {
   "cell_type": "code",
   "execution_count": 8,
   "id": "310a7efa-6396-45dc-b7c9-ef39a979e0cb",
   "metadata": {},
   "outputs": [],
   "source": [
    "arr_all = acc(ml_dicts, models)\n",
    "arr_all6 = acc(ml_dicts6, models)"
   ]
  },
  {
   "cell_type": "code",
   "execution_count": 9,
   "id": "3a7176c1-28fe-4a62-96e8-4a7926bbb7bf",
   "metadata": {},
   "outputs": [
    {
     "name": "stdout",
     "output_type": "stream",
     "text": [
      "[0.49746192893401014, 0.6775956284153005, 0.6775956284153005, 0.6793478260869565, 0.6810810810810811, 0.807909604519774, 0.807909604519774, 0.807909604519774, 0.807909604519774, 0.8089887640449438, 0.8089887640449438, 0.8135593220338984, 0.8089887640449438, 0.8089887640449438, 0.8114285714285714, 0.8135593220338984, 0.8135593220338984, 0.8135593220338984, 0.8135593220338984, 0.8146067415730337, 0.8238636363636364, 0.8171428571428572, 0.8218390804597702, 0.8218390804597702, 0.8342857142857143, 0.8342857142857143, 0.8342857142857143, 0.8342857142857143, 0.8342857142857143, 0.8342857142857143, 0.8390804597701149, 0.8390804597701149, 0.8497109826589595, 0.8333333333333334, 0.8333333333333334, 0.8333333333333334, 0.8390804597701149, 0.8342857142857143, 0.8342857142857143, 0.8342857142857143, 0.8342857142857143, 0.838150289017341, 0.838150289017341, 0.838150289017341, 0.838150289017341, 0.838150289017341, 0.8333333333333334, 0.8285714285714286, 0.8285714285714286, 0.8285714285714286]\n",
      "[0.5418994413407822, 0.5878787878787879, 0.7071823204419889, 0.7955801104972375, 0.8100558659217877, 0.8146067415730337, 0.8287292817679558, 0.8388888888888889, 0.848314606741573, 0.8444444444444444, 0.8397790055248618, 0.8397790055248618, 0.85, 0.8453038674033149, 0.8444444444444444, 0.8444444444444444, 0.8547486033519553, 0.85, 0.8555555555555555, 0.8555555555555555, 0.8595505617977528, 0.8547486033519553, 0.8595505617977528, 0.8595505617977528, 0.8693181818181818, 0.8636363636363636, 0.8636363636363636, 0.8674033149171271, 0.8722222222222222, 0.8674033149171271, 0.8626373626373627, 0.8626373626373627, 0.8626373626373627, 0.8659217877094972, 0.8707865168539326, 0.8707865168539326, 0.8764044943820225, 0.8715083798882681, 0.8764044943820225, 0.8707865168539326, 0.8707865168539326, 0.8700564971751412, 0.8700564971751412, 0.8700564971751412, 0.8611111111111112, 0.8659217877094972, 0.8659217877094972, 0.8659217877094972, 0.8659217877094972, 0.861878453038674]\n"
     ]
    }
   ],
   "source": [
    "# base: \n",
    "print(arr_all[0][1])\n",
    "print(arr_all6[0][1])\n",
    "\n"
   ]
  },
  {
   "cell_type": "code",
   "execution_count": 10,
   "id": "55a1daa9-9415-4b03-b738-09e74f7196e5",
   "metadata": {},
   "outputs": [
    {
     "name": "stdout",
     "output_type": "stream",
     "text": [
      "[0.         0.06122449 0.12244898 0.18367347 0.24489796 0.30612245\n",
      " 0.36734694 0.42857143 0.48979592 0.55102041 0.6122449  0.67346939\n",
      " 0.73469388 0.79591837 0.85714286 0.91836735 0.97959184 1.04081633\n",
      " 1.10204082 1.16326531 1.2244898  1.28571429 1.34693878 1.40816327\n",
      " 1.46938776 1.53061224 1.59183673 1.65306122 1.71428571 1.7755102\n",
      " 1.83673469 1.89795918 1.95918367 2.02040816 2.08163265 2.14285714\n",
      " 2.20408163 2.26530612 2.32653061 2.3877551  2.44897959 2.51020408\n",
      " 2.57142857 2.63265306 2.69387755 2.75510204 2.81632653 2.87755102\n",
      " 2.93877551 3.        ]\n",
      "[0.         0.06122449 0.12244898 0.18367347 0.24489796 0.30612245\n",
      " 0.36734694 0.42857143 0.48979592 0.55102041 0.6122449  0.67346939\n",
      " 0.73469388 0.79591837 0.85714286 0.91836735 0.97959184 1.04081633\n",
      " 1.10204082 1.16326531 1.2244898  1.28571429 1.34693878 1.40816327\n",
      " 1.46938776 1.53061224 1.59183673 1.65306122 1.71428571 1.7755102\n",
      " 1.83673469 1.89795918 1.95918367 2.02040816 2.08163265 2.14285714\n",
      " 2.20408163 2.26530612 2.32653061 2.3877551  2.44897959 2.51020408\n",
      " 2.57142857 2.63265306 2.69387755 2.75510204 2.81632653 2.87755102\n",
      " 2.93877551 3.        ]\n"
     ]
    },
    {
     "data": {
      "image/png": "[encoded data removed]",
      "text/plain": [
       "<Figure size 1080x504 with 1 Axes>"
      ]
     },
     "metadata": {
      "needs_background": "light"
     },
     "output_type": "display_data"
    }
   ],
   "source": [
    "colors = ['blue', 'purple', 'green', 'orange', 'red', 'brown']\n",
    "plt.figure(figsize=(15, 7))\n",
    "plt.title( \"Precision  for the first 50 features with the SD on the training data, where the selection happened on all features\", fontweight ='bold', fontsize =12)\n",
    "plt.xlabel(\"Features\", fontweight ='bold', fontsize =12)\n",
    "plt.ylabel(\"Precision\", fontweight ='bold', fontsize =12)\n",
    "\n",
    "count = 0\n",
    "n = len(colors)-1\n",
    "\n",
    "space = []\n",
    "tickFeat = []\n",
    "\n",
    "for result, model, color in zip(arr_all, models, colors):\n",
    "    a = np.linspace(n*count, n*(1+count)-2,50)\n",
    "    print(a)\n",
    "    space.extend(a)\n",
    "    tickFeat.extend(result[0])\n",
    "    plt.errorbar( a, result[1], result[2], fmt='o', label =model[1]+\"-RFE\", color = 'blue')\n",
    "    count += 1\n",
    "count = 0\n",
    "    \n",
    "for result, model, color in zip(arr_all6, models, colors):\n",
    "    a = np.linspace(n*count, n*(1+count)-2,50)\n",
    "    print(a)\n",
    "    space.extend(a)\n",
    "    tickFeat.extend(result[0])\n",
    "    plt.errorbar( a, result[1], result[2], fmt='o', label =model[1]+\"-SFS\", color = 'red')\n",
    "    count += 1\n",
    "\n",
    "plt.plot(np.array(space),[0.9187]*100, color = 'Black')        \n",
    "plt.xticks(space, tickFeat, rotation = 'vertical',  fontsize =12)\n",
    "plt.ylim(.2, 1)\n",
    "plt.legend()\n",
    "\n",
    "plt.show()"
   ]
  },
  {
   "cell_type": "code",
   "execution_count": 11,
   "id": "b63f2c60-45b1-4c9b-8520-93086ab1b86a",
   "metadata": {},
   "outputs": [],
   "source": [
    "# arr_diff_all = []\n",
    "\n",
    "# for m, m_key in zip (models, ml_dicts.keys()):\n",
    "#     acc_diff_arr = [] \n",
    "#     sd_diff_arr = [] \n",
    "#     for f_key in ml_dicts[m_key].keys():\n",
    "#         value = f_key.split(',')\n",
    "#         acc_diff_arr.append( ml_dicts[m_key][f_key][ 'tot_acc' ] - baseDict['lr']['lr, all'][ 'tot_acc' ]  )\n",
    "\n",
    "#         sd_train = jack_SD( baseDict['lr']['lr, all'][ 'jack_train' ], ml_dicts[m_key][f_key]['jack_train'] )[0]\n",
    "#         sd_test = jack_SD(  baseDict['lr']['lr, all'][ 'jack_test' ],  ml_dicts[m_key][f_key]['jack_test']   )[0]\n",
    "\n",
    "#         sd = np.sqrt( np.array((sd_train**2)) + np.array((sd_test**2)))\n",
    "#         sd_diff_arr.append(sd) # append sd_arr to an array\n",
    "#     arr_diff_all.append([ list(ml_dicts[m_key].keys()), acc_diff_arr, sd_diff_arr]) "
   ]
  },
  {
   "cell_type": "code",
   "execution_count": 12,
   "id": "9444c457-e05f-46b6-8937-6cffae594cdb",
   "metadata": {},
   "outputs": [],
   "source": [
    "# colors = ['blue', 'purple', 'green', 'orange', 'red', 'brown']\n",
    "# plt.figure(figsize=(15, 7))\n",
    "# plt.title( \"Precision  differences for ML methods versus LR_all for feature setsD\", fontweight ='bold', fontsize =12)\n",
    "# plt.xlabel(\"Features\", fontweight ='bold', fontsize =12)\n",
    "# plt.ylabel(\"Precision  difference\", fontweight ='bold', fontsize =12)\n",
    "\n",
    "# count = 0\n",
    "# n = len(colors)-0.5\n",
    "# space = []\n",
    "# tickFeat = []\n",
    "\n",
    "# for result, model, color in zip(arr_diff_all, models, colors):\n",
    "#     a = np.linspace(n*count, n*(1+count)-2,50)\n",
    "#     space.extend(a)\n",
    "#     tickFeat.extend(result[0])\n",
    "#     # plt.errorbar( a, result[1], result[2], fmt='o', label =model[1], color = color)\n",
    "#     plt.errorbar( a, result[1], np.zeros(len(result[2])), fmt='o', label =model[1], color = color)\n",
    "    \n",
    "#     count += 1\n",
    "    \n",
    "# plt.plot(np.array(space), np.zeros(50*1), color = 'Black')        \n",
    "# plt.xticks(space, tickFeat, rotation = 'vertical',  fontsize =12)\n",
    "# plt.ylim(-.5, 1)\n",
    "# plt.legend()\n",
    "\n",
    "# plt.show()"
   ]
  },
  {
   "cell_type": "code",
   "execution_count": 13,
   "id": "85deea14-a57f-43ab-ab70-ffb99c0dec0d",
   "metadata": {},
   "outputs": [],
   "source": [
    "\n",
    "imp_freq = [1309.415, 894.322, 894.014, 1310.076, 1310.738, 1500.371, 1308.754, 894.631, 1308.093, 895.867, 1307.433, 1503.852, 896.177, 1306.774, 1304.801, 896.487, 1306.116, 900.535, 1311.401, 1501.239, 1312.065, 905.884, 1312.729, 1499.503, 2480.996, 1507.349, 1305.458, 898.351, 1304.145, 906.201, 1508.226, 1303.49, 907.47, 1302.834, 1302.18, 1506.473, 905.567, 1301.526, 900.222, 1313.394, 1502.98, 2495.323, 1299.569, 898.662, 1504.725, 1300.221, 907.787, 1300.873, 1298.918, 1505.598]\n",
    "imp_freq6 = [2473.894, 1356.693, 872.355, 1411.345, 1292.443, 1150.24, 1505.598, 889.719, 1870.592, 2500.136, 1180.62, 883.052, 1201.409, 2432.121, 2436.692, 1391.648, 1029.643, 2387.33, 1321.427, 1846.61, 2455.152, 2438.985, 2409.517, 2396.155, 1124.302, 2459.811, 1125.278, 2414.004, 2400.593, 1115.594, 2372.041, 2389.531, 2398.373, 1015.527, 1851.886, 2402.818, 2407.28, 2405.047, 2434.404, 2469.182, 1128.216, 1853.21, 1126.745, 1016.323, 2425.295, 2416.254, 2391.735, 2418.508, 2429.841, 2423.029]"
   ]
  },
  {
   "cell_type": "code",
   "execution_count": 15,
   "id": "4cd84146-d045-4b40-8c09-ea75cfff975e",
   "metadata": {},
   "outputs": [
    {
     "name": "stdout",
     "output_type": "stream",
     "text": [
      "5\n",
      "[1309.415, 894.322, 894.014, 1310.076, 1310.738, 1500.371, 1308.754, 894.631, 1308.093, 895.867]\n",
      "4\n",
      "[1307.433, 1503.852, 896.177, 1306.774, 1304.801, 896.487, 1306.116, 900.535, 1311.401, 1501.239]\n",
      "3\n",
      "[1312.065, 905.884, 1312.729, 1499.503, 2480.996, 1507.349, 1305.458, 898.351, 1304.145, 906.201]\n",
      "2\n",
      "[1508.226, 1303.49, 907.47, 1302.834, 1302.18, 1506.473, 905.567, 1301.526, 900.222, 1313.394]\n",
      "1\n",
      "[1502.98, 2495.323, 1299.569, 898.662, 1504.725, 1300.221, 907.787, 1300.873, 1298.918, 1505.598]\n"
     ]
    },
    {
     "data": {
      "image/png": "[encoded data removed]",
      "text/plain": [
       "<Figure size 1080x504 with 1 Axes>"
      ]
     },
     "metadata": {
      "needs_background": "light"
     },
     "output_type": "display_data"
    }
   ],
   "source": [
    "plt.rcParams[\"figure.figsize\"] = (15,7)# 'xtick.labelsize', 'ytick.labelsize'\n",
    "plt.title( \"The location of the best 50 features using both methods SFS, RFE reduced on all features\", fontweight ='bold', fontsize =12)\n",
    "# plt.xlabel(\"Features\", fontweight ='bold', fontsize =12)\n",
    "# plt.ylabel(\"Precision\", fontweight ='bold', fontsize =12)\n",
    "\n",
    "arrr= [0, 10, 20, 30, 40, 50]\n",
    "colrs = ['red', 'blue', 'green', 'yellow']\n",
    "for i in range (5):\n",
    "    print((5-i))\n",
    "    print(imp_freq[arrr[i]:arrr[i+1]])\n",
    "    \n",
    "    if i  == 0:\n",
    "        plt.vlines(x = imp_freq[arrr[i]:arrr[i+1]], ymin = 0, ymax = np.zeros(10)+(5-i), colors = 'blue', label =\"RFE\")\n",
    "        plt.vlines(x = imp_freq6[arrr[i]:arrr[i+1]], ymin = 0, ymax = np.zeros(10)+(5-i), colors = 'red', label =\"SFS\")\n",
    "    else:\n",
    "        plt.vlines(x = imp_freq[arrr[i]:arrr[i+1]], ymin = 0, ymax = np.zeros(10)+(5-i), colors = 'blue')\n",
    "        plt.vlines(x = imp_freq6[arrr[i]:arrr[i+1]], ymin = 0, ymax = np.zeros(10)+(5-i), colors = 'red')\n",
    "     \n",
    "\n",
    "plt.legend()    \n",
    "plt.show()"
   ]
  },
  {
   "cell_type": "code",
   "execution_count": null,
   "id": "9561150a-4aac-4e8c-bece-3d74a4e2bb57",
   "metadata": {},
   "outputs": [],
   "source": []
  },
  {
   "cell_type": "code",
   "execution_count": null,
   "id": "bb807147-d489-4399-855e-7bfa59de8132",
   "metadata": {},
   "outputs": [],
   "source": []
  }
 ],
 "metadata": {
  "kernelspec": {
   "display_name": "apple_kernel",
   "language": "python",
   "name": "apple_kernel"
  },
  "language_info": {
   "codemirror_mode": {
    "name": "ipython",
    "version": 3
   },
   "file_extension": ".py",
   "mimetype": "text/x-python",
   "name": "python",
   "nbconvert_exporter": "python",
   "pygments_lexer": "ipython3",
   "version": "3.8.10"
  }
 },
 "nbformat": 4,
 "nbformat_minor": 5
}
