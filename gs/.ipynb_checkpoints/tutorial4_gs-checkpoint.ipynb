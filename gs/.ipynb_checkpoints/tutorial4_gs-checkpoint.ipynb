{
 "cells": [
  {
   "cell_type": "markdown",
   "id": "6f893407-c45b-4a97-8906-702e72754885",
   "metadata": {},
   "source": [
    "# Tutorial 4: ML on the best [2~200] features"
   ]
  },
  {
   "cell_type": "markdown",
   "id": "7f7f0a3d-c257-43a6-84d1-643324886063",
   "metadata": {},
   "source": [
    "---"
   ]
  },
  {
   "cell_type": "markdown",
   "id": "76a661a3-77c9-4e5c-ba18-72f455a25c91",
   "metadata": {},
   "source": [
    "### Introduction"
   ]
  },
  {
   "cell_type": "markdown",
   "id": "c21305f5-293e-4bbe-bfd8-ec8d01787f48",
   "metadata": {},
   "source": [
    "Hello, this notebook will show how to use machine learning (ML) to classify apples using the best [2, .. , 50] wavelength. The notebook will show how to visualize the final accuracy and their relative performance in two different graphs."
   ]
  },
  {
   "cell_type": "markdown",
   "id": "45456717-90bf-44c1-be0b-f2ad9314737f",
   "metadata": {},
   "source": [
    "first, let us call the data"
   ]
  },
  {
   "cell_type": "code",
   "execution_count": 1,
   "id": "fbec0b60-3e98-432e-9de6-fb444ce4c70c",
   "metadata": {},
   "outputs": [],
   "source": [
    "%store -r df_input_GS\n",
    "%store -r y_GS\n",
    "%store -r df_GS"
   ]
  },
  {
   "cell_type": "code",
   "execution_count": 2,
   "id": "cc2bd9ee-bb2c-453d-97fb-7104a64d8120",
   "metadata": {},
   "outputs": [],
   "source": [
    "y_GS = y_GS.map({'S': 1, 'B': 0})"
   ]
  },
  {
   "cell_type": "markdown",
   "id": "4a963998-c26e-40b6-bbfc-d5c1110dd9bf",
   "metadata": {},
   "source": [
    "---"
   ]
  },
  {
   "cell_type": "markdown",
   "id": "eea3bba6-fa62-43bf-a543-fb088617b9cf",
   "metadata": {},
   "source": [
    "calling some packages"
   ]
  },
  {
   "cell_type": "code",
   "execution_count": 3,
   "id": "4be29664-f490-4ef1-a263-7fcaaa093c34",
   "metadata": {},
   "outputs": [],
   "source": [
    "# Python packages \n",
    "import pandas as pd # for importing data into data frame format\n",
    "import seaborn as sns # For drawing useful graphs, such as bar graphs\n",
    "import numpy as np\n",
    "import matplotlib.pyplot as plt"
   ]
  },
  {
   "cell_type": "markdown",
   "id": "e08c43a3-5668-4360-92fb-7d28a1bdb3a0",
   "metadata": {},
   "source": [
    "---"
   ]
  },
  {
   "cell_type": "markdown",
   "id": "785b56a0-0772-4cc2-a2f6-34a9fe598b80",
   "metadata": {},
   "source": [
    "<b><i> Data splitting </i></b> "
   ]
  },
  {
   "cell_type": "code",
   "execution_count": 4,
   "id": "24b557bd-4d21-4767-bd55-f27cfbfdd8f8",
   "metadata": {},
   "outputs": [],
   "source": [
    "from sklearn.model_selection import train_test_split\n",
    "\n",
    "Xtrain_finall, Xtest_finall, Ytrain_finall, Ytest_finall = train_test_split( df_input_GS, y_GS, test_size = 0.3, random_state=3, stratify=y_GS) # train and valid sets\n",
    "\n",
    "Xtrain, Xtest, Ytrain, Ytest = train_test_split( Xtrain_finall, Ytrain_finall, test_size = 0.3, random_state=3, stratify=Ytrain_finall) # train and valid sets"
   ]
  },
  {
   "cell_type": "code",
   "execution_count": 5,
   "id": "5acc93a2-c050-4d22-8e18-c37c179060a0",
   "metadata": {},
   "outputs": [
    {
     "name": "stdout",
     "output_type": "stream",
     "text": [
      "(246, 2074)\n",
      "(106, 2074)\n"
     ]
    }
   ],
   "source": [
    "print(Xtrain.shape)\n",
    "print(Xtest.shape)"
   ]
  },
  {
   "cell_type": "markdown",
   "id": "df8fc28e-022b-4cd0-be84-e590c7774324",
   "metadata": {},
   "source": [
    "---"
   ]
  },
  {
   "cell_type": "markdown",
   "id": "3c2c9fb6-2e96-47e3-8469-6e09beaecf49",
   "metadata": {},
   "source": [
    "<b><i> get the best N features </i></b> "
   ]
  },
  {
   "cell_type": "code",
   "execution_count": 6,
   "id": "6266887b-9436-4e2a-8171-a17156afd675",
   "metadata": {},
   "outputs": [],
   "source": [
    "%store -r featImp_GS"
   ]
  },
  {
   "cell_type": "code",
   "execution_count": 7,
   "id": "923b7f48-f1a0-417f-8627-9fac12335347",
   "metadata": {},
   "outputs": [
    {
     "name": "stdout",
     "output_type": "stream",
     "text": [
      "[1793 1775 2048   31    3 1771  544 1781   17   45]\n"
     ]
    }
   ],
   "source": [
    "arrimp = np.array(featImp_GS).mean(0)\n",
    "sorted_idx = arrimp.argsort()\n",
    "print(sorted_idx[-10:])"
   ]
  },
  {
   "cell_type": "code",
   "execution_count": 8,
   "id": "ee471b52-e1ce-4089-b174-da8dc69196fa",
   "metadata": {},
   "outputs": [
    {
     "data": {
      "text/plain": [
       "Index([2212.151, 1018.319,  884.558,  836.336, 1919.053, 1527.779, 1446.786,\n",
       "       2286.279, 1676.999,  979.834,\n",
       "       ...\n",
       "       1968.596, 1942.053, 2441.281,   842.04,  834.451, 1936.251, 1010.382,\n",
       "       1950.821,  838.229,  845.886],\n",
       "      dtype='object', length=200)"
      ]
     },
     "execution_count": 8,
     "metadata": {},
     "output_type": "execute_result"
    }
   ],
   "source": [
    "cols_ordered = df_input_GS.columns[sorted_idx][-200:]\n",
    "cols_ordered"
   ]
  },
  {
   "cell_type": "markdown",
   "id": "43148aed-4094-4725-929c-49df2386b9b6",
   "metadata": {},
   "source": [
    "---"
   ]
  },
  {
   "cell_type": "markdown",
   "id": "aad166b5-87cf-4ac7-81da-e6351514f9ef",
   "metadata": {},
   "source": [
    "<b><i> prepare diffrint feature set sizes </i></b> "
   ]
  },
  {
   "cell_type": "code",
   "execution_count": 9,
   "id": "adafede0-01db-4a8c-8e97-c169bf85b697",
   "metadata": {},
   "outputs": [],
   "source": [
    "number_features = [2, 4, 6, 8, 10, 20, 50, 100, 200] # define the number features. \n"
   ]
  },
  {
   "cell_type": "markdown",
   "id": "338b5481-cd5e-4c5c-b1cd-64a68c907b66",
   "metadata": {},
   "source": [
    "---"
   ]
  },
  {
   "cell_type": "markdown",
   "id": "f2bb8b07-4957-4f49-b6f2-f9ab27fd3e8b",
   "metadata": {},
   "source": [
    "<b><i> ML model and thier hyper-parameters </i></b> "
   ]
  },
  {
   "cell_type": "code",
   "execution_count": 10,
   "id": "ceb26d5d-a221-42a9-8a31-b7291d7363e9",
   "metadata": {},
   "outputs": [],
   "source": [
    "from sklearn.neural_network import MLPClassifier\n",
    "from sklearn.linear_model import LogisticRegression\n",
    "from sklearn.svm import SVC\n",
    "from sklearn.ensemble import RandomForestClassifier\n",
    "from sklearn.neighbors import KNeighborsClassifier\n",
    "from xgboost import XGBClassifier\n",
    "from numpy import random as np_random"
   ]
  },
  {
   "cell_type": "markdown",
   "id": "38b74cb9-6eea-4214-8cc7-20a4a8448050",
   "metadata": {},
   "source": [
    "first let us define the model\n"
   ]
  },
  {
   "cell_type": "code",
   "execution_count": 11,
   "id": "8150affb-0221-4a6b-a93c-05913bc89f08",
   "metadata": {},
   "outputs": [],
   "source": [
    "lr = LogisticRegression()\n",
    "svm = SVC(kernel=\"rbf\")\n",
    "rf = RandomForestClassifier(random_state=1)\n",
    "xgb = XGBClassifier(random_state=1)\n",
    "knns = KNeighborsClassifier()\n",
    "anns = MLPClassifier(max_iter=3000, random_state=1, activation = 'relu', solver = 'sgd')"
   ]
  },
  {
   "cell_type": "markdown",
   "id": "6d41e85a-4553-4c15-8b01-40a3d6e43d4e",
   "metadata": {},
   "source": [
    "defining the hyper-paramter per model"
   ]
  },
  {
   "cell_type": "code",
   "execution_count": 16,
   "id": "2cf9c1c3-5b7f-438a-ac88-19277d9efe3b",
   "metadata": {},
   "outputs": [],
   "source": [
    "solvers = ['newton-cg', 'liblinear']\n",
    "penalty = ['l2']\n",
    "c_values = [1000, 100, 10, 1.0, 0.1, 0.01, 0.001]\n",
    "lr_par = dict(solver=solvers,penalty=penalty,C=c_values)\n",
    "\n",
    "##############################\n",
    "C_range = np.logspace(-1, 10, 20) # define a set of values for the parameter C\n",
    "gamma_range = np.logspace(-9, 3, 20) # define a set of values for the parameter gamma\n",
    "\n",
    "svm_par = dict(gamma=gamma_range, C=C_range)\n",
    "\n",
    "#########################\n",
    "\n",
    "# Number of trees in random forest\n",
    "n_estimators = [int(x) for x in np.linspace(start = 200, stop = 2000, num = 10)]\n",
    "# Number of features to consider at every split\n",
    "max_features = ['auto', 'sqrt']\n",
    "# Maximum number of levels in tree\n",
    "max_depth = [int(x) for x in np.linspace(10, 110, num = 11)]\n",
    "max_depth.append(None)\n",
    "# Minimum number of samples required to split a node\n",
    "min_samples_split = [2, 5, 10]\n",
    "# Minimum number of samples required at each leaf node\n",
    "min_samples_leaf = [1, 2, 4]\n",
    "# Method of selecting samples for training each tree\n",
    "bootstrap = [True, False]\n",
    "# Create the random grid\n",
    "\n",
    "#max_features = ['sqrt', 'log2']\n",
    "\n",
    "rf_par = {'n_estimators': n_estimators,\n",
    "               'max_features': max_features,\n",
    "               'max_depth': max_depth,\n",
    "               'min_samples_split': min_samples_split,\n",
    "               'min_samples_leaf': min_samples_leaf,\n",
    "               'bootstrap': bootstrap}\n",
    "#######################\n",
    "# https://www.kaggle.com/code/tilii7/hyperparameter-grid-search-with-xgboost/notebook\n",
    "xgb_par = {\n",
    "        'min_child_weight': [1, 5, 10],\n",
    "        'gamma': [0.5, 1, 1.5, 2, 5, 9],\n",
    "        'subsample': [0.6, 0.8, 1.0],\n",
    "        'colsample_bytree': [0.6, 0.8, 1.0],\n",
    "        'max_depth': [3, 4, 5, 8]\n",
    "        }\n",
    "##################################\n",
    "n_neighbors = range(1, 30, 2)\n",
    "weights = ['uniform', 'distance']\n",
    "metric = ['euclidean', 'manhattan', 'minkowski']\n",
    "\n",
    "knns_par = dict(n_neighbors=n_neighbors,weights=weights,metric=metric)\n",
    "################\n",
    "anns_par = {\n",
    "    'hidden_layer_sizes': [(3,3),(5,5),(8,3)],\n",
    "#     'activation': ['relu'],\n",
    "    'solver': ['sgd', 'adam'],\n",
    "    'alpha': [0.0001, 0.001,0.01,0.1, 0.05, 0.005 , 0.005, 0.00005],\n",
    "#     'learning_rate': ['constant','adaptive'],\n",
    "}\n",
    "################"
   ]
  },
  {
   "cell_type": "markdown",
   "id": "c5b6d3f5-7684-4e7d-aa9e-2db156b1f7ae",
   "metadata": {},
   "source": [
    "group the above into two lists"
   ]
  },
  {
   "cell_type": "code",
   "execution_count": 17,
   "id": "f022d938-448a-4de5-8688-d5d626c0e959",
   "metadata": {},
   "outputs": [],
   "source": [
    "models = [[lr, 'lr', 14], [svm, 'svm', 15], [rf, 'rf', 30], [xgb, 'xgb', 30], [knns, 'knns', 30], [anns, 'anns', 30]]\n",
    "par = [lr_par, svm_par, rf_par, xgb_par, knns_par, anns_par]\n",
    "\n",
    "# models = [[lr, 'lr', 14]]\n",
    "# par = [lr_par]"
   ]
  },
  {
   "cell_type": "markdown",
   "id": "f4fb20f6-da76-40e4-a71e-f52e812126eb",
   "metadata": {},
   "source": [
    "---"
   ]
  },
  {
   "cell_type": "markdown",
   "id": "c6ca1f27-6bdc-4101-b28d-4a9206a988b7",
   "metadata": {},
   "source": [
    "<b><i> train and test </i></b> "
   ]
  },
  {
   "cell_type": "code",
   "execution_count": 18,
   "id": "f4ec3bc6-20fa-4a1a-ae67-9b68cd6e0577",
   "metadata": {},
   "outputs": [],
   "source": [
    "from source.ml_acc import get_accuracy_ml"
   ]
  },
  {
   "cell_type": "code",
   "execution_count": 19,
   "id": "fee5f7d5-8636-43ec-b23b-f20971bbdd9d",
   "metadata": {
    "tags": []
   },
   "outputs": [
    {
     "name": "stdout",
     "output_type": "stream",
     "text": [
      "2\n",
      "Index([838.229, 845.886], dtype='object')\n",
      "<class 'pandas.core.frame.DataFrame'>\n",
      "4\n",
      "Index([1010.382, 1950.821, 838.229, 845.886], dtype='object')\n",
      "<class 'pandas.core.frame.DataFrame'>\n",
      "6\n",
      "Index([834.451, 1936.251, 1010.382, 1950.821, 838.229, 845.886], dtype='object')\n",
      "<class 'pandas.core.frame.DataFrame'>\n",
      "8\n",
      "Index([2441.281, 842.04, 834.451, 1936.251, 1010.382, 1950.821, 838.229,\n",
      "       845.886],\n",
      "      dtype='object')\n",
      "<class 'pandas.core.frame.DataFrame'>\n",
      "10\n",
      "Index([1968.596, 1942.053, 2441.281,   842.04,  834.451, 1936.251, 1010.382,\n",
      "       1950.821,  838.229,  845.886],\n",
      "      dtype='object')\n",
      "<class 'pandas.core.frame.DataFrame'>\n",
      "20\n",
      "Index([  968.85,  844.508, 1959.668, 1926.182, 1521.503,  836.875,  849.768,\n",
      "        984.672,  835.796,  842.587, 1968.596, 1942.053, 2441.281,   842.04,\n",
      "        834.451, 1936.251, 1010.382, 1950.821,  838.229,  845.886],\n",
      "      dtype='object')\n",
      "<class 'pandas.core.frame.DataFrame'>\n",
      "50\n",
      "Index([2280.247, 2011.358, 1437.162,  835.258,  851.721,  840.675,  1956.71,\n",
      "       1142.636,  968.125,   841.22,  850.604, 1964.122, 1896.591,  833.647,\n",
      "        836.066, 1917.633, 1924.752, 1903.554,  836.606, 1360.966, 1953.761,\n",
      "        885.767, 1003.732,  983.551, 1913.388, 2043.058, 1946.427,  985.046,\n",
      "        874.415,  986.545,   968.85,  844.508, 1959.668, 1926.182, 1521.503,\n",
      "        836.875,  849.768,  984.672,  835.796,  842.587, 1968.596, 1942.053,\n",
      "       2441.281,   842.04,  834.451, 1936.251, 1010.382, 1950.821,  838.229,\n",
      "        845.886],\n",
      "      dtype='object')\n",
      "<class 'pandas.core.frame.DataFrame'>\n",
      "100\n",
      "Index([2155.146, 2466.832,  956.341, 1906.353,  963.807,  1897.98, 1329.559,\n",
      "        894.939, 1529.581, 1070.013, 2278.243, 1509.104,  855.375,  860.484,\n",
      "        841.493, 1015.925,  958.462,  973.213, 2302.522,  875.005,  1011.17,\n",
      "        897.418, 1427.665, 1502.109, 1021.932, 1892.438, 1000.633, 1454.089,\n",
      "        865.367,  850.046,    860.2,  857.922,  900.848,  856.505, 1430.028,\n",
      "        965.961,  876.188,  895.249, 1989.747,  864.501, 2457.479,  878.563,\n",
      "        842.861, 1920.475,  847.268, 1923.324,  968.487,   858.49, 1909.161,\n",
      "        846.162, 2280.247, 2011.358, 1437.162,  835.258,  851.721,  840.675,\n",
      "        1956.71, 1142.636,  968.125,   841.22,  850.604, 1964.122, 1896.591,\n",
      "        833.647,  836.066, 1917.633, 1924.752, 1903.554,  836.606, 1360.966,\n",
      "       1953.761,  885.767, 1003.732,  983.551, 1913.388, 2043.058, 1946.427,\n",
      "        985.046,  874.415,  986.545,   968.85,  844.508, 1959.668, 1926.182,\n",
      "       1521.503,  836.875,  849.768,  984.672,  835.796,  842.587, 1968.596,\n",
      "       1942.053, 2441.281,   842.04,  834.451, 1936.251, 1010.382, 1950.821,\n",
      "        838.229,  845.886],\n",
      "      dtype='object')\n",
      "<class 'pandas.core.frame.DataFrame'>\n",
      "200\n",
      "Index([2212.151, 1018.319,  884.558,  836.336, 1919.053, 1527.779, 1446.786,\n",
      "       2286.279, 1676.999,  979.834,\n",
      "       ...\n",
      "       1968.596, 1942.053, 2441.281,   842.04,  834.451, 1936.251, 1010.382,\n",
      "       1950.821,  838.229,  845.886],\n",
      "      dtype='object', length=200)\n",
      "<class 'pandas.core.frame.DataFrame'>\n",
      "2\n",
      "Index([838.229, 845.886], dtype='object')\n",
      "<class 'pandas.core.frame.DataFrame'>\n",
      "4\n",
      "Index([1010.382, 1950.821, 838.229, 845.886], dtype='object')\n",
      "<class 'pandas.core.frame.DataFrame'>\n",
      "6\n",
      "Index([834.451, 1936.251, 1010.382, 1950.821, 838.229, 845.886], dtype='object')\n",
      "<class 'pandas.core.frame.DataFrame'>\n",
      "8\n",
      "Index([2441.281, 842.04, 834.451, 1936.251, 1010.382, 1950.821, 838.229,\n",
      "       845.886],\n",
      "      dtype='object')\n",
      "<class 'pandas.core.frame.DataFrame'>\n",
      "10\n",
      "Index([1968.596, 1942.053, 2441.281,   842.04,  834.451, 1936.251, 1010.382,\n",
      "       1950.821,  838.229,  845.886],\n",
      "      dtype='object')\n",
      "<class 'pandas.core.frame.DataFrame'>\n",
      "20\n",
      "Index([  968.85,  844.508, 1959.668, 1926.182, 1521.503,  836.875,  849.768,\n",
      "        984.672,  835.796,  842.587, 1968.596, 1942.053, 2441.281,   842.04,\n",
      "        834.451, 1936.251, 1010.382, 1950.821,  838.229,  845.886],\n",
      "      dtype='object')\n",
      "<class 'pandas.core.frame.DataFrame'>\n",
      "50\n",
      "Index([2280.247, 2011.358, 1437.162,  835.258,  851.721,  840.675,  1956.71,\n",
      "       1142.636,  968.125,   841.22,  850.604, 1964.122, 1896.591,  833.647,\n",
      "        836.066, 1917.633, 1924.752, 1903.554,  836.606, 1360.966, 1953.761,\n",
      "        885.767, 1003.732,  983.551, 1913.388, 2043.058, 1946.427,  985.046,\n",
      "        874.415,  986.545,   968.85,  844.508, 1959.668, 1926.182, 1521.503,\n",
      "        836.875,  849.768,  984.672,  835.796,  842.587, 1968.596, 1942.053,\n",
      "       2441.281,   842.04,  834.451, 1936.251, 1010.382, 1950.821,  838.229,\n",
      "        845.886],\n",
      "      dtype='object')\n",
      "<class 'pandas.core.frame.DataFrame'>\n",
      "100\n",
      "Index([2155.146, 2466.832,  956.341, 1906.353,  963.807,  1897.98, 1329.559,\n",
      "        894.939, 1529.581, 1070.013, 2278.243, 1509.104,  855.375,  860.484,\n",
      "        841.493, 1015.925,  958.462,  973.213, 2302.522,  875.005,  1011.17,\n",
      "        897.418, 1427.665, 1502.109, 1021.932, 1892.438, 1000.633, 1454.089,\n",
      "        865.367,  850.046,    860.2,  857.922,  900.848,  856.505, 1430.028,\n",
      "        965.961,  876.188,  895.249, 1989.747,  864.501, 2457.479,  878.563,\n",
      "        842.861, 1920.475,  847.268, 1923.324,  968.487,   858.49, 1909.161,\n",
      "        846.162, 2280.247, 2011.358, 1437.162,  835.258,  851.721,  840.675,\n",
      "        1956.71, 1142.636,  968.125,   841.22,  850.604, 1964.122, 1896.591,\n",
      "        833.647,  836.066, 1917.633, 1924.752, 1903.554,  836.606, 1360.966,\n",
      "       1953.761,  885.767, 1003.732,  983.551, 1913.388, 2043.058, 1946.427,\n",
      "        985.046,  874.415,  986.545,   968.85,  844.508, 1959.668, 1926.182,\n",
      "       1521.503,  836.875,  849.768,  984.672,  835.796,  842.587, 1968.596,\n",
      "       1942.053, 2441.281,   842.04,  834.451, 1936.251, 1010.382, 1950.821,\n",
      "        838.229,  845.886],\n",
      "      dtype='object')\n",
      "<class 'pandas.core.frame.DataFrame'>\n",
      "200\n",
      "Index([2212.151, 1018.319,  884.558,  836.336, 1919.053, 1527.779, 1446.786,\n",
      "       2286.279, 1676.999,  979.834,\n",
      "       ...\n",
      "       1968.596, 1942.053, 2441.281,   842.04,  834.451, 1936.251, 1010.382,\n",
      "       1950.821,  838.229,  845.886],\n",
      "      dtype='object', length=200)\n",
      "<class 'pandas.core.frame.DataFrame'>\n",
      "2\n",
      "Index([838.229, 845.886], dtype='object')\n",
      "<class 'pandas.core.frame.DataFrame'>\n",
      "4\n",
      "Index([1010.382, 1950.821, 838.229, 845.886], dtype='object')\n",
      "<class 'pandas.core.frame.DataFrame'>\n",
      "6\n",
      "Index([834.451, 1936.251, 1010.382, 1950.821, 838.229, 845.886], dtype='object')\n",
      "<class 'pandas.core.frame.DataFrame'>\n",
      "8\n",
      "Index([2441.281, 842.04, 834.451, 1936.251, 1010.382, 1950.821, 838.229,\n",
      "       845.886],\n",
      "      dtype='object')\n",
      "<class 'pandas.core.frame.DataFrame'>\n",
      "10\n",
      "Index([1968.596, 1942.053, 2441.281,   842.04,  834.451, 1936.251, 1010.382,\n",
      "       1950.821,  838.229,  845.886],\n",
      "      dtype='object')\n",
      "<class 'pandas.core.frame.DataFrame'>\n",
      "20\n",
      "Index([  968.85,  844.508, 1959.668, 1926.182, 1521.503,  836.875,  849.768,\n",
      "        984.672,  835.796,  842.587, 1968.596, 1942.053, 2441.281,   842.04,\n",
      "        834.451, 1936.251, 1010.382, 1950.821,  838.229,  845.886],\n",
      "      dtype='object')\n",
      "<class 'pandas.core.frame.DataFrame'>\n",
      "50\n",
      "Index([2280.247, 2011.358, 1437.162,  835.258,  851.721,  840.675,  1956.71,\n",
      "       1142.636,  968.125,   841.22,  850.604, 1964.122, 1896.591,  833.647,\n",
      "        836.066, 1917.633, 1924.752, 1903.554,  836.606, 1360.966, 1953.761,\n",
      "        885.767, 1003.732,  983.551, 1913.388, 2043.058, 1946.427,  985.046,\n",
      "        874.415,  986.545,   968.85,  844.508, 1959.668, 1926.182, 1521.503,\n",
      "        836.875,  849.768,  984.672,  835.796,  842.587, 1968.596, 1942.053,\n",
      "       2441.281,   842.04,  834.451, 1936.251, 1010.382, 1950.821,  838.229,\n",
      "        845.886],\n",
      "      dtype='object')\n",
      "<class 'pandas.core.frame.DataFrame'>\n",
      "100\n",
      "Index([2155.146, 2466.832,  956.341, 1906.353,  963.807,  1897.98, 1329.559,\n",
      "        894.939, 1529.581, 1070.013, 2278.243, 1509.104,  855.375,  860.484,\n",
      "        841.493, 1015.925,  958.462,  973.213, 2302.522,  875.005,  1011.17,\n",
      "        897.418, 1427.665, 1502.109, 1021.932, 1892.438, 1000.633, 1454.089,\n",
      "        865.367,  850.046,    860.2,  857.922,  900.848,  856.505, 1430.028,\n",
      "        965.961,  876.188,  895.249, 1989.747,  864.501, 2457.479,  878.563,\n",
      "        842.861, 1920.475,  847.268, 1923.324,  968.487,   858.49, 1909.161,\n",
      "        846.162, 2280.247, 2011.358, 1437.162,  835.258,  851.721,  840.675,\n",
      "        1956.71, 1142.636,  968.125,   841.22,  850.604, 1964.122, 1896.591,\n",
      "        833.647,  836.066, 1917.633, 1924.752, 1903.554,  836.606, 1360.966,\n",
      "       1953.761,  885.767, 1003.732,  983.551, 1913.388, 2043.058, 1946.427,\n",
      "        985.046,  874.415,  986.545,   968.85,  844.508, 1959.668, 1926.182,\n",
      "       1521.503,  836.875,  849.768,  984.672,  835.796,  842.587, 1968.596,\n",
      "       1942.053, 2441.281,   842.04,  834.451, 1936.251, 1010.382, 1950.821,\n",
      "        838.229,  845.886],\n",
      "      dtype='object')\n",
      "<class 'pandas.core.frame.DataFrame'>\n",
      "200\n",
      "Index([2212.151, 1018.319,  884.558,  836.336, 1919.053, 1527.779, 1446.786,\n",
      "       2286.279, 1676.999,  979.834,\n",
      "       ...\n",
      "       1968.596, 1942.053, 2441.281,   842.04,  834.451, 1936.251, 1010.382,\n",
      "       1950.821,  838.229,  845.886],\n",
      "      dtype='object', length=200)\n",
      "<class 'pandas.core.frame.DataFrame'>\n",
      "2\n",
      "Index([838.229, 845.886], dtype='object')\n",
      "<class 'pandas.core.frame.DataFrame'>\n",
      "4\n",
      "Index([1010.382, 1950.821, 838.229, 845.886], dtype='object')\n",
      "<class 'pandas.core.frame.DataFrame'>\n",
      "6\n",
      "Index([834.451, 1936.251, 1010.382, 1950.821, 838.229, 845.886], dtype='object')\n",
      "<class 'pandas.core.frame.DataFrame'>\n",
      "8\n",
      "Index([2441.281, 842.04, 834.451, 1936.251, 1010.382, 1950.821, 838.229,\n",
      "       845.886],\n",
      "      dtype='object')\n",
      "<class 'pandas.core.frame.DataFrame'>\n",
      "10\n",
      "Index([1968.596, 1942.053, 2441.281,   842.04,  834.451, 1936.251, 1010.382,\n",
      "       1950.821,  838.229,  845.886],\n",
      "      dtype='object')\n",
      "<class 'pandas.core.frame.DataFrame'>\n",
      "20\n",
      "Index([  968.85,  844.508, 1959.668, 1926.182, 1521.503,  836.875,  849.768,\n",
      "        984.672,  835.796,  842.587, 1968.596, 1942.053, 2441.281,   842.04,\n",
      "        834.451, 1936.251, 1010.382, 1950.821,  838.229,  845.886],\n",
      "      dtype='object')\n",
      "<class 'pandas.core.frame.DataFrame'>\n",
      "50\n",
      "Index([2280.247, 2011.358, 1437.162,  835.258,  851.721,  840.675,  1956.71,\n",
      "       1142.636,  968.125,   841.22,  850.604, 1964.122, 1896.591,  833.647,\n",
      "        836.066, 1917.633, 1924.752, 1903.554,  836.606, 1360.966, 1953.761,\n",
      "        885.767, 1003.732,  983.551, 1913.388, 2043.058, 1946.427,  985.046,\n",
      "        874.415,  986.545,   968.85,  844.508, 1959.668, 1926.182, 1521.503,\n",
      "        836.875,  849.768,  984.672,  835.796,  842.587, 1968.596, 1942.053,\n",
      "       2441.281,   842.04,  834.451, 1936.251, 1010.382, 1950.821,  838.229,\n",
      "        845.886],\n",
      "      dtype='object')\n",
      "<class 'pandas.core.frame.DataFrame'>\n",
      "100\n",
      "Index([2155.146, 2466.832,  956.341, 1906.353,  963.807,  1897.98, 1329.559,\n",
      "        894.939, 1529.581, 1070.013, 2278.243, 1509.104,  855.375,  860.484,\n",
      "        841.493, 1015.925,  958.462,  973.213, 2302.522,  875.005,  1011.17,\n",
      "        897.418, 1427.665, 1502.109, 1021.932, 1892.438, 1000.633, 1454.089,\n",
      "        865.367,  850.046,    860.2,  857.922,  900.848,  856.505, 1430.028,\n",
      "        965.961,  876.188,  895.249, 1989.747,  864.501, 2457.479,  878.563,\n",
      "        842.861, 1920.475,  847.268, 1923.324,  968.487,   858.49, 1909.161,\n",
      "        846.162, 2280.247, 2011.358, 1437.162,  835.258,  851.721,  840.675,\n",
      "        1956.71, 1142.636,  968.125,   841.22,  850.604, 1964.122, 1896.591,\n",
      "        833.647,  836.066, 1917.633, 1924.752, 1903.554,  836.606, 1360.966,\n",
      "       1953.761,  885.767, 1003.732,  983.551, 1913.388, 2043.058, 1946.427,\n",
      "        985.046,  874.415,  986.545,   968.85,  844.508, 1959.668, 1926.182,\n",
      "       1521.503,  836.875,  849.768,  984.672,  835.796,  842.587, 1968.596,\n",
      "       1942.053, 2441.281,   842.04,  834.451, 1936.251, 1010.382, 1950.821,\n",
      "        838.229,  845.886],\n",
      "      dtype='object')\n",
      "<class 'pandas.core.frame.DataFrame'>\n",
      "200\n",
      "Index([2212.151, 1018.319,  884.558,  836.336, 1919.053, 1527.779, 1446.786,\n",
      "       2286.279, 1676.999,  979.834,\n",
      "       ...\n",
      "       1968.596, 1942.053, 2441.281,   842.04,  834.451, 1936.251, 1010.382,\n",
      "       1950.821,  838.229,  845.886],\n",
      "      dtype='object', length=200)\n",
      "<class 'pandas.core.frame.DataFrame'>\n",
      "2\n",
      "Index([838.229, 845.886], dtype='object')\n",
      "<class 'pandas.core.frame.DataFrame'>\n",
      "4\n",
      "Index([1010.382, 1950.821, 838.229, 845.886], dtype='object')\n",
      "<class 'pandas.core.frame.DataFrame'>\n",
      "6\n",
      "Index([834.451, 1936.251, 1010.382, 1950.821, 838.229, 845.886], dtype='object')\n",
      "<class 'pandas.core.frame.DataFrame'>\n",
      "8\n",
      "Index([2441.281, 842.04, 834.451, 1936.251, 1010.382, 1950.821, 838.229,\n",
      "       845.886],\n",
      "      dtype='object')\n",
      "<class 'pandas.core.frame.DataFrame'>\n",
      "10\n",
      "Index([1968.596, 1942.053, 2441.281,   842.04,  834.451, 1936.251, 1010.382,\n",
      "       1950.821,  838.229,  845.886],\n",
      "      dtype='object')\n",
      "<class 'pandas.core.frame.DataFrame'>\n",
      "20\n",
      "Index([  968.85,  844.508, 1959.668, 1926.182, 1521.503,  836.875,  849.768,\n",
      "        984.672,  835.796,  842.587, 1968.596, 1942.053, 2441.281,   842.04,\n",
      "        834.451, 1936.251, 1010.382, 1950.821,  838.229,  845.886],\n",
      "      dtype='object')\n",
      "<class 'pandas.core.frame.DataFrame'>\n",
      "50\n",
      "Index([2280.247, 2011.358, 1437.162,  835.258,  851.721,  840.675,  1956.71,\n",
      "       1142.636,  968.125,   841.22,  850.604, 1964.122, 1896.591,  833.647,\n",
      "        836.066, 1917.633, 1924.752, 1903.554,  836.606, 1360.966, 1953.761,\n",
      "        885.767, 1003.732,  983.551, 1913.388, 2043.058, 1946.427,  985.046,\n",
      "        874.415,  986.545,   968.85,  844.508, 1959.668, 1926.182, 1521.503,\n",
      "        836.875,  849.768,  984.672,  835.796,  842.587, 1968.596, 1942.053,\n",
      "       2441.281,   842.04,  834.451, 1936.251, 1010.382, 1950.821,  838.229,\n",
      "        845.886],\n",
      "      dtype='object')\n",
      "<class 'pandas.core.frame.DataFrame'>\n",
      "100\n",
      "Index([2155.146, 2466.832,  956.341, 1906.353,  963.807,  1897.98, 1329.559,\n",
      "        894.939, 1529.581, 1070.013, 2278.243, 1509.104,  855.375,  860.484,\n",
      "        841.493, 1015.925,  958.462,  973.213, 2302.522,  875.005,  1011.17,\n",
      "        897.418, 1427.665, 1502.109, 1021.932, 1892.438, 1000.633, 1454.089,\n",
      "        865.367,  850.046,    860.2,  857.922,  900.848,  856.505, 1430.028,\n",
      "        965.961,  876.188,  895.249, 1989.747,  864.501, 2457.479,  878.563,\n",
      "        842.861, 1920.475,  847.268, 1923.324,  968.487,   858.49, 1909.161,\n",
      "        846.162, 2280.247, 2011.358, 1437.162,  835.258,  851.721,  840.675,\n",
      "        1956.71, 1142.636,  968.125,   841.22,  850.604, 1964.122, 1896.591,\n",
      "        833.647,  836.066, 1917.633, 1924.752, 1903.554,  836.606, 1360.966,\n",
      "       1953.761,  885.767, 1003.732,  983.551, 1913.388, 2043.058, 1946.427,\n",
      "        985.046,  874.415,  986.545,   968.85,  844.508, 1959.668, 1926.182,\n",
      "       1521.503,  836.875,  849.768,  984.672,  835.796,  842.587, 1968.596,\n",
      "       1942.053, 2441.281,   842.04,  834.451, 1936.251, 1010.382, 1950.821,\n",
      "        838.229,  845.886],\n",
      "      dtype='object')\n",
      "<class 'pandas.core.frame.DataFrame'>\n",
      "200\n",
      "Index([2212.151, 1018.319,  884.558,  836.336, 1919.053, 1527.779, 1446.786,\n",
      "       2286.279, 1676.999,  979.834,\n",
      "       ...\n",
      "       1968.596, 1942.053, 2441.281,   842.04,  834.451, 1936.251, 1010.382,\n",
      "       1950.821,  838.229,  845.886],\n",
      "      dtype='object', length=200)\n",
      "<class 'pandas.core.frame.DataFrame'>\n",
      "2\n",
      "Index([838.229, 845.886], dtype='object')\n",
      "<class 'pandas.core.frame.DataFrame'>\n",
      "4\n",
      "Index([1010.382, 1950.821, 838.229, 845.886], dtype='object')\n",
      "<class 'pandas.core.frame.DataFrame'>\n",
      "6\n",
      "Index([834.451, 1936.251, 1010.382, 1950.821, 838.229, 845.886], dtype='object')\n",
      "<class 'pandas.core.frame.DataFrame'>\n",
      "8\n",
      "Index([2441.281, 842.04, 834.451, 1936.251, 1010.382, 1950.821, 838.229,\n",
      "       845.886],\n",
      "      dtype='object')\n",
      "<class 'pandas.core.frame.DataFrame'>\n",
      "10\n",
      "Index([1968.596, 1942.053, 2441.281,   842.04,  834.451, 1936.251, 1010.382,\n",
      "       1950.821,  838.229,  845.886],\n",
      "      dtype='object')\n",
      "<class 'pandas.core.frame.DataFrame'>\n",
      "20\n",
      "Index([  968.85,  844.508, 1959.668, 1926.182, 1521.503,  836.875,  849.768,\n",
      "        984.672,  835.796,  842.587, 1968.596, 1942.053, 2441.281,   842.04,\n",
      "        834.451, 1936.251, 1010.382, 1950.821,  838.229,  845.886],\n",
      "      dtype='object')\n",
      "<class 'pandas.core.frame.DataFrame'>\n",
      "50\n",
      "Index([2280.247, 2011.358, 1437.162,  835.258,  851.721,  840.675,  1956.71,\n",
      "       1142.636,  968.125,   841.22,  850.604, 1964.122, 1896.591,  833.647,\n",
      "        836.066, 1917.633, 1924.752, 1903.554,  836.606, 1360.966, 1953.761,\n",
      "        885.767, 1003.732,  983.551, 1913.388, 2043.058, 1946.427,  985.046,\n",
      "        874.415,  986.545,   968.85,  844.508, 1959.668, 1926.182, 1521.503,\n",
      "        836.875,  849.768,  984.672,  835.796,  842.587, 1968.596, 1942.053,\n",
      "       2441.281,   842.04,  834.451, 1936.251, 1010.382, 1950.821,  838.229,\n",
      "        845.886],\n",
      "      dtype='object')\n",
      "<class 'pandas.core.frame.DataFrame'>\n",
      "100\n",
      "Index([2155.146, 2466.832,  956.341, 1906.353,  963.807,  1897.98, 1329.559,\n",
      "        894.939, 1529.581, 1070.013, 2278.243, 1509.104,  855.375,  860.484,\n",
      "        841.493, 1015.925,  958.462,  973.213, 2302.522,  875.005,  1011.17,\n",
      "        897.418, 1427.665, 1502.109, 1021.932, 1892.438, 1000.633, 1454.089,\n",
      "        865.367,  850.046,    860.2,  857.922,  900.848,  856.505, 1430.028,\n",
      "        965.961,  876.188,  895.249, 1989.747,  864.501, 2457.479,  878.563,\n",
      "        842.861, 1920.475,  847.268, 1923.324,  968.487,   858.49, 1909.161,\n",
      "        846.162, 2280.247, 2011.358, 1437.162,  835.258,  851.721,  840.675,\n",
      "        1956.71, 1142.636,  968.125,   841.22,  850.604, 1964.122, 1896.591,\n",
      "        833.647,  836.066, 1917.633, 1924.752, 1903.554,  836.606, 1360.966,\n",
      "       1953.761,  885.767, 1003.732,  983.551, 1913.388, 2043.058, 1946.427,\n",
      "        985.046,  874.415,  986.545,   968.85,  844.508, 1959.668, 1926.182,\n",
      "       1521.503,  836.875,  849.768,  984.672,  835.796,  842.587, 1968.596,\n",
      "       1942.053, 2441.281,   842.04,  834.451, 1936.251, 1010.382, 1950.821,\n",
      "        838.229,  845.886],\n",
      "      dtype='object')\n",
      "<class 'pandas.core.frame.DataFrame'>\n"
     ]
    },
    {
     "name": "stderr",
     "output_type": "stream",
     "text": [
      "/users/hussein/source/apple_classification/appleVer/lib/python3.8/site-packages/sklearn/metrics/_classification.py:1318: UndefinedMetricWarning: Precision is ill-defined and being set to 0.0 due to no predicted samples. Use `zero_division` parameter to control this behavior.\n",
      "  _warn_prf(average, modifier, msg_start, len(result))\n",
      "/users/hussein/source/apple_classification/appleVer/lib/python3.8/site-packages/sklearn/metrics/_classification.py:1318: UndefinedMetricWarning: Precision is ill-defined and being set to 0.0 due to no predicted samples. Use `zero_division` parameter to control this behavior.\n",
      "  _warn_prf(average, modifier, msg_start, len(result))\n",
      "/users/hussein/source/apple_classification/appleVer/lib/python3.8/site-packages/sklearn/metrics/_classification.py:1318: UndefinedMetricWarning: Precision is ill-defined and being set to 0.0 due to no predicted samples. Use `zero_division` parameter to control this behavior.\n",
      "  _warn_prf(average, modifier, msg_start, len(result))\n",
      "/users/hussein/source/apple_classification/appleVer/lib/python3.8/site-packages/sklearn/metrics/_classification.py:1318: UndefinedMetricWarning: Precision is ill-defined and being set to 0.0 due to no predicted samples. Use `zero_division` parameter to control this behavior.\n",
      "  _warn_prf(average, modifier, msg_start, len(result))\n",
      "/users/hussein/source/apple_classification/appleVer/lib/python3.8/site-packages/sklearn/metrics/_classification.py:1318: UndefinedMetricWarning: Precision is ill-defined and being set to 0.0 due to no predicted samples. Use `zero_division` parameter to control this behavior.\n",
      "  _warn_prf(average, modifier, msg_start, len(result))\n",
      "/users/hussein/source/apple_classification/appleVer/lib/python3.8/site-packages/sklearn/metrics/_classification.py:1318: UndefinedMetricWarning: Precision is ill-defined and being set to 0.0 due to no predicted samples. Use `zero_division` parameter to control this behavior.\n",
      "  _warn_prf(average, modifier, msg_start, len(result))\n",
      "/users/hussein/source/apple_classification/appleVer/lib/python3.8/site-packages/sklearn/metrics/_classification.py:1318: UndefinedMetricWarning: Precision is ill-defined and being set to 0.0 due to no predicted samples. Use `zero_division` parameter to control this behavior.\n",
      "  _warn_prf(average, modifier, msg_start, len(result))\n",
      "/users/hussein/source/apple_classification/appleVer/lib/python3.8/site-packages/sklearn/metrics/_classification.py:1318: UndefinedMetricWarning: Precision is ill-defined and being set to 0.0 due to no predicted samples. Use `zero_division` parameter to control this behavior.\n",
      "  _warn_prf(average, modifier, msg_start, len(result))\n",
      "/users/hussein/source/apple_classification/appleVer/lib/python3.8/site-packages/sklearn/metrics/_classification.py:1318: UndefinedMetricWarning: Precision is ill-defined and being set to 0.0 due to no predicted samples. Use `zero_division` parameter to control this behavior.\n",
      "  _warn_prf(average, modifier, msg_start, len(result))\n",
      "/users/hussein/source/apple_classification/appleVer/lib/python3.8/site-packages/sklearn/metrics/_classification.py:1318: UndefinedMetricWarning: Precision is ill-defined and being set to 0.0 due to no predicted samples. Use `zero_division` parameter to control this behavior.\n",
      "  _warn_prf(average, modifier, msg_start, len(result))\n",
      "/users/hussein/source/apple_classification/appleVer/lib/python3.8/site-packages/sklearn/metrics/_classification.py:1318: UndefinedMetricWarning: Precision is ill-defined and being set to 0.0 due to no predicted samples. Use `zero_division` parameter to control this behavior.\n",
      "  _warn_prf(average, modifier, msg_start, len(result))\n",
      "/users/hussein/source/apple_classification/appleVer/lib/python3.8/site-packages/sklearn/metrics/_classification.py:1318: UndefinedMetricWarning: Precision is ill-defined and being set to 0.0 due to no predicted samples. Use `zero_division` parameter to control this behavior.\n",
      "  _warn_prf(average, modifier, msg_start, len(result))\n",
      "/users/hussein/source/apple_classification/appleVer/lib/python3.8/site-packages/sklearn/metrics/_classification.py:1318: UndefinedMetricWarning: Precision is ill-defined and being set to 0.0 due to no predicted samples. Use `zero_division` parameter to control this behavior.\n",
      "  _warn_prf(average, modifier, msg_start, len(result))\n",
      "/users/hussein/source/apple_classification/appleVer/lib/python3.8/site-packages/sklearn/metrics/_classification.py:1318: UndefinedMetricWarning: Precision is ill-defined and being set to 0.0 due to no predicted samples. Use `zero_division` parameter to control this behavior.\n",
      "  _warn_prf(average, modifier, msg_start, len(result))\n",
      "/users/hussein/source/apple_classification/appleVer/lib/python3.8/site-packages/sklearn/metrics/_classification.py:1318: UndefinedMetricWarning: Precision is ill-defined and being set to 0.0 due to no predicted samples. Use `zero_division` parameter to control this behavior.\n",
      "  _warn_prf(average, modifier, msg_start, len(result))\n",
      "/users/hussein/source/apple_classification/appleVer/lib/python3.8/site-packages/sklearn/metrics/_classification.py:1318: UndefinedMetricWarning: Precision is ill-defined and being set to 0.0 due to no predicted samples. Use `zero_division` parameter to control this behavior.\n",
      "  _warn_prf(average, modifier, msg_start, len(result))\n",
      "/users/hussein/source/apple_classification/appleVer/lib/python3.8/site-packages/sklearn/metrics/_classification.py:1318: UndefinedMetricWarning: Precision is ill-defined and being set to 0.0 due to no predicted samples. Use `zero_division` parameter to control this behavior.\n",
      "  _warn_prf(average, modifier, msg_start, len(result))\n",
      "/users/hussein/source/apple_classification/appleVer/lib/python3.8/site-packages/sklearn/metrics/_classification.py:1318: UndefinedMetricWarning: Precision is ill-defined and being set to 0.0 due to no predicted samples. Use `zero_division` parameter to control this behavior.\n",
      "  _warn_prf(average, modifier, msg_start, len(result))\n",
      "/users/hussein/source/apple_classification/appleVer/lib/python3.8/site-packages/sklearn/metrics/_classification.py:1318: UndefinedMetricWarning: Precision is ill-defined and being set to 0.0 due to no predicted samples. Use `zero_division` parameter to control this behavior.\n",
      "  _warn_prf(average, modifier, msg_start, len(result))\n",
      "/users/hussein/source/apple_classification/appleVer/lib/python3.8/site-packages/sklearn/metrics/_classification.py:1318: UndefinedMetricWarning: Precision is ill-defined and being set to 0.0 due to no predicted samples. Use `zero_division` parameter to control this behavior.\n",
      "  _warn_prf(average, modifier, msg_start, len(result))\n",
      "/users/hussein/source/apple_classification/appleVer/lib/python3.8/site-packages/sklearn/metrics/_classification.py:1318: UndefinedMetricWarning: Precision is ill-defined and being set to 0.0 due to no predicted samples. Use `zero_division` parameter to control this behavior.\n",
      "  _warn_prf(average, modifier, msg_start, len(result))\n",
      "/users/hussein/source/apple_classification/appleVer/lib/python3.8/site-packages/sklearn/metrics/_classification.py:1318: UndefinedMetricWarning: Precision is ill-defined and being set to 0.0 due to no predicted samples. Use `zero_division` parameter to control this behavior.\n",
      "  _warn_prf(average, modifier, msg_start, len(result))\n"
     ]
    },
    {
     "name": "stdout",
     "output_type": "stream",
     "text": [
      "200\n",
      "Index([2212.151, 1018.319,  884.558,  836.336, 1919.053, 1527.779, 1446.786,\n",
      "       2286.279, 1676.999,  979.834,\n",
      "       ...\n",
      "       1968.596, 1942.053, 2441.281,   842.04,  834.451, 1936.251, 1010.382,\n",
      "       1950.821,  838.229,  845.886],\n",
      "      dtype='object', length=200)\n",
      "<class 'pandas.core.frame.DataFrame'>\n"
     ]
    }
   ],
   "source": [
    "num_ml_tools = len(par)\n",
    "ml_dicts = {}\n",
    "\n",
    "for m, par in zip(models, par):\n",
    "    key0 = str(m[1])\n",
    "    ml_dicts[key0] = {}\n",
    "    for f in number_features:\n",
    "        print(f)\n",
    "        print(cols_ordered[-f:])\n",
    "        print(type(Xtrain))\n",
    "        xtr =  Xtrain[cols_ordered[-f:]]\n",
    "        xte =  Xtest[cols_ordered[-f:]]\n",
    "        results = get_accuracy_ml (m[0], m[2], par, np.array(xtr), np.array(Ytrain), np.array(xte), np.array(Ytest)) # to get the accuracies for the ml model\n",
    "        # results = get_accuracy_ml (m[0], m[2], par, np.array(xtr), np.array(Ytrain), np.array(xtr), np.array(Ytrain)) # to get the accuracies for the ml model\n",
    "\n",
    "        key = str(m[1])+\",\"+str((f))\n",
    "        ml_dicts[key0][key] = {}\n",
    "\n",
    "        ml_dicts[key0][key]['tot_acc'] = results[0]\n",
    "        ml_dicts[key0][key]['jack_train'] = results[1]\n",
    "        ml_dicts[key0][key]['jack_test'] = results[2]"
   ]
  },
  {
   "cell_type": "code",
   "execution_count": 23,
   "id": "3ba162e7-96f2-43b9-ba82-7d9614624673",
   "metadata": {},
   "outputs": [],
   "source": [
    "import json"
   ]
  },
  {
   "cell_type": "code",
   "execution_count": 24,
   "id": "dfed86ab-ac1b-4227-9445-36b264c96608",
   "metadata": {},
   "outputs": [],
   "source": [
    "with open('ml_gs.txt', 'w') as file:\n",
    "     file.write(json.dumps(ml_dicts)) # use `json.loads` to do the reverse"
   ]
  },
  {
   "cell_type": "markdown",
   "id": "42dc679a-7496-460b-8c1e-13600f07d8e4",
   "metadata": {},
   "source": [
    "---"
   ]
  },
  {
   "cell_type": "markdown",
   "id": "8b3d6bf5-1b84-4c06-92b7-f1deab65e55e",
   "metadata": {},
   "source": [
    "<b><i> accuracy visualisation </i></b> "
   ]
  },
  {
   "cell_type": "code",
   "execution_count": 33,
   "id": "f70a4cbc-fa33-4859-b3ff-be245a83de0a",
   "metadata": {},
   "outputs": [
    {
     "data": {
      "text/plain": [
       "dict_keys(['lr, all'])"
      ]
     },
     "execution_count": 33,
     "metadata": {},
     "output_type": "execute_result"
    }
   ],
   "source": [
    "import json\n",
    "with open('ml_gs.txt') as f:\n",
    "    data = f.read()\n",
    "    \n",
    "ml_dicts = json.loads(data)\n",
    "\n",
    "with open('base_gs_val.txt') as f:\n",
    "    data = f.read()\n",
    "    \n",
    "baseDict = json.loads(data)\n",
    "baseDict['lr'].keys()    "
   ]
  },
  {
   "cell_type": "code",
   "execution_count": 26,
   "id": "250c10b9-1d38-426a-b7ed-4e2bb966b96e",
   "metadata": {},
   "outputs": [
    {
     "name": "stdout",
     "output_type": "stream",
     "text": [
      "dict_keys(['lr, all'])\n",
      "dict_keys(['lr,2', 'lr,4', 'lr,6', 'lr,8', 'lr,10', 'lr,20', 'lr,50', 'lr,100', 'lr,200'])\n"
     ]
    }
   ],
   "source": [
    "print(baseDict['lr'].keys()    )\n",
    "print(ml_dicts['lr'].keys()    )"
   ]
  },
  {
   "cell_type": "code",
   "execution_count": 27,
   "id": "3e1b30c1-5910-4c65-bc21-8b5fd4c37399",
   "metadata": {},
   "outputs": [],
   "source": [
    "from source.calculate_jack import jack_SD # importing the baseline code from source.basline file"
   ]
  },
  {
   "cell_type": "code",
   "execution_count": 28,
   "id": "fccc55b9-bb52-4e46-9f4b-4fbac7760ea4",
   "metadata": {},
   "outputs": [],
   "source": [
    "arr_all = []\n",
    "for m, d in zip (models, ml_dicts.keys()):\n",
    "    acc_arr = [] \n",
    "    sd_arr = [] \n",
    "\n",
    "    # print(ml_dicts[d])\n",
    "    for key in ml_dicts[d].keys():\n",
    "        acc_arr.append(ml_dicts[d][key][ 'tot_acc' ]) # append total accuracy to an array\n",
    "        sd_train = jack_SD(np.zeros( len(ml_dicts[d][key][ 'jack_train' ]) ), ml_dicts[d][key][ 'jack_train' ])[0]\n",
    "        sd_test = jack_SD(np.zeros( len(ml_dicts[d][key][ 'jack_test' ]) ), ml_dicts[d][key][ 'jack_test' ])[0]\n",
    "        sd = np.sqrt( np.array((sd_train**2)) + np.array((sd_test**2)))\n",
    "        sd_arr.append(sd) # append sd_arr to an array\n",
    "    arr_all.append([ list(ml_dicts[d].keys()), acc_arr, sd_arr])    "
   ]
  },
  {
   "cell_type": "code",
   "execution_count": 29,
   "id": "637d66b4-1dbc-4aad-9293-37e1c9415bbc",
   "metadata": {},
   "outputs": [
    {
     "name": "stdout",
     "output_type": "stream",
     "text": [
      "[[['lr,2', 'lr,4', 'lr,6', 'lr,8', 'lr,10', 'lr,20', 'lr,50', 'lr,100', 'lr,200'], [0.5, 0.6964285714285714, 0.7222222222222222, 0.7272727272727273, 0.7407407407407407, 0.7346938775510204, 0.8113207547169812, 0.8392857142857143, 0.8545454545454545], [0.10051260719567731, 0.08182037907360303, 0.12814859886661403, 0.0862526155696176, 0.25294562940883153, 0.0830537901675775, 0.08785027456216209, 0.05305465965994929, 0.08683665325064154]], [['svm,2', 'svm,4', 'svm,6', 'svm,8', 'svm,10', 'svm,20', 'svm,50', 'svm,100', 'svm,200'], [0.5918367346938775, 0.7755102040816326, 0.6896551724137931, 0.7592592592592593, 0.7755102040816326, 0.7333333333333333, 0.7719298245614035, 0.7931034482758621, 0.8148148148148148], [0.13656565597588374, 0.3773377887575172, 0.3705880313074596, 0.4335222414615478, 0.3385397933757841, 0.06094048357623451, 0.13016234337418148, 0.14893335984327583, 0.06410898190481276]], [['rf,2', 'rf,4', 'rf,6', 'rf,8', 'rf,10', 'rf,20', 'rf,50', 'rf,100', 'rf,200'], [0.6078431372549019, 0.6862745098039216, 0.6415094339622641, 0.6296296296296297, 0.6296296296296297, 0.6551724137931034, 0.6428571428571429, 0.6481481481481481, 0.6481481481481481], [0.15093173887946693, 0.12296983524473087, 0.10448980268178192, 0.0983422134618291, 0.11378773242459436, 0.0919574790996464, 0.1250218582059224, 0.09071992389343463, 0.11187882779884534]], [['xgb,2', 'xgb,4', 'xgb,6', 'xgb,8', 'xgb,10', 'xgb,20', 'xgb,50', 'xgb,100', 'xgb,200'], [0.5576923076923077, 0.6851851851851852, 0.6842105263157895, 0.6481481481481481, 0.6481481481481481, 0.6862745098039216, 0.6346153846153846, 0.7017543859649122, 0.7], [0.2166649620907864, 0.19533063500713604, 0.17811633946372754, 0.1615368749926572, 0.18440985340304938, 0.18324518120945862, 0.17202758488616204, 0.1855697242016685, 0.20443999465557847]], [['knns,2', 'knns,4', 'knns,6', 'knns,8', 'knns,10', 'knns,20', 'knns,50', 'knns,100', 'knns,200'], [0.5901639344262295, 0.6333333333333333, 0.6290322580645161, 0.6031746031746031, 0.6031746031746031, 0.6229508196721312, 0.6229508196721312, 0.6610169491525424, 0.6724137931034483], [0.08694728327208393, 0.11284420199512597, 0.0683748105024966, 0.09979124540656853, 0.16978569042794048, 0.1545729602611051, 0.13868438183988457, 0.07979434042699703, 0.09383885941601887]], [['anns,2', 'anns,4', 'anns,6', 'anns,8', 'anns,10', 'anns,20', 'anns,50', 'anns,100', 'anns,200'], [0.5, 0.7358490566037735, 0.75, 0.7058823529411765, 0.53125, 0.6875, 0.7169811320754716, 0.6909090909090909, 0.7192982456140351], [0.1616790433568774, 0.8152304072256858, 0.20383356749639187, 0.8700992012376771, 0.4500033312645705, 0.21103501836249816, 0.23438113082844142, 2.9027732925976863, 0.2325936847347548]]]\n"
     ]
    }
   ],
   "source": [
    "print(arr_all)"
   ]
  },
  {
   "cell_type": "code",
   "execution_count": 31,
   "id": "43344a45-963e-4aec-8673-63388a69d1dc",
   "metadata": {},
   "outputs": [
    {
     "name": "stdout",
     "output_type": "stream",
     "text": [
      "[0.    0.375 0.75  1.125 1.5   1.875 2.25  2.625 3.   ]\n",
      "[5.    5.375 5.75  6.125 6.5   6.875 7.25  7.625 8.   ]\n",
      "[10.    10.375 10.75  11.125 11.5   11.875 12.25  12.625 13.   ]\n",
      "[15.    15.375 15.75  16.125 16.5   16.875 17.25  17.625 18.   ]\n",
      "[20.    20.375 20.75  21.125 21.5   21.875 22.25  22.625 23.   ]\n",
      "[25.    25.375 25.75  26.125 26.5   26.875 27.25  27.625 28.   ]\n"
     ]
    },
    {
     "data": {
      "image/png": "[encoded data removed]",
      "text/plain": [
       "<Figure size 1080x504 with 1 Axes>"
      ]
     },
     "metadata": {
      "needs_background": "light"
     },
     "output_type": "display_data"
    }
   ],
   "source": [
    "colors = ['blue', 'purple', 'green', 'orange', 'red', 'brown']\n",
    "plt.figure(figsize=(15, 7))\n",
    "plt.title( \"Precision  for different features with the SD\", fontweight ='bold', fontsize =12)\n",
    "plt.xlabel(\"Features\", fontweight ='bold', fontsize =12)\n",
    "plt.ylabel(\"Precision\", fontweight ='bold', fontsize =12)\n",
    "\n",
    "count = 0\n",
    "n = len(colors)-1\n",
    "\n",
    "space = []\n",
    "tickFeat = []\n",
    "\n",
    "for result, model, color in zip(arr_all, models, colors):\n",
    "    a = np.linspace(n*count, n*(1+count)-2,9)\n",
    "    print(a)\n",
    "    space.extend(a)\n",
    "    tickFeat.extend(result[0])\n",
    "    plt.errorbar( a, result[1], result[2], fmt='o', label =model[1], color = color)\n",
    "    count += 1\n",
    "\n",
    "plt.xticks(space, tickFeat, rotation = 'vertical',  fontsize =12)\n",
    "plt.ylim(.2, 1)\n",
    "plt.legend()\n",
    "\n",
    "plt.show()"
   ]
  },
  {
   "cell_type": "markdown",
   "id": "b3fbfcfc-a2f8-4a01-b01d-0867b45aa380",
   "metadata": {},
   "source": [
    "<b><i> relative performance </i></b> "
   ]
  },
  {
   "cell_type": "code",
   "execution_count": 34,
   "id": "f3dea982-8617-47c1-a7e0-a16d661be6db",
   "metadata": {},
   "outputs": [],
   "source": [
    "arr_diff_all = []\n",
    "\n",
    "for m, m_key in zip (models, ml_dicts.keys()):\n",
    "    acc_diff_arr = [] \n",
    "    sd_diff_arr = [] \n",
    "    for f_key in ml_dicts[m_key].keys():\n",
    "        value = f_key.split(',')\n",
    "        acc_diff_arr.append( ml_dicts[m_key][f_key][ 'tot_acc' ] - baseDict['lr']['lr, all'][ 'tot_acc' ]  )\n",
    "\n",
    "        sd_train = jack_SD( baseDict['lr']['lr, all'][ 'jack_train' ], ml_dicts[m_key][f_key]['jack_train'] )[0]\n",
    "        sd_test = jack_SD(  baseDict['lr']['lr, all'][ 'jack_test' ],  ml_dicts[m_key][f_key]['jack_test']   )[0]\n",
    "\n",
    "        sd = np.sqrt( np.array((sd_train**2)) + np.array((sd_test**2)))\n",
    "        sd_diff_arr.append(sd) # append sd_arr to an array\n",
    "    arr_diff_all.append([ list(ml_dicts[m_key].keys()), acc_diff_arr, sd_diff_arr]) "
   ]
  },
  {
   "cell_type": "code",
   "execution_count": 35,
   "id": "e93a0e34-e4b1-4b5a-ba89-caef3297647d",
   "metadata": {},
   "outputs": [
    {
     "data": {
      "image/png": "[encoded data removed]",
      "text/plain": [
       "<Figure size 1080x504 with 1 Axes>"
      ]
     },
     "metadata": {
      "needs_background": "light"
     },
     "output_type": "display_data"
    }
   ],
   "source": [
    "colors = ['blue', 'purple', 'green', 'orange', 'red', 'brown']\n",
    "plt.figure(figsize=(15, 7))\n",
    "plt.title( \"Precision  differences for ML methods versus LR_all for feature setsD\", fontweight ='bold', fontsize =12)\n",
    "plt.xlabel(\"Features\", fontweight ='bold', fontsize =12)\n",
    "plt.ylabel(\"Precision  difference\", fontweight ='bold', fontsize =12)\n",
    "\n",
    "count = 0\n",
    "n = len(colors)-0.5\n",
    "space = []\n",
    "tickFeat = []\n",
    "\n",
    "for result, model, color in zip(arr_diff_all, models, colors):\n",
    "    a = np.linspace(n*count, n*(1+count)-2,9)\n",
    "    space.extend(a)\n",
    "    tickFeat.extend(result[0])\n",
    "    plt.errorbar( a, result[1], result[2], fmt='o', label =model[1], color = color)\n",
    "    count += 1\n",
    "    \n",
    "plt.plot(np.array(space), np.zeros(9*6), color = 'Black')        \n",
    "plt.xticks(space, tickFeat, rotation = 'vertical',  fontsize =12)\n",
    "plt.ylim(-.5, 1)\n",
    "plt.legend()\n",
    "\n",
    "plt.show()"
   ]
  },
  {
   "cell_type": "code",
   "execution_count": null,
   "id": "ecbe0d8b-72e3-4fab-b994-e96873737bda",
   "metadata": {},
   "outputs": [],
   "source": []
  },
  {
   "cell_type": "code",
   "execution_count": null,
   "id": "84dd66a6-9ee5-4ead-a003-de9fd2b62cf5",
   "metadata": {},
   "outputs": [],
   "source": [
    "ll"
   ]
  },
  {
   "cell_type": "code",
   "execution_count": null,
   "id": "c4c8899b-1c85-48c3-9d7c-8ee3fa8b4279",
   "metadata": {},
   "outputs": [],
   "source": []
  }
 ],
 "metadata": {
  "kernelspec": {
   "display_name": "apple_kernel",
   "language": "python",
   "name": "apple_kernel"
  },
  "language_info": {
   "codemirror_mode": {
    "name": "ipython",
    "version": 3
   },
   "file_extension": ".py",
   "mimetype": "text/x-python",
   "name": "python",
   "nbconvert_exporter": "python",
   "pygments_lexer": "ipython3",
   "version": "3.8.10"
  }
 },
 "nbformat": 4,
 "nbformat_minor": 5
}
