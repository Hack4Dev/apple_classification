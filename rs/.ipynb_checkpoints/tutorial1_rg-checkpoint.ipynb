{
 "cells": [
  {
   "cell_type": "markdown",
   "id": "1e3b9b91-938c-4639-9495-1edc82ffe80d",
   "metadata": {},
   "source": [
    "# Tutorial 1: Data cleaning & visualization (RG)"
   ]
  },
  {
   "cell_type": "markdown",
   "id": "a19ea595-15b1-43c9-99ae-3df33ed10c9c",
   "metadata": {},
   "source": [
    "---"
   ]
  },
  {
   "cell_type": "markdown",
   "id": "85c0c317-f77f-4940-9641-1ed35a82bbc8",
   "metadata": {},
   "source": [
    "## Introduction"
   ]
  },
  {
   "cell_type": "markdown",
   "id": "6453eedc-c9ae-4405-b2ed-3f7ab9d7c6f0",
   "metadata": {},
   "source": [
    "Welcome!, this tutorial will show you how to clean and visualise apple infrared data"
   ]
  },
  {
   "cell_type": "markdown",
   "id": "9550c997-06de-43bb-af97-c0b834560596",
   "metadata": {},
   "source": [
    "First we import some libraries:"
   ]
  },
  {
   "cell_type": "code",
   "execution_count": 1,
   "id": "a32dc20c-4b62-478c-9ade-2c010fa82d88",
   "metadata": {},
   "outputs": [],
   "source": [
    "import pandas as pd # for importing data into data frame format\n",
    "import seaborn as sns # For drawing useful graphs, such as bar graphs\n",
    "import numpy as np\n",
    "import matplotlib.pyplot as plt"
   ]
  },
  {
   "cell_type": "markdown",
   "id": "004cc893-f398-43a1-87a0-6d9e7397fd12",
   "metadata": {},
   "source": [
    "---"
   ]
  },
  {
   "cell_type": "markdown",
   "id": "c73794aa-6fa8-4c85-863b-eef35e1da46b",
   "metadata": {},
   "source": [
    "<b><i> Reading in data </i></b> \n",
    "\n",
    "The following code does the following:\n",
    "- reads data from an Excel file\n",
    "- converts the Excel file format into a Pandas dataframe "
   ]
  },
  {
   "cell_type": "code",
   "execution_count": 5,
   "id": "0157f2b2-5b7c-4aef-bb9e-6e3482ffcfa2",
   "metadata": {},
   "outputs": [],
   "source": [
    "df_RG = pd.read_excel('data/Detect-RG.xlsx')"
   ]
  },
  {
   "cell_type": "markdown",
   "id": "407017f9-d41d-4921-8d6a-aaa8074a21aa",
   "metadata": {},
   "source": [
    "<b><i> Examining data </i></b> \n",
    "\n",
    "Let's takae a look at the GS apple data"
   ]
  },
  {
   "cell_type": "code",
   "execution_count": 6,
   "id": "1eecaaf0-9ad5-465f-b549-f81079810391",
   "metadata": {},
   "outputs": [
    {
     "data": {
      "text/html": [
       "<div>\n",
       "<style scoped>\n",
       "    .dataframe tbody tr th:only-of-type {\n",
       "        vertical-align: middle;\n",
       "    }\n",
       "\n",
       "    .dataframe tbody tr th {\n",
       "        vertical-align: top;\n",
       "    }\n",
       "\n",
       "    .dataframe thead th {\n",
       "        text-align: right;\n",
       "    }\n",
       "</style>\n",
       "<table border=\"1\" class=\"dataframe\">\n",
       "  <thead>\n",
       "    <tr style=\"text-align: right;\">\n",
       "      <th></th>\n",
       "      <th>Sample</th>\n",
       "      <th>Condition</th>\n",
       "      <th>Age</th>\n",
       "      <th>Source</th>\n",
       "      <th>11995.49</th>\n",
       "      <th>11991.63</th>\n",
       "      <th>11987.78</th>\n",
       "      <th>11983.92</th>\n",
       "      <th>11980.06</th>\n",
       "      <th>11976.21</th>\n",
       "      <th>...</th>\n",
       "      <th>4034.497</th>\n",
       "      <th>4030.64</th>\n",
       "      <th>4026.783</th>\n",
       "      <th>4022.926</th>\n",
       "      <th>4019.069</th>\n",
       "      <th>4015.211</th>\n",
       "      <th>4011.354</th>\n",
       "      <th>4007.497</th>\n",
       "      <th>4003.64</th>\n",
       "      <th>3999.783</th>\n",
       "    </tr>\n",
       "  </thead>\n",
       "  <tbody>\n",
       "    <tr>\n",
       "      <th>0</th>\n",
       "      <td>RG-ch-bruise1.5h-10a</td>\n",
       "      <td>B</td>\n",
       "      <td>1h</td>\n",
       "      <td>S1</td>\n",
       "      <td>-0.073562</td>\n",
       "      <td>-0.073781</td>\n",
       "      <td>-0.073957</td>\n",
       "      <td>-0.073707</td>\n",
       "      <td>-0.072784</td>\n",
       "      <td>-0.072192</td>\n",
       "      <td>...</td>\n",
       "      <td>1.431078</td>\n",
       "      <td>1.421277</td>\n",
       "      <td>1.418090</td>\n",
       "      <td>1.420809</td>\n",
       "      <td>1.427156</td>\n",
       "      <td>1.431252</td>\n",
       "      <td>1.421493</td>\n",
       "      <td>1.406952</td>\n",
       "      <td>1.413567</td>\n",
       "      <td>1.418298</td>\n",
       "    </tr>\n",
       "    <tr>\n",
       "      <th>1</th>\n",
       "      <td>RG-ch-bruise1.5h-10b</td>\n",
       "      <td>B</td>\n",
       "      <td>1h</td>\n",
       "      <td>S1</td>\n",
       "      <td>-0.109298</td>\n",
       "      <td>-0.109838</td>\n",
       "      <td>-0.110297</td>\n",
       "      <td>-0.110122</td>\n",
       "      <td>-0.109260</td>\n",
       "      <td>-0.108452</td>\n",
       "      <td>...</td>\n",
       "      <td>1.101811</td>\n",
       "      <td>1.095996</td>\n",
       "      <td>1.094685</td>\n",
       "      <td>1.095122</td>\n",
       "      <td>1.095522</td>\n",
       "      <td>1.094201</td>\n",
       "      <td>1.091799</td>\n",
       "      <td>1.091893</td>\n",
       "      <td>1.092368</td>\n",
       "      <td>1.081785</td>\n",
       "    </tr>\n",
       "    <tr>\n",
       "      <th>2</th>\n",
       "      <td>RG-ch-bruise1.5h-10c</td>\n",
       "      <td>S</td>\n",
       "      <td>1h</td>\n",
       "      <td>S1</td>\n",
       "      <td>-0.110615</td>\n",
       "      <td>-0.111461</td>\n",
       "      <td>-0.111813</td>\n",
       "      <td>-0.111651</td>\n",
       "      <td>-0.110756</td>\n",
       "      <td>-0.109691</td>\n",
       "      <td>...</td>\n",
       "      <td>1.125451</td>\n",
       "      <td>1.127347</td>\n",
       "      <td>1.123727</td>\n",
       "      <td>1.117350</td>\n",
       "      <td>1.116847</td>\n",
       "      <td>1.121172</td>\n",
       "      <td>1.127742</td>\n",
       "      <td>1.139490</td>\n",
       "      <td>1.142334</td>\n",
       "      <td>1.132922</td>\n",
       "    </tr>\n",
       "    <tr>\n",
       "      <th>3</th>\n",
       "      <td>RG-ch-bruise1.5h-10d</td>\n",
       "      <td>S</td>\n",
       "      <td>1h</td>\n",
       "      <td>S1</td>\n",
       "      <td>-0.114786</td>\n",
       "      <td>-0.115564</td>\n",
       "      <td>-0.116114</td>\n",
       "      <td>-0.115950</td>\n",
       "      <td>-0.115114</td>\n",
       "      <td>-0.114281</td>\n",
       "      <td>...</td>\n",
       "      <td>1.137944</td>\n",
       "      <td>1.131435</td>\n",
       "      <td>1.129920</td>\n",
       "      <td>1.137164</td>\n",
       "      <td>1.144162</td>\n",
       "      <td>1.140099</td>\n",
       "      <td>1.132696</td>\n",
       "      <td>1.133398</td>\n",
       "      <td>1.145063</td>\n",
       "      <td>1.161662</td>\n",
       "    </tr>\n",
       "    <tr>\n",
       "      <th>4</th>\n",
       "      <td>RG-ch-bruise1.5h-11a</td>\n",
       "      <td>B</td>\n",
       "      <td>1h</td>\n",
       "      <td>S1</td>\n",
       "      <td>-0.146608</td>\n",
       "      <td>-0.147469</td>\n",
       "      <td>-0.147789</td>\n",
       "      <td>-0.147515</td>\n",
       "      <td>-0.146668</td>\n",
       "      <td>-0.145834</td>\n",
       "      <td>...</td>\n",
       "      <td>0.641977</td>\n",
       "      <td>0.640554</td>\n",
       "      <td>0.639490</td>\n",
       "      <td>0.637811</td>\n",
       "      <td>0.634665</td>\n",
       "      <td>0.630547</td>\n",
       "      <td>0.625248</td>\n",
       "      <td>0.619767</td>\n",
       "      <td>0.617546</td>\n",
       "      <td>0.619238</td>\n",
       "    </tr>\n",
       "  </tbody>\n",
       "</table>\n",
       "<p>5 rows × 2078 columns</p>\n",
       "</div>"
      ],
      "text/plain": [
       "                 Sample Condition Age Source  11995.49  11991.63  11987.78  \\\n",
       "0  RG-ch-bruise1.5h-10a         B  1h     S1 -0.073562 -0.073781 -0.073957   \n",
       "1  RG-ch-bruise1.5h-10b         B  1h     S1 -0.109298 -0.109838 -0.110297   \n",
       "2  RG-ch-bruise1.5h-10c         S  1h     S1 -0.110615 -0.111461 -0.111813   \n",
       "3  RG-ch-bruise1.5h-10d         S  1h     S1 -0.114786 -0.115564 -0.116114   \n",
       "4  RG-ch-bruise1.5h-11a         B  1h     S1 -0.146608 -0.147469 -0.147789   \n",
       "\n",
       "   11983.92  11980.06  11976.21  ...  4034.497   4030.64  4026.783  4022.926  \\\n",
       "0 -0.073707 -0.072784 -0.072192  ...  1.431078  1.421277  1.418090  1.420809   \n",
       "1 -0.110122 -0.109260 -0.108452  ...  1.101811  1.095996  1.094685  1.095122   \n",
       "2 -0.111651 -0.110756 -0.109691  ...  1.125451  1.127347  1.123727  1.117350   \n",
       "3 -0.115950 -0.115114 -0.114281  ...  1.137944  1.131435  1.129920  1.137164   \n",
       "4 -0.147515 -0.146668 -0.145834  ...  0.641977  0.640554  0.639490  0.637811   \n",
       "\n",
       "   4019.069  4015.211  4011.354  4007.497   4003.64  3999.783  \n",
       "0  1.427156  1.431252  1.421493  1.406952  1.413567  1.418298  \n",
       "1  1.095522  1.094201  1.091799  1.091893  1.092368  1.081785  \n",
       "2  1.116847  1.121172  1.127742  1.139490  1.142334  1.132922  \n",
       "3  1.144162  1.140099  1.132696  1.133398  1.145063  1.161662  \n",
       "4  0.634665  0.630547  0.625248  0.619767  0.617546  0.619238  \n",
       "\n",
       "[5 rows x 2078 columns]"
      ]
     },
     "execution_count": 6,
     "metadata": {},
     "output_type": "execute_result"
    }
   ],
   "source": [
    "df_RG.head(5)"
   ]
  },
  {
   "cell_type": "code",
   "execution_count": 7,
   "id": "772c59b7-7da9-40f0-a267-9268c9c66626",
   "metadata": {},
   "outputs": [
    {
     "data": {
      "text/plain": [
       "(562, 2078)"
      ]
     },
     "execution_count": 7,
     "metadata": {},
     "output_type": "execute_result"
    }
   ],
   "source": [
    "df_RG.shape"
   ]
  },
  {
   "cell_type": "markdown",
   "id": "39fbbbcd-532f-4930-8b9a-12f82d8a68bf",
   "metadata": {},
   "source": [
    "---"
   ]
  },
  {
   "cell_type": "markdown",
   "id": "6428ccde-e2c4-43d9-9cc2-74c63d0068ef",
   "metadata": {},
   "source": [
    "<b><i> Cleaning data </i></b> "
   ]
  },
  {
   "cell_type": "markdown",
   "id": "6b08c291-033c-4312-8cd2-e95f8c349b1c",
   "metadata": {},
   "source": [
    "First, let us change the column names, WHY -> because Fred said so."
   ]
  },
  {
   "cell_type": "code",
   "execution_count": 9,
   "id": "8ae5a0b3-d38d-4925-82bd-f3df8a0828a9",
   "metadata": {},
   "outputs": [
    {
     "name": "stdout",
     "output_type": "stream",
     "text": [
      "\n",
      "This waveNum (11995.49) should change to this(833.6466455309454) waveLength\n",
      "\n"
     ]
    },
    {
     "data": {
      "text/html": [
       "<div>\n",
       "<style scoped>\n",
       "    .dataframe tbody tr th:only-of-type {\n",
       "        vertical-align: middle;\n",
       "    }\n",
       "\n",
       "    .dataframe tbody tr th {\n",
       "        vertical-align: top;\n",
       "    }\n",
       "\n",
       "    .dataframe thead th {\n",
       "        text-align: right;\n",
       "    }\n",
       "</style>\n",
       "<table border=\"1\" class=\"dataframe\">\n",
       "  <thead>\n",
       "    <tr style=\"text-align: right;\">\n",
       "      <th></th>\n",
       "      <th>Sample</th>\n",
       "      <th>Condition</th>\n",
       "      <th>Age</th>\n",
       "      <th>Source</th>\n",
       "      <th>833.647</th>\n",
       "      <th>833.915</th>\n",
       "      <th>834.183</th>\n",
       "      <th>834.451</th>\n",
       "      <th>834.72</th>\n",
       "      <th>834.989</th>\n",
       "      <th>...</th>\n",
       "      <th>2478.624</th>\n",
       "      <th>2480.996</th>\n",
       "      <th>2483.372</th>\n",
       "      <th>2485.753</th>\n",
       "      <th>2488.138</th>\n",
       "      <th>2490.529</th>\n",
       "      <th>2492.924</th>\n",
       "      <th>2495.323</th>\n",
       "      <th>2497.727</th>\n",
       "      <th>2500.136</th>\n",
       "    </tr>\n",
       "  </thead>\n",
       "  <tbody>\n",
       "    <tr>\n",
       "      <th>0</th>\n",
       "      <td>RG-ch-bruise1.5h-10a</td>\n",
       "      <td>B</td>\n",
       "      <td>1h</td>\n",
       "      <td>S1</td>\n",
       "      <td>-0.073562</td>\n",
       "      <td>-0.073781</td>\n",
       "      <td>-0.073957</td>\n",
       "      <td>-0.073707</td>\n",
       "      <td>-0.072784</td>\n",
       "      <td>-0.072192</td>\n",
       "      <td>...</td>\n",
       "      <td>1.431078</td>\n",
       "      <td>1.421277</td>\n",
       "      <td>1.418090</td>\n",
       "      <td>1.420809</td>\n",
       "      <td>1.427156</td>\n",
       "      <td>1.431252</td>\n",
       "      <td>1.421493</td>\n",
       "      <td>1.406952</td>\n",
       "      <td>1.413567</td>\n",
       "      <td>1.418298</td>\n",
       "    </tr>\n",
       "    <tr>\n",
       "      <th>1</th>\n",
       "      <td>RG-ch-bruise1.5h-10b</td>\n",
       "      <td>B</td>\n",
       "      <td>1h</td>\n",
       "      <td>S1</td>\n",
       "      <td>-0.109298</td>\n",
       "      <td>-0.109838</td>\n",
       "      <td>-0.110297</td>\n",
       "      <td>-0.110122</td>\n",
       "      <td>-0.109260</td>\n",
       "      <td>-0.108452</td>\n",
       "      <td>...</td>\n",
       "      <td>1.101811</td>\n",
       "      <td>1.095996</td>\n",
       "      <td>1.094685</td>\n",
       "      <td>1.095122</td>\n",
       "      <td>1.095522</td>\n",
       "      <td>1.094201</td>\n",
       "      <td>1.091799</td>\n",
       "      <td>1.091893</td>\n",
       "      <td>1.092368</td>\n",
       "      <td>1.081785</td>\n",
       "    </tr>\n",
       "    <tr>\n",
       "      <th>2</th>\n",
       "      <td>RG-ch-bruise1.5h-10c</td>\n",
       "      <td>S</td>\n",
       "      <td>1h</td>\n",
       "      <td>S1</td>\n",
       "      <td>-0.110615</td>\n",
       "      <td>-0.111461</td>\n",
       "      <td>-0.111813</td>\n",
       "      <td>-0.111651</td>\n",
       "      <td>-0.110756</td>\n",
       "      <td>-0.109691</td>\n",
       "      <td>...</td>\n",
       "      <td>1.125451</td>\n",
       "      <td>1.127347</td>\n",
       "      <td>1.123727</td>\n",
       "      <td>1.117350</td>\n",
       "      <td>1.116847</td>\n",
       "      <td>1.121172</td>\n",
       "      <td>1.127742</td>\n",
       "      <td>1.139490</td>\n",
       "      <td>1.142334</td>\n",
       "      <td>1.132922</td>\n",
       "    </tr>\n",
       "    <tr>\n",
       "      <th>3</th>\n",
       "      <td>RG-ch-bruise1.5h-10d</td>\n",
       "      <td>S</td>\n",
       "      <td>1h</td>\n",
       "      <td>S1</td>\n",
       "      <td>-0.114786</td>\n",
       "      <td>-0.115564</td>\n",
       "      <td>-0.116114</td>\n",
       "      <td>-0.115950</td>\n",
       "      <td>-0.115114</td>\n",
       "      <td>-0.114281</td>\n",
       "      <td>...</td>\n",
       "      <td>1.137944</td>\n",
       "      <td>1.131435</td>\n",
       "      <td>1.129920</td>\n",
       "      <td>1.137164</td>\n",
       "      <td>1.144162</td>\n",
       "      <td>1.140099</td>\n",
       "      <td>1.132696</td>\n",
       "      <td>1.133398</td>\n",
       "      <td>1.145063</td>\n",
       "      <td>1.161662</td>\n",
       "    </tr>\n",
       "  </tbody>\n",
       "</table>\n",
       "<p>4 rows × 2078 columns</p>\n",
       "</div>"
      ],
      "text/plain": [
       "                 Sample Condition Age Source   833.647   833.915   834.183  \\\n",
       "0  RG-ch-bruise1.5h-10a         B  1h     S1 -0.073562 -0.073781 -0.073957   \n",
       "1  RG-ch-bruise1.5h-10b         B  1h     S1 -0.109298 -0.109838 -0.110297   \n",
       "2  RG-ch-bruise1.5h-10c         S  1h     S1 -0.110615 -0.111461 -0.111813   \n",
       "3  RG-ch-bruise1.5h-10d         S  1h     S1 -0.114786 -0.115564 -0.116114   \n",
       "\n",
       "    834.451    834.72   834.989  ...  2478.624  2480.996  2483.372  2485.753  \\\n",
       "0 -0.073707 -0.072784 -0.072192  ...  1.431078  1.421277  1.418090  1.420809   \n",
       "1 -0.110122 -0.109260 -0.108452  ...  1.101811  1.095996  1.094685  1.095122   \n",
       "2 -0.111651 -0.110756 -0.109691  ...  1.125451  1.127347  1.123727  1.117350   \n",
       "3 -0.115950 -0.115114 -0.114281  ...  1.137944  1.131435  1.129920  1.137164   \n",
       "\n",
       "   2488.138  2490.529  2492.924  2495.323  2497.727  2500.136  \n",
       "0  1.427156  1.431252  1.421493  1.406952  1.413567  1.418298  \n",
       "1  1.095522  1.094201  1.091799  1.091893  1.092368  1.081785  \n",
       "2  1.116847  1.121172  1.127742  1.139490  1.142334  1.132922  \n",
       "3  1.144162  1.140099  1.132696  1.133398  1.145063  1.161662  \n",
       "\n",
       "[4 rows x 2078 columns]"
      ]
     },
     "execution_count": 9,
     "metadata": {},
     "output_type": "execute_result"
    }
   ],
   "source": [
    "wavenumbers = np.float_(df_RG.columns[4:])\n",
    "wavelengths = (1/wavenumbers)*10**7 # changing the wavenumber to a wave length\n",
    "print(\"\\nThis waveNum (\"+str(wavenumbers[0])+\") should change to this(\"+ str(wavelengths[0]) + \") waveLength\\n\")\n",
    "\n",
    "df_RG.columns.values[4:] = np.round(wavelengths, 3) # getting just up to 3 decimal numbers\n",
    "df_RG.head(4)"
   ]
  },
  {
   "cell_type": "markdown",
   "id": "bf857a76-7140-4936-8e48-9f5807150422",
   "metadata": {},
   "source": [
    "now let us check the labels"
   ]
  },
  {
   "cell_type": "code",
   "execution_count": 10,
   "id": "a9338374-2384-4df8-8ffd-23b008e98e4a",
   "metadata": {},
   "outputs": [
    {
     "data": {
      "image/png": "[encoded data removed]",
      "text/plain": [
       "<Figure size 432x288 with 1 Axes>"
      ]
     },
     "metadata": {
      "needs_background": "light"
     },
     "output_type": "display_data"
    }
   ],
   "source": [
    "ax = sns.countplot(x=\"Condition\",data=df_RG)"
   ]
  },
  {
   "cell_type": "markdown",
   "id": "38893faa-5612-47df-8b00-cbec3b22eb44",
   "metadata": {},
   "source": [
    "Now we are done cleaning the data"
   ]
  },
  {
   "cell_type": "markdown",
   "id": "5a6472ea-1809-4f68-9645-76ad076d9277",
   "metadata": {},
   "source": [
    "---"
   ]
  },
  {
   "cell_type": "markdown",
   "id": "5d838a9a-8782-4cfd-b879-46293a412a2c",
   "metadata": {},
   "source": [
    "<b><i> Getting the inputs and the outputs </i></b> "
   ]
  },
  {
   "cell_type": "code",
   "execution_count": 11,
   "id": "f270df65-ed76-4dca-be3e-f7e5b64bb19a",
   "metadata": {},
   "outputs": [
    {
     "data": {
      "text/html": [
       "<div>\n",
       "<style scoped>\n",
       "    .dataframe tbody tr th:only-of-type {\n",
       "        vertical-align: middle;\n",
       "    }\n",
       "\n",
       "    .dataframe tbody tr th {\n",
       "        vertical-align: top;\n",
       "    }\n",
       "\n",
       "    .dataframe thead th {\n",
       "        text-align: right;\n",
       "    }\n",
       "</style>\n",
       "<table border=\"1\" class=\"dataframe\">\n",
       "  <thead>\n",
       "    <tr style=\"text-align: right;\">\n",
       "      <th></th>\n",
       "      <th>833.647</th>\n",
       "      <th>833.915</th>\n",
       "      <th>834.183</th>\n",
       "      <th>834.451</th>\n",
       "      <th>834.720</th>\n",
       "      <th>834.989</th>\n",
       "      <th>835.258</th>\n",
       "      <th>835.527</th>\n",
       "      <th>835.796</th>\n",
       "      <th>836.066</th>\n",
       "      <th>...</th>\n",
       "      <th>2478.624</th>\n",
       "      <th>2480.996</th>\n",
       "      <th>2483.372</th>\n",
       "      <th>2485.753</th>\n",
       "      <th>2488.138</th>\n",
       "      <th>2490.529</th>\n",
       "      <th>2492.924</th>\n",
       "      <th>2495.323</th>\n",
       "      <th>2497.727</th>\n",
       "      <th>2500.136</th>\n",
       "    </tr>\n",
       "  </thead>\n",
       "  <tbody>\n",
       "    <tr>\n",
       "      <th>0</th>\n",
       "      <td>-0.073562</td>\n",
       "      <td>-0.073781</td>\n",
       "      <td>-0.073957</td>\n",
       "      <td>-0.073707</td>\n",
       "      <td>-0.072784</td>\n",
       "      <td>-0.072192</td>\n",
       "      <td>-0.072403</td>\n",
       "      <td>-0.072231</td>\n",
       "      <td>-0.071210</td>\n",
       "      <td>-0.070215</td>\n",
       "      <td>...</td>\n",
       "      <td>1.431078</td>\n",
       "      <td>1.421277</td>\n",
       "      <td>1.418090</td>\n",
       "      <td>1.420809</td>\n",
       "      <td>1.427156</td>\n",
       "      <td>1.431252</td>\n",
       "      <td>1.421493</td>\n",
       "      <td>1.406952</td>\n",
       "      <td>1.413567</td>\n",
       "      <td>1.418298</td>\n",
       "    </tr>\n",
       "    <tr>\n",
       "      <th>1</th>\n",
       "      <td>-0.109298</td>\n",
       "      <td>-0.109838</td>\n",
       "      <td>-0.110297</td>\n",
       "      <td>-0.110122</td>\n",
       "      <td>-0.109260</td>\n",
       "      <td>-0.108452</td>\n",
       "      <td>-0.108135</td>\n",
       "      <td>-0.107888</td>\n",
       "      <td>-0.107455</td>\n",
       "      <td>-0.107120</td>\n",
       "      <td>...</td>\n",
       "      <td>1.101811</td>\n",
       "      <td>1.095996</td>\n",
       "      <td>1.094685</td>\n",
       "      <td>1.095122</td>\n",
       "      <td>1.095522</td>\n",
       "      <td>1.094201</td>\n",
       "      <td>1.091799</td>\n",
       "      <td>1.091893</td>\n",
       "      <td>1.092368</td>\n",
       "      <td>1.081785</td>\n",
       "    </tr>\n",
       "    <tr>\n",
       "      <th>2</th>\n",
       "      <td>-0.110615</td>\n",
       "      <td>-0.111461</td>\n",
       "      <td>-0.111813</td>\n",
       "      <td>-0.111651</td>\n",
       "      <td>-0.110756</td>\n",
       "      <td>-0.109691</td>\n",
       "      <td>-0.109298</td>\n",
       "      <td>-0.109019</td>\n",
       "      <td>-0.108263</td>\n",
       "      <td>-0.107675</td>\n",
       "      <td>...</td>\n",
       "      <td>1.125451</td>\n",
       "      <td>1.127347</td>\n",
       "      <td>1.123727</td>\n",
       "      <td>1.117350</td>\n",
       "      <td>1.116847</td>\n",
       "      <td>1.121172</td>\n",
       "      <td>1.127742</td>\n",
       "      <td>1.139490</td>\n",
       "      <td>1.142334</td>\n",
       "      <td>1.132922</td>\n",
       "    </tr>\n",
       "  </tbody>\n",
       "</table>\n",
       "<p>3 rows × 2074 columns</p>\n",
       "</div>"
      ],
      "text/plain": [
       "   833.647   833.915   834.183   834.451   834.720   834.989   835.258   \\\n",
       "0 -0.073562 -0.073781 -0.073957 -0.073707 -0.072784 -0.072192 -0.072403   \n",
       "1 -0.109298 -0.109838 -0.110297 -0.110122 -0.109260 -0.108452 -0.108135   \n",
       "2 -0.110615 -0.111461 -0.111813 -0.111651 -0.110756 -0.109691 -0.109298   \n",
       "\n",
       "   835.527   835.796   836.066   ...  2478.624  2480.996  2483.372  2485.753  \\\n",
       "0 -0.072231 -0.071210 -0.070215  ...  1.431078  1.421277  1.418090  1.420809   \n",
       "1 -0.107888 -0.107455 -0.107120  ...  1.101811  1.095996  1.094685  1.095122   \n",
       "2 -0.109019 -0.108263 -0.107675  ...  1.125451  1.127347  1.123727  1.117350   \n",
       "\n",
       "   2488.138  2490.529  2492.924  2495.323  2497.727  2500.136  \n",
       "0  1.427156  1.431252  1.421493  1.406952  1.413567  1.418298  \n",
       "1  1.095522  1.094201  1.091799  1.091893  1.092368  1.081785  \n",
       "2  1.116847  1.121172  1.127742  1.139490  1.142334  1.132922  \n",
       "\n",
       "[3 rows x 2074 columns]"
      ]
     },
     "execution_count": 11,
     "metadata": {},
     "output_type": "execute_result"
    }
   ],
   "source": [
    "# input\n",
    "df_input_RG = df_RG.iloc[:, 4: ]\n",
    "df_input_RG.head(3)"
   ]
  },
  {
   "cell_type": "code",
   "execution_count": 13,
   "id": "256d9d21-b67b-4469-adc9-700d349adc32",
   "metadata": {},
   "outputs": [],
   "source": [
    "#output\n",
    "y_RG = df_RG['Condition']"
   ]
  },
  {
   "cell_type": "markdown",
   "id": "fc110feb-808a-4093-acb9-4a675ff46bd7",
   "metadata": {},
   "source": [
    "---"
   ]
  },
  {
   "cell_type": "markdown",
   "id": "e4e3b1cf-a901-48ba-becf-1a38496d966c",
   "metadata": {},
   "source": [
    "<b><i> Data visualisation </i></b> \n",
    "\n",
    "now, let us see explore the data, first let us pick 50 random samples"
   ]
  },
  {
   "cell_type": "code",
   "execution_count": 14,
   "id": "746f9ad2-fa74-4b7e-b5d2-6e7a4f170b05",
   "metadata": {},
   "outputs": [
    {
     "data": {
      "text/plain": [
       "array([387, 322, 324, 182, 128, 457,  56, 504,  34, 373, 463,  54,  71,\n",
       "       337, 140, 362, 279, 250, 230, 386, 257,  56,  37, 517, 481, 273,\n",
       "       277, 166, 399,  72, 248, 278,  18, 327, 173, 457, 452, 168, 458,\n",
       "       248, 449,  37, 444, 133,  22, 398, 425, 499, 395, 257])"
      ]
     },
     "execution_count": 14,
     "metadata": {},
     "output_type": "execute_result"
    }
   ],
   "source": [
    "n = 50\n",
    "rand  = np.random.randint(len(y_RG), size= n)\n",
    "rand # those are the indices to the apple samples that we will print"
   ]
  },
  {
   "cell_type": "code",
   "execution_count": 15,
   "id": "a712d7fb-2699-41e5-8c1a-488e51190d06",
   "metadata": {},
   "outputs": [
    {
     "data": {
      "image/png": "[encoded data removed]",
      "text/plain": [
       "<Figure size 432x288 with 1 Axes>"
      ]
     },
     "metadata": {
      "needs_background": "light"
     },
     "output_type": "display_data"
    }
   ],
   "source": [
    "for t in range (n):\n",
    "    i = rand[t]\n",
    "    lineSpec =  np.array(df_input_RG.iloc[i]).flatten()\n",
    "    if y_RG[i] == 'S':\n",
    "        plt.plot(np.array(df_input_RG.columns), lineSpec, color = 'red') # plotting the good apples\n",
    "    if y_RG[i] == 'B':\n",
    "        plt.plot(np.array(df_input_RG.columns), lineSpec, color = 'blue') # plotting the bad apples\n",
    "    # plt.ylim(-1, 2)\n",
    "plt.show()"
   ]
  },
  {
   "cell_type": "markdown",
   "id": "cc6f0ff8-6861-4c4b-927a-c0c8653ca73b",
   "metadata": {},
   "source": [
    "Done"
   ]
  },
  {
   "cell_type": "markdown",
   "id": "943b4ecd-5d7f-410c-bb59-89cf1ce68bdb",
   "metadata": {},
   "source": [
    "---"
   ]
  },
  {
   "cell_type": "code",
   "execution_count": 16,
   "id": "c5a20618-39e7-4490-aeeb-ddc1156c353e",
   "metadata": {},
   "outputs": [],
   "source": [
    "# store the data "
   ]
  },
  {
   "cell_type": "code",
   "execution_count": 16,
   "id": "0142c6ab-bd12-4bf4-991f-fc8590d805a4",
   "metadata": {},
   "outputs": [
    {
     "name": "stdout",
     "output_type": "stream",
     "text": [
      "Stored 'df_input_RG' (DataFrame)\n",
      "Stored 'y_RG' (Series)\n",
      "Stored 'df_RG' (DataFrame)\n"
     ]
    }
   ],
   "source": [
    "%store  df_input_RG\n",
    "%store  y_RG\n",
    "%store  df_RG"
   ]
  },
  {
   "cell_type": "code",
   "execution_count": null,
   "id": "e4ff7c39-4867-478e-947d-5ca970052b01",
   "metadata": {},
   "outputs": [],
   "source": []
  }
 ],
 "metadata": {
  "kernelspec": {
   "display_name": "apple_kernel",
   "language": "python",
   "name": "apple_kernel"
  },
  "language_info": {
   "codemirror_mode": {
    "name": "ipython",
    "version": 3
   },
   "file_extension": ".py",
   "mimetype": "text/x-python",
   "name": "python",
   "nbconvert_exporter": "python",
   "pygments_lexer": "ipython3",
   "version": "3.8.10"
  }
 },
 "nbformat": 4,
 "nbformat_minor": 5
}
