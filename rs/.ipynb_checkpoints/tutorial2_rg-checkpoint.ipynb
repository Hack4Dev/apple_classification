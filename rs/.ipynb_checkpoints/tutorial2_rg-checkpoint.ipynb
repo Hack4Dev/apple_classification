{
 "cells": [
  {
   "cell_type": "markdown",
   "id": "4e9e84e8-1d14-4583-aac0-62d7cec61430",
   "metadata": {},
   "source": [
    "# Tutorial 2: Feature importance, and some scatter plots (RG)"
   ]
  },
  {
   "cell_type": "markdown",
   "id": "6d561e63-85f5-4bba-847d-907f0e3392e3",
   "metadata": {},
   "source": [
    "---"
   ]
  },
  {
   "cell_type": "markdown",
   "id": "e994b14f-17a9-4daf-a82a-04ee70ed8f49",
   "metadata": {},
   "source": [
    "The aim of this notebook, is to reorder the 2074 columns according to their importance\n",
    "\n",
    "First, let us recall the data from the previous notebook"
   ]
  },
  {
   "cell_type": "code",
   "execution_count": 13,
   "id": "8f9e1d65-2442-4b33-afcf-8f781ae6add5",
   "metadata": {},
   "outputs": [],
   "source": [
    "%store -r df_input_RG\n",
    "%store -r y_RG\n",
    "%store -r df_RG\n"
   ]
  },
  {
   "cell_type": "markdown",
   "id": "ee2c793a-3d90-441c-9bc3-d546656ce534",
   "metadata": {},
   "source": [
    "<b><i> Data splitting </i></b> "
   ]
  },
  {
   "cell_type": "code",
   "execution_count": 14,
   "id": "0055b953-a0eb-45b3-924b-40f227d5184c",
   "metadata": {},
   "outputs": [],
   "source": [
    "from sklearn.model_selection import train_test_split\n",
    "\n",
    "Xtrain, Xtest, Ytrain, Ytest = train_test_split( df_input_RG, y_RG, test_size = 0.3, random_state=3, stratify=y_RG) # train and valid sets"
   ]
  },
  {
   "cell_type": "code",
   "execution_count": 15,
   "id": "fd99ebbc-2c26-48e3-a8bf-c355eb5cfe96",
   "metadata": {},
   "outputs": [
    {
     "name": "stdout",
     "output_type": "stream",
     "text": [
      "(393, 2074)\n",
      "(169, 2074)\n"
     ]
    }
   ],
   "source": [
    "print(Xtrain.shape)\n",
    "print(Xtest.shape)"
   ]
  },
  {
   "cell_type": "markdown",
   "id": "aaf181b9-306a-49eb-9519-f1636bb76070",
   "metadata": {},
   "source": [
    "---"
   ]
  },
  {
   "cell_type": "markdown",
   "id": "cab4d6ca-a608-41be-b571-b44f0a631403",
   "metadata": {},
   "source": [
    "<b><i> Permutation Importance </i></b> "
   ]
  },
  {
   "cell_type": "code",
   "execution_count": 16,
   "id": "34f9f754-9f79-4fb8-acc8-8d5baac366c9",
   "metadata": {},
   "outputs": [],
   "source": [
    "from sklearn.ensemble import RandomForestClassifier\n",
    "from sklearn.inspection import permutation_importance\n",
    "from random import *\n",
    "import random\n",
    "from matplotlib import pyplot\n",
    "import numpy as np"
   ]
  },
  {
   "cell_type": "code",
   "execution_count": 17,
   "id": "0db85c94-a468-467e-95af-e6c1e31c18b6",
   "metadata": {},
   "outputs": [],
   "source": [
    "featImp_RG = [] # an empty list to store the important features"
   ]
  },
  {
   "cell_type": "code",
   "execution_count": null,
   "id": "496fa754-9171-4537-a4a9-52ef6ae29163",
   "metadata": {
    "tags": []
   },
   "outputs": [
    {
     "name": "stdout",
     "output_type": "stream",
     "text": [
      "itr: 0\n",
      "Train shape: (223, 2074)\n",
      "Valid shape: (170, 2074)\n",
      "\n"
     ]
    }
   ],
   "source": [
    "for i in range (1000): # we will take the average of 1000 permutations, with different sizes and random splits (you can increase the number for it to be more robust)\n",
    "    print(\"itr: \" + str(i))\n",
    "    \n",
    "    RandomStateValid = randrange(50)\n",
    "    ranodmSplitValid = random.uniform(0.2, 0.5)\n",
    "    XtrainPer, XvalidPer, YtrainPer, YvalidPer = train_test_split( np.array(Xtrain), np.array(Ytrain), test_size = ranodmSplitValid, random_state=RandomStateValid, stratify=Ytrain) # train and valid sets\n",
    "    print(\"Train shape: \"+str(XtrainPer.shape))\n",
    "    print(\"Valid shape: \"+str(XvalidPer.shape))\n",
    "    print()\n",
    "   \n",
    "    # train\n",
    "    model = RandomForestClassifier(n_estimators=50, random_state=0, n_jobs = -1)\n",
    "    model.fit(XtrainPer, YtrainPer)\n",
    "    \n",
    "    results = permutation_importance(model, XvalidPer, YvalidPer, scoring='precision_macro', n_repeats = 10, n_jobs = -1)\n",
    "    importance = results.importances_mean\n",
    "    # print(importance)\n",
    "\n",
    "    featImp_RG.append(importance)"
   ]
  },
  {
   "cell_type": "code",
   "execution_count": null,
   "id": "1e23bce7-34a5-4146-984d-f4a5a7ad59b4",
   "metadata": {},
   "outputs": [],
   "source": [
    "%store featImp_RG"
   ]
  },
  {
   "cell_type": "code",
   "execution_count": null,
   "id": "5c74f811-c95c-45b9-8b7a-f740c432d48b",
   "metadata": {},
   "outputs": [],
   "source": [
    "# we need to continue with this notebook."
   ]
  },
  {
   "cell_type": "code",
   "execution_count": null,
   "id": "3d1ad3c0-d4c7-4529-89b5-539d98c55e98",
   "metadata": {},
   "outputs": [],
   "source": [
    "print(1)"
   ]
  }
 ],
 "metadata": {
  "kernelspec": {
   "display_name": "apple_kernel",
   "language": "python",
   "name": "apple_kernel"
  },
  "language_info": {
   "codemirror_mode": {
    "name": "ipython",
    "version": 3
   },
   "file_extension": ".py",
   "mimetype": "text/x-python",
   "name": "python",
   "nbconvert_exporter": "python",
   "pygments_lexer": "ipython3",
   "version": "3.8.10"
  }
 },
 "nbformat": 4,
 "nbformat_minor": 5
}
