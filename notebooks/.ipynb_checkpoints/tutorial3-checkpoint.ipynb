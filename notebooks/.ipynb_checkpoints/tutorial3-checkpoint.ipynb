{
 "cells": [
  {
   "cell_type": "markdown",
   "id": "bc53ee8f-85f2-4538-a4c4-ba2994de412d",
   "metadata": {},
   "source": [
    "# Tutorial 3: Baseline Calculation."
   ]
  },
  {
   "cell_type": "markdown",
   "id": "d2cf0528-c3f2-4596-91b8-2bc5c44e5b89",
   "metadata": {},
   "source": [
    "Before we try the fancy feature selection methods with machine learning, we will need to construct a basic machine learning model to evaluate their effectiveness on the testing set. In this notebook, we will use linear methods like logistic regression (LR) on the whole wavelength spectrum without feature selection/reduction methods; such a method can be called a baseline. \n",
    "\n",
    "LR is a simple linear statistical method that can linearly classify between objects. In this notbook, we will use LR to classify between Sound `S` and Bruised`B` apples. \n",
    "\n",
    "If you are not aware of the classification metrics, you can take a look at the following [link](https://developers.google.com/machine-learning/crash-course/classification/video-lecture)."
   ]
  },
  {
   "cell_type": "markdown",
   "id": "f79df0d4-890e-4ac7-9974-ad1270aa5fe5",
   "metadata": {},
   "source": [
    "---"
   ]
  },
  {
   "cell_type": "code",
   "execution_count": 2,
   "id": "afe38816-b8e6-4261-a331-cd9af0a89f80",
   "metadata": {},
   "outputs": [],
   "source": [
    "# Python packages \n",
    "import pandas as pd # for importing data into data frame format\n",
    "import seaborn as sns # For drawing useful graphs, such as bar graphs\n",
    "import numpy as np\n",
    "import matplotlib.pyplot as plt\n",
    "\n",
    "import sys\n",
    "sys.path.append(\"..\")\n",
    "from source.utils import split #  a pre-defined function to split the data into training and testing\n"
   ]
  },
  {
   "cell_type": "markdown",
   "id": "abb084a0-b04d-4eb7-9d0f-463503531a1b",
   "metadata": {},
   "source": [
    "First, let us call the data"
   ]
  },
  {
   "cell_type": "code",
   "execution_count": 13,
   "id": "2f0f6cd0-c654-4fb5-9824-e6d153394237",
   "metadata": {},
   "outputs": [
    {
     "name": "stdout",
     "output_type": "stream",
     "text": [
      "(503, 2074)\n"
     ]
    }
   ],
   "source": [
    "%store -r X\n",
    "%store -r Y\n",
    "%store -r df\n",
    "print(X.shape) # printing the shape the dataframe X"
   ]
  },
  {
   "cell_type": "code",
   "execution_count": 31,
   "id": "2a393b7e-4095-452b-bc26-a6bcf3001399",
   "metadata": {},
   "outputs": [
    {
     "data": {
      "text/plain": [
       "0      0\n",
       "1      0\n",
       "2      1\n",
       "3      1\n",
       "4      0\n",
       "      ..\n",
       "498    1\n",
       "499    1\n",
       "500    0\n",
       "501    1\n",
       "502    1\n",
       "Name: Condition, Length: 503, dtype: int64"
      ]
     },
     "execution_count": 31,
     "metadata": {},
     "output_type": "execute_result"
    }
   ],
   "source": [
    "Y = Y.map({'S': 1, 'B': 0})\n",
    "Y"
   ]
  },
  {
   "cell_type": "markdown",
   "id": "a8fe0dc4-c9d2-4ebe-83b1-69055ef12480",
   "metadata": {},
   "source": [
    "---"
   ]
  },
  {
   "cell_type": "markdown",
   "id": "6a7d0b03-0127-4881-8ee2-f212b71a3c2f",
   "metadata": {},
   "source": [
    "### Data splitting"
   ]
  },
  {
   "cell_type": "code",
   "execution_count": 32,
   "id": "b3a1dcb5-4530-4075-ad85-15a14aa9871b",
   "metadata": {},
   "outputs": [],
   "source": [
    "Xtrain, Xtest, Ytrain, Ytest  = split(X, Y)"
   ]
  },
  {
   "cell_type": "code",
   "execution_count": 33,
   "id": "ac6a0f61-8f8b-4d4a-9d8b-e7312dd2dd46",
   "metadata": {},
   "outputs": [
    {
     "name": "stdout",
     "output_type": "stream",
     "text": [
      "(352, 2074)\n",
      "(352,)\n"
     ]
    }
   ],
   "source": [
    "print(Xtrain.shape)\n",
    "print(Ytrain.shape)"
   ]
  },
  {
   "cell_type": "markdown",
   "id": "33f03a13-f9a2-4a6d-8526-7c2c1ca7ce31",
   "metadata": {},
   "source": [
    "---"
   ]
  },
  {
   "cell_type": "markdown",
   "id": "9cfdeca0-e5fd-4164-9115-26cbf52161b8",
   "metadata": {},
   "source": [
    "### Baseline (LR) training"
   ]
  },
  {
   "cell_type": "code",
   "execution_count": 34,
   "id": "592805f0-40eb-45dc-ac8b-78cb21e7049e",
   "metadata": {},
   "outputs": [],
   "source": [
    "from sklearn.linear_model import LogisticRegression\n"
   ]
  },
  {
   "cell_type": "code",
   "execution_count": 35,
   "id": "3189f8e7-1286-4f36-a5d5-da0d478131c8",
   "metadata": {},
   "outputs": [
    {
     "data": {
      "text/plain": [
       "LogisticRegression(random_state=0, solver='newton-cg')"
      ]
     },
     "execution_count": 35,
     "metadata": {},
     "output_type": "execute_result"
    }
   ],
   "source": [
    "LR = LogisticRegression(random_state=0, solver=\"newton-cg\") #defining the model\n",
    "LR.fit(Xtrain.values, Ytrain) # training the machine learning model"
   ]
  },
  {
   "cell_type": "markdown",
   "id": "10a5224a-032d-4f0a-b271-c437aceabfc9",
   "metadata": {},
   "source": [
    "### Testing the machine learning model"
   ]
  },
  {
   "cell_type": "code",
   "execution_count": 40,
   "id": "9ca6a19c-bad0-4b96-8919-74d14ad8b914",
   "metadata": {},
   "outputs": [],
   "source": [
    "from sklearn.metrics import accuracy_score, precision_score"
   ]
  },
  {
   "cell_type": "code",
   "execution_count": 37,
   "id": "49e4f905-ae06-4ddc-ad9f-2f71ae12483b",
   "metadata": {},
   "outputs": [
    {
     "name": "stderr",
     "output_type": "stream",
     "text": [
      "/users/hussein/source/apple_classification/appleVer/lib/python3.8/site-packages/sklearn/utils/validation.py:1688: FutureWarning: Feature names only support names that are all strings. Got feature names with dtypes: ['float']. An error will be raised in 1.2.\n",
      "  warnings.warn(\n"
     ]
    },
    {
     "data": {
      "text/plain": [
       "0.7947019867549668"
      ]
     },
     "execution_count": 37,
     "metadata": {},
     "output_type": "execute_result"
    }
   ],
   "source": [
    "y_pred = LR.predict(Xtest)\n",
    "accuracy_score(Ytest.values, y_pred)"
   ]
  },
  {
   "cell_type": "markdown",
   "id": "2f16083f-5aa7-486e-bcd9-bd3320b7bc39",
   "metadata": {},
   "source": [
    "We have calculated the classification accuracy, which is about 80%, not bad for a baseline. However, we are more interested in evaluating our model in reducing the \"False Positives\" -> a bruised apple that the model thought was a sound apple. Hence, we need to calculate the precision score to reflect such measurement."
   ]
  },
  {
   "cell_type": "code",
   "execution_count": 41,
   "id": "ec14014c-e88d-49c5-8b56-448e80466684",
   "metadata": {},
   "outputs": [
    {
     "data": {
      "text/plain": [
       "0.7647058823529411"
      ]
     },
     "execution_count": 41,
     "metadata": {},
     "output_type": "execute_result"
    }
   ],
   "source": [
    "precision_score(Ytest.values, y_pred)"
   ]
  },
  {
   "cell_type": "markdown",
   "id": "219aef0b-72f0-43fd-b25b-2eb8a2ec66e9",
   "metadata": {},
   "source": [
    "The model has about 76% of precision score."
   ]
  },
  {
   "cell_type": "markdown",
   "id": "21b435dd-7800-4cd8-8f7b-785d304dfc99",
   "metadata": {},
   "source": [
    "Now let us test how more complicated models will perform against the baseline in the following tutorial"
   ]
  },
  {
   "cell_type": "code",
   "execution_count": null,
   "id": "d55e051b-7506-442d-8224-104e850c2713",
   "metadata": {},
   "outputs": [],
   "source": []
  }
 ],
 "metadata": {
  "kernelspec": {
   "display_name": "apple_kernel",
   "language": "python",
   "name": "apple_kernel"
  },
  "language_info": {
   "codemirror_mode": {
    "name": "ipython",
    "version": 3
   },
   "file_extension": ".py",
   "mimetype": "text/x-python",
   "name": "python",
   "nbconvert_exporter": "python",
   "pygments_lexer": "ipython3",
   "version": "3.8.10"
  }
 },
 "nbformat": 4,
 "nbformat_minor": 5
}
