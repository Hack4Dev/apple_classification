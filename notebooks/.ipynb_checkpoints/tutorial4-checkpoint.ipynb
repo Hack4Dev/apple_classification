{
 "cells": [
  {
   "cell_type": "markdown",
   "id": "ec350791-8135-4ee4-a1ab-69ee8dd023b8",
   "metadata": {},
   "source": [
    "# Tutorial 4: Machine learning classification."
   ]
  },
  {
   "cell_type": "markdown",
   "id": "45691b39-c4e8-49c3-9ff2-71be5842abe5",
   "metadata": {},
   "source": [
    "---"
   ]
  },
  {
   "cell_type": "markdown",
   "id": "c7d544e0-f056-4659-8e50-e2876e257f76",
   "metadata": {},
   "source": [
    "In this tutorial, we will use [random forest](https://scikit-learn.org/stable/modules/generated/sklearn.ensemble.RandomForestClassifier.html) (RF) to classify between bruised `B` and sound `S` apples.\n",
    "\n",
    "The input will be the best 10 features we made in tutorial3; it will be exciting to see how 10 features with RF can hold up against the baseline we made in tutorial 2."
   ]
  },
  {
   "cell_type": "markdown",
   "id": "fceb0f29-58cc-46b2-97ec-2050ea962a44",
   "metadata": {},
   "source": [
    "First, let us recall the data from the previous notebooks"
   ]
  },
  {
   "cell_type": "code",
   "execution_count": 1,
   "id": "06a99b84-835b-4927-a9bf-395818c64f8f",
   "metadata": {},
   "outputs": [],
   "source": [
    "# ___Cell no. 1___\n",
    "\n",
    "%store -r Y\n",
    "%store -r X_arrayRol \n",
    "%store -r selected_indexes "
   ]
  },
  {
   "cell_type": "markdown",
   "id": "f838324f-493a-4065-b2b8-a949ea740b10",
   "metadata": {},
   "source": [
    "`Notice`: `X_arrayRol` is a list of length 4 which corresponds to the following:\n",
    "   - rolling mean of 10\n",
    "   - rolling mean of 30\n",
    "   - rolling mean of 50\n",
    "   - rolling mean of 100\n",
    "   \n",
    "   Where as `selected_indexes` are a boolean for the best 10 features for each data mentioned above\n",
    "\n",
    "    "
   ]
  },
  {
   "cell_type": "code",
   "execution_count": 2,
   "id": "57c080a1-a94f-449f-a3b6-da2941992737",
   "metadata": {},
   "outputs": [
    {
     "data": {
      "text/plain": [
       "0      0\n",
       "1      0\n",
       "2      1\n",
       "3      1\n",
       "4      0\n",
       "      ..\n",
       "498    1\n",
       "499    1\n",
       "500    0\n",
       "501    1\n",
       "502    1\n",
       "Name: Condition, Length: 503, dtype: int64"
      ]
     },
     "execution_count": 2,
     "metadata": {},
     "output_type": "execute_result"
    }
   ],
   "source": [
    "# ___Cell no. 2___\n",
    "\n",
    "Y = Y.map({'S': 1, 'B': 0})\n",
    "Y"
   ]
  },
  {
   "cell_type": "markdown",
   "id": "f6b808fc-1f03-4557-af99-70f635569cc9",
   "metadata": {},
   "source": [
    "---"
   ]
  },
  {
   "cell_type": "markdown",
   "id": "798fa388-cafd-4d5a-8662-3cb690200c5a",
   "metadata": {},
   "source": [
    "#### Importing Packages"
   ]
  },
  {
   "cell_type": "code",
   "execution_count": 3,
   "id": "13234278-4414-4801-9f3c-b29efda79410",
   "metadata": {},
   "outputs": [],
   "source": [
    "# ___Cell no. 3___\n",
    "\n",
    "import sys\n",
    "sys.path.append(\"..\")\n",
    "####\n",
    "from sklearn.ensemble import RandomForestClassifier # a ML method\n",
    "from sklearn.metrics import accuracy_score, precision_score\n",
    "import numpy as np\n",
    "from source.utils import split #  a pre-defined function to split the data into training and testing|"
   ]
  },
  {
   "cell_type": "markdown",
   "id": "a381c137-9280-4e41-97f2-fb2809d2aa21",
   "metadata": {},
   "source": [
    "---"
   ]
  },
  {
   "cell_type": "markdown",
   "id": "8a47ad0f-d383-4cce-8273-6ec41040bf40",
   "metadata": {},
   "source": [
    "#### Training the machine learning model"
   ]
  },
  {
   "cell_type": "code",
   "execution_count": 4,
   "id": "421ec33a-c1ef-421d-bdd1-1595463dc09e",
   "metadata": {},
   "outputs": [
    {
     "name": "stdout",
     "output_type": "stream",
     "text": [
      "(503, 207)\n",
      "(207,)\n",
      "X training shape:(352, 10)\n",
      "Notice that we reduced the number of features from 207 to 10\n",
      "precision score= 0.7407407407407407\n",
      "##########\n",
      "(503, 69)\n",
      "(69,)\n",
      "X training shape:(352, 10)\n",
      "Notice that we reduced the number of features from 69 to 10\n",
      "precision score= 0.7529411764705882\n",
      "##########\n",
      "(503, 41)\n",
      "(41,)\n",
      "X training shape:(352, 10)\n",
      "Notice that we reduced the number of features from 41 to 10\n",
      "precision score= 0.7654320987654321\n",
      "##########\n",
      "(503, 20)\n",
      "(20,)\n",
      "X training shape:(352, 10)\n",
      "Notice that we reduced the number of features from 20 to 10\n",
      "precision score= 0.7571428571428571\n",
      "##########\n"
     ]
    }
   ],
   "source": [
    "# ___Cell no. 4___\n",
    "\n",
    "acc_list = [] # a list to save the accuracy score for the 4 different datasets we have\n",
    "prec_list = [] # a list to save the precision score for the 4 different datasets we have\n",
    "for x_roll,boolInd in zip (X_arrayRol, selected_indexes):\n",
    "    print(x_roll.shape)\n",
    "    print(boolInd.shape) # a boolean array to select the best 10 features\n",
    "    Xtrain, Xtest, Ytrain, Ytest  = split( x_roll.values[:,boolInd], Y )\n",
    "    print(\"X training shape:\" + str(Xtrain.shape))\n",
    "    print(\"Notice that we reduced the number of features from \" + str(x_roll.shape[1]) + \" to \" + str(Xtrain.shape[1]))\n",
    "    RF = RandomForestClassifier(random_state=0, n_estimators=500) #defining the model\n",
    "    RF.fit(Xtrain, Ytrain) # training the machine learning model\n",
    "    y_pred = RF.predict(Xtest)\n",
    "    \n",
    "#### Calculating the scores\n",
    "    prec = precision_score(Ytest.values, y_pred)\n",
    "    print(\"precision score= \"+str(prec))\n",
    "\n",
    "#### appending the score to a list\n",
    "    prec_list.append(prec) # append the precision score to a list.\n",
    "    \n",
    "#### Done\n",
    "    print('##########')"
   ]
  },
  {
   "cell_type": "markdown",
   "id": "887f9e5d-df3e-4926-bb8d-b5d7f711a9dd",
   "metadata": {},
   "source": [
    "---"
   ]
  },
  {
   "cell_type": "markdown",
   "id": "8209eceb-ec12-4fc1-b98b-41cc76fc6c8e",
   "metadata": {},
   "source": [
    "#### Displaying performance relative to the baseline"
   ]
  },
  {
   "cell_type": "code",
   "execution_count": 5,
   "id": "5bbbc1bb-5609-4f0a-b344-fdee32f5c69a",
   "metadata": {},
   "outputs": [],
   "source": [
    "# ___Cell no. 5___\n",
    "\n",
    "import matplotlib.pyplot as plt"
   ]
  },
  {
   "cell_type": "code",
   "execution_count": 11,
   "id": "75c62bc0-7580-484a-b3aa-31b4c80d3b85",
   "metadata": {},
   "outputs": [
    {
     "name": "stdout",
     "output_type": "stream",
     "text": [
      "Now let us compare the Precision scores\n"
     ]
    },
    {
     "data": {
      "image/png": "[encoded data removed]",
      "text/plain": [
       "<Figure size 720x360 with 1 Axes>"
      ]
     },
     "metadata": {
      "needs_background": "light"
     },
     "output_type": "display_data"
    }
   ],
   "source": [
    "# ___Cell no. 6___\n",
    "\n",
    "print(\"Now let us compare the Precision scores\")\n",
    "plt.figure(figsize=(10, 5))\n",
    "\n",
    "mystring = \"roll_\"\n",
    "    \n",
    "# We make the second curve dashed so that it doesn't cover up the first\n",
    "plt.scatter([ str(s) + \"_roll_best10\" for s in [10, 30, 50, 100] ], prec_list, label = \"Precision\")\n",
    "plt.plot([ str(s) + \"_roll_best10\" for s in [10, 30, 50, 100] ], [0.764]*len(prec_list), label = \"Precision Baseline\", color = \"black\")\n",
    "\n",
    "\n",
    "\n",
    "# plt.title(\"GS apples\", fontweight ='bold', fontsize =12)    \n",
    "plt.xlabel(\"Features with different rolling window sizes\", fontweight ='bold', fontsize =12)\n",
    "plt.ylabel(\"Precision score\", fontweight ='bold', fontsize =12)\n",
    "plt.ylim([.7,.8])\n",
    "\n",
    "plt.legend()\n",
    "\n",
    "plt.show()"
   ]
  },
  {
   "cell_type": "markdown",
   "id": "0a442b1f-8dd6-4e00-a07e-e8763c53086b",
   "metadata": {},
   "source": [
    "From the above graph, we notice the following: \n",
    "   - The precision highest score is at `50_roll`\n",
    "   - the baseline is outperforming 3 feature sets out of 4\n",
    "   - the precision score at `50_roll` is slightly outperforming the baseline but does that even significant?"
   ]
  },
  {
   "cell_type": "markdown",
   "id": "19e976f7-f98f-4cc2-b38b-d116c645b217",
   "metadata": {},
   "source": [
    "---"
   ]
  },
  {
   "cell_type": "markdown",
   "id": "963099cd-df93-492f-85b4-9c854ab211ee",
   "metadata": {},
   "source": [
    "Now for the hackathon Task, on all three datasets, perform the following:\n",
    "   - Compare the best 10 features with all engineered features from the rolling window.\n",
    "   - try other machine learning models\n",
    "   - Perform hyperparameter optimization on all methods\n",
    "   - In tutorial 3, try other operations like the sum or skew instead of using the mean to aggregate between the values.\n",
    "   - Have fun, and enjoy."
   ]
  },
  {
   "cell_type": "markdown",
   "id": "1c5dcdc4-4e61-4b9b-87a1-928e6442067c",
   "metadata": {},
   "source": [
    " THE END"
   ]
  },
  {
   "cell_type": "code",
   "execution_count": null,
   "id": "b6c3f5cd-eafa-499a-a3e9-e7a76eb518fd",
   "metadata": {},
   "outputs": [],
   "source": []
  }
 ],
 "metadata": {
  "kernelspec": {
   "display_name": "apple_kernel",
   "language": "python",
   "name": "apple_kernel"
  },
  "language_info": {
   "codemirror_mode": {
    "name": "ipython",
    "version": 3
   },
   "file_extension": ".py",
   "mimetype": "text/x-python",
   "name": "python",
   "nbconvert_exporter": "python",
   "pygments_lexer": "ipython3",
   "version": "3.8.10"
  }
 },
 "nbformat": 4,
 "nbformat_minor": 5
}
