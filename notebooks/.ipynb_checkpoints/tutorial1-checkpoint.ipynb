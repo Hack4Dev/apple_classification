{
 "cells": [
  {
   "cell_type": "markdown",
   "id": "b4ce5652-3e89-4dca-9955-575ff1357469",
   "metadata": {},
   "source": [
    "# Tutorial 1: Data cleaning & visualization "
   ]
  },
  {
   "cell_type": "markdown",
   "id": "3671028e-c742-4157-adc8-5e41948a3ade",
   "metadata": {},
   "source": [
    "---"
   ]
  },
  {
   "cell_type": "markdown",
   "id": "f3a73e94-8655-4d5a-95ad-74fee7e74afe",
   "metadata": {},
   "source": [
    "## Introduction"
   ]
  },
  {
   "cell_type": "markdown",
   "id": "69f2b17e-2e3d-42fc-83b3-e77742320431",
   "metadata": {},
   "source": [
    "Welcome!, this tutorial will show you how to visualize apples infrared spectroscopy samples using python. From this tutorial you will learn:\n",
    "\n",
    " - how to read data into python from an Excel file\n",
    " - how to use dataframes (pandas package)\n",
    " - how to visualise infrared data\n",
    " - how to perform data standardization"
   ]
  },
  {
   "cell_type": "markdown",
   "id": "887a7634-4804-4493-94e5-460be85a26f5",
   "metadata": {},
   "source": [
    "For this tutorial, we have three kinds of apples namely Golden Delicious (`GD`), Granny Smith (`GS`), and Royal Gala (`RG`). The general purpose is to use infrared spectrum data to classify between bruised (`B`) sound (`S`) samples.\n",
    "\n",
    "All tutorials will use `GS` data, while participants have to solve the exercises on the other two data sets."
   ]
  },
  {
   "cell_type": "markdown",
   "id": "44bdef97-937b-4946-9d80-ab6c4d951f90",
   "metadata": {},
   "source": [
    "---"
   ]
  },
  {
   "cell_type": "markdown",
   "id": "965ea7ed-ba54-42f7-b0ab-9e626a515f31",
   "metadata": {},
   "source": [
    "First we import some libraries:"
   ]
  },
  {
   "cell_type": "code",
   "execution_count": 5,
   "id": "135c88bd-0b44-4ff6-b5d0-34ed3cbad53a",
   "metadata": {},
   "outputs": [],
   "source": [
    "# ___Cell no. 1___\n",
    "\n",
    "import pandas as pd # for importing data into data frame format\n",
    "import seaborn as sns # For drawing useful graphs, such as bar graphs\n",
    "from matplotlib.pyplot import show # This displays graphs once they have been created"
   ]
  },
  {
   "cell_type": "markdown",
   "id": "e46c6821-785c-4a74-96ac-d93345d28178",
   "metadata": {},
   "source": [
    "The above statements define the prefixes 'pd' and 'sns' which will be used to identify pandas and seaborn functions respectively in the following code."
   ]
  },
  {
   "cell_type": "markdown",
   "id": "4c3de0c6-74a8-4dea-8297-e725513c70b4",
   "metadata": {},
   "source": [
    "---"
   ]
  },
  {
   "cell_type": "markdown",
   "id": "76013295-d86e-4e9e-8eb5-11992024db4f",
   "metadata": {},
   "source": [
    "<b><i> Reading in data </i></b> \n",
    "\n",
    "The following code does the following:\n",
    "- reads data from an Excel file\n",
    "- converts the Excel file format into a Pandas dataframe "
   ]
  },
  {
   "cell_type": "code",
   "execution_count": 15,
   "id": "7ff07fc3-4969-4a71-9013-31217fa7e456",
   "metadata": {},
   "outputs": [],
   "source": [
    "# ___Cell no. 2___\n",
    "import os \n",
    "# \n",
    "df = pd.read_excel(os.path.abspath('../data/Detect-GS.xlsx')) # change the directory as needed"
   ]
  },
  {
   "cell_type": "markdown",
   "id": "30064ff1-0a67-421b-be5d-887ec6b32679",
   "metadata": {},
   "source": [
    "[**hint**](https://www.geeksforgeeks.org/python-os-path-abspath-method-with-example/): since the excel files lives in a sibling directory `../apple_classification/data` we have to use `os.path.abspath` as it returns the absolute path of current working directory with file name `../data/Detect-GD.xlsx`"
   ]
  },
  {
   "cell_type": "markdown",
   "id": "ee1f8ce8-cee8-464c-9426-29cde199c84d",
   "metadata": {},
   "source": [
    "---"
   ]
  },
  {
   "cell_type": "markdown",
   "id": "561423d6-b736-48e6-970a-6e5a9554aa4c",
   "metadata": {},
   "source": [
    "<b><i> Examining data </i></b> \n",
    "\n",
    "First let's take a look at the raw infrared data"
   ]
  },
  {
   "cell_type": "code",
   "execution_count": 19,
   "id": "7000c236-ec3a-47cd-9012-0177349bfe7a",
   "metadata": {},
   "outputs": [
    {
     "data": {
      "text/html": [
       "<div>\n",
       "<style scoped>\n",
       "    .dataframe tbody tr th:only-of-type {\n",
       "        vertical-align: middle;\n",
       "    }\n",
       "\n",
       "    .dataframe tbody tr th {\n",
       "        vertical-align: top;\n",
       "    }\n",
       "\n",
       "    .dataframe thead th {\n",
       "        text-align: right;\n",
       "    }\n",
       "</style>\n",
       "<table border=\"1\" class=\"dataframe\">\n",
       "  <thead>\n",
       "    <tr style=\"text-align: right;\">\n",
       "      <th></th>\n",
       "      <th>Sample</th>\n",
       "      <th>Condition</th>\n",
       "      <th>Age</th>\n",
       "      <th>Source</th>\n",
       "      <th>11995.49</th>\n",
       "      <th>11991.63</th>\n",
       "      <th>11987.78</th>\n",
       "      <th>11983.92</th>\n",
       "      <th>11980.06</th>\n",
       "      <th>11976.21</th>\n",
       "      <th>...</th>\n",
       "      <th>4034.497</th>\n",
       "      <th>4030.64</th>\n",
       "      <th>4026.783</th>\n",
       "      <th>4022.926</th>\n",
       "      <th>4019.069</th>\n",
       "      <th>4015.211</th>\n",
       "      <th>4011.354</th>\n",
       "      <th>4007.497</th>\n",
       "      <th>4003.64</th>\n",
       "      <th>3999.783</th>\n",
       "    </tr>\n",
       "  </thead>\n",
       "  <tbody>\n",
       "    <tr>\n",
       "      <th>0</th>\n",
       "      <td>GD-ch-bruise1.5h-10a</td>\n",
       "      <td>B</td>\n",
       "      <td>1h</td>\n",
       "      <td>S1</td>\n",
       "      <td>-0.083126</td>\n",
       "      <td>-0.082581</td>\n",
       "      <td>-0.082173</td>\n",
       "      <td>-0.081704</td>\n",
       "      <td>-0.081251</td>\n",
       "      <td>-0.080829</td>\n",
       "      <td>...</td>\n",
       "      <td>1.208914</td>\n",
       "      <td>1.216652</td>\n",
       "      <td>1.219303</td>\n",
       "      <td>1.207366</td>\n",
       "      <td>1.191071</td>\n",
       "      <td>1.185219</td>\n",
       "      <td>1.183722</td>\n",
       "      <td>1.175261</td>\n",
       "      <td>1.168796</td>\n",
       "      <td>1.191991</td>\n",
       "    </tr>\n",
       "    <tr>\n",
       "      <th>1</th>\n",
       "      <td>GD-ch-bruise1.5h-10b</td>\n",
       "      <td>B</td>\n",
       "      <td>1h</td>\n",
       "      <td>S1</td>\n",
       "      <td>-0.154684</td>\n",
       "      <td>-0.154762</td>\n",
       "      <td>-0.154668</td>\n",
       "      <td>-0.154153</td>\n",
       "      <td>-0.153504</td>\n",
       "      <td>-0.153067</td>\n",
       "      <td>...</td>\n",
       "      <td>0.744595</td>\n",
       "      <td>0.745167</td>\n",
       "      <td>0.743545</td>\n",
       "      <td>0.744555</td>\n",
       "      <td>0.750424</td>\n",
       "      <td>0.752385</td>\n",
       "      <td>0.752032</td>\n",
       "      <td>0.755532</td>\n",
       "      <td>0.755115</td>\n",
       "      <td>0.747916</td>\n",
       "    </tr>\n",
       "    <tr>\n",
       "      <th>2</th>\n",
       "      <td>GD-ch-bruise1.5h-10c</td>\n",
       "      <td>S</td>\n",
       "      <td>1h</td>\n",
       "      <td>S1</td>\n",
       "      <td>-0.066006</td>\n",
       "      <td>-0.065688</td>\n",
       "      <td>-0.065200</td>\n",
       "      <td>-0.064603</td>\n",
       "      <td>-0.064006</td>\n",
       "      <td>-0.063497</td>\n",
       "      <td>...</td>\n",
       "      <td>1.443587</td>\n",
       "      <td>1.456797</td>\n",
       "      <td>1.474139</td>\n",
       "      <td>1.478318</td>\n",
       "      <td>1.455842</td>\n",
       "      <td>1.425429</td>\n",
       "      <td>1.414297</td>\n",
       "      <td>1.446042</td>\n",
       "      <td>1.510794</td>\n",
       "      <td>1.534620</td>\n",
       "    </tr>\n",
       "    <tr>\n",
       "      <th>3</th>\n",
       "      <td>GD-ch-bruise1.5h-10d</td>\n",
       "      <td>S</td>\n",
       "      <td>1h</td>\n",
       "      <td>S1</td>\n",
       "      <td>-0.110366</td>\n",
       "      <td>-0.110041</td>\n",
       "      <td>-0.109542</td>\n",
       "      <td>-0.109117</td>\n",
       "      <td>-0.108661</td>\n",
       "      <td>-0.108094</td>\n",
       "      <td>...</td>\n",
       "      <td>1.257423</td>\n",
       "      <td>1.262108</td>\n",
       "      <td>1.269531</td>\n",
       "      <td>1.262279</td>\n",
       "      <td>1.243150</td>\n",
       "      <td>1.235391</td>\n",
       "      <td>1.237499</td>\n",
       "      <td>1.246332</td>\n",
       "      <td>1.265530</td>\n",
       "      <td>1.268394</td>\n",
       "    </tr>\n",
       "    <tr>\n",
       "      <th>4</th>\n",
       "      <td>GD-ch-bruise1.5h-11a</td>\n",
       "      <td>B</td>\n",
       "      <td>1h</td>\n",
       "      <td>S1</td>\n",
       "      <td>-0.142115</td>\n",
       "      <td>-0.141852</td>\n",
       "      <td>-0.141603</td>\n",
       "      <td>-0.141129</td>\n",
       "      <td>-0.140701</td>\n",
       "      <td>-0.140477</td>\n",
       "      <td>...</td>\n",
       "      <td>0.697953</td>\n",
       "      <td>0.696903</td>\n",
       "      <td>0.699350</td>\n",
       "      <td>0.704406</td>\n",
       "      <td>0.707838</td>\n",
       "      <td>0.709304</td>\n",
       "      <td>0.710684</td>\n",
       "      <td>0.711052</td>\n",
       "      <td>0.707295</td>\n",
       "      <td>0.703002</td>\n",
       "    </tr>\n",
       "  </tbody>\n",
       "</table>\n",
       "<p>5 rows × 2078 columns</p>\n",
       "</div>"
      ],
      "text/plain": [
       "                 Sample Condition Age Source  11995.49  11991.63  11987.78  \\\n",
       "0  GD-ch-bruise1.5h-10a         B  1h     S1 -0.083126 -0.082581 -0.082173   \n",
       "1  GD-ch-bruise1.5h-10b         B  1h     S1 -0.154684 -0.154762 -0.154668   \n",
       "2  GD-ch-bruise1.5h-10c         S  1h     S1 -0.066006 -0.065688 -0.065200   \n",
       "3  GD-ch-bruise1.5h-10d         S  1h     S1 -0.110366 -0.110041 -0.109542   \n",
       "4  GD-ch-bruise1.5h-11a         B  1h     S1 -0.142115 -0.141852 -0.141603   \n",
       "\n",
       "   11983.92  11980.06  11976.21  ...  4034.497   4030.64  4026.783  4022.926  \\\n",
       "0 -0.081704 -0.081251 -0.080829  ...  1.208914  1.216652  1.219303  1.207366   \n",
       "1 -0.154153 -0.153504 -0.153067  ...  0.744595  0.745167  0.743545  0.744555   \n",
       "2 -0.064603 -0.064006 -0.063497  ...  1.443587  1.456797  1.474139  1.478318   \n",
       "3 -0.109117 -0.108661 -0.108094  ...  1.257423  1.262108  1.269531  1.262279   \n",
       "4 -0.141129 -0.140701 -0.140477  ...  0.697953  0.696903  0.699350  0.704406   \n",
       "\n",
       "   4019.069  4015.211  4011.354  4007.497   4003.64  3999.783  \n",
       "0  1.191071  1.185219  1.183722  1.175261  1.168796  1.191991  \n",
       "1  0.750424  0.752385  0.752032  0.755532  0.755115  0.747916  \n",
       "2  1.455842  1.425429  1.414297  1.446042  1.510794  1.534620  \n",
       "3  1.243150  1.235391  1.237499  1.246332  1.265530  1.268394  \n",
       "4  0.707838  0.709304  0.710684  0.711052  0.707295  0.703002  \n",
       "\n",
       "[5 rows x 2078 columns]"
      ]
     },
     "execution_count": 19,
     "metadata": {},
     "output_type": "execute_result"
    }
   ],
   "source": [
    "# ___Cell no. 3___\n",
    "df.head(5) # shows the first 5 rows of the data frame"
   ]
  },
  {
   "cell_type": "markdown",
   "id": "6e0e0e8b-3547-443f-adcd-b4f110aa4027",
   "metadata": {},
   "source": [
    "In the above dataframe, the rows correspond to different apple `GS` samples, while the columns give the values of 2078 variables, which can be explained as follows:\n",
    "- Sample:\n",
    "- Condition: Bruised or Sound apple\n",
    "- Age:\n",
    "- Source:\n",
    "- 11995.49,...,3999.783: infrared data\n",
    "\n",
    "@@@ ask Fred to give you more info here."
   ]
  },
  {
   "cell_type": "code",
   "execution_count": 17,
   "id": "36e6eedc-cfb6-4277-9b2d-9049b0ad85c4",
   "metadata": {},
   "outputs": [
    {
     "name": "stdout",
     "output_type": "stream",
     "text": [
      "the shape of the nonfermented data is (547, 2078)\n",
      "where 547 is the number of rows, and\n",
      "2078 is the number of columns\n"
     ]
    }
   ],
   "source": [
    "# ___Cell no. 4___\n",
    "\n",
    "\n",
    "df_shape = df.shape # \"df_nf.shape\" produces a tuple of 2 numbers \n",
    "print(\"the shape of the nonfermented data is \"+str(df_shape) ) \n",
    "\n",
    "# The individual numbers in the tuple are accessed as follows:\n",
    "print(\"where \" + str(df_shape[0]) +\" is the number of rows, and\")\n",
    "print(str(df_shape[1]) +\" is the number of columns\")"
   ]
  },
  {
   "cell_type": "markdown",
   "id": "d7564f96-cd38-481a-807b-6f0f794d1859",
   "metadata": {},
   "source": [
    "This shows that we are working with high dimensional data, one of the major tasks is to reduce the data, this can be done manually using feature engineering methods, or automatically using deep learning. However, given the small amount of data we will be focusing on using feature engineering methods, this will be explored moor in tutorial 2."
   ]
  },
  {
   "cell_type": "markdown",
   "id": "c582391a-7088-42fa-9c41-0afd0cddfaf8",
   "metadata": {},
   "source": [
    "---"
   ]
  },
  {
   "cell_type": "markdown",
   "id": "c73fa602-d31f-4d35-82c5-4a4320527294",
   "metadata": {},
   "source": [
    "---\n",
    "**Exercise 1:** Please display the first 5 elements and the shape of the two other data sets (GD, RG)\n",
    "<br>\n"
   ]
  },
  {
   "cell_type": "code",
   "execution_count": 18,
   "id": "b6cb2d31-81ef-4052-8263-1eac240d235e",
   "metadata": {},
   "outputs": [],
   "source": [
    "#  ___ code here ____\n"
   ]
  },
  {
   "cell_type": "markdown",
   "id": "ab62074c-f656-44fb-85fd-584ce76637d2",
   "metadata": {},
   "source": [
    "---"
   ]
  },
  {
   "cell_type": "markdown",
   "id": "c187d191-d80e-49dc-a203-fcda81594fab",
   "metadata": {},
   "source": [
    "<b><i> Cleaning data </i></b> "
   ]
  },
  {
   "cell_type": "code",
   "execution_count": null,
   "id": "7e806021-7e6d-42eb-a170-e9f05cbacb60",
   "metadata": {},
   "outputs": [],
   "source": []
  }
 ],
 "metadata": {
  "kernelspec": {
   "display_name": "apple_kernel",
   "language": "python",
   "name": "apple_kernel"
  },
  "language_info": {
   "codemirror_mode": {
    "name": "ipython",
    "version": 3
   },
   "file_extension": ".py",
   "mimetype": "text/x-python",
   "name": "python",
   "nbconvert_exporter": "python",
   "pygments_lexer": "ipython3",
   "version": "3.8.10"
  }
 },
 "nbformat": 4,
 "nbformat_minor": 5
}
