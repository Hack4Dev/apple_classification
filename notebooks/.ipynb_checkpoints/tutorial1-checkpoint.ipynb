{
 "cells": [
  {
   "cell_type": "markdown",
   "id": "b4ce5652-3e89-4dca-9955-575ff1357469",
   "metadata": {},
   "source": [
    "# Tutorial 1: Data cleaning & visualization "
   ]
  },
  {
   "cell_type": "markdown",
   "id": "3671028e-c742-4157-adc8-5e41948a3ade",
   "metadata": {},
   "source": [
    "---"
   ]
  },
  {
   "cell_type": "markdown",
   "id": "f3a73e94-8655-4d5a-95ad-74fee7e74afe",
   "metadata": {},
   "source": [
    "### Introduction"
   ]
  },
  {
   "cell_type": "markdown",
   "id": "69f2b17e-2e3d-42fc-83b3-e77742320431",
   "metadata": {},
   "source": [
    "Welcome! This tutorial will show you how to visualize infrared spectroscopy samples from apples using python. From this tutorial you will learn:\n",
    "\n",
    " - how to read data into python from an Excel file\n",
    " - how to use dataframes (pandas package)\n",
    " - how to visualise infrared data\n",
    " - how to perform data standardization"
   ]
  },
  {
   "cell_type": "markdown",
   "id": "887a7634-4804-4493-94e5-460be85a26f5",
   "metadata": {},
   "source": [
    "For this tutorial, we have three kinds of apples namely Golden Delicious (`GD`), Granny Smith (`GS`), and Royal Gala (`RG`). The main practical purpose is to use infrared spectrum data to classify between bruised (`B`) sound (`S`) samples.\n",
    "\n",
    "All tutorials will use `GS` data, while participants have to solve the exercises on the other two data sets."
   ]
  },
  {
   "cell_type": "markdown",
   "id": "44bdef97-937b-4946-9d80-ab6c4d951f90",
   "metadata": {},
   "source": [
    "---"
   ]
  },
  {
   "cell_type": "markdown",
   "id": "965ea7ed-ba54-42f7-b0ab-9e626a515f31",
   "metadata": {},
   "source": [
    "First we import some libraries:"
   ]
  },
  {
   "cell_type": "code",
   "execution_count": 1,
   "id": "135c88bd-0b44-4ff6-b5d0-34ed3cbad53a",
   "metadata": {},
   "outputs": [],
   "source": [
    "# ___Cell no. 1___\n",
    "\n",
    "import pandas as pd # for importing data into data frame format\n",
    "import seaborn as sns # For drawing useful graphs, such as bar graphs\n",
    "import matplotlib.pyplot as plt # This displays graphs once they have been created\n",
    "import numpy as np # For handling N-DIMENSIONAL ARRAYS"
   ]
  },
  {
   "cell_type": "markdown",
   "id": "e46c6821-785c-4a74-96ac-d93345d28178",
   "metadata": {},
   "source": [
    "The above statements define the prefixes 'pd' and 'sns' which will be used to identify pandas and seaborn functions respectively in the following code."
   ]
  },
  {
   "cell_type": "markdown",
   "id": "4c3de0c6-74a8-4dea-8297-e725513c70b4",
   "metadata": {},
   "source": [
    "---"
   ]
  },
  {
   "cell_type": "markdown",
   "id": "76013295-d86e-4e9e-8eb5-11992024db4f",
   "metadata": {},
   "source": [
    "### Reading in data  \n",
    "\n",
    "The following code does the following:\n",
    "- reads data from an Excel file\n",
    "- converts the Excel file format into a Pandas dataframe "
   ]
  },
  {
   "cell_type": "code",
   "execution_count": 2,
   "id": "7ff07fc3-4969-4a71-9013-31217fa7e456",
   "metadata": {},
   "outputs": [],
   "source": [
    "# ___Cell no. 2___\n",
    "import os \n",
    "df = pd.read_excel(os.path.abspath('../data/Detect-GS.xlsx')) # change the directory as needed"
   ]
  },
  {
   "cell_type": "markdown",
   "id": "30064ff1-0a67-421b-be5d-887ec6b32679",
   "metadata": {},
   "source": [
    "Since the excel files lives in a sibling directory `../apple_classification/data` we have to use `os.path.abspath` as it returns the absolute path of current working directory with file name `../data/Detect-GD.xlsx` (see more information at [**this link**](https://www.geeksforgeeks.org/python-os-path-abspath-method-with-example/))"
   ]
  },
  {
   "cell_type": "markdown",
   "id": "ee1f8ce8-cee8-464c-9426-29cde199c84d",
   "metadata": {},
   "source": [
    "---"
   ]
  },
  {
   "cell_type": "markdown",
   "id": "561423d6-b736-48e6-970a-6e5a9554aa4c",
   "metadata": {},
   "source": [
    "### Examining data \n",
    "\n",
    "First let's take a look at the raw infrared data"
   ]
  },
  {
   "cell_type": "code",
   "execution_count": 3,
   "id": "7000c236-ec3a-47cd-9012-0177349bfe7a",
   "metadata": {},
   "outputs": [
    {
     "data": {
      "text/html": [
       "<div>\n",
       "<style scoped>\n",
       "    .dataframe tbody tr th:only-of-type {\n",
       "        vertical-align: middle;\n",
       "    }\n",
       "\n",
       "    .dataframe tbody tr th {\n",
       "        vertical-align: top;\n",
       "    }\n",
       "\n",
       "    .dataframe thead th {\n",
       "        text-align: right;\n",
       "    }\n",
       "</style>\n",
       "<table border=\"1\" class=\"dataframe\">\n",
       "  <thead>\n",
       "    <tr style=\"text-align: right;\">\n",
       "      <th></th>\n",
       "      <th>Sample</th>\n",
       "      <th>Condition</th>\n",
       "      <th>Age</th>\n",
       "      <th>Source</th>\n",
       "      <th>11995.49</th>\n",
       "      <th>11991.63</th>\n",
       "      <th>11987.78</th>\n",
       "      <th>11983.92</th>\n",
       "      <th>11980.06</th>\n",
       "      <th>11976.21</th>\n",
       "      <th>...</th>\n",
       "      <th>4034.497</th>\n",
       "      <th>4030.64</th>\n",
       "      <th>4026.783</th>\n",
       "      <th>4022.926</th>\n",
       "      <th>4019.069</th>\n",
       "      <th>4015.211</th>\n",
       "      <th>4011.354</th>\n",
       "      <th>4007.497</th>\n",
       "      <th>4003.64</th>\n",
       "      <th>3999.783</th>\n",
       "    </tr>\n",
       "  </thead>\n",
       "  <tbody>\n",
       "    <tr>\n",
       "      <th>0</th>\n",
       "      <td>GS-ch-bruise1h-10a</td>\n",
       "      <td>B</td>\n",
       "      <td>1h</td>\n",
       "      <td>S1</td>\n",
       "      <td>-0.113748</td>\n",
       "      <td>-0.113815</td>\n",
       "      <td>-0.114197</td>\n",
       "      <td>-0.114321</td>\n",
       "      <td>-0.114032</td>\n",
       "      <td>-0.113495</td>\n",
       "      <td>...</td>\n",
       "      <td>0.845574</td>\n",
       "      <td>0.850478</td>\n",
       "      <td>0.849688</td>\n",
       "      <td>0.844572</td>\n",
       "      <td>0.844248</td>\n",
       "      <td>0.849826</td>\n",
       "      <td>0.854541</td>\n",
       "      <td>0.849297</td>\n",
       "      <td>0.836767</td>\n",
       "      <td>0.830801</td>\n",
       "    </tr>\n",
       "    <tr>\n",
       "      <th>1</th>\n",
       "      <td>GS-ch-bruise1h-10b</td>\n",
       "      <td>B</td>\n",
       "      <td>1h</td>\n",
       "      <td>S1</td>\n",
       "      <td>-0.161664</td>\n",
       "      <td>-0.161498</td>\n",
       "      <td>-0.161212</td>\n",
       "      <td>-0.161013</td>\n",
       "      <td>-0.160861</td>\n",
       "      <td>-0.160329</td>\n",
       "      <td>...</td>\n",
       "      <td>0.428670</td>\n",
       "      <td>0.431408</td>\n",
       "      <td>0.433148</td>\n",
       "      <td>0.431059</td>\n",
       "      <td>0.426104</td>\n",
       "      <td>0.422003</td>\n",
       "      <td>0.420373</td>\n",
       "      <td>0.419252</td>\n",
       "      <td>0.419077</td>\n",
       "      <td>0.421115</td>\n",
       "    </tr>\n",
       "    <tr>\n",
       "      <th>2</th>\n",
       "      <td>GS-ch-bruise1h-10c</td>\n",
       "      <td>S</td>\n",
       "      <td>1h</td>\n",
       "      <td>S1</td>\n",
       "      <td>-0.139064</td>\n",
       "      <td>-0.138784</td>\n",
       "      <td>-0.138928</td>\n",
       "      <td>-0.138786</td>\n",
       "      <td>-0.138244</td>\n",
       "      <td>-0.137692</td>\n",
       "      <td>...</td>\n",
       "      <td>0.809659</td>\n",
       "      <td>0.808975</td>\n",
       "      <td>0.806819</td>\n",
       "      <td>0.805404</td>\n",
       "      <td>0.807540</td>\n",
       "      <td>0.810868</td>\n",
       "      <td>0.814169</td>\n",
       "      <td>0.812831</td>\n",
       "      <td>0.799328</td>\n",
       "      <td>0.783305</td>\n",
       "    </tr>\n",
       "    <tr>\n",
       "      <th>3</th>\n",
       "      <td>GS-ch-bruise1h-10d</td>\n",
       "      <td>S</td>\n",
       "      <td>1h</td>\n",
       "      <td>S1</td>\n",
       "      <td>-0.143663</td>\n",
       "      <td>-0.143526</td>\n",
       "      <td>-0.143718</td>\n",
       "      <td>-0.143459</td>\n",
       "      <td>-0.142628</td>\n",
       "      <td>-0.142030</td>\n",
       "      <td>...</td>\n",
       "      <td>0.682872</td>\n",
       "      <td>0.683971</td>\n",
       "      <td>0.688426</td>\n",
       "      <td>0.692536</td>\n",
       "      <td>0.690982</td>\n",
       "      <td>0.685393</td>\n",
       "      <td>0.679534</td>\n",
       "      <td>0.677676</td>\n",
       "      <td>0.682072</td>\n",
       "      <td>0.689607</td>\n",
       "    </tr>\n",
       "    <tr>\n",
       "      <th>4</th>\n",
       "      <td>GS-ch-bruise1h-11a</td>\n",
       "      <td>B</td>\n",
       "      <td>1h</td>\n",
       "      <td>S1</td>\n",
       "      <td>-0.166998</td>\n",
       "      <td>-0.166739</td>\n",
       "      <td>-0.166921</td>\n",
       "      <td>-0.166882</td>\n",
       "      <td>-0.166638</td>\n",
       "      <td>-0.166418</td>\n",
       "      <td>...</td>\n",
       "      <td>0.520031</td>\n",
       "      <td>0.521815</td>\n",
       "      <td>0.520814</td>\n",
       "      <td>0.518175</td>\n",
       "      <td>0.518827</td>\n",
       "      <td>0.523526</td>\n",
       "      <td>0.529133</td>\n",
       "      <td>0.532134</td>\n",
       "      <td>0.531992</td>\n",
       "      <td>0.529879</td>\n",
       "    </tr>\n",
       "  </tbody>\n",
       "</table>\n",
       "<p>5 rows × 2078 columns</p>\n",
       "</div>"
      ],
      "text/plain": [
       "               Sample Condition Age Source  11995.49  11991.63  11987.78  \\\n",
       "0  GS-ch-bruise1h-10a         B  1h     S1 -0.113748 -0.113815 -0.114197   \n",
       "1  GS-ch-bruise1h-10b         B  1h     S1 -0.161664 -0.161498 -0.161212   \n",
       "2  GS-ch-bruise1h-10c         S  1h     S1 -0.139064 -0.138784 -0.138928   \n",
       "3  GS-ch-bruise1h-10d         S  1h     S1 -0.143663 -0.143526 -0.143718   \n",
       "4  GS-ch-bruise1h-11a         B  1h     S1 -0.166998 -0.166739 -0.166921   \n",
       "\n",
       "   11983.92  11980.06  11976.21  ...  4034.497   4030.64  4026.783  4022.926  \\\n",
       "0 -0.114321 -0.114032 -0.113495  ...  0.845574  0.850478  0.849688  0.844572   \n",
       "1 -0.161013 -0.160861 -0.160329  ...  0.428670  0.431408  0.433148  0.431059   \n",
       "2 -0.138786 -0.138244 -0.137692  ...  0.809659  0.808975  0.806819  0.805404   \n",
       "3 -0.143459 -0.142628 -0.142030  ...  0.682872  0.683971  0.688426  0.692536   \n",
       "4 -0.166882 -0.166638 -0.166418  ...  0.520031  0.521815  0.520814  0.518175   \n",
       "\n",
       "   4019.069  4015.211  4011.354  4007.497   4003.64  3999.783  \n",
       "0  0.844248  0.849826  0.854541  0.849297  0.836767  0.830801  \n",
       "1  0.426104  0.422003  0.420373  0.419252  0.419077  0.421115  \n",
       "2  0.807540  0.810868  0.814169  0.812831  0.799328  0.783305  \n",
       "3  0.690982  0.685393  0.679534  0.677676  0.682072  0.689607  \n",
       "4  0.518827  0.523526  0.529133  0.532134  0.531992  0.529879  \n",
       "\n",
       "[5 rows x 2078 columns]"
      ]
     },
     "execution_count": 3,
     "metadata": {},
     "output_type": "execute_result"
    }
   ],
   "source": [
    "# ___Cell no. 3___\n",
    "df.head(5) # shows the first 5 rows of the data frame"
   ]
  },
  {
   "cell_type": "markdown",
   "id": "6e0e0e8b-3547-443f-adcd-b4f110aa4027",
   "metadata": {},
   "source": [
    "In the above dataframe, the rows correspond to different apple `GS` samples, while the columns give the values of 2078 variables, which can be explained as follows:\n",
    "- Sample ID\n",
    "- Condition: Bruised (B) or Sound (S) apple\n",
    "- Age (in hours)\n",
    "- Source\n",
    "- 11995.49,...,3999.783: evenly-spaced infrared wave numbers at which intensities are measured."
   ]
  },
  {
   "cell_type": "markdown",
   "id": "c81753e3",
   "metadata": {},
   "source": [
    "We may verify the shape of the data frame:"
   ]
  },
  {
   "cell_type": "code",
   "execution_count": 4,
   "id": "36e6eedc-cfb6-4277-9b2d-9049b0ad85c4",
   "metadata": {},
   "outputs": [
    {
     "name": "stdout",
     "output_type": "stream",
     "text": [
      "the shape of the infrared intensity data is (503, 2078)\n",
      "where 503 is the number of rows, and\n",
      "2078 is the number of columns\n"
     ]
    }
   ],
   "source": [
    "# ___Cell no. 4___\n",
    "\n",
    "\n",
    "df_shape = df.shape # \"df.shape\" produces a tuple of 2 numbers \n",
    "print(\"the shape of the infrared intensity data is \"+str(df_shape) ) \n",
    "\n",
    "# The individual numbers in the tuple are accessed as follows:\n",
    "print(\"where \" + str(df_shape[0]) +\" is the number of rows, and\")\n",
    "print(str(df_shape[1]) +\" is the number of columns\")"
   ]
  },
  {
   "cell_type": "markdown",
   "id": "d7564f96-cd38-481a-807b-6f0f794d1859",
   "metadata": {},
   "source": [
    "This shows that we are working with high-dimensional data. One of the major tasks is to reduce the data. This can be done manually using feature engineering methods, or automatically using deep learning. However, given the small number of samples we will be focusing on using feature engineering methods, this will be explored more in tutorial 2.\n"
   ]
  },
  {
   "cell_type": "markdown",
   "id": "c73fa602-d31f-4d35-82c5-4a4320527294",
   "metadata": {},
   "source": [
    "**Exercise 1:** Display the first 5 elements and the shape of the two other data sets (GD, RG)\n",
    "<br>\n"
   ]
  },
  {
   "cell_type": "code",
   "execution_count": 5,
   "id": "b6cb2d31-81ef-4052-8263-1eac240d235e",
   "metadata": {},
   "outputs": [],
   "source": [
    "#  ___ code here ____\n"
   ]
  },
  {
   "cell_type": "markdown",
   "id": "ab62074c-f656-44fb-85fd-584ce76637d2",
   "metadata": {},
   "source": [
    "---"
   ]
  },
  {
   "cell_type": "markdown",
   "id": "c187d191-d80e-49dc-a203-fcda81594fab",
   "metadata": {},
   "source": [
    "### Cleaning data"
   ]
  },
  {
   "cell_type": "markdown",
   "id": "c6d1e356-7827-4f70-b81f-2dcab51fc09c",
   "metadata": {},
   "source": [
    "First, let us change the column names, because wavelength values are more comprehensible than wavenumbers. The wavelengths are measured in nanometers. "
   ]
  },
  {
   "cell_type": "code",
   "execution_count": 6,
   "id": "7e806021-7e6d-42eb-a170-e9f05cbacb60",
   "metadata": {},
   "outputs": [
    {
     "name": "stdout",
     "output_type": "stream",
     "text": [
      "\n",
      " Example: wave number 11995.49 in inverse centimeters converts to a wavelength of 833.6466455309454 in nanometers\n",
      "\n"
     ]
    },
    {
     "data": {
      "text/html": [
       "<div>\n",
       "<style scoped>\n",
       "    .dataframe tbody tr th:only-of-type {\n",
       "        vertical-align: middle;\n",
       "    }\n",
       "\n",
       "    .dataframe tbody tr th {\n",
       "        vertical-align: top;\n",
       "    }\n",
       "\n",
       "    .dataframe thead th {\n",
       "        text-align: right;\n",
       "    }\n",
       "</style>\n",
       "<table border=\"1\" class=\"dataframe\">\n",
       "  <thead>\n",
       "    <tr style=\"text-align: right;\">\n",
       "      <th></th>\n",
       "      <th>Sample</th>\n",
       "      <th>Condition</th>\n",
       "      <th>Age</th>\n",
       "      <th>Source</th>\n",
       "      <th>833.647</th>\n",
       "      <th>833.915</th>\n",
       "      <th>834.183</th>\n",
       "      <th>834.451</th>\n",
       "      <th>834.72</th>\n",
       "      <th>834.989</th>\n",
       "      <th>...</th>\n",
       "      <th>2478.624</th>\n",
       "      <th>2480.996</th>\n",
       "      <th>2483.372</th>\n",
       "      <th>2485.753</th>\n",
       "      <th>2488.138</th>\n",
       "      <th>2490.529</th>\n",
       "      <th>2492.924</th>\n",
       "      <th>2495.323</th>\n",
       "      <th>2497.727</th>\n",
       "      <th>2500.136</th>\n",
       "    </tr>\n",
       "  </thead>\n",
       "  <tbody>\n",
       "    <tr>\n",
       "      <th>0</th>\n",
       "      <td>GS-ch-bruise1h-10a</td>\n",
       "      <td>B</td>\n",
       "      <td>1h</td>\n",
       "      <td>S1</td>\n",
       "      <td>-0.113748</td>\n",
       "      <td>-0.113815</td>\n",
       "      <td>-0.114197</td>\n",
       "      <td>-0.114321</td>\n",
       "      <td>-0.114032</td>\n",
       "      <td>-0.113495</td>\n",
       "      <td>...</td>\n",
       "      <td>0.845574</td>\n",
       "      <td>0.850478</td>\n",
       "      <td>0.849688</td>\n",
       "      <td>0.844572</td>\n",
       "      <td>0.844248</td>\n",
       "      <td>0.849826</td>\n",
       "      <td>0.854541</td>\n",
       "      <td>0.849297</td>\n",
       "      <td>0.836767</td>\n",
       "      <td>0.830801</td>\n",
       "    </tr>\n",
       "    <tr>\n",
       "      <th>1</th>\n",
       "      <td>GS-ch-bruise1h-10b</td>\n",
       "      <td>B</td>\n",
       "      <td>1h</td>\n",
       "      <td>S1</td>\n",
       "      <td>-0.161664</td>\n",
       "      <td>-0.161498</td>\n",
       "      <td>-0.161212</td>\n",
       "      <td>-0.161013</td>\n",
       "      <td>-0.160861</td>\n",
       "      <td>-0.160329</td>\n",
       "      <td>...</td>\n",
       "      <td>0.428670</td>\n",
       "      <td>0.431408</td>\n",
       "      <td>0.433148</td>\n",
       "      <td>0.431059</td>\n",
       "      <td>0.426104</td>\n",
       "      <td>0.422003</td>\n",
       "      <td>0.420373</td>\n",
       "      <td>0.419252</td>\n",
       "      <td>0.419077</td>\n",
       "      <td>0.421115</td>\n",
       "    </tr>\n",
       "    <tr>\n",
       "      <th>2</th>\n",
       "      <td>GS-ch-bruise1h-10c</td>\n",
       "      <td>S</td>\n",
       "      <td>1h</td>\n",
       "      <td>S1</td>\n",
       "      <td>-0.139064</td>\n",
       "      <td>-0.138784</td>\n",
       "      <td>-0.138928</td>\n",
       "      <td>-0.138786</td>\n",
       "      <td>-0.138244</td>\n",
       "      <td>-0.137692</td>\n",
       "      <td>...</td>\n",
       "      <td>0.809659</td>\n",
       "      <td>0.808975</td>\n",
       "      <td>0.806819</td>\n",
       "      <td>0.805404</td>\n",
       "      <td>0.807540</td>\n",
       "      <td>0.810868</td>\n",
       "      <td>0.814169</td>\n",
       "      <td>0.812831</td>\n",
       "      <td>0.799328</td>\n",
       "      <td>0.783305</td>\n",
       "    </tr>\n",
       "    <tr>\n",
       "      <th>3</th>\n",
       "      <td>GS-ch-bruise1h-10d</td>\n",
       "      <td>S</td>\n",
       "      <td>1h</td>\n",
       "      <td>S1</td>\n",
       "      <td>-0.143663</td>\n",
       "      <td>-0.143526</td>\n",
       "      <td>-0.143718</td>\n",
       "      <td>-0.143459</td>\n",
       "      <td>-0.142628</td>\n",
       "      <td>-0.142030</td>\n",
       "      <td>...</td>\n",
       "      <td>0.682872</td>\n",
       "      <td>0.683971</td>\n",
       "      <td>0.688426</td>\n",
       "      <td>0.692536</td>\n",
       "      <td>0.690982</td>\n",
       "      <td>0.685393</td>\n",
       "      <td>0.679534</td>\n",
       "      <td>0.677676</td>\n",
       "      <td>0.682072</td>\n",
       "      <td>0.689607</td>\n",
       "    </tr>\n",
       "  </tbody>\n",
       "</table>\n",
       "<p>4 rows × 2078 columns</p>\n",
       "</div>"
      ],
      "text/plain": [
       "               Sample Condition Age Source   833.647   833.915   834.183  \\\n",
       "0  GS-ch-bruise1h-10a         B  1h     S1 -0.113748 -0.113815 -0.114197   \n",
       "1  GS-ch-bruise1h-10b         B  1h     S1 -0.161664 -0.161498 -0.161212   \n",
       "2  GS-ch-bruise1h-10c         S  1h     S1 -0.139064 -0.138784 -0.138928   \n",
       "3  GS-ch-bruise1h-10d         S  1h     S1 -0.143663 -0.143526 -0.143718   \n",
       "\n",
       "    834.451    834.72   834.989  ...  2478.624  2480.996  2483.372  2485.753  \\\n",
       "0 -0.114321 -0.114032 -0.113495  ...  0.845574  0.850478  0.849688  0.844572   \n",
       "1 -0.161013 -0.160861 -0.160329  ...  0.428670  0.431408  0.433148  0.431059   \n",
       "2 -0.138786 -0.138244 -0.137692  ...  0.809659  0.808975  0.806819  0.805404   \n",
       "3 -0.143459 -0.142628 -0.142030  ...  0.682872  0.683971  0.688426  0.692536   \n",
       "\n",
       "   2488.138  2490.529  2492.924  2495.323  2497.727  2500.136  \n",
       "0  0.844248  0.849826  0.854541  0.849297  0.836767  0.830801  \n",
       "1  0.426104  0.422003  0.420373  0.419252  0.419077  0.421115  \n",
       "2  0.807540  0.810868  0.814169  0.812831  0.799328  0.783305  \n",
       "3  0.690982  0.685393  0.679534  0.677676  0.682072  0.689607  \n",
       "\n",
       "[4 rows x 2078 columns]"
      ]
     },
     "execution_count": 6,
     "metadata": {},
     "output_type": "execute_result"
    }
   ],
   "source": [
    "# ___Cell no. 5___\n",
    "\n",
    "wavenumbers = np.float_(df.columns[4:])\n",
    "wavelengths = (1/wavenumbers)*10**7 # changing the wavenumber to a wave length\n",
    "print(\"\\n Example: wave number \"+str(wavenumbers[0])+\" in inverse centimeters converts to a wavelength of \"+ str(wavelengths[0]) + \" in nanometers\\n\")\n",
    "\n",
    "df.columns.values[4:] = np.round(wavelengths, 3) # getting just up to 3 decimal numbers\n",
    "# Print first few rows\n",
    "df.head(4)"
   ]
  },
  {
   "cell_type": "markdown",
   "id": "12b706c0-5085-4d38-a2ce-5f0509e59d4c",
   "metadata": {},
   "source": [
    "Now let's check the frequencies of bruised and sound `GS` apples. "
   ]
  },
  {
   "cell_type": "code",
   "execution_count": 7,
   "id": "871cd7ce-c1fa-4bd0-bfea-848d91bd66fa",
   "metadata": {},
   "outputs": [
    {
     "data": {
      "image/png": "[encoded data removed]",
      "text/plain": [
       "<Figure size 432x288 with 1 Axes>"
      ]
     },
     "metadata": {
      "needs_background": "light"
     },
     "output_type": "display_data"
    }
   ],
   "source": [
    "# ___Cell no. 6___\n",
    "\n",
    "ax = sns.countplot(x=\"Condition\",data=df)"
   ]
  },
  {
   "cell_type": "markdown",
   "id": "47ed2636-98d0-48fc-b03b-0800d3443407",
   "metadata": {},
   "source": [
    "The graph shows that we have three clases of `GS` apples. However this is a mistake--the small `s` should be changed to `S`, giving two classes (this shows why you should always look at your data!). "
   ]
  },
  {
   "cell_type": "code",
   "execution_count": 8,
   "id": "a527634f-52ab-48d5-af34-3afcc047c954",
   "metadata": {},
   "outputs": [
    {
     "data": {
      "image/png": "[encoded data removed]",
      "text/plain": [
       "<Figure size 432x288 with 1 Axes>"
      ]
     },
     "metadata": {
      "needs_background": "light"
     },
     "output_type": "display_data"
    }
   ],
   "source": [
    "# ___Cell no. 7___\n",
    "\n",
    "df['Condition'] = df['Condition'].str.upper()\n",
    "ax = sns.countplot(x=\"Condition\",data=df)\n",
    "\n",
    "for p in ax.patches:\n",
    "    ax.annotate('{:.1f}'.format(p.get_height()), (p.get_x()+0.25, p.get_height()+0.01))\n",
    "\n",
    "plt.show()"
   ]
  },
  {
   "cell_type": "markdown",
   "id": "db499869-40e3-4aa3-8898-0a08b54c4120",
   "metadata": {},
   "source": [
    "Now we're done cleaning the `GS' data.  You can do the rest!\n"
   ]
  },
  {
   "cell_type": "markdown",
   "id": "da375a97-8574-4d7e-bfc2-88eceb4c4ffb",
   "metadata": {},
   "source": [
    "**Exercise 2:** Clean the other two datasets\n",
    "<br>"
   ]
  },
  {
   "cell_type": "code",
   "execution_count": 9,
   "id": "da2973bb-a2c1-4110-b91c-dffe959906c1",
   "metadata": {},
   "outputs": [],
   "source": [
    "#  ___ code here ____\n"
   ]
  },
  {
   "cell_type": "markdown",
   "id": "248db40f-cef6-4054-b78f-18308ca5e88a",
   "metadata": {},
   "source": [
    "---"
   ]
  },
  {
   "cell_type": "markdown",
   "id": "9ef5d318-a6e2-43c9-a1b1-f3e72ad24fe4",
   "metadata": {},
   "source": [
    "### Visualising the data "
   ]
  },
  {
   "cell_type": "markdown",
   "id": "0dade8f1-36cd-4310-99e0-4d94484605d9",
   "metadata": {},
   "source": [
    "Before we visualise the data, let us separate the dataframe into inputs (X) outputs (Y)"
   ]
  },
  {
   "cell_type": "code",
   "execution_count": 10,
   "id": "822d8786-37b2-4f97-875e-b825f5d99799",
   "metadata": {},
   "outputs": [
    {
     "data": {
      "text/html": [
       "<div>\n",
       "<style scoped>\n",
       "    .dataframe tbody tr th:only-of-type {\n",
       "        vertical-align: middle;\n",
       "    }\n",
       "\n",
       "    .dataframe tbody tr th {\n",
       "        vertical-align: top;\n",
       "    }\n",
       "\n",
       "    .dataframe thead th {\n",
       "        text-align: right;\n",
       "    }\n",
       "</style>\n",
       "<table border=\"1\" class=\"dataframe\">\n",
       "  <thead>\n",
       "    <tr style=\"text-align: right;\">\n",
       "      <th></th>\n",
       "      <th>833.647</th>\n",
       "      <th>833.915</th>\n",
       "      <th>834.183</th>\n",
       "      <th>834.451</th>\n",
       "      <th>834.720</th>\n",
       "      <th>834.989</th>\n",
       "      <th>835.258</th>\n",
       "      <th>835.527</th>\n",
       "      <th>835.796</th>\n",
       "      <th>836.066</th>\n",
       "      <th>...</th>\n",
       "      <th>2478.624</th>\n",
       "      <th>2480.996</th>\n",
       "      <th>2483.372</th>\n",
       "      <th>2485.753</th>\n",
       "      <th>2488.138</th>\n",
       "      <th>2490.529</th>\n",
       "      <th>2492.924</th>\n",
       "      <th>2495.323</th>\n",
       "      <th>2497.727</th>\n",
       "      <th>2500.136</th>\n",
       "    </tr>\n",
       "  </thead>\n",
       "  <tbody>\n",
       "    <tr>\n",
       "      <th>0</th>\n",
       "      <td>-0.113748</td>\n",
       "      <td>-0.113815</td>\n",
       "      <td>-0.114197</td>\n",
       "      <td>-0.114321</td>\n",
       "      <td>-0.114032</td>\n",
       "      <td>-0.113495</td>\n",
       "      <td>-0.113074</td>\n",
       "      <td>-0.113266</td>\n",
       "      <td>-0.114108</td>\n",
       "      <td>-0.114498</td>\n",
       "      <td>...</td>\n",
       "      <td>0.845574</td>\n",
       "      <td>0.850478</td>\n",
       "      <td>0.849688</td>\n",
       "      <td>0.844572</td>\n",
       "      <td>0.844248</td>\n",
       "      <td>0.849826</td>\n",
       "      <td>0.854541</td>\n",
       "      <td>0.849297</td>\n",
       "      <td>0.836767</td>\n",
       "      <td>0.830801</td>\n",
       "    </tr>\n",
       "    <tr>\n",
       "      <th>1</th>\n",
       "      <td>-0.161664</td>\n",
       "      <td>-0.161498</td>\n",
       "      <td>-0.161212</td>\n",
       "      <td>-0.161013</td>\n",
       "      <td>-0.160861</td>\n",
       "      <td>-0.160329</td>\n",
       "      <td>-0.159698</td>\n",
       "      <td>-0.159639</td>\n",
       "      <td>-0.160184</td>\n",
       "      <td>-0.160504</td>\n",
       "      <td>...</td>\n",
       "      <td>0.428670</td>\n",
       "      <td>0.431408</td>\n",
       "      <td>0.433148</td>\n",
       "      <td>0.431059</td>\n",
       "      <td>0.426104</td>\n",
       "      <td>0.422003</td>\n",
       "      <td>0.420373</td>\n",
       "      <td>0.419252</td>\n",
       "      <td>0.419077</td>\n",
       "      <td>0.421115</td>\n",
       "    </tr>\n",
       "    <tr>\n",
       "      <th>2</th>\n",
       "      <td>-0.139064</td>\n",
       "      <td>-0.138784</td>\n",
       "      <td>-0.138928</td>\n",
       "      <td>-0.138786</td>\n",
       "      <td>-0.138244</td>\n",
       "      <td>-0.137692</td>\n",
       "      <td>-0.137664</td>\n",
       "      <td>-0.138295</td>\n",
       "      <td>-0.139098</td>\n",
       "      <td>-0.139391</td>\n",
       "      <td>...</td>\n",
       "      <td>0.809659</td>\n",
       "      <td>0.808975</td>\n",
       "      <td>0.806819</td>\n",
       "      <td>0.805404</td>\n",
       "      <td>0.807540</td>\n",
       "      <td>0.810868</td>\n",
       "      <td>0.814169</td>\n",
       "      <td>0.812831</td>\n",
       "      <td>0.799328</td>\n",
       "      <td>0.783305</td>\n",
       "    </tr>\n",
       "  </tbody>\n",
       "</table>\n",
       "<p>3 rows × 2074 columns</p>\n",
       "</div>"
      ],
      "text/plain": [
       "   833.647   833.915   834.183   834.451   834.720   834.989   835.258   \\\n",
       "0 -0.113748 -0.113815 -0.114197 -0.114321 -0.114032 -0.113495 -0.113074   \n",
       "1 -0.161664 -0.161498 -0.161212 -0.161013 -0.160861 -0.160329 -0.159698   \n",
       "2 -0.139064 -0.138784 -0.138928 -0.138786 -0.138244 -0.137692 -0.137664   \n",
       "\n",
       "   835.527   835.796   836.066   ...  2478.624  2480.996  2483.372  2485.753  \\\n",
       "0 -0.113266 -0.114108 -0.114498  ...  0.845574  0.850478  0.849688  0.844572   \n",
       "1 -0.159639 -0.160184 -0.160504  ...  0.428670  0.431408  0.433148  0.431059   \n",
       "2 -0.138295 -0.139098 -0.139391  ...  0.809659  0.808975  0.806819  0.805404   \n",
       "\n",
       "   2488.138  2490.529  2492.924  2495.323  2497.727  2500.136  \n",
       "0  0.844248  0.849826  0.854541  0.849297  0.836767  0.830801  \n",
       "1  0.426104  0.422003  0.420373  0.419252  0.419077  0.421115  \n",
       "2  0.807540  0.810868  0.814169  0.812831  0.799328  0.783305  \n",
       "\n",
       "[3 rows x 2074 columns]"
      ]
     },
     "execution_count": 10,
     "metadata": {},
     "output_type": "execute_result"
    }
   ],
   "source": [
    "# ___Cell no. 8___\n",
    "\n",
    "#Inputs (which is the infrared spectral data)\n",
    "X = df.iloc[:, 4: ]\n",
    "X.head(3)"
   ]
  },
  {
   "cell_type": "code",
   "execution_count": 11,
   "id": "5e8e15a2-1bd4-478f-848b-de58a24039b0",
   "metadata": {},
   "outputs": [],
   "source": [
    "# ___Cell no. 9___\n",
    "\n",
    "#outputs (Sound and Bruised)\n",
    "Y = df['Condition']"
   ]
  },
  {
   "cell_type": "markdown",
   "id": "a36a5122-af56-4d28-8ddd-29fd511848e2",
   "metadata": {},
   "source": [
    "Visualising all the infrared samples at once will introduce a noisy graph, so let us select randomly about 50 samples."
   ]
  },
  {
   "cell_type": "code",
   "execution_count": 12,
   "id": "580a9f7b-6d89-4793-afe2-1ea6fbed5c30",
   "metadata": {},
   "outputs": [
    {
     "data": {
      "text/plain": [
       "array([342, 186, 347,  71, 247, 482, 422, 441, 325, 436, 409, 179, 394,\n",
       "       149, 426, 102, 450,  23, 208, 318, 374,  91,  55, 197, 486, 401,\n",
       "       233, 282, 281, 377, 392, 105,  97, 452, 363,  73, 101, 175, 413,\n",
       "        11, 348,   2, 196, 160, 123,   9,  90, 299, 385, 246])"
      ]
     },
     "execution_count": 12,
     "metadata": {},
     "output_type": "execute_result"
    }
   ],
   "source": [
    "# ___Cell no. 10___\n",
    "\n",
    "n = 50\n",
    "randIx  = np.random.choice(len(df), n, replace=False)# Random sample without replacement (avoids duplicates)\n",
    "randIx # those are the indices of randomly selected 50 apple samples"
   ]
  },
  {
   "cell_type": "markdown",
   "id": "7f277db7-2517-46de-b637-48dfbb903f29",
   "metadata": {},
   "source": [
    "Now let us visualise the samples"
   ]
  },
  {
   "cell_type": "markdown",
   "id": "003a17ab-f1bd-47d9-9d41-5dfa195fb280",
   "metadata": {},
   "source": [
    "**Exercise 3:** Notice that every time you run the cell above a different set of number will appear,\n",
    "Change the code above so that the same set of numbers apppears every time.\n",
    "\n",
    "hint: google search the following key words: `seed`, `numpy`\n",
    "<br>"
   ]
  },
  {
   "cell_type": "markdown",
   "id": "fd945df1",
   "metadata": {},
   "source": [
    "Finish the display. We convert the dataframes to numpy in order to use the power of numpy fancy indexing."
   ]
  },
  {
   "cell_type": "code",
   "execution_count": 14,
   "id": "b5a1330d-6ecc-4353-9d25-6c5239adde23",
   "metadata": {},
   "outputs": [
    {
     "data": {
      "image/png": "[encoded data removed]",
      "text/plain": [
       "<Figure size 432x288 with 1 Axes>"
      ]
     },
     "metadata": {
      "needs_background": "light"
     },
     "output_type": "display_data"
    }
   ],
   "source": [
    "# ___Cell no. 11___\n",
    "\n",
    "# Convert to numpy\n",
    "Xn = X.to_numpy(dtype = 'float')\n",
    "Yn = Y.to_numpy(dtype = 'str')\n",
    "\n",
    "# Select only the ones to display\n",
    "Xn = Xn[randIx,:]\n",
    "Yn = Yn[randIx]\n",
    "\n",
    "# number of samples, number of wavelengths\n",
    "ns,nw = np.shape(Xn)\n",
    "\n",
    "# Select Sound and Bruised samples\n",
    "S_Flag = (Yn =='S')\n",
    "B_Flag = (Yn == 'B')\n",
    "\n",
    "########\n",
    "\n",
    "plt.figure(figsize=(6, 4))\n",
    "\n",
    "plt.plot(np.array(X.columns),np.transpose(Xn[B_Flag,:])[:,:1],'b-', label = \"B\")\n",
    "plt.plot(np.array(X.columns),np.transpose(Xn[B_Flag,:])[:,1:],'b-')\n",
    "    \n",
    "# We make the second curve dashed so that it doesn't cover up the first\n",
    "plt.plot(np.array(X.columns),np.transpose(Xn[S_Flag,:])[:,:1],'r:', label = \"S\")\n",
    "plt.plot(np.array(X.columns),np.transpose(Xn[S_Flag,:])[:,1:],'r:')\n",
    "\n",
    "plt.title(\"GS apples\", fontweight ='bold', fontsize =12)    \n",
    "plt.xlabel(\"Wavelength (nm)\", fontweight ='bold', fontsize =12)\n",
    "plt.ylabel(\"Absorbance (au)\", fontweight ='bold', fontsize =12)\n",
    "plt.ylim([-.3,2.2])\n",
    "\n",
    "plt.legend()\n",
    "\n",
    "plt.show()"
   ]
  },
  {
   "cell_type": "markdown",
   "id": "22472ead-710f-4d06-8ec5-e7e2b79cbe07",
   "metadata": {},
   "source": [
    "**Exercise 4:** Do the visualization for the other 2 datasets\n",
    "<br>"
   ]
  },
  {
   "cell_type": "code",
   "execution_count": 15,
   "id": "092301fb-9426-4250-81ff-4bc044a0fc42",
   "metadata": {},
   "outputs": [],
   "source": [
    "#  ___ code here ____\n"
   ]
  },
  {
   "cell_type": "markdown",
   "id": "dee87f3b-ff00-40a9-9ded-21b538a2c61a",
   "metadata": {},
   "source": [
    "---"
   ]
  },
  {
   "cell_type": "markdown",
   "id": "3d623dce-cabb-4024-b2ad-82e4a1ed4812",
   "metadata": {},
   "source": [
    "### Standard Scaler "
   ]
  },
  {
   "cell_type": "markdown",
   "id": "2bf6b6f9-9e89-48da-896c-92db06383abf",
   "metadata": {},
   "source": [
    "Standardizing features transforms them so that each individual feature has mean 0 and unit variance. This is an often-recommended pre-processing step  when working with many machine learning algorithms. (see more information at [**this link**](https://machinelearningmastery.com/standardscaler-and-minmaxscaler-transforms-in-python/))\n"
   ]
  },
  {
   "cell_type": "code",
   "execution_count": 16,
   "id": "78c79772-6fba-464e-b6ea-f6263f3dd1f5",
   "metadata": {},
   "outputs": [
    {
     "name": "stderr",
     "output_type": "stream",
     "text": [
      "/users/hussein/.local/lib/python3.8/site-packages/sklearn/utils/validation.py:1688: FutureWarning: Feature names only support names that are all strings. Got feature names with dtypes: ['float']. An error will be raised in 1.2.\n",
      "  warnings.warn(\n",
      "/users/hussein/.local/lib/python3.8/site-packages/sklearn/utils/validation.py:1688: FutureWarning: Feature names only support names that are all strings. Got feature names with dtypes: ['float']. An error will be raised in 1.2.\n",
      "  warnings.warn(\n"
     ]
    },
    {
     "data": {
      "text/html": [
       "<div>\n",
       "<style scoped>\n",
       "    .dataframe tbody tr th:only-of-type {\n",
       "        vertical-align: middle;\n",
       "    }\n",
       "\n",
       "    .dataframe tbody tr th {\n",
       "        vertical-align: top;\n",
       "    }\n",
       "\n",
       "    .dataframe thead th {\n",
       "        text-align: right;\n",
       "    }\n",
       "</style>\n",
       "<table border=\"1\" class=\"dataframe\">\n",
       "  <thead>\n",
       "    <tr style=\"text-align: right;\">\n",
       "      <th></th>\n",
       "      <th>833.647</th>\n",
       "      <th>833.915</th>\n",
       "      <th>834.183</th>\n",
       "      <th>834.451</th>\n",
       "      <th>834.720</th>\n",
       "      <th>834.989</th>\n",
       "      <th>835.258</th>\n",
       "      <th>835.527</th>\n",
       "      <th>835.796</th>\n",
       "      <th>836.066</th>\n",
       "      <th>...</th>\n",
       "      <th>2478.624</th>\n",
       "      <th>2480.996</th>\n",
       "      <th>2483.372</th>\n",
       "      <th>2485.753</th>\n",
       "      <th>2488.138</th>\n",
       "      <th>2490.529</th>\n",
       "      <th>2492.924</th>\n",
       "      <th>2495.323</th>\n",
       "      <th>2497.727</th>\n",
       "      <th>2500.136</th>\n",
       "    </tr>\n",
       "  </thead>\n",
       "  <tbody>\n",
       "    <tr>\n",
       "      <th>0</th>\n",
       "      <td>-0.808493</td>\n",
       "      <td>-0.807557</td>\n",
       "      <td>-0.808127</td>\n",
       "      <td>-0.809277</td>\n",
       "      <td>-0.810315</td>\n",
       "      <td>-0.809986</td>\n",
       "      <td>-0.808822</td>\n",
       "      <td>-0.810160</td>\n",
       "      <td>-0.814925</td>\n",
       "      <td>-0.817989</td>\n",
       "      <td>...</td>\n",
       "      <td>-0.408186</td>\n",
       "      <td>-0.390167</td>\n",
       "      <td>-0.395094</td>\n",
       "      <td>-0.416035</td>\n",
       "      <td>-0.416191</td>\n",
       "      <td>-0.393794</td>\n",
       "      <td>-0.376064</td>\n",
       "      <td>-0.394183</td>\n",
       "      <td>-0.438806</td>\n",
       "      <td>-0.461273</td>\n",
       "    </tr>\n",
       "    <tr>\n",
       "      <th>1</th>\n",
       "      <td>-1.045204</td>\n",
       "      <td>-1.042834</td>\n",
       "      <td>-1.040064</td>\n",
       "      <td>-1.039891</td>\n",
       "      <td>-1.041951</td>\n",
       "      <td>-1.041888</td>\n",
       "      <td>-1.039677</td>\n",
       "      <td>-1.039588</td>\n",
       "      <td>-1.042774</td>\n",
       "      <td>-1.045571</td>\n",
       "      <td>...</td>\n",
       "      <td>-1.982225</td>\n",
       "      <td>-1.971150</td>\n",
       "      <td>-1.966837</td>\n",
       "      <td>-1.972678</td>\n",
       "      <td>-1.980933</td>\n",
       "      <td>-1.986981</td>\n",
       "      <td>-1.992071</td>\n",
       "      <td>-1.999241</td>\n",
       "      <td>-2.010441</td>\n",
       "      <td>-2.015706</td>\n",
       "    </tr>\n",
       "    <tr>\n",
       "      <th>2</th>\n",
       "      <td>-0.933558</td>\n",
       "      <td>-0.930759</td>\n",
       "      <td>-0.930131</td>\n",
       "      <td>-0.930111</td>\n",
       "      <td>-0.930078</td>\n",
       "      <td>-0.929796</td>\n",
       "      <td>-0.930579</td>\n",
       "      <td>-0.933991</td>\n",
       "      <td>-0.938503</td>\n",
       "      <td>-0.941131</td>\n",
       "      <td>...</td>\n",
       "      <td>-0.543787</td>\n",
       "      <td>-0.546740</td>\n",
       "      <td>-0.556853</td>\n",
       "      <td>-0.563482</td>\n",
       "      <td>-0.553554</td>\n",
       "      <td>-0.538869</td>\n",
       "      <td>-0.526329</td>\n",
       "      <td>-0.530286</td>\n",
       "      <td>-0.579681</td>\n",
       "      <td>-0.641481</td>\n",
       "    </tr>\n",
       "    <tr>\n",
       "      <th>3</th>\n",
       "      <td>-0.956279</td>\n",
       "      <td>-0.954154</td>\n",
       "      <td>-0.953762</td>\n",
       "      <td>-0.953193</td>\n",
       "      <td>-0.951764</td>\n",
       "      <td>-0.951278</td>\n",
       "      <td>-0.952847</td>\n",
       "      <td>-0.956050</td>\n",
       "      <td>-0.959460</td>\n",
       "      <td>-0.960475</td>\n",
       "      <td>...</td>\n",
       "      <td>-1.022473</td>\n",
       "      <td>-1.018331</td>\n",
       "      <td>-1.003590</td>\n",
       "      <td>-0.988366</td>\n",
       "      <td>-0.989729</td>\n",
       "      <td>-1.006131</td>\n",
       "      <td>-1.027455</td>\n",
       "      <td>-1.034726</td>\n",
       "      <td>-1.020874</td>\n",
       "      <td>-0.996992</td>\n",
       "    </tr>\n",
       "    <tr>\n",
       "      <th>4</th>\n",
       "      <td>-1.071554</td>\n",
       "      <td>-1.068693</td>\n",
       "      <td>-1.068226</td>\n",
       "      <td>-1.068877</td>\n",
       "      <td>-1.070526</td>\n",
       "      <td>-1.072038</td>\n",
       "      <td>-1.072885</td>\n",
       "      <td>-1.074952</td>\n",
       "      <td>-1.078072</td>\n",
       "      <td>-1.079284</td>\n",
       "      <td>...</td>\n",
       "      <td>-1.637289</td>\n",
       "      <td>-1.630079</td>\n",
       "      <td>-1.636046</td>\n",
       "      <td>-1.644734</td>\n",
       "      <td>-1.633950</td>\n",
       "      <td>-1.608915</td>\n",
       "      <td>-1.587258</td>\n",
       "      <td>-1.577930</td>\n",
       "      <td>-1.585577</td>\n",
       "      <td>-1.603032</td>\n",
       "    </tr>\n",
       "    <tr>\n",
       "      <th>...</th>\n",
       "      <td>...</td>\n",
       "      <td>...</td>\n",
       "      <td>...</td>\n",
       "      <td>...</td>\n",
       "      <td>...</td>\n",
       "      <td>...</td>\n",
       "      <td>...</td>\n",
       "      <td>...</td>\n",
       "      <td>...</td>\n",
       "      <td>...</td>\n",
       "      <td>...</td>\n",
       "      <td>...</td>\n",
       "      <td>...</td>\n",
       "      <td>...</td>\n",
       "      <td>...</td>\n",
       "      <td>...</td>\n",
       "      <td>...</td>\n",
       "      <td>...</td>\n",
       "      <td>...</td>\n",
       "      <td>...</td>\n",
       "      <td>...</td>\n",
       "    </tr>\n",
       "    <tr>\n",
       "      <th>498</th>\n",
       "      <td>-0.275430</td>\n",
       "      <td>-0.274320</td>\n",
       "      <td>-0.274200</td>\n",
       "      <td>-0.274479</td>\n",
       "      <td>-0.274608</td>\n",
       "      <td>-0.277242</td>\n",
       "      <td>-0.281107</td>\n",
       "      <td>-0.280976</td>\n",
       "      <td>-0.276278</td>\n",
       "      <td>-0.272611</td>\n",
       "      <td>...</td>\n",
       "      <td>-0.491406</td>\n",
       "      <td>-0.485925</td>\n",
       "      <td>-0.464286</td>\n",
       "      <td>-0.467758</td>\n",
       "      <td>-0.490807</td>\n",
       "      <td>-0.515450</td>\n",
       "      <td>-0.524820</td>\n",
       "      <td>-0.519023</td>\n",
       "      <td>-0.512824</td>\n",
       "      <td>-0.488398</td>\n",
       "    </tr>\n",
       "    <tr>\n",
       "      <th>499</th>\n",
       "      <td>-0.298707</td>\n",
       "      <td>-0.295062</td>\n",
       "      <td>-0.294296</td>\n",
       "      <td>-0.294798</td>\n",
       "      <td>-0.296765</td>\n",
       "      <td>-0.301067</td>\n",
       "      <td>-0.302066</td>\n",
       "      <td>-0.298652</td>\n",
       "      <td>-0.296644</td>\n",
       "      <td>-0.297677</td>\n",
       "      <td>...</td>\n",
       "      <td>-1.157046</td>\n",
       "      <td>-1.173071</td>\n",
       "      <td>-1.175726</td>\n",
       "      <td>-1.162370</td>\n",
       "      <td>-1.142283</td>\n",
       "      <td>-1.133218</td>\n",
       "      <td>-1.141321</td>\n",
       "      <td>-1.142113</td>\n",
       "      <td>-1.121310</td>\n",
       "      <td>-1.100813</td>\n",
       "    </tr>\n",
       "    <tr>\n",
       "      <th>500</th>\n",
       "      <td>-0.514468</td>\n",
       "      <td>-0.516540</td>\n",
       "      <td>-0.518424</td>\n",
       "      <td>-0.519333</td>\n",
       "      <td>-0.522529</td>\n",
       "      <td>-0.528154</td>\n",
       "      <td>-0.530454</td>\n",
       "      <td>-0.526756</td>\n",
       "      <td>-0.521762</td>\n",
       "      <td>-0.520717</td>\n",
       "      <td>...</td>\n",
       "      <td>-2.076827</td>\n",
       "      <td>-2.073034</td>\n",
       "      <td>-2.058804</td>\n",
       "      <td>-2.051791</td>\n",
       "      <td>-2.053137</td>\n",
       "      <td>-2.047367</td>\n",
       "      <td>-2.043846</td>\n",
       "      <td>-2.051221</td>\n",
       "      <td>-2.057879</td>\n",
       "      <td>-2.057166</td>\n",
       "    </tr>\n",
       "    <tr>\n",
       "      <th>501</th>\n",
       "      <td>0.014295</td>\n",
       "      <td>0.014717</td>\n",
       "      <td>0.016864</td>\n",
       "      <td>0.017340</td>\n",
       "      <td>0.015010</td>\n",
       "      <td>0.011359</td>\n",
       "      <td>0.009173</td>\n",
       "      <td>0.008830</td>\n",
       "      <td>0.009937</td>\n",
       "      <td>0.013005</td>\n",
       "      <td>...</td>\n",
       "      <td>1.524477</td>\n",
       "      <td>1.566631</td>\n",
       "      <td>1.663975</td>\n",
       "      <td>1.720487</td>\n",
       "      <td>1.749993</td>\n",
       "      <td>1.765076</td>\n",
       "      <td>1.669538</td>\n",
       "      <td>1.535575</td>\n",
       "      <td>1.491738</td>\n",
       "      <td>1.417050</td>\n",
       "    </tr>\n",
       "    <tr>\n",
       "      <th>502</th>\n",
       "      <td>-0.043146</td>\n",
       "      <td>-0.040346</td>\n",
       "      <td>-0.036064</td>\n",
       "      <td>-0.030800</td>\n",
       "      <td>-0.030823</td>\n",
       "      <td>-0.037644</td>\n",
       "      <td>-0.043614</td>\n",
       "      <td>-0.044646</td>\n",
       "      <td>-0.043338</td>\n",
       "      <td>-0.040831</td>\n",
       "      <td>...</td>\n",
       "      <td>1.016308</td>\n",
       "      <td>1.062550</td>\n",
       "      <td>1.068363</td>\n",
       "      <td>1.026454</td>\n",
       "      <td>1.018261</td>\n",
       "      <td>1.070707</td>\n",
       "      <td>1.120025</td>\n",
       "      <td>1.113597</td>\n",
       "      <td>1.065299</td>\n",
       "      <td>1.023382</td>\n",
       "    </tr>\n",
       "  </tbody>\n",
       "</table>\n",
       "<p>503 rows × 2074 columns</p>\n",
       "</div>"
      ],
      "text/plain": [
       "     833.647   833.915   834.183   834.451   834.720   834.989   835.258   \\\n",
       "0   -0.808493 -0.807557 -0.808127 -0.809277 -0.810315 -0.809986 -0.808822   \n",
       "1   -1.045204 -1.042834 -1.040064 -1.039891 -1.041951 -1.041888 -1.039677   \n",
       "2   -0.933558 -0.930759 -0.930131 -0.930111 -0.930078 -0.929796 -0.930579   \n",
       "3   -0.956279 -0.954154 -0.953762 -0.953193 -0.951764 -0.951278 -0.952847   \n",
       "4   -1.071554 -1.068693 -1.068226 -1.068877 -1.070526 -1.072038 -1.072885   \n",
       "..        ...       ...       ...       ...       ...       ...       ...   \n",
       "498 -0.275430 -0.274320 -0.274200 -0.274479 -0.274608 -0.277242 -0.281107   \n",
       "499 -0.298707 -0.295062 -0.294296 -0.294798 -0.296765 -0.301067 -0.302066   \n",
       "500 -0.514468 -0.516540 -0.518424 -0.519333 -0.522529 -0.528154 -0.530454   \n",
       "501  0.014295  0.014717  0.016864  0.017340  0.015010  0.011359  0.009173   \n",
       "502 -0.043146 -0.040346 -0.036064 -0.030800 -0.030823 -0.037644 -0.043614   \n",
       "\n",
       "     835.527   835.796   836.066   ...  2478.624  2480.996  2483.372  \\\n",
       "0   -0.810160 -0.814925 -0.817989  ... -0.408186 -0.390167 -0.395094   \n",
       "1   -1.039588 -1.042774 -1.045571  ... -1.982225 -1.971150 -1.966837   \n",
       "2   -0.933991 -0.938503 -0.941131  ... -0.543787 -0.546740 -0.556853   \n",
       "3   -0.956050 -0.959460 -0.960475  ... -1.022473 -1.018331 -1.003590   \n",
       "4   -1.074952 -1.078072 -1.079284  ... -1.637289 -1.630079 -1.636046   \n",
       "..        ...       ...       ...  ...       ...       ...       ...   \n",
       "498 -0.280976 -0.276278 -0.272611  ... -0.491406 -0.485925 -0.464286   \n",
       "499 -0.298652 -0.296644 -0.297677  ... -1.157046 -1.173071 -1.175726   \n",
       "500 -0.526756 -0.521762 -0.520717  ... -2.076827 -2.073034 -2.058804   \n",
       "501  0.008830  0.009937  0.013005  ...  1.524477  1.566631  1.663975   \n",
       "502 -0.044646 -0.043338 -0.040831  ...  1.016308  1.062550  1.068363   \n",
       "\n",
       "     2485.753  2488.138  2490.529  2492.924  2495.323  2497.727  2500.136  \n",
       "0   -0.416035 -0.416191 -0.393794 -0.376064 -0.394183 -0.438806 -0.461273  \n",
       "1   -1.972678 -1.980933 -1.986981 -1.992071 -1.999241 -2.010441 -2.015706  \n",
       "2   -0.563482 -0.553554 -0.538869 -0.526329 -0.530286 -0.579681 -0.641481  \n",
       "3   -0.988366 -0.989729 -1.006131 -1.027455 -1.034726 -1.020874 -0.996992  \n",
       "4   -1.644734 -1.633950 -1.608915 -1.587258 -1.577930 -1.585577 -1.603032  \n",
       "..        ...       ...       ...       ...       ...       ...       ...  \n",
       "498 -0.467758 -0.490807 -0.515450 -0.524820 -0.519023 -0.512824 -0.488398  \n",
       "499 -1.162370 -1.142283 -1.133218 -1.141321 -1.142113 -1.121310 -1.100813  \n",
       "500 -2.051791 -2.053137 -2.047367 -2.043846 -2.051221 -2.057879 -2.057166  \n",
       "501  1.720487  1.749993  1.765076  1.669538  1.535575  1.491738  1.417050  \n",
       "502  1.026454  1.018261  1.070707  1.120025  1.113597  1.065299  1.023382  \n",
       "\n",
       "[503 rows x 2074 columns]"
      ]
     },
     "execution_count": 16,
     "metadata": {},
     "output_type": "execute_result"
    }
   ],
   "source": [
    "# ___Cell no. 12___\n",
    "\n",
    "from sklearn.preprocessing import StandardScaler\n",
    "\n",
    "scaler = StandardScaler()\n",
    "x_scaled = scaler.fit_transform(X)\n",
    "\n",
    "X = pd.DataFrame(x_scaled, columns = X.columns)\n",
    "\n",
    "X"
   ]
  },
  {
   "cell_type": "markdown",
   "id": "960d0261-0b99-41f7-87ef-1b46c75bc383",
   "metadata": {},
   "source": [
    "now let us check the data after standardization"
   ]
  },
  {
   "cell_type": "code",
   "execution_count": 17,
   "id": "dc779632-8694-4198-a7db-0aea23287916",
   "metadata": {},
   "outputs": [
    {
     "data": {
      "image/png": "[encoded data removed]",
      "text/plain": [
       "<Figure size 432x288 with 1 Axes>"
      ]
     },
     "metadata": {
      "needs_background": "light"
     },
     "output_type": "display_data"
    }
   ],
   "source": [
    "# ___Cell no. 13___\n",
    "\n",
    "# Convert to numpy\n",
    "Xn = X.to_numpy(dtype = 'float')\n",
    "Yn = Y.to_numpy(dtype = 'str')\n",
    "\n",
    "# Select only the ones to display\n",
    "Xn = Xn[randIx,:]\n",
    "Yn = Yn[randIx]\n",
    "\n",
    "# number of samples, number of wavelengths\n",
    "ns,nw = np.shape(Xn)\n",
    "\n",
    "# Select Sound and Bruised samples\n",
    "S_Flag = (Yn =='S')\n",
    "B_Flag = (Yn == 'B')\n",
    "\n",
    "#####\n",
    "\n",
    "plt.figure(figsize=(6, 4))\n",
    "\n",
    "plt.plot(np.array(X.columns),np.transpose(Xn[B_Flag,:])[:,:1],'b-', label = \"B\")\n",
    "plt.plot(np.array(X.columns),np.transpose(Xn[B_Flag,:])[:,1:],'b-')\n",
    "    \n",
    "# We make the second curve dashed so that it doesn't cover up the first\n",
    "plt.plot(np.array(X.columns),np.transpose(Xn[S_Flag,:])[:,:1],'r:', label = \"S\")\n",
    "plt.plot(np.array(X.columns),np.transpose(Xn[S_Flag,:])[:,1:],'r:')\n",
    "\n",
    "plt.title(\"GS apples\", fontweight ='bold', fontsize =12)    \n",
    "plt.xlabel(\"Wavelength (nm)\", fontweight ='bold', fontsize =12)\n",
    "plt.ylabel(\"Absorbance (au)\", fontweight ='bold', fontsize =12)\n",
    "plt.ylim([-3,4])\n",
    "\n",
    "plt.legend()\n",
    "\n",
    "plt.show()"
   ]
  },
  {
   "cell_type": "markdown",
   "id": "5425d7ad-e66f-4ff5-b7d0-d068dd7210c9",
   "metadata": {},
   "source": [
    "We notice that there a better seperation for the data"
   ]
  },
  {
   "cell_type": "markdown",
   "id": "6f8d1f2a-b396-43b5-8b16-a447d482a445",
   "metadata": {},
   "source": [
    "**Exercise 5:** Do the standardization for the other 2 datasets\n",
    "<br>"
   ]
  },
  {
   "cell_type": "code",
   "execution_count": 18,
   "id": "97f761ce-8a80-41ce-bb5c-126e6c9e7b9a",
   "metadata": {},
   "outputs": [],
   "source": [
    "#  ___ code here ____\n"
   ]
  },
  {
   "cell_type": "markdown",
   "id": "cb6c6c84-5fd7-4555-9ae7-ad2d4803cb0d",
   "metadata": {},
   "source": [
    "---"
   ]
  },
  {
   "cell_type": "markdown",
   "id": "1566fa9b-36be-4f51-97c2-04ada116b53f",
   "metadata": {},
   "source": [
    "<b><i> Saving data for later use </i></b>\n",
    "\n",
    "We can save the data so that we can call it up again in subsequent notebooks"
   ]
  },
  {
   "cell_type": "code",
   "execution_count": 19,
   "id": "16b5ae3d-37bb-4430-8c17-b2c9d08871a5",
   "metadata": {},
   "outputs": [
    {
     "name": "stdout",
     "output_type": "stream",
     "text": [
      "Stored 'X' (DataFrame)\n",
      "Stored 'Y' (Series)\n",
      "Stored 'df' (DataFrame)\n"
     ]
    }
   ],
   "source": [
    "%store  X\n",
    "%store  Y\n",
    "%store  df"
   ]
  },
  {
   "cell_type": "markdown",
   "id": "e5afd385-dd49-415f-ae06-ef99e70ffb79",
   "metadata": {},
   "source": [
    "---"
   ]
  },
  {
   "cell_type": "code",
   "execution_count": null,
   "id": "f59903f4-b213-4ef7-bf8f-946b832c2738",
   "metadata": {},
   "outputs": [],
   "source": []
  }
 ],
 "metadata": {
  "kernelspec": {
   "display_name": "Python 3",
   "language": "python",
   "name": "python3"
  },
  "language_info": {
   "codemirror_mode": {
    "name": "ipython",
    "version": 3
   },
   "file_extension": ".py",
   "mimetype": "text/x-python",
   "name": "python",
   "nbconvert_exporter": "python",
   "pygments_lexer": "ipython3",
   "version": "3.8.3"
  },
  "varInspector": {
   "cols": {
    "lenName": 16,
    "lenType": 16,
    "lenVar": 40
   },
   "kernels_config": {
    "python": {
     "delete_cmd_postfix": "",
     "delete_cmd_prefix": "del ",
     "library": "var_list.py",
     "varRefreshCmd": "print(var_dic_list())"
    },
    "r": {
     "delete_cmd_postfix": ") ",
     "delete_cmd_prefix": "rm(",
     "library": "var_list.r",
     "varRefreshCmd": "cat(var_dic_list()) "
    }
   },
   "types_to_exclude": [
    "module",
    "function",
    "builtin_function_or_method",
    "instance",
    "_Feature"
   ],
   "window_display": false
  }
 },
 "nbformat": 4,
 "nbformat_minor": 5
}
