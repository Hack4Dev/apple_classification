{
 "cells": [
  {
   "cell_type": "markdown",
   "id": "ec350791-8135-4ee4-a1ab-69ee8dd023b8",
   "metadata": {},
   "source": [
    "# Tutorial 4: Machine learning Classification."
   ]
  },
  {
   "cell_type": "markdown",
   "id": "c7d544e0-f056-4659-8e50-e2876e257f76",
   "metadata": {},
   "source": [
    "In this tutorial, we will use [random forest](https://scikit-learn.org/stable/modules/generated/sklearn.ensemble.RandomForestClassifier.html) (RF) to classify between bruised `B` and sound `S` apples.\n",
    "\n",
    "The input will be the best 10 features we made in tutorial3; it will be exciting to see how 10 features with RF can hold up against the baseline we made in tutorial 2."
   ]
  },
  {
   "cell_type": "code",
   "execution_count": 2,
   "id": "929ff30d-5096-474a-ba59-e6fd1e297b77",
   "metadata": {},
   "outputs": [
    {
     "name": "stdout",
     "output_type": "stream",
     "text": [
      "no stored variable or alias #\n",
      "no stored variable or alias #\n",
      "no stored variable or alias best\n",
      "no stored variable or alias 10\n"
     ]
    }
   ],
   "source": [
    "%store -r Y\n",
    "%store -r X_arrayRol # \n",
    "%store -r selected_indexes # best 10 "
   ]
  },
  {
   "cell_type": "code",
   "execution_count": null,
   "id": "06a99b84-835b-4927-a9bf-395818c64f8f",
   "metadata": {},
   "outputs": [],
   "source": []
  }
 ],
 "metadata": {
  "kernelspec": {
   "display_name": "apple_kernel",
   "language": "python",
   "name": "apple_kernel"
  },
  "language_info": {
   "codemirror_mode": {
    "name": "ipython",
    "version": 3
   },
   "file_extension": ".py",
   "mimetype": "text/x-python",
   "name": "python",
   "nbconvert_exporter": "python",
   "pygments_lexer": "ipython3",
   "version": "3.8.10"
  }
 },
 "nbformat": 4,
 "nbformat_minor": 5
}
