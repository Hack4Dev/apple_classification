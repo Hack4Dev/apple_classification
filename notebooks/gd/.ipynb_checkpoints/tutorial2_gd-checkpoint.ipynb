{
 "cells": [
  {
   "cell_type": "markdown",
   "id": "4e9e84e8-1d14-4583-aac0-62d7cec61430",
   "metadata": {},
   "source": [
    "# Tutorial 2: Feature importance - (GD)"
   ]
  },
  {
   "cell_type": "markdown",
   "id": "6d561e63-85f5-4bba-847d-907f0e3392e3",
   "metadata": {},
   "source": [
    "---"
   ]
  },
  {
   "cell_type": "markdown",
   "id": "e994b14f-17a9-4daf-a82a-04ee70ed8f49",
   "metadata": {},
   "source": [
    "The aim of this notebook, is to reorder the 2074 columns according to their importance\n",
    "\n",
    "First, let us recall the data from the previous notebook"
   ]
  },
  {
   "cell_type": "code",
   "execution_count": 6,
   "id": "8f9e1d65-2442-4b33-afcf-8f781ae6add5",
   "metadata": {},
   "outputs": [],
   "source": [
    "%store -r df_input_GD\n",
    "%store -r y_GD\n",
    "%store -r df_GD\n"
   ]
  },
  {
   "cell_type": "markdown",
   "id": "ee2c793a-3d90-441c-9bc3-d546656ce534",
   "metadata": {},
   "source": [
    "<b><i> Data splitting </i></b> "
   ]
  },
  {
   "cell_type": "code",
   "execution_count": 2,
   "id": "0055b953-a0eb-45b3-924b-40f227d5184c",
   "metadata": {},
   "outputs": [],
   "source": [
    "from sklearn.model_selection import train_test_split\n",
    "\n",
    "Xtrain, Xtest, Ytrain, Ytest = train_test_split( df_input_GD, y_GD, test_size = 0.3, random_state=3, stratify=y_GD) # train and valid sets"
   ]
  },
  {
   "cell_type": "code",
   "execution_count": 3,
   "id": "fd99ebbc-2c26-48e3-a8bf-c355eb5cfe96",
   "metadata": {},
   "outputs": [
    {
     "name": "stdout",
     "output_type": "stream",
     "text": [
      "(382, 2074)\n",
      "(165, 2074)\n"
     ]
    }
   ],
   "source": [
    "print(Xtrain.shape)\n",
    "print(Xtest.shape)"
   ]
  },
  {
   "cell_type": "markdown",
   "id": "aaf181b9-306a-49eb-9519-f1636bb76070",
   "metadata": {},
   "source": [
    "---"
   ]
  },
  {
   "cell_type": "markdown",
   "id": "cab4d6ca-a608-41be-b571-b44f0a631403",
   "metadata": {},
   "source": [
    "<b><i> Permutation Importance </i></b> "
   ]
  },
  {
   "cell_type": "code",
   "execution_count": 1,
   "id": "34f9f754-9f79-4fb8-acc8-8d5baac366c9",
   "metadata": {},
   "outputs": [],
   "source": [
    "from sklearn.ensemble import RandomForestClassifier\n",
    "from sklearn.inspection import permutation_importance\n",
    "from random import *\n",
    "import random\n",
    "import matplotlib.pyplot as plt\n",
    "import numpy as np\n",
    "import pandas as pd\n",
    "import seaborn as sns"
   ]
  },
  {
   "cell_type": "code",
   "execution_count": 5,
   "id": "0db85c94-a468-467e-95af-e6c1e31c18b6",
   "metadata": {},
   "outputs": [],
   "source": [
    "featImp_GD = [] # an empty list to store the important features"
   ]
  },
  {
   "cell_type": "code",
   "execution_count": 7,
   "id": "496fa754-9171-4537-a4a9-52ef6ae29163",
   "metadata": {
    "tags": []
   },
   "outputs": [],
   "source": [
    "# for i in range (1000): # we will take the average of 1000 permutations, with different sizes and random splits (you can increase the number for it to be more robust)\n",
    "#     print(\"itr: \" + str(i))\n",
    "    \n",
    "#     RandomStateValid = randrange(50)\n",
    "#     ranodmSplitValid = random.uniform(0.2, 0.5)\n",
    "#     XtrainPer, XvalidPer, YtrainPer, YvalidPer = train_test_split( np.array(Xtrain), np.array(Ytrain), test_size = ranodmSplitValid, random_state=RandomStateValid, stratify=Ytrain) # train and valid sets\n",
    "#     print(\"Train shape: \"+str(XtrainPer.shape))\n",
    "#     print(\"Valid shape: \"+str(XvalidPer.shape))\n",
    "#     print()\n",
    "   \n",
    "#     # train\n",
    "#     model = RandomForestClassifier(n_estimators=50, random_state=0, n_jobs = -1)\n",
    "#     model.fit(XtrainPer, YtrainPer)\n",
    "    \n",
    "#     results = permutation_importance(model, XvalidPer, YvalidPer, scoring='precision_macro', n_repeats = 10, n_jobs = -1)\n",
    "#     importance = results.importances_mean\n",
    "#     # print(importance)\n",
    "\n",
    "#     featImp_GD.append(importance)"
   ]
  },
  {
   "cell_type": "code",
   "execution_count": 14,
   "id": "1e23bce7-34a5-4146-984d-f4a5a7ad59b4",
   "metadata": {},
   "outputs": [
    {
     "name": "stdout",
     "output_type": "stream",
     "text": [
      "Stored 'featImp_GD' (list)\n"
     ]
    }
   ],
   "source": [
    "# %store featImp_GD"
   ]
  },
  {
   "cell_type": "code",
   "execution_count": 2,
   "id": "cb55180c-62b4-48a5-9052-f39d5dd1126c",
   "metadata": {},
   "outputs": [],
   "source": [
    "%store -r featImp_GD\n"
   ]
  },
  {
   "cell_type": "code",
   "execution_count": 3,
   "id": "ee7b489b-ab80-485a-a670-19edf64ad85f",
   "metadata": {},
   "outputs": [
    {
     "data": {
      "text/plain": [
       "(1000, 2074)"
      ]
     },
     "execution_count": 3,
     "metadata": {},
     "output_type": "execute_result"
    }
   ],
   "source": [
    "np.array(featImp_GD).shape"
   ]
  },
  {
   "cell_type": "markdown",
   "id": "adcc971e-7eb6-474f-8fbc-dbee38694de4",
   "metadata": {},
   "source": [
    "---"
   ]
  },
  {
   "cell_type": "markdown",
   "id": "46921b3e-a090-49bf-b345-6c68c6510448",
   "metadata": {},
   "source": [
    "<b><i>Importance Graph </i></b> "
   ]
  },
  {
   "cell_type": "code",
   "execution_count": 4,
   "id": "0c56ff14-b700-40ab-9a2c-b84f7791f9e6",
   "metadata": {},
   "outputs": [
    {
     "name": "stdout",
     "output_type": "stream",
     "text": [
      "[ 202  106 2045   33   17   15  205  144  153   71  180  157   60   43\n",
      "   86]\n"
     ]
    }
   ],
   "source": [
    "arrimp = np.array(featImp_GD).mean(0)\n",
    "sorted_idx = arrimp.argsort()\n",
    "print(sorted_idx[-15:])"
   ]
  },
  {
   "cell_type": "code",
   "execution_count": 7,
   "id": "872a4d2d-d24f-4a06-8af4-657e14c149e8",
   "metadata": {},
   "outputs": [
    {
     "data": {
      "image/png": "[encoded data removed]",
      "text/plain": [
       "<Figure size 504x360 with 1 Axes>"
      ]
     },
     "metadata": {
      "needs_background": "light"
     },
     "output_type": "display_data"
    }
   ],
   "source": [
    "n = 500\n",
    "rand  = np.random.randint(len(y_GD), size= n)\n",
    "\n",
    "plt.rcParams[\"figure.figsize\"] = (7,5)# 'xtick.labelsize', 'ytick.labelsize'\n",
    "plt.scatter(df_input_GD.columns[sorted_idx][-n:], arrimp[sorted_idx][-n:], color = 'black')\n",
    "\n",
    "plt.title(\"GD apples\", fontweight ='bold', fontsize =12)    \n",
    "plt.xlabel(\"Wavelength (nm)\", fontweight ='bold', fontsize =12)\n",
    "plt.ylabel(\"Importance score\", fontweight ='bold', fontsize =12)\n",
    "plt.ylim([0, .00055])\n",
    "plt.show()"
   ]
  },
  {
   "cell_type": "markdown",
   "id": "96eeb65d-8475-412f-a9a8-e4c3dc60eb54",
   "metadata": {},
   "source": [
    "The problem with Permutation importance that it suffers when features are highly correlated [(ref)](https://christophm.github.io/interpretable-ml-book/feature-importance.html). Regardless the above figure is importnat beacuse it shows that there are regoins which are more importnat than others. "
   ]
  },
  {
   "cell_type": "markdown",
   "id": "32b31914-0785-4922-bbc6-bd07e8bdec85",
   "metadata": {},
   "source": [
    "---"
   ]
  }
 ],
 "metadata": {
  "kernelspec": {
   "display_name": "apple_kernel",
   "language": "python",
   "name": "apple_kernel"
  },
  "language_info": {
   "codemirror_mode": {
    "name": "ipython",
    "version": 3
   },
   "file_extension": ".py",
   "mimetype": "text/x-python",
   "name": "python",
   "nbconvert_exporter": "python",
   "pygments_lexer": "ipython3",
   "version": "3.8.10"
  }
 },
 "nbformat": 4,
 "nbformat_minor": 5
}
