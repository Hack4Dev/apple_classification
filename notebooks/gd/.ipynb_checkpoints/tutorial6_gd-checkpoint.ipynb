{
 "cells": [
  {
   "cell_type": "markdown",
   "id": "6f893407-c45b-4a97-8906-702e72754885",
   "metadata": {},
   "source": [
    "# Tutorial6: Results on the testing set - (GD)"
   ]
  },
  {
   "cell_type": "markdown",
   "id": "7f7f0a3d-c257-43a6-84d1-643324886063",
   "metadata": {},
   "source": [
    "---"
   ]
  },
  {
   "cell_type": "markdown",
   "id": "76a661a3-77c9-4e5c-ba18-72f455a25c91",
   "metadata": {},
   "source": [
    "### Introduction"
   ]
  },
  {
   "cell_type": "markdown",
   "id": "c21305f5-293e-4bbe-bfd8-ec8d01787f48",
   "metadata": {},
   "source": [
    "Hello, this notebook will train several ML models and evaluate them against the testing set. Feature sets are chosen based on the SFS method."
   ]
  },
  {
   "cell_type": "markdown",
   "id": "45456717-90bf-44c1-be0b-f2ad9314737f",
   "metadata": {},
   "source": [
    "first, let us call the data"
   ]
  },
  {
   "cell_type": "code",
   "execution_count": 1,
   "id": "fbec0b60-3e98-432e-9de6-fb444ce4c70c",
   "metadata": {},
   "outputs": [],
   "source": [
    "%store -r df_input_GD\n",
    "%store -r y_GD\n",
    "%store -r df_GD"
   ]
  },
  {
   "cell_type": "code",
   "execution_count": 2,
   "id": "cc2bd9ee-bb2c-453d-97fb-7104a64d8120",
   "metadata": {},
   "outputs": [],
   "source": [
    "y_GD = y_GD.map({'S': 1, 'B': 0})"
   ]
  },
  {
   "cell_type": "markdown",
   "id": "4a963998-c26e-40b6-bbfc-d5c1110dd9bf",
   "metadata": {},
   "source": [
    "---"
   ]
  },
  {
   "cell_type": "markdown",
   "id": "eea3bba6-fa62-43bf-a543-fb088617b9cf",
   "metadata": {},
   "source": [
    "calling some packages"
   ]
  },
  {
   "cell_type": "code",
   "execution_count": 3,
   "id": "4be29664-f490-4ef1-a263-7fcaaa093c34",
   "metadata": {},
   "outputs": [],
   "source": [
    "# Python packages \n",
    "import pandas as pd # for importing data into data frame format\n",
    "import seaborn as sns # For drawing useful graphs, such as bar graphs\n",
    "import numpy as np\n",
    "import matplotlib.pyplot as plt"
   ]
  },
  {
   "cell_type": "markdown",
   "id": "e08c43a3-5668-4360-92fb-7d28a1bdb3a0",
   "metadata": {},
   "source": [
    "---"
   ]
  },
  {
   "cell_type": "markdown",
   "id": "785b56a0-0772-4cc2-a2f6-34a9fe598b80",
   "metadata": {},
   "source": [
    "<b><i> Data splitting </i></b> "
   ]
  },
  {
   "cell_type": "code",
   "execution_count": 4,
   "id": "24b557bd-4d21-4767-bd55-f27cfbfdd8f8",
   "metadata": {},
   "outputs": [],
   "source": [
    "from sklearn.model_selection import train_test_split\n",
    "\n",
    "Xtrain, Xtest, Ytrain, Ytest = train_test_split( df_input_GD, y_GD, test_size = 0.3, random_state=3, stratify=y_GD) # train and valid sets"
   ]
  },
  {
   "cell_type": "code",
   "execution_count": 5,
   "id": "5acc93a2-c050-4d22-8e18-c37c179060a0",
   "metadata": {},
   "outputs": [
    {
     "name": "stdout",
     "output_type": "stream",
     "text": [
      "(382, 2074)\n",
      "(165, 2074)\n"
     ]
    }
   ],
   "source": [
    "print(Xtrain.shape)\n",
    "print(Xtest.shape)"
   ]
  },
  {
   "cell_type": "markdown",
   "id": "df8fc28e-022b-4cd0-be84-e590c7774324",
   "metadata": {},
   "source": [
    "---"
   ]
  },
  {
   "cell_type": "markdown",
   "id": "21d924da-a97b-4897-a2b0-b21a9efc176e",
   "metadata": {},
   "source": [
    "<b><i> import the best 50 features</i></b> "
   ]
  },
  {
   "cell_type": "code",
   "execution_count": 6,
   "id": "81d228ce-d55b-4806-b9c1-0f0ca7e74351",
   "metadata": {},
   "outputs": [],
   "source": [
    "#RFS\n",
    "rfsImp = [1352.447, 904.305, 1353.153, 904.62, 1361.681, 1473.929, 1351.742, 916.451, 1351.037, 916.775, 1360.966, 1479.818, 1350.334, 917.1, 1348.227, 917.424, 1348.928, 1473.091, 1347.526, 916.128, 1349.631, 1472.255, 2488.138, 1480.663, 1346.127, 917.749, 1346.826, 1474.767, 1345.428, 919.05, 1344.731, 1471.419, 918.724, 1355.275, 1924.752, 1481.509, 1353.859, 919.376, 1360.252, 1877.365, 1344.033, 924.622, 1359.539, 1878.725, 1926.182, 1487.459, 1343.337, 924.952, 1354.567, 1488.313]\n",
    "\n",
    "# SFS\n",
    "sfsImp = [1393.893, 864.501, 1357.404, 1468.086, 1836.148, 1472.255, 868.847, 1163.141, 1338.483, 1354.567, 1144.149, 1145.159, 1862.529, 2488.138, 1151.261, 1076.231, 2478.624, 923.963, 1346.127, 1473.929, 1496.906, 1343.337, 915.158, 2492.924, 1309.415, 1896.591, 1909.161, 1850.564, 1351.037, 1086.605, 1384.218, 1376.867, 1312.729, 1477.288, 1366.706, 1518.829, 1367.427, 1361.681, 1363.113, 1356.693, 1324.127, 1344.731, 1363.83, 2441.281, 1352.447, 1320.754, 1353.153, 1364.548, 1306.774, 911.297]"
   ]
  },
  {
   "cell_type": "code",
   "execution_count": 7,
   "id": "b18a7b7d-d597-42b3-87a4-89e5cea0b0e3",
   "metadata": {},
   "outputs": [],
   "source": [
    "# RFS\n",
    "rfs = [rfsImp, [4, 10, 23, 50]]\n",
    "# SFS\n",
    "sfs = [sfsImp, [3, 10, 23, 50]]"
   ]
  },
  {
   "cell_type": "code",
   "execution_count": 8,
   "id": "1b820c2b-3c0d-4095-a15f-02736091fa32",
   "metadata": {},
   "outputs": [],
   "source": [
    "features = [ rfs, sfs]\n",
    "features_name = [ \"rfs\", \"sfs\"] "
   ]
  },
  {
   "cell_type": "markdown",
   "id": "b7ff8490-cd9e-4867-8762-4e48b9c9850b",
   "metadata": {},
   "source": [
    "---"
   ]
  },
  {
   "cell_type": "markdown",
   "id": "6fbd6c0a-9627-493c-bcdf-6f874bc2b02a",
   "metadata": {},
   "source": [
    "<b><i> models </i></b> "
   ]
  },
  {
   "cell_type": "code",
   "execution_count": 9,
   "id": "41a59e84-c5f3-4d3e-87bb-9e9e50957a24",
   "metadata": {},
   "outputs": [],
   "source": [
    "from sklearn.neural_network import MLPClassifier\n",
    "from sklearn.linear_model import LogisticRegression\n",
    "from sklearn.svm import SVC\n",
    "from sklearn.ensemble import RandomForestClassifier\n",
    "from sklearn.neighbors import KNeighborsClassifier\n",
    "from xgboost import XGBClassifier\n",
    "from numpy import random as np_random"
   ]
  },
  {
   "cell_type": "markdown",
   "id": "f5529da7-4963-4fc2-93d8-a56742b292b6",
   "metadata": {},
   "source": [
    "first let us define the model"
   ]
  },
  {
   "cell_type": "code",
   "execution_count": 10,
   "id": "0e6df99c-4c0a-4abf-a4da-1751e465dc57",
   "metadata": {},
   "outputs": [],
   "source": [
    "lr = LogisticRegression()\n",
    "svm = SVC(kernel=\"rbf\")\n",
    "rf = RandomForestClassifier(random_state=1)\n",
    "xgb = XGBClassifier(random_state=1)\n",
    "knns = KNeighborsClassifier()\n",
    "anns = MLPClassifier(max_iter=3000, random_state=1, activation = 'relu', solver = 'sgd')"
   ]
  },
  {
   "cell_type": "markdown",
   "id": "27f3a81b-5227-444e-a8fe-bd5bc0b78e87",
   "metadata": {},
   "source": [
    "defining the hyper-paramter per model"
   ]
  },
  {
   "cell_type": "code",
   "execution_count": 11,
   "id": "85500a7c-45d4-46ba-be11-32a103661274",
   "metadata": {},
   "outputs": [],
   "source": [
    "solvers = ['newton-cg', 'liblinear']\n",
    "penalty = ['l2']\n",
    "c_values = [1000, 100, 10, 1.0, 0.1, 0.01, 0.001]\n",
    "lr_par = dict(solver=solvers,penalty=penalty,C=c_values)\n",
    "\n",
    "##############################\n",
    "C_range = np.logspace(-1, 10, 20) # define a set of values for the parameter C\n",
    "gamma_range = np.logspace(-9, 3, 20) # define a set of values for the parameter gamma\n",
    "\n",
    "svm_par = dict(gamma=gamma_range, C=C_range)\n",
    "\n",
    "#########################\n",
    "\n",
    "# Number of trees in random forest\n",
    "n_estimators = [int(x) for x in np.linspace(start = 200, stop = 2000, num = 10)]\n",
    "# Number of features to consider at every split\n",
    "max_features = ['auto', 'sqrt']\n",
    "# Maximum number of levels in tree\n",
    "max_depth = [int(x) for x in np.linspace(10, 110, num = 11)]\n",
    "max_depth.append(None)\n",
    "# Minimum number of samples required to split a node\n",
    "min_samples_split = [2, 5, 10]\n",
    "# Minimum number of samples required at each leaf node\n",
    "min_samples_leaf = [1, 2, 4]\n",
    "# Method of selecting samples for training each tree\n",
    "bootstrap = [True, False]\n",
    "# Create the random grid\n",
    "\n",
    "#max_features = ['sqrt', 'log2']\n",
    "\n",
    "rf_par = {'n_estimators': n_estimators,\n",
    "               'max_features': max_features,\n",
    "               'max_depth': max_depth,\n",
    "               'min_samples_split': min_samples_split,\n",
    "               'min_samples_leaf': min_samples_leaf,\n",
    "               'bootstrap': bootstrap}\n",
    "#######################\n",
    "# https://www.kaggle.com/code/tilii7/hyperparameter-grid-search-with-xgboost/notebook\n",
    "xgb_par = {\n",
    "        'min_child_weight': [1, 5, 10],\n",
    "        'gamma': [0.5, 1, 1.5, 2, 5, 9],\n",
    "        'subsample': [0.6, 0.8, 1.0],\n",
    "        'colsample_bytree': [0.6, 0.8, 1.0],\n",
    "        'max_depth': [3, 4, 5, 8]\n",
    "        }\n",
    "##################################\n",
    "n_neighbors = range(1, 30, 2)\n",
    "weights = ['uniform', 'distance']\n",
    "metric = ['euclidean', 'manhattan', 'minkowski']\n",
    "\n",
    "knns_par = dict(n_neighbors=n_neighbors,weights=weights,metric=metric)\n",
    "################\n",
    "anns_par = {\n",
    "    'hidden_layer_sizes': [(3,3),(5,5),(8,3)],\n",
    "#     'activation': ['relu'],\n",
    "    'solver': ['sgd', 'adam'],\n",
    "    'alpha': [0.0001, 0.001,0.01,0.1, 0.05, 0.005 , 0.005, 0.00005],\n",
    "#     'learning_rate': ['constant','adaptive'],\n",
    "}\n",
    "################"
   ]
  },
  {
   "cell_type": "code",
   "execution_count": 12,
   "id": "204c32a1-69f9-44d4-b2fd-776a1226006a",
   "metadata": {},
   "outputs": [],
   "source": [
    "models = [[lr, 'lr', 14], [svm, 'svm', 15], [rf, 'rf', 30], [xgb, 'xgb', 30], [knns, 'knns', 30], [anns, 'anns', 30]]\n",
    "par = [lr_par, svm_par, rf_par, xgb_par, knns_par, anns_par]\n",
    "\n",
    "# models = [[lr, 'lr', 14]]\n",
    "# par = [lr_par]"
   ]
  },
  {
   "cell_type": "markdown",
   "id": "bf860784-c2a6-4504-ae80-46c048ed5bc6",
   "metadata": {},
   "source": [
    "---"
   ]
  },
  {
   "cell_type": "markdown",
   "id": "b118d6c7-1287-4ba3-8c63-fb0957fc8b0d",
   "metadata": {},
   "source": [
    "<b><i> training, TESTING RESULTS </i></b> "
   ]
  },
  {
   "cell_type": "code",
   "execution_count": 13,
   "id": "8e3b8d6b-9990-4960-8974-1e53771f9296",
   "metadata": {},
   "outputs": [],
   "source": [
    "from source.ml_acc import get_accuracy_ml"
   ]
  },
  {
   "cell_type": "code",
   "execution_count": 14,
   "id": "6d80c301-2bce-444d-bfba-eb2a2282bc51",
   "metadata": {
    "tags": []
   },
   "outputs": [],
   "source": [
    "# num_ml_tools = len(par)\n",
    "# ml_dicts = {}\n",
    "\n",
    "# for m, par in zip(models, par):\n",
    "#     key_model = str(m[1])\n",
    "#     ml_dicts[key_model] = {}\n",
    "#     print(key_model)\n",
    "#     for ind_imp in range (4):\n",
    "#         print(ind_imp)\n",
    "#         for f, f_name in zip(features, features_name):\n",
    "#             print(f[0])\n",
    "#             featArry = f[0]\n",
    "#             featArry2 = featArry[:f[1][ind_imp]]\n",
    "#             xtr =  Xtrain[featArry2]\n",
    "#             print(list(xtr.columns))\n",
    "            \n",
    "\n",
    "#             xte =  Xtest[featArry2]\n",
    "#             results = get_accuracy_ml (m[0], m[2], par, np.array(xtr), np.array(Ytrain), np.array(xte), np.array(Ytest)) # to get the accuracies for the ml model\n",
    "\n",
    "#             key_feat = str(f_name)+\",\"+str(f[1][ind_imp])\n",
    "#             print(key_feat)\n",
    "#             print()\n",
    "#             ml_dicts[key_model][key_feat] = {}\n",
    "\n",
    "#             ml_dicts[key_model][key_feat]['tot_acc'] = results[0]\n",
    "#             ml_dicts[key_model][key_feat]['jack_train'] = results[1]\n",
    "#             ml_dicts[key_model][key_feat]['jack_test'] = results[2]"
   ]
  },
  {
   "cell_type": "markdown",
   "id": "e028ed56-e150-43b1-b5c4-75d3e51cde3e",
   "metadata": {},
   "source": [
    "---"
   ]
  },
  {
   "cell_type": "code",
   "execution_count": 15,
   "id": "00226726-46c7-4e75-aa41-87161f671a80",
   "metadata": {},
   "outputs": [],
   "source": [
    "# import json\n",
    "# with open('ml_gd_test.txt', 'w') as file:\n",
    "#      file.write(json.dumps(ml_dicts)) # use `json.loads` to do the reverse"
   ]
  },
  {
   "cell_type": "code",
   "execution_count": 16,
   "id": "7b24007d-c3a6-4810-87dc-02ba21d4e113",
   "metadata": {},
   "outputs": [
    {
     "data": {
      "text/plain": [
       "dict_keys(['lr, all'])"
      ]
     },
     "execution_count": 16,
     "metadata": {},
     "output_type": "execute_result"
    }
   ],
   "source": [
    "import json\n",
    "with open('ml_gd_test.txt') as f:\n",
    "    data = f.read()\n",
    "    \n",
    "ml_dicts = json.loads(data)\n",
    "\n",
    "with open('base_gd_test.txt') as f:\n",
    "    data = f.read()\n",
    "    \n",
    "baseDict = json.loads(data)\n",
    "baseDict['lr'].keys()   "
   ]
  },
  {
   "cell_type": "code",
   "execution_count": 17,
   "id": "611d35b7-2aef-4199-b41c-782022887615",
   "metadata": {},
   "outputs": [
    {
     "name": "stdout",
     "output_type": "stream",
     "text": [
      "dict_keys(['lr, all'])\n",
      "dict_keys(['rfs,4', 'rfs_200,5', 'sfs,3', 'sfs_200,4', 'rfs,10', 'rfs_200,10', 'sfs,10', 'sfs_200,10', 'rfs,23', 'rfs_200,34', 'sfs,23', 'sfs_200,34', 'rfs,50', 'rfs_200,50', 'sfs,50', 'sfs_200,50'])\n"
     ]
    }
   ],
   "source": [
    "print(baseDict['lr'].keys()    )\n",
    "print(ml_dicts['lr'].keys()    )"
   ]
  },
  {
   "cell_type": "markdown",
   "id": "16308fb4-556b-4cf4-9020-aab95eadb503",
   "metadata": {},
   "source": [
    "---"
   ]
  },
  {
   "cell_type": "code",
   "execution_count": 18,
   "id": "14dfeb61-93a6-4a30-9380-10c3be28ef46",
   "metadata": {},
   "outputs": [],
   "source": [
    "from source.calculate_jack import jack_SD # importing the baseline code from source.basline file"
   ]
  },
  {
   "cell_type": "markdown",
   "id": "c5d520d1-813d-478a-81d3-65f15ebd6808",
   "metadata": {},
   "source": [
    "### Precision performance"
   ]
  },
  {
   "cell_type": "code",
   "execution_count": 19,
   "id": "da14d268-5593-4fe4-89ed-6d10ec9c3296",
   "metadata": {},
   "outputs": [],
   "source": [
    "arr_diff_all = []\n",
    "\n",
    "for m, m_key in zip (models, ml_dicts.keys()):\n",
    "    acc_diff_arr = [] \n",
    "    sd_diff_arr = [] \n",
    "    keys = []\n",
    "    for f_key in ml_dicts[m_key].keys():\n",
    "        if 'rfs' not in f_key and '200' not in f_key:\n",
    "            # print(f_key)\n",
    "            keys.append(f_key)\n",
    "            value = f_key.split(',')\n",
    "            # acc_diff_arr.append( ml_dicts[m_key][f_key][ 'tot_acc' ] - baseDict['lr']['lr, all'][ 'tot_acc' ]  )\n",
    "            acc_diff_arr.append( ml_dicts[m_key][f_key][ 'tot_acc' ] )\n",
    "            \n",
    "\n",
    "            sd_train = jack_SD( baseDict['lr']['lr, all'][ 'jack_train' ], ml_dicts[m_key][f_key]['jack_train'] )[0]\n",
    "            sd_test = jack_SD(  baseDict['lr']['lr, all'][ 'jack_test' ],  ml_dicts[m_key][f_key]['jack_test']   )[0]\n",
    "\n",
    "            sd = np.sqrt( np.array((sd_train**2)) + np.array((sd_test**2)))\n",
    "            sd_diff_arr.append(sd) # append sd_arr to an array\n",
    "    \n",
    "    arr_diff_all.append([keys, acc_diff_arr, sd_diff_arr])"
   ]
  },
  {
   "cell_type": "code",
   "execution_count": 20,
   "id": "8da81074-26d2-4c4b-83ff-b8446e19c0a5",
   "metadata": {},
   "outputs": [
    {
     "data": {
      "image/png": "[encoded data removed]",
      "text/plain": [
       "<Figure size 1080x504 with 1 Axes>"
      ]
     },
     "metadata": {
      "needs_background": "light"
     },
     "output_type": "display_data"
    }
   ],
   "source": [
    "colors = ['blue', 'purple', 'green', 'orange', 'red', 'brown']\n",
    "plt.figure(figsize=(15, 7))\n",
    "plt.title(\"GD apples\", fontweight ='bold', fontsize =14)    \n",
    "plt.xlabel(\"Features\", fontweight ='bold', fontsize =14)\n",
    "plt.ylabel(\"Precision\", fontweight ='bold', fontsize =14)\n",
    "\n",
    "count = 0\n",
    "n = len(colors)-0.5\n",
    "space = []\n",
    "tickFeat = []\n",
    "\n",
    "for result, model, color in zip(arr_diff_all, models, colors):\n",
    "    a = np.linspace(n*count, n*(1+count)-2,len(arr_diff_all[0][0]))\n",
    "    space.extend(a)\n",
    "    tickFeat.extend(result[0])\n",
    "    plt.errorbar( a, result[1], result[2], fmt='o', label =model[1], color = color)\n",
    "    count += 1\n",
    "    \n",
    "# plt.plot(np.array(space), np.zeros(len(arr_diff_all[0][0])*6), color = 'Black')\n",
    "plt.plot(np.array(space), np.zeros(len(arr_diff_all[0][0])*6)+0.872, color = 'Black', label = 'baseline')        \n",
    "\n",
    "plt.xticks(space, tickFeat, rotation = 'vertical',  fontsize =14)\n",
    "plt.ylim(.4,1)\n",
    "plt.legend()\n",
    "\n",
    "plt.show()"
   ]
  },
  {
   "cell_type": "markdown",
   "id": "ded5fa11-4e04-4b83-a565-c631da266b31",
   "metadata": {},
   "source": [
    "---"
   ]
  },
  {
   "cell_type": "code",
   "execution_count": null,
   "id": "270e206f-10a6-4388-a032-97e62d666de0",
   "metadata": {},
   "outputs": [],
   "source": []
  }
 ],
 "metadata": {
  "kernelspec": {
   "display_name": "apple_kernel",
   "language": "python",
   "name": "apple_kernel"
  },
  "language_info": {
   "codemirror_mode": {
    "name": "ipython",
    "version": 3
   },
   "file_extension": ".py",
   "mimetype": "text/x-python",
   "name": "python",
   "nbconvert_exporter": "python",
   "pygments_lexer": "ipython3",
   "version": "3.8.10"
  }
 },
 "nbformat": 4,
 "nbformat_minor": 5
}
