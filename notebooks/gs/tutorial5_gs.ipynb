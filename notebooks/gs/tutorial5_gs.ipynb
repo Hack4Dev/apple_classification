{
 "cells": [
  {
   "cell_type": "markdown",
   "id": "6f893407-c45b-4a97-8906-702e72754885",
   "metadata": {},
   "source": [
    "# Tutorial5: graphs on the training set - (GS)"
   ]
  },
  {
   "cell_type": "markdown",
   "id": "3edab721-e87b-4169-88bb-a41d6d4847f9",
   "metadata": {},
   "source": [
    "This tutorial graphs the training models for the feature selection methods, and displays the location of the best 50 features."
   ]
  },
  {
   "cell_type": "markdown",
   "id": "7f7f0a3d-c257-43a6-84d1-643324886063",
   "metadata": {},
   "source": [
    "---"
   ]
  },
  {
   "cell_type": "code",
   "execution_count": 1,
   "id": "1ba5b328-7469-449d-b8ee-2360db0432f4",
   "metadata": {},
   "outputs": [],
   "source": [
    "import numpy as np\n",
    "from sklearn.linear_model import LogisticRegression\n",
    "import pandas as pd # for importing data into data frame format\n",
    "import seaborn as sns # For drawing useful graphs, such as bar graphs\n",
    "import matplotlib.pyplot as plt"
   ]
  },
  {
   "cell_type": "code",
   "execution_count": 2,
   "id": "1eef33ad-651e-48f9-9d39-eef368607c46",
   "metadata": {},
   "outputs": [],
   "source": [
    "lr = LogisticRegression()\n",
    "models = [[lr, 'lr', 14]]"
   ]
  },
  {
   "cell_type": "code",
   "execution_count": 3,
   "id": "eaaae12b-34bf-46f6-8a5a-9884c196363a",
   "metadata": {},
   "outputs": [],
   "source": [
    "import json"
   ]
  },
  {
   "cell_type": "code",
   "execution_count": 4,
   "id": "02c4f2c1-a7cc-457e-9034-bc84d1ec8521",
   "metadata": {
    "tags": []
   },
   "outputs": [],
   "source": [
    "with open('ml_gs_rfs.txt') as f:\n",
    "    data = f.read()\n",
    "    \n",
    "ml_dicts = json.loads(data)\n",
    "\n",
    "with open('ml_gs_sfs.txt') as f:\n",
    "    data = f.read()\n",
    "    \n",
    "ml_dicts6 = json.loads(data)"
   ]
  },
  {
   "cell_type": "markdown",
   "id": "844c9670-a9b3-4c0a-a677-f2a4b7c4b554",
   "metadata": {},
   "source": [
    "---"
   ]
  },
  {
   "cell_type": "code",
   "execution_count": 5,
   "id": "5dd5f1be-96e6-4d5f-b781-db4b02f11952",
   "metadata": {},
   "outputs": [],
   "source": [
    "from source.calculate_jack import jack_SD # importing the baseline code from source.basline file"
   ]
  },
  {
   "cell_type": "code",
   "execution_count": 6,
   "id": "e38e5fcd-f6a0-42de-a8b4-891ead0c9bcf",
   "metadata": {},
   "outputs": [],
   "source": [
    "def acc (ml_dicts, models):\n",
    "    arr_all = []\n",
    "    for m, d in zip (models, ml_dicts.keys()):\n",
    "        acc_arr = [] \n",
    "        sd_arr = [] \n",
    "\n",
    "        # print(ml_dicts[d])\n",
    "        for key in ml_dicts[d].keys():\n",
    "            acc_arr.append(ml_dicts[d][key][ 'tot_acc' ]) # append total accuracy to an array\n",
    "            sd_train = jack_SD(np.zeros( len(ml_dicts[d][key][ 'jack_train' ]) ), ml_dicts[d][key][ 'jack_train' ])[0]\n",
    "            sd_test = jack_SD(np.zeros( len(ml_dicts[d][key][ 'jack_test' ]) ), ml_dicts[d][key][ 'jack_test' ])[0]\n",
    "            sd = np.sqrt( np.array((sd_train**2)) + np.array((sd_test**2)))\n",
    "            sd_arr.append(sd) # append sd_arr to an array\n",
    "        arr_all.append([ list(ml_dicts[d].keys()), acc_arr, sd_arr])    \n",
    "    return  arr_all   "
   ]
  },
  {
   "cell_type": "code",
   "execution_count": 7,
   "id": "310a7efa-6396-45dc-b7c9-ef39a979e0cb",
   "metadata": {},
   "outputs": [],
   "source": [
    "arr_all = acc(ml_dicts, models)\n",
    "arr_all6 = acc(ml_dicts6, models)"
   ]
  },
  {
   "cell_type": "code",
   "execution_count": 8,
   "id": "55a1daa9-9415-4b03-b738-09e74f7196e5",
   "metadata": {},
   "outputs": [
    {
     "data": {
      "image/png": "[encoded data removed]",
      "text/plain": [
       "<Figure size 1080x504 with 1 Axes>"
      ]
     },
     "metadata": {
      "needs_background": "light"
     },
     "output_type": "display_data"
    }
   ],
   "source": [
    "plt.figure(figsize=(15, 7))\n",
    "plt.title(\"GS apples\", fontweight ='bold', fontsize =14)    \n",
    "plt.xlabel(\"Features\", fontweight ='bold', fontsize =14)\n",
    "plt.ylabel(\"Precision\", fontweight ='bold', fontsize =14)\n",
    "\n",
    "count = 0\n",
    "n = 4\n",
    "\n",
    "space = []\n",
    "tickFeat = []\n",
    "\n",
    "for result, model in zip(arr_all, models):\n",
    "    a = np.linspace(n*count, n*(1+count)-2,50)\n",
    "    # print(a)\n",
    "    space.extend(a)\n",
    "    tickFeat.extend(result[0])\n",
    "    plt.errorbar( a, result[1], result[2], fmt='o', label =model[1]+\"-RFE\", color = 'blue')\n",
    "    count += 1\n",
    "count = 0\n",
    "    \n",
    "for result, model in zip(arr_all6, models):\n",
    "    a = np.linspace(n*count, n*(1+count)-2,50)\n",
    "    # print(a)\n",
    "    space.extend(a)\n",
    "    tickFeat.extend(result[0])\n",
    "    plt.errorbar( a, result[1], result[2], fmt='o', label =model[1]+\"-SFS\", color = 'red')\n",
    "    count += 1\n",
    "\n",
    "plt.plot(np.array(space),[0.9187]*100, color = 'Black')        \n",
    "plt.xticks(space, tickFeat, rotation = 'vertical',  fontsize =12)\n",
    "plt.ylim(.2, 1)\n",
    "plt.legend()\n",
    "\n",
    "plt.show()"
   ]
  },
  {
   "cell_type": "markdown",
   "id": "143e4532-bb3e-498c-b9f8-e1e2a5704303",
   "metadata": {},
   "source": [
    "---"
   ]
  },
  {
   "cell_type": "code",
   "execution_count": 9,
   "id": "85deea14-a57f-43ab-ab70-ffb99c0dec0d",
   "metadata": {},
   "outputs": [],
   "source": [
    "\n",
    "imp_freq = [1309.415, 894.322, 894.014, 1310.076, 1310.738, 1500.371, 1308.754, 894.631, 1308.093, 895.867, 1307.433, 1503.852, 896.177, 1306.774, 1304.801, 896.487, 1306.116, 900.535, 1311.401, 1501.239, 1312.065, 905.884, 1312.729, 1499.503, 2480.996, 1507.349, 1305.458, 898.351, 1304.145, 906.201, 1508.226, 1303.49, 907.47, 1302.834, 1302.18, 1506.473, 905.567, 1301.526, 900.222, 1313.394, 1502.98, 2495.323, 1299.569, 898.662, 1504.725, 1300.221, 907.787, 1300.873, 1298.918, 1505.598]\n",
    "imp_freq6 = [2473.894, 1356.693, 872.355, 1411.345, 1292.443, 1150.24, 1505.598, 889.719, 1870.592, 2500.136, 1180.62, 883.052, 1201.409, 2432.121, 2436.692, 1391.648, 1029.643, 2387.33, 1321.427, 1846.61, 2455.152, 2438.985, 2409.517, 2396.155, 1124.302, 2459.811, 1125.278, 2414.004, 2400.593, 1115.594, 2372.041, 2389.531, 2398.373, 1015.527, 1851.886, 2402.818, 2407.28, 2405.047, 2434.404, 2469.182, 1128.216, 1853.21, 1126.745, 1016.323, 2425.295, 2416.254, 2391.735, 2418.508, 2429.841, 2423.029]"
   ]
  },
  {
   "cell_type": "code",
   "execution_count": 12,
   "id": "bb807147-d489-4399-855e-7bfa59de8132",
   "metadata": {},
   "outputs": [
    {
     "name": "stdout",
     "output_type": "stream",
     "text": [
      "5\n",
      "[1309.415, 894.322, 894.014, 1310.076, 1310.738, 1500.371, 1308.754, 894.631, 1308.093, 895.867]\n",
      "4\n",
      "[1307.433, 1503.852, 896.177, 1306.774, 1304.801, 896.487, 1306.116, 900.535, 1311.401, 1501.239]\n",
      "3\n",
      "[1312.065, 905.884, 1312.729, 1499.503, 2480.996, 1507.349, 1305.458, 898.351, 1304.145, 906.201]\n",
      "2\n",
      "[1508.226, 1303.49, 907.47, 1302.834, 1302.18, 1506.473, 905.567, 1301.526, 900.222, 1313.394]\n",
      "1\n",
      "[1502.98, 2495.323, 1299.569, 898.662, 1504.725, 1300.221, 907.787, 1300.873, 1298.918, 1505.598]\n"
     ]
    },
    {
     "data": {
      "image/png": "[encoded data removed]",
      "text/plain": [
       "<Figure size 504x288 with 1 Axes>"
      ]
     },
     "metadata": {
      "needs_background": "light"
     },
     "output_type": "display_data"
    }
   ],
   "source": [
    "plt.rcParams[\"figure.figsize\"] = (7,4)\n",
    "# plt.xlabel(\"Features\", fontweight ='bold', fontsize =12)\n",
    "# plt.ylabel(\"Precision\", fontweight ='bold', fontsize =12)\n",
    "\n",
    "arrr= [0, 10, 20, 30, 40, 50]\n",
    "colrs = ['red', 'blue', 'green', 'yellow']\n",
    "for i in range (5):\n",
    "    print((5-i))\n",
    "    print(imp_freq[arrr[i]:arrr[i+1]])\n",
    "    \n",
    "    if i  == 0:\n",
    "        # plt.scatter( imp_freq[arrr[i]:arrr[i+1]],  np.zeros(10)+(5-i), color = 'blue', label =\"RFE\", marker = 'x')\n",
    "        plt.scatter( imp_freq6[arrr[i]:arrr[i+1]], np.zeros(10)+(5-i), color = 'red', label =\"SFS\", marker = 'x')\n",
    "    else:\n",
    "        # plt.scatter( imp_freq[arrr[i]:arrr[i+1]], np.zeros(10)+(5-i), color = 'blue', marker = 'x')\n",
    "        plt.scatter( imp_freq6[arrr[i]:arrr[i+1]], np.zeros(10)+(5-i), color = 'red', marker = 'x' )\n",
    "     \n",
    "plt.xlim(780, 2550)\n",
    "ylabels = ['41-50', '31-40', '21-30', '11-20','01-10'  ]\n",
    "plt.yticks([1,2,3,4,5], ylabels)\n",
    "\n",
    "plt.title(\"GS apples\", fontweight ='bold', fontsize =12)    \n",
    "plt.xlabel(\"Wavelength (nm)\", fontweight ='bold', fontsize =12)\n",
    "plt.ylabel(\"Feature ranking\", fontweight ='bold', fontsize =12)\n",
    "plt.legend(bbox_to_anchor =(1, 1.14))    \n",
    "plt.show()"
   ]
  },
  {
   "cell_type": "markdown",
   "id": "6b0d817b-811b-4bd1-8b8f-67c03cbaa231",
   "metadata": {},
   "source": [
    "---"
   ]
  },
  {
   "cell_type": "code",
   "execution_count": null,
   "id": "5f429142-df28-4a2d-95c4-20b4770354b0",
   "metadata": {},
   "outputs": [],
   "source": []
  },
  {
   "cell_type": "code",
   "execution_count": null,
   "id": "ed0bbeb7-806f-4573-96e1-17f9a0971c7d",
   "metadata": {},
   "outputs": [],
   "source": []
  }
 ],
 "metadata": {
  "kernelspec": {
   "display_name": "apple_kernel",
   "language": "python",
   "name": "apple_kernel"
  },
  "language_info": {
   "codemirror_mode": {
    "name": "ipython",
    "version": 3
   },
   "file_extension": ".py",
   "mimetype": "text/x-python",
   "name": "python",
   "nbconvert_exporter": "python",
   "pygments_lexer": "ipython3",
   "version": "3.8.10"
  }
 },
 "nbformat": 4,
 "nbformat_minor": 5
}
