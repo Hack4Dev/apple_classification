{
 "cells": [
  {
   "cell_type": "markdown",
   "id": "e802451f-9859-4fe4-a35e-3554d90d8409",
   "metadata": {},
   "source": [
    "# Tutorial 3: Baseline, LR with all features (RG)"
   ]
  },
  {
   "cell_type": "markdown",
   "id": "8f55a8c7-c863-4edb-9b82-dd2c78edc952",
   "metadata": {},
   "source": [
    "---"
   ]
  },
  {
   "cell_type": "markdown",
   "id": "15e51cfd-1b3a-4e9c-b9b9-5589dd56d2a8",
   "metadata": {},
   "source": [
    "first, let us call the data"
   ]
  },
  {
   "cell_type": "code",
   "execution_count": 1,
   "id": "032f4fbf-a1cd-4ef5-acc2-e9aec863df11",
   "metadata": {},
   "outputs": [],
   "source": [
    "%store -r df_input_RG\n",
    "%store -r y_RG\n",
    "%store -r df_RG"
   ]
  },
  {
   "cell_type": "code",
   "execution_count": 2,
   "id": "955b2636-9cc7-456c-bd8a-aaa423020351",
   "metadata": {},
   "outputs": [],
   "source": [
    "y_RG = y_RG.map({'S': 1, 'B': 0})"
   ]
  },
  {
   "cell_type": "markdown",
   "id": "42b55ef2-7243-43b8-9907-25957d357d40",
   "metadata": {},
   "source": [
    "calling some packages"
   ]
  },
  {
   "cell_type": "code",
   "execution_count": 3,
   "id": "cef38386-e60a-4c31-b00f-2a95c66550cc",
   "metadata": {},
   "outputs": [],
   "source": [
    "# Python packages \n",
    "import pandas as pd # for importing data into data frame format\n",
    "import seaborn as sns # For drawing useful graphs, such as bar graphs\n",
    "import numpy as np\n",
    "import matplotlib.pyplot as plt"
   ]
  },
  {
   "cell_type": "markdown",
   "id": "d698575b-7102-49fb-bc92-d1d768ae1305",
   "metadata": {},
   "source": [
    "---"
   ]
  },
  {
   "cell_type": "markdown",
   "id": "0d028589-c677-43ef-a781-f24fa3bbc831",
   "metadata": {},
   "source": [
    "<b><i> Data splitting </i></b> "
   ]
  },
  {
   "cell_type": "code",
   "execution_count": 4,
   "id": "ec4f6ebd-add4-46ef-abd7-e7ad9c478b80",
   "metadata": {},
   "outputs": [],
   "source": [
    "from sklearn.model_selection import train_test_split\n",
    "\n",
    "Xtrain_finall, Xtest_finall, Ytrain_finall, Ytest_finall = train_test_split( df_input_RG, y_RG, test_size = 0.3, random_state=3, stratify=y_RG) # train and valid sets\n",
    "\n",
    "Xtrain, Xtest, Ytrain, Ytest = train_test_split( Xtrain_finall, Ytrain_finall, test_size = 0.3, random_state=3, stratify=Ytrain_finall) # train and valid sets"
   ]
  },
  {
   "cell_type": "code",
   "execution_count": 5,
   "id": "f3fa0bc6-2ea5-4e22-a99c-7e09bc518225",
   "metadata": {},
   "outputs": [
    {
     "name": "stdout",
     "output_type": "stream",
     "text": [
      "(275, 2074)\n",
      "(118, 2074)\n"
     ]
    }
   ],
   "source": [
    "print(Xtrain.shape)\n",
    "print(Xtest.shape)"
   ]
  },
  {
   "cell_type": "markdown",
   "id": "ecd31a9a-e548-4410-9e82-51317c1a7f32",
   "metadata": {},
   "source": [
    "---"
   ]
  },
  {
   "cell_type": "markdown",
   "id": "bf2ca732-866d-4c87-90d7-0b8b3650dd2a",
   "metadata": {},
   "source": [
    "<b><i> training LR </i></b> "
   ]
  },
  {
   "cell_type": "code",
   "execution_count": 6,
   "id": "7714e6ca-e31a-4f34-b339-0223c3696e7a",
   "metadata": {},
   "outputs": [],
   "source": [
    "from sklearn.linear_model import LogisticRegression"
   ]
  },
  {
   "cell_type": "code",
   "execution_count": 7,
   "id": "4d54388c-56bf-4c7f-96d7-39321a2279f7",
   "metadata": {},
   "outputs": [],
   "source": [
    "# define the hyper-parameters\n",
    "solvers = ['newton-cg', 'liblinear']\n",
    "penalty = ['l2']\n",
    "c_values = [1000, 100, 10, 1.0, 0.1, 0.01, 0.001]\n",
    "lr_par = dict(solver=solvers,penalty=penalty,C=c_values)"
   ]
  },
  {
   "cell_type": "code",
   "execution_count": 8,
   "id": "1d05f7ec-466b-4b38-8e3a-0fed8dd70547",
   "metadata": {},
   "outputs": [],
   "source": [
    "lr = LogisticRegression() #defining the model"
   ]
  },
  {
   "cell_type": "code",
   "execution_count": 9,
   "id": "286c1e3d-5c69-4626-a7d8-a341b41730d6",
   "metadata": {},
   "outputs": [],
   "source": [
    "models = [[lr, 'lr', 14]]\n",
    "par = [lr_par]"
   ]
  },
  {
   "cell_type": "code",
   "execution_count": 10,
   "id": "594eee1f-5037-4866-af7b-9e420a6f60cb",
   "metadata": {},
   "outputs": [],
   "source": [
    "from source.ml_acc import get_accuracy_ml"
   ]
  },
  {
   "cell_type": "code",
   "execution_count": 11,
   "id": "52989779-f1f5-4120-b9d6-0583c10fff26",
   "metadata": {},
   "outputs": [],
   "source": [
    "num_ml_tools = len(par)\n",
    "ml_dicts = {}\n",
    "\n",
    "for m, par in zip(models, par):\n",
    "    # for s in splits:\n",
    "    #     X_train, X_test, y_train, y_test = train_test_split(df, y, test_size= s, random_state=1, stratify = y, shuffle = True)\n",
    "    key0 = str(m[1])\n",
    "    ml_dicts[key0] = {}\n",
    "    for i in range(1):\n",
    "        xtr =  Xtrain\n",
    "        xte =  Xtest\n",
    "        results = get_accuracy_ml (m[0], m[2], par, xtr.values, np.array(Ytrain), xte.values, np.array(Ytest)) # to get the accuracies for the ml model\n",
    "\n",
    "        key = str(m[1])+\", all\"\n",
    "        ml_dicts[key0][key] = {}\n",
    "\n",
    "        ml_dicts[key0][key]['tot_acc'] = results[0]\n",
    "        ml_dicts[key0][key]['jack_train'] = results[1]\n",
    "        ml_dicts[key0][key]['jack_test'] = results[2]"
   ]
  },
  {
   "cell_type": "code",
   "execution_count": 12,
   "id": "17a8eee8-4335-4bda-89af-0a8b2b0c376b",
   "metadata": {},
   "outputs": [
    {
     "name": "stdout",
     "output_type": "stream",
     "text": [
      "{'lr': {'lr, all': {'tot_acc': 0.8666666666666667, 'jack_train': [0.85, 0.8620689655172413, 0.85, 0.85, 0.8666666666666667, 0.847457627118644, 0.85, 0.85, 0.85, 0.85, 0.85, 0.85, 0.85, 0.85, 0.8666666666666667, 0.85, 0.85, 0.8666666666666667, 0.8666666666666667, 0.85, 0.85, 0.85, 0.85, 0.85, 0.8524590163934426, 0.85, 0.8666666666666667, 0.85, 0.8666666666666667, 0.85, 0.85, 0.864406779661017, 0.85, 0.85, 0.85, 0.85, 0.85, 0.85, 0.85, 0.85, 0.85, 0.85, 0.85, 0.85, 0.85, 0.85, 0.85, 0.85, 0.85, 0.85, 0.85, 0.85, 0.85, 0.85, 0.85, 0.85, 0.85, 0.875, 0.85, 0.85, 0.85, 0.85, 0.8666666666666667, 0.85, 0.85, 0.85, 0.864406779661017, 0.8666666666666667, 0.85, 0.85, 0.8666666666666667, 0.8620689655172413, 0.8666666666666667, 0.85, 0.85, 0.85, 0.85, 0.85, 0.85, 0.8666666666666667, 0.85, 0.85, 0.85, 0.85, 0.85, 0.85, 0.85, 0.85, 0.85, 0.8666666666666667, 0.85, 0.85], 'jack_test': [0.8666666666666667, 0.864406779661017, 0.864406779661017, 0.864406779661017, 0.864406779661017, 0.8666666666666667, 0.864406779661017, 0.8666666666666667, 0.864406779661017, 0.864406779661017, 0.8666666666666667, 0.8666666666666667, 0.864406779661017, 0.864406779661017, 0.8666666666666667, 0.8666666666666667, 0.864406779661017, 0.864406779661017, 0.864406779661017, 0.8666666666666667, 0.8666666666666667, 0.864406779661017, 0.8813559322033898, 0.864406779661017, 0.8666666666666667, 0.864406779661017, 0.8666666666666667, 0.8666666666666667, 0.864406779661017, 0.8666666666666667, 0.8666666666666667, 0.8666666666666667, 0.8666666666666667, 0.8666666666666667, 0.8666666666666667, 0.8813559322033898, 0.864406779661017, 0.8666666666666667, 0.8666666666666667, 0.864406779661017, 0.8666666666666667, 0.864406779661017, 0.864406779661017, 0.8666666666666667, 0.8666666666666667, 0.864406779661017, 0.864406779661017, 0.8666666666666667, 0.864406779661017, 0.864406779661017, 0.8666666666666667, 0.864406779661017, 0.864406779661017, 0.864406779661017, 0.8666666666666667, 0.864406779661017, 0.8666666666666667, 0.8666666666666667, 0.8666666666666667, 0.8813559322033898, 0.864406779661017, 0.864406779661017, 0.8666666666666667, 0.864406779661017, 0.8666666666666667, 0.8813559322033898, 0.8666666666666667, 0.8666666666666667, 0.8666666666666667, 0.864406779661017, 0.8666666666666667, 0.864406779661017, 0.864406779661017, 0.864406779661017, 0.8666666666666667, 0.8666666666666667, 0.8813559322033898, 0.8666666666666667, 0.8666666666666667, 0.8666666666666667, 0.864406779661017, 0.864406779661017, 0.864406779661017, 0.8666666666666667, 0.8666666666666667, 0.8813559322033898, 0.864406779661017, 0.864406779661017, 0.864406779661017, 0.8666666666666667, 0.864406779661017, 0.8666666666666667, 0.8813559322033898, 0.864406779661017, 0.8666666666666667, 0.8666666666666667, 0.8666666666666667, 0.864406779661017, 0.8666666666666667, 0.864406779661017, 0.864406779661017, 0.8666666666666667, 0.8666666666666667, 0.8666666666666667, 0.8813559322033898, 0.864406779661017, 0.8666666666666667, 0.864406779661017, 0.864406779661017, 0.864406779661017, 0.8666666666666667, 0.8666666666666667, 0.8666666666666667, 0.8666666666666667, 0.8666666666666667, 0.864406779661017, 0.8666666666666667, 0.864406779661017]}}}\n"
     ]
    }
   ],
   "source": [
    "print(ml_dicts)"
   ]
  },
  {
   "cell_type": "markdown",
   "id": "0851bc63-5be8-47ff-828c-15f1a2c67fa6",
   "metadata": {},
   "source": [
    "---"
   ]
  },
  {
   "cell_type": "markdown",
   "id": "32d3d61d-be22-4c88-b8aa-22b8c2ae8092",
   "metadata": {},
   "source": [
    "<b><i> save the Dict into a file </i></b> "
   ]
  },
  {
   "cell_type": "code",
   "execution_count": 13,
   "id": "7e1ebef3-5ce3-4ccf-b88d-d4b7de1ebccb",
   "metadata": {},
   "outputs": [],
   "source": [
    "import json"
   ]
  },
  {
   "cell_type": "code",
   "execution_count": 14,
   "id": "b10971fe-3af1-49df-99a6-b42d4798d90d",
   "metadata": {},
   "outputs": [],
   "source": [
    "with open('base_rg_val.txt', 'w') as file:\n",
    "     file.write(json.dumps(ml_dicts)) # use `json.loads` to do the reverse"
   ]
  },
  {
   "cell_type": "markdown",
   "id": "ffa03b93-fd62-4aa4-b019-b515bcf47b64",
   "metadata": {},
   "source": [
    "---"
   ]
  },
  {
   "cell_type": "code",
   "execution_count": 15,
   "id": "c9136f73-5924-47b3-910e-4c889f325ed1",
   "metadata": {},
   "outputs": [],
   "source": [
    "from source.calculate_jack import jack_SD # importing the baseline code from source.basline file\n",
    "arr_all = []\n",
    "for m, d in zip (models, ml_dicts.keys()):\n",
    "    acc_arr = [] \n",
    "    sd_arr = [] \n",
    "\n",
    "    # print(ml_dicts[d])\n",
    "    for key in ml_dicts[d].keys():\n",
    "        acc_arr.append(ml_dicts[d][key][ 'tot_acc' ]) # append total accuracy to an array\n",
    "        sd_train = jack_SD(np.zeros( len(ml_dicts[d][key][ 'jack_train' ]) ), ml_dicts[d][key][ 'jack_train' ])[0]\n",
    "        sd_test = jack_SD(np.zeros( len(ml_dicts[d][key][ 'jack_test' ]) ), ml_dicts[d][key][ 'jack_test' ])[0]\n",
    "        sd = np.sqrt( np.array((sd_train**2)) + np.array((sd_test**2)))\n",
    "        sd_arr.append(sd) # append sd_arr to an array\n",
    "    arr_all.append([ list(ml_dicts[d].keys()), acc_arr, sd_arr])  "
   ]
  },
  {
   "cell_type": "code",
   "execution_count": 16,
   "id": "3eebd2e2-7502-458a-b4c3-d1d6f350832f",
   "metadata": {},
   "outputs": [
    {
     "name": "stdout",
     "output_type": "stream",
     "text": [
      "[[['lr, all'], [0.8666666666666667], [0.07596838316753642]]]\n"
     ]
    }
   ],
   "source": [
    "print(arr_all)"
   ]
  },
  {
   "cell_type": "markdown",
   "id": "d823834a-435b-4e57-a657-99a2ad2af8d4",
   "metadata": {},
   "source": [
    "---"
   ]
  },
  {
   "cell_type": "markdown",
   "id": "3949f10f-7833-4ac0-a8dc-7b6fe1020a16",
   "metadata": {},
   "source": [
    "<b><i> showing the coefficient </i></b> "
   ]
  },
  {
   "cell_type": "code",
   "execution_count": 17,
   "id": "c02f2cfb-58f0-4a9e-88ec-050a29e81920",
   "metadata": {},
   "outputs": [
    {
     "data": {
      "text/plain": [
       "array([-3.48956328, -3.24621356, -2.44693137, ..., -1.1474818 ,\n",
       "        5.42968375, -2.93584088])"
      ]
     },
     "execution_count": 17,
     "metadata": {},
     "output_type": "execute_result"
    }
   ],
   "source": [
    "model = results[3].best_estimator_\n",
    "arr_coef = model.coef_[0]\n",
    "arr_coef"
   ]
  },
  {
   "cell_type": "code",
   "execution_count": 18,
   "id": "608176d7-32f8-4e4f-9ef1-f2710ff3ca8d",
   "metadata": {},
   "outputs": [
    {
     "data": {
      "image/png": "[encoded data removed]",
      "text/plain": [
       "<Figure size 432x288 with 1 Axes>"
      ]
     },
     "metadata": {
      "needs_background": "light"
     },
     "output_type": "display_data"
    }
   ],
   "source": [
    "plt.plot(np.array(df_input_RG.columns), arr_coef, color = 'red') # plotting the good apples\n",
    "plt.show()"
   ]
  },
  {
   "cell_type": "code",
   "execution_count": 19,
   "id": "6882feb4-f34c-4c06-b70c-5b469d19eab0",
   "metadata": {},
   "outputs": [
    {
     "data": {
      "image/png": "[encoded data removed]",
      "text/plain": [
       "<Figure size 432x288 with 1 Axes>"
      ]
     },
     "metadata": {
      "needs_background": "light"
     },
     "output_type": "display_data"
    }
   ],
   "source": [
    "plt.hist(arr_coef, bins = 30, color = 'red') # plotting the good apples\n",
    "plt.show()"
   ]
  },
  {
   "cell_type": "code",
   "execution_count": null,
   "id": "6d9cd309-971d-47e7-96e1-02aefad21a92",
   "metadata": {},
   "outputs": [],
   "source": []
  }
 ],
 "metadata": {
  "kernelspec": {
   "display_name": "apple_kernel",
   "language": "python",
   "name": "apple_kernel"
  },
  "language_info": {
   "codemirror_mode": {
    "name": "ipython",
    "version": 3
   },
   "file_extension": ".py",
   "mimetype": "text/x-python",
   "name": "python",
   "nbconvert_exporter": "python",
   "pygments_lexer": "ipython3",
   "version": "3.8.10"
  }
 },
 "nbformat": 4,
 "nbformat_minor": 5
}
