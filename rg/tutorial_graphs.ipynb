{
 "cells": [
  {
   "cell_type": "markdown",
   "id": "6f893407-c45b-4a97-8906-702e72754885",
   "metadata": {},
   "source": [
    "# Tutorial: graphs"
   ]
  },
  {
   "cell_type": "markdown",
   "id": "7f7f0a3d-c257-43a6-84d1-643324886063",
   "metadata": {},
   "source": [
    "---"
   ]
  },
  {
   "cell_type": "code",
   "execution_count": 1,
   "id": "1ba5b328-7469-449d-b8ee-2360db0432f4",
   "metadata": {},
   "outputs": [],
   "source": [
    "import numpy as np\n",
    "from sklearn.linear_model import LogisticRegression\n",
    "# Python packages \n",
    "import pandas as pd # for importing data into data frame format\n",
    "import seaborn as sns # For drawing useful graphs, such as bar graphs\n",
    "import matplotlib.pyplot as plt"
   ]
  },
  {
   "cell_type": "code",
   "execution_count": 2,
   "id": "1eef33ad-651e-48f9-9d39-eef368607c46",
   "metadata": {},
   "outputs": [],
   "source": [
    "lr = LogisticRegression()\n",
    "models = [[lr, 'lr', 14]]"
   ]
  },
  {
   "cell_type": "code",
   "execution_count": 3,
   "id": "eaaae12b-34bf-46f6-8a5a-9884c196363a",
   "metadata": {},
   "outputs": [],
   "source": [
    "import json"
   ]
  },
  {
   "cell_type": "code",
   "execution_count": 4,
   "id": "02c4f2c1-a7cc-457e-9034-bc84d1ec8521",
   "metadata": {
    "tags": []
   },
   "outputs": [],
   "source": [
    "with open('ml_rg_fs.txt') as f:\n",
    "    data = f.read()\n",
    "    \n",
    "ml_dicts = json.loads(data)\n",
    "\n",
    "with open('ml_rg_fs6.txt') as f:\n",
    "    data = f.read()\n",
    "    \n",
    "ml_dicts6 = json.loads(data)\n",
    "\n",
    "# with open('base_gd_tr.txt') as f:\n",
    "#     data = f.read()\n",
    "    \n",
    "# baseDict = json.loads(data)\n",
    "# baseDict['lr'].keys()    "
   ]
  },
  {
   "cell_type": "code",
   "execution_count": 5,
   "id": "3204d7e8-9217-4d45-878d-39ef9237200b",
   "metadata": {},
   "outputs": [
    {
     "name": "stdout",
     "output_type": "stream",
     "text": [
      "dict_keys(['lr,1', 'lr,2', 'lr,3', 'lr,4', 'lr,5', 'lr,6', 'lr,7', 'lr,8', 'lr,9', 'lr,10', 'lr,11', 'lr,12', 'lr,13', 'lr,14', 'lr,15', 'lr,16', 'lr,17', 'lr,18', 'lr,19', 'lr,20', 'lr,21', 'lr,22', 'lr,23', 'lr,24', 'lr,25', 'lr,26', 'lr,27', 'lr,28', 'lr,29', 'lr,30', 'lr,31', 'lr,32', 'lr,33', 'lr,34', 'lr,35', 'lr,36', 'lr,37', 'lr,38', 'lr,39', 'lr,40', 'lr,41', 'lr,42', 'lr,43', 'lr,44', 'lr,45', 'lr,46', 'lr,47', 'lr,48', 'lr,49', 'lr,50'])\n",
      "\n",
      "dict_keys(['lr,1', 'lr,2', 'lr,3', 'lr,4', 'lr,5', 'lr,6', 'lr,7', 'lr,8', 'lr,9', 'lr,10', 'lr,11', 'lr,12', 'lr,13', 'lr,14', 'lr,15', 'lr,16', 'lr,17', 'lr,18', 'lr,19', 'lr,20', 'lr,21', 'lr,22', 'lr,23', 'lr,24', 'lr,25', 'lr,26', 'lr,27', 'lr,28', 'lr,29', 'lr,30', 'lr,31', 'lr,32', 'lr,33', 'lr,34', 'lr,35', 'lr,36', 'lr,37', 'lr,38', 'lr,39', 'lr,40', 'lr,41', 'lr,42', 'lr,43', 'lr,44', 'lr,45', 'lr,46', 'lr,47', 'lr,48', 'lr,49', 'lr,50'])\n"
     ]
    }
   ],
   "source": [
    "# print(baseDict['lr'].keys()    )\n",
    "print(ml_dicts['lr'].keys()    )\n",
    "print()\n",
    "print(ml_dicts6['lr'].keys()    )"
   ]
  },
  {
   "cell_type": "code",
   "execution_count": 6,
   "id": "5dd5f1be-96e6-4d5f-b781-db4b02f11952",
   "metadata": {},
   "outputs": [],
   "source": [
    "from source.calculate_jack import jack_SD # importing the baseline code from source.basline file"
   ]
  },
  {
   "cell_type": "code",
   "execution_count": 7,
   "id": "e38e5fcd-f6a0-42de-a8b4-891ead0c9bcf",
   "metadata": {},
   "outputs": [],
   "source": [
    "def acc (ml_dicts, models):\n",
    "    arr_all = []\n",
    "    for m, d in zip (models, ml_dicts.keys()):\n",
    "        acc_arr = [] \n",
    "        sd_arr = [] \n",
    "\n",
    "        # print(ml_dicts[d])\n",
    "        for key in ml_dicts[d].keys():\n",
    "            acc_arr.append(ml_dicts[d][key][ 'tot_acc' ]) # append total accuracy to an array\n",
    "            sd_train = jack_SD(np.zeros( len(ml_dicts[d][key][ 'jack_train' ]) ), ml_dicts[d][key][ 'jack_train' ])[0]\n",
    "            sd_test = jack_SD(np.zeros( len(ml_dicts[d][key][ 'jack_test' ]) ), ml_dicts[d][key][ 'jack_test' ])[0]\n",
    "            sd = np.sqrt( np.array((sd_train**2)) + np.array((sd_test**2)))\n",
    "            sd_arr.append(sd) # append sd_arr to an array\n",
    "        arr_all.append([ list(ml_dicts[d].keys()), acc_arr, sd_arr])    \n",
    "    return  arr_all   "
   ]
  },
  {
   "cell_type": "code",
   "execution_count": 8,
   "id": "310a7efa-6396-45dc-b7c9-ef39a979e0cb",
   "metadata": {},
   "outputs": [],
   "source": [
    "arr_all = acc(ml_dicts, models)\n",
    "arr_all6 = acc(ml_dicts6, models)"
   ]
  },
  {
   "cell_type": "code",
   "execution_count": 9,
   "id": "3a7176c1-28fe-4a62-96e8-4a7926bbb7bf",
   "metadata": {},
   "outputs": [
    {
     "name": "stdout",
     "output_type": "stream",
     "text": [
      "[0.5, 0.6717171717171717, 0.6733668341708543, 0.67, 0.6699507389162561, 0.6868686868686869, 0.6862745098039216, 0.7417840375586855, 0.7405660377358491, 0.7440758293838863, 0.7440758293838863, 0.7428571428571429, 0.7428571428571429, 0.7428571428571429, 0.7464114832535885, 0.7655502392344498, 0.7666666666666667, 0.7655502392344498, 0.7655502392344498, 0.7644230769230769, 0.7746478873239436, 0.7746478873239436, 0.7746478873239436, 0.7746478873239436, 0.7746478873239436, 0.7783018867924528, 0.7783018867924528, 0.7783018867924528, 0.7830188679245284, 0.7772511848341233, 0.7731481481481481, 0.7731481481481481, 0.7731481481481481, 0.7731481481481481, 0.7731481481481481, 0.7731481481481481, 0.7793427230046949, 0.7793427230046949, 0.7783018867924528, 0.7783018867924528, 0.7783018867924528, 0.7783018867924528, 0.7793427230046949, 0.7793427230046949, 0.7793427230046949, 0.7793427230046949, 0.7793427230046949, 0.7793427230046949, 0.7714285714285715, 0.7714285714285715]\n",
      "[0.5375, 0.6084656084656085, 0.6881188118811881, 0.7621359223300971, 0.7621359223300971, 0.7692307692307693, 0.7729468599033816, 0.780952380952381, 0.7914691943127962, 0.7904761904761904, 0.7990430622009569, 0.8, 0.8, 0.8, 0.7844036697247706, 0.7906976744186046, 0.7971698113207547, 0.7897196261682243, 0.794392523364486, 0.794392523364486, 0.794392523364486, 0.7962962962962963, 0.7962962962962963, 0.7953488372093023, 0.7916666666666666, 0.7906976744186046, 0.7906976744186046, 0.7906976744186046, 0.7906976744186046, 0.7906976744186046, 0.7906976744186046, 0.7906976744186046, 0.7916666666666666, 0.7916666666666666, 0.7906976744186046, 0.7906976744186046, 0.7906976744186046, 0.7906976744186046, 0.7906976744186046, 0.7906976744186046, 0.7906976744186046, 0.7906976744186046, 0.7916666666666666, 0.7916666666666666, 0.7916666666666666, 0.7916666666666666, 0.7916666666666666, 0.7906976744186046, 0.7926267281105991, 0.7916666666666666]\n"
     ]
    }
   ],
   "source": [
    "# base: \n",
    "print(arr_all[0][1])\n",
    "print(arr_all6[0][1])\n",
    "\n"
   ]
  },
  {
   "cell_type": "code",
   "execution_count": 10,
   "id": "55a1daa9-9415-4b03-b738-09e74f7196e5",
   "metadata": {},
   "outputs": [
    {
     "name": "stdout",
     "output_type": "stream",
     "text": [
      "[0.         0.06122449 0.12244898 0.18367347 0.24489796 0.30612245\n",
      " 0.36734694 0.42857143 0.48979592 0.55102041 0.6122449  0.67346939\n",
      " 0.73469388 0.79591837 0.85714286 0.91836735 0.97959184 1.04081633\n",
      " 1.10204082 1.16326531 1.2244898  1.28571429 1.34693878 1.40816327\n",
      " 1.46938776 1.53061224 1.59183673 1.65306122 1.71428571 1.7755102\n",
      " 1.83673469 1.89795918 1.95918367 2.02040816 2.08163265 2.14285714\n",
      " 2.20408163 2.26530612 2.32653061 2.3877551  2.44897959 2.51020408\n",
      " 2.57142857 2.63265306 2.69387755 2.75510204 2.81632653 2.87755102\n",
      " 2.93877551 3.        ]\n",
      "[0.         0.06122449 0.12244898 0.18367347 0.24489796 0.30612245\n",
      " 0.36734694 0.42857143 0.48979592 0.55102041 0.6122449  0.67346939\n",
      " 0.73469388 0.79591837 0.85714286 0.91836735 0.97959184 1.04081633\n",
      " 1.10204082 1.16326531 1.2244898  1.28571429 1.34693878 1.40816327\n",
      " 1.46938776 1.53061224 1.59183673 1.65306122 1.71428571 1.7755102\n",
      " 1.83673469 1.89795918 1.95918367 2.02040816 2.08163265 2.14285714\n",
      " 2.20408163 2.26530612 2.32653061 2.3877551  2.44897959 2.51020408\n",
      " 2.57142857 2.63265306 2.69387755 2.75510204 2.81632653 2.87755102\n",
      " 2.93877551 3.        ]\n"
     ]
    },
    {
     "data": {
      "image/png": "[encoded data removed]",
      "text/plain": [
       "<Figure size 1080x504 with 1 Axes>"
      ]
     },
     "metadata": {
      "needs_background": "light"
     },
     "output_type": "display_data"
    }
   ],
   "source": [
    "colors = ['blue', 'purple', 'green', 'orange', 'red', 'brown']\n",
    "plt.figure(figsize=(15, 7))\n",
    "plt.title( \"Precision  for the first 50 features with the SD on the training data, where the selection happened on all features\", fontweight ='bold', fontsize =12)\n",
    "plt.xlabel(\"Features\", fontweight ='bold', fontsize =12)\n",
    "plt.ylabel(\"Precision\", fontweight ='bold', fontsize =12)\n",
    "\n",
    "count = 0\n",
    "n = len(colors)-1\n",
    "\n",
    "space = []\n",
    "tickFeat = []\n",
    "\n",
    "for result, model, color in zip(arr_all, models, colors):\n",
    "    a = np.linspace(n*count, n*(1+count)-2,50)\n",
    "    print(a)\n",
    "    space.extend(a)\n",
    "    tickFeat.extend(result[0])\n",
    "    plt.errorbar( a, result[1], result[2], fmt='o', label =model[1]+\"-RFE\", color = 'blue')\n",
    "    count += 1\n",
    "count = 0\n",
    "    \n",
    "for result, model, color in zip(arr_all6, models, colors):\n",
    "    a = np.linspace(n*count, n*(1+count)-2,50)\n",
    "    print(a)\n",
    "    space.extend(a)\n",
    "    tickFeat.extend(result[0])\n",
    "    plt.errorbar( a, result[1], result[2], fmt='o', label =model[1]+\"-SFS\", color = 'red')\n",
    "    count += 1\n",
    "\n",
    "plt.plot(np.array(space),[0.9187]*100, color = 'Black')        \n",
    "plt.xticks(space, tickFeat, rotation = 'vertical',  fontsize =12)\n",
    "plt.ylim(.2, 1)\n",
    "plt.legend()\n",
    "\n",
    "plt.show()"
   ]
  },
  {
   "cell_type": "code",
   "execution_count": 11,
   "id": "b63f2c60-45b1-4c9b-8520-93086ab1b86a",
   "metadata": {},
   "outputs": [],
   "source": [
    "# arr_diff_all = []\n",
    "\n",
    "# for m, m_key in zip (models, ml_dicts.keys()):\n",
    "#     acc_diff_arr = [] \n",
    "#     sd_diff_arr = [] \n",
    "#     for f_key in ml_dicts[m_key].keys():\n",
    "#         value = f_key.split(',')\n",
    "#         acc_diff_arr.append( ml_dicts[m_key][f_key][ 'tot_acc' ] - baseDict['lr']['lr, all'][ 'tot_acc' ]  )\n",
    "\n",
    "#         sd_train = jack_SD( baseDict['lr']['lr, all'][ 'jack_train' ], ml_dicts[m_key][f_key]['jack_train'] )[0]\n",
    "#         sd_test = jack_SD(  baseDict['lr']['lr, all'][ 'jack_test' ],  ml_dicts[m_key][f_key]['jack_test']   )[0]\n",
    "\n",
    "#         sd = np.sqrt( np.array((sd_train**2)) + np.array((sd_test**2)))\n",
    "#         sd_diff_arr.append(sd) # append sd_arr to an array\n",
    "#     arr_diff_all.append([ list(ml_dicts[m_key].keys()), acc_diff_arr, sd_diff_arr]) "
   ]
  },
  {
   "cell_type": "code",
   "execution_count": 12,
   "id": "9444c457-e05f-46b6-8937-6cffae594cdb",
   "metadata": {},
   "outputs": [],
   "source": [
    "# colors = ['blue', 'purple', 'green', 'orange', 'red', 'brown']\n",
    "# plt.figure(figsize=(15, 7))\n",
    "# plt.title( \"Precision  differences for ML methods versus LR_all for feature setsD\", fontweight ='bold', fontsize =12)\n",
    "# plt.xlabel(\"Features\", fontweight ='bold', fontsize =12)\n",
    "# plt.ylabel(\"Precision  difference\", fontweight ='bold', fontsize =12)\n",
    "\n",
    "# count = 0\n",
    "# n = len(colors)-0.5\n",
    "# space = []\n",
    "# tickFeat = []\n",
    "\n",
    "# for result, model, color in zip(arr_diff_all, models, colors):\n",
    "#     a = np.linspace(n*count, n*(1+count)-2,50)\n",
    "#     space.extend(a)\n",
    "#     tickFeat.extend(result[0])\n",
    "#     # plt.errorbar( a, result[1], result[2], fmt='o', label =model[1], color = color)\n",
    "#     plt.errorbar( a, result[1], np.zeros(len(result[2])), fmt='o', label =model[1], color = color)\n",
    "    \n",
    "#     count += 1\n",
    "    \n",
    "# plt.plot(np.array(space), np.zeros(50*1), color = 'Black')        \n",
    "# plt.xticks(space, tickFeat, rotation = 'vertical',  fontsize =12)\n",
    "# plt.ylim(-.5, 1)\n",
    "# plt.legend()\n",
    "\n",
    "# plt.show()"
   ]
  },
  {
   "cell_type": "code",
   "execution_count": 13,
   "id": "85deea14-a57f-43ab-ab70-ffb99c0dec0d",
   "metadata": {},
   "outputs": [],
   "source": [
    "\n",
    "imp_freq = [1312.065, 874.121, 1312.729, 873.826, 1313.394, 882.151, 1314.06, 1503.852, 1311.401, 894.322, 1310.738, 894.014, 1308.754, 1309.415, 898.662, 1509.104, 1308.093, 900.535, 1310.076, 1502.98, 2480.996, 1508.226, 1307.433, 900.848, 1306.774, 900.222, 1306.116, 1509.983, 1301.526, 904.936, 1300.873, 899.91, 1507.349, 1302.18, 904.62, 1314.726, 2483.372, 1506.473, 1300.221, 904.305, 1305.458, 1512.626, 912.58, 1302.834, 1299.569, 898.351, 1502.109, 1304.801, 1920.475, 903.989]\n",
    "\n",
    "imp_freq6 = [1840.057, 1486.606, 904.62, 1168.909, 888.5, 980.575, 1152.285, 1522.396, 1857.192, 1861.192, 976.513, 882.451, 1136.126, 1523.291, 1399.159, 1123.815, 1022.335, 1028.01, 1126.745, 1127.235, 948.99, 953.878, 1862.529, 1023.95, 1125.278, 1122.841, 946.565, 954.58, 951.777, 1127.725, 1125.767, 1537.747, 1026.788, 1541.403, 1120.9, 1019.521, 953.527, 952.827, 1538.659, 1025.57, 949.686, 952.126, 1126.256, 1539.573, 951.428, 950.033, 951.078, 952.476, 1025.164, 1023.142]"
   ]
  },
  {
   "cell_type": "code",
   "execution_count": 14,
   "id": "e71c9551-08d2-4cd7-9218-eed6f7403e60",
   "metadata": {},
   "outputs": [
    {
     "name": "stdout",
     "output_type": "stream",
     "text": [
      "5\n",
      "[1312.065, 874.121, 1312.729, 873.826, 1313.394, 882.151, 1314.06, 1503.852, 1311.401, 894.322]\n",
      "4\n",
      "[1310.738, 894.014, 1308.754, 1309.415, 898.662, 1509.104, 1308.093, 900.535, 1310.076, 1502.98]\n",
      "3\n",
      "[2480.996, 1508.226, 1307.433, 900.848, 1306.774, 900.222, 1306.116, 1509.983, 1301.526, 904.936]\n",
      "2\n",
      "[1300.873, 899.91, 1507.349, 1302.18, 904.62, 1314.726, 2483.372, 1506.473, 1300.221, 904.305]\n",
      "1\n",
      "[1305.458, 1512.626, 912.58, 1302.834, 1299.569, 898.351, 1502.109, 1304.801, 1920.475, 903.989]\n"
     ]
    },
    {
     "data": {
      "image/png": "[encoded data removed]",
      "text/plain": [
       "<Figure size 1080x504 with 1 Axes>"
      ]
     },
     "metadata": {
      "needs_background": "light"
     },
     "output_type": "display_data"
    }
   ],
   "source": [
    "plt.rcParams[\"figure.figsize\"] = (15,7)# 'xtick.labelsize', 'ytick.labelsize'\n",
    "plt.title( \"The location of the best 50 features using both methods SFS, RFE reduced on all features\", fontweight ='bold', fontsize =12)\n",
    "# plt.xlabel(\"Features\", fontweight ='bold', fontsize =12)\n",
    "# plt.ylabel(\"Precision\", fontweight ='bold', fontsize =12)\n",
    "\n",
    "arrr= [0, 10, 20, 30, 40, 50]\n",
    "colrs = ['red', 'blue', 'green', 'yellow']\n",
    "for i in range (5):\n",
    "    print((5-i))\n",
    "    print(imp_freq[arrr[i]:arrr[i+1]])\n",
    "    \n",
    "    if i  == 0:\n",
    "        plt.vlines(x = imp_freq[arrr[i]:arrr[i+1]], ymin = 0, ymax = np.zeros(10)+(5-i), colors = 'blue', label =\"RFE\")\n",
    "        plt.vlines(x = imp_freq6[arrr[i]:arrr[i+1]], ymin = 0, ymax = np.zeros(10)+(5-i), colors = 'red', label =\"SFS\")\n",
    "    else:\n",
    "        plt.vlines(x = imp_freq[arrr[i]:arrr[i+1]], ymin = 0, ymax = np.zeros(10)+(5-i), colors = 'blue')\n",
    "        plt.vlines(x = imp_freq6[arrr[i]:arrr[i+1]], ymin = 0, ymax = np.zeros(10)+(5-i), colors = 'red')\n",
    "     \n",
    "\n",
    "plt.legend()    \n",
    "plt.show()"
   ]
  },
  {
   "cell_type": "code",
   "execution_count": null,
   "id": "999bd451-ee40-4048-aade-fb661e69e75e",
   "metadata": {},
   "outputs": [],
   "source": []
  },
  {
   "cell_type": "code",
   "execution_count": 15,
   "id": "4cd84146-d045-4b40-8c09-ea75cfff975e",
   "metadata": {},
   "outputs": [
    {
     "name": "stdout",
     "output_type": "stream",
     "text": [
      "5\n",
      "[1312.065, 874.121, 1312.729, 873.826, 1313.394, 882.151, 1314.06, 1503.852, 1311.401, 894.322]\n",
      "4\n",
      "[1310.738, 894.014, 1308.754, 1309.415, 898.662, 1509.104, 1308.093, 900.535, 1310.076, 1502.98]\n",
      "3\n",
      "[2480.996, 1508.226, 1307.433, 900.848, 1306.774, 900.222, 1306.116, 1509.983, 1301.526, 904.936]\n",
      "2\n",
      "[1300.873, 899.91, 1507.349, 1302.18, 904.62, 1314.726, 2483.372, 1506.473, 1300.221, 904.305]\n",
      "1\n",
      "[1305.458, 1512.626, 912.58, 1302.834, 1299.569, 898.351, 1502.109, 1304.801, 1920.475, 903.989]\n"
     ]
    },
    {
     "data": {
      "image/png": "[encoded data removed]",
      "text/plain": [
       "<Figure size 1080x504 with 1 Axes>"
      ]
     },
     "metadata": {
      "needs_background": "light"
     },
     "output_type": "display_data"
    }
   ],
   "source": [
    "plt.rcParams[\"figure.figsize\"] = (15,7)# 'xtick.labelsize', 'ytick.labelsize'\n",
    "plt.title( \"The location of the best 50 features using both methods SFS, RFE reduced on the best 200 features\", fontweight ='bold', fontsize =12)\n",
    "# plt.xlabel(\"Features\", fontweight ='bold', fontsize =12)\n",
    "# plt.ylabel(\"Precision\", fontweight ='bold', fontsize =12)\n",
    "\n",
    "arrr= [0, 10, 20, 30, 40, 50]\n",
    "colrs = ['red', 'blue', 'green', 'yellow']\n",
    "for i in range (5):\n",
    "    print((5-i))\n",
    "    print(imp_freq[arrr[i]:arrr[i+1]])\n",
    "    \n",
    "    if i  == 0:\n",
    "        plt.scatter( imp_freq[arrr[i]:arrr[i+1]],  np.zeros(10)+(5-i), color = 'blue', label =\"RFE\", marker = 'x')\n",
    "        plt.scatter( imp_freq6[arrr[i]:arrr[i+1]], np.zeros(10)+(5-i), color = 'red', label =\"SFS\", marker = 'x')\n",
    "    else:\n",
    "        plt.scatter( imp_freq[arrr[i]:arrr[i+1]], np.zeros(10)+(5-i), color = 'blue', marker = 'x')\n",
    "        plt.scatter( imp_freq6[arrr[i]:arrr[i+1]], np.zeros(10)+(5-i), color = 'red', marker = 'x' )\n",
    "     \n",
    "\n",
    "plt.xlim(780, 2550)\n",
    "plt.legend()    \n",
    "plt.show()"
   ]
  },
  {
   "cell_type": "code",
   "execution_count": null,
   "id": "d1c70d04-da72-4ed8-bc20-60fd6d3930e6",
   "metadata": {},
   "outputs": [],
   "source": []
  }
 ],
 "metadata": {
  "kernelspec": {
   "display_name": "apple_kernel",
   "language": "python",
   "name": "apple_kernel"
  },
  "language_info": {
   "codemirror_mode": {
    "name": "ipython",
    "version": 3
   },
   "file_extension": ".py",
   "mimetype": "text/x-python",
   "name": "python",
   "nbconvert_exporter": "python",
   "pygments_lexer": "ipython3",
   "version": "3.8.10"
  }
 },
 "nbformat": 4,
 "nbformat_minor": 5
}
