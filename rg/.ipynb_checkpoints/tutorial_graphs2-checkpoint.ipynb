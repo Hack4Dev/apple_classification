{
 "cells": [
  {
   "cell_type": "markdown",
   "id": "6f893407-c45b-4a97-8906-702e72754885",
   "metadata": {},
   "source": [
    "# Tutorial: graphs"
   ]
  },
  {
   "cell_type": "markdown",
   "id": "7f7f0a3d-c257-43a6-84d1-643324886063",
   "metadata": {},
   "source": [
    "---"
   ]
  },
  {
   "cell_type": "code",
   "execution_count": 1,
   "id": "1ba5b328-7469-449d-b8ee-2360db0432f4",
   "metadata": {},
   "outputs": [],
   "source": [
    "import numpy as np\n",
    "from sklearn.linear_model import LogisticRegression\n",
    "# Python packages \n",
    "import pandas as pd # for importing data into data frame format\n",
    "import seaborn as sns # For drawing useful graphs, such as bar graphs\n",
    "import matplotlib.pyplot as plt"
   ]
  },
  {
   "cell_type": "code",
   "execution_count": 2,
   "id": "1eef33ad-651e-48f9-9d39-eef368607c46",
   "metadata": {},
   "outputs": [],
   "source": [
    "lr = LogisticRegression()\n",
    "models = [[lr, 'lr', 14]]"
   ]
  },
  {
   "cell_type": "code",
   "execution_count": 3,
   "id": "eaaae12b-34bf-46f6-8a5a-9884c196363a",
   "metadata": {},
   "outputs": [],
   "source": [
    "import json"
   ]
  },
  {
   "cell_type": "code",
   "execution_count": 4,
   "id": "02c4f2c1-a7cc-457e-9034-bc84d1ec8521",
   "metadata": {
    "tags": []
   },
   "outputs": [],
   "source": [
    "with open('ml_rg_fsB.txt') as f:\n",
    "    data = f.read()\n",
    "    \n",
    "ml_dicts = json.loads(data)\n",
    "\n",
    "with open('ml_rg_fs6B.txt') as f:\n",
    "    data = f.read()\n",
    "    \n",
    "ml_dicts6 = json.loads(data)\n",
    "\n",
    "# with open('base_gd_tr.txt') as f:\n",
    "#     data = f.read()\n",
    "    \n",
    "# baseDict = json.loads(data)\n",
    "# baseDict['lr'].keys()    "
   ]
  },
  {
   "cell_type": "code",
   "execution_count": 5,
   "id": "3204d7e8-9217-4d45-878d-39ef9237200b",
   "metadata": {},
   "outputs": [
    {
     "name": "stdout",
     "output_type": "stream",
     "text": [
      "dict_keys(['lr,1', 'lr,2', 'lr,3', 'lr,4', 'lr,5', 'lr,6', 'lr,7', 'lr,8', 'lr,9', 'lr,10', 'lr,11', 'lr,12', 'lr,13', 'lr,14', 'lr,15', 'lr,16', 'lr,17', 'lr,18', 'lr,19', 'lr,20', 'lr,21', 'lr,22', 'lr,23', 'lr,24', 'lr,25', 'lr,26', 'lr,27', 'lr,28', 'lr,29', 'lr,30', 'lr,31', 'lr,32', 'lr,33', 'lr,34', 'lr,35', 'lr,36', 'lr,37', 'lr,38', 'lr,39', 'lr,40', 'lr,41', 'lr,42', 'lr,43', 'lr,44', 'lr,45', 'lr,46', 'lr,47', 'lr,48', 'lr,49', 'lr,50'])\n",
      "\n",
      "dict_keys(['lr,1', 'lr,2', 'lr,3', 'lr,4', 'lr,5', 'lr,6', 'lr,7', 'lr,8', 'lr,9', 'lr,10', 'lr,11', 'lr,12', 'lr,13', 'lr,14', 'lr,15', 'lr,16', 'lr,17', 'lr,18', 'lr,19', 'lr,20', 'lr,21', 'lr,22', 'lr,23', 'lr,24', 'lr,25', 'lr,26', 'lr,27', 'lr,28', 'lr,29', 'lr,30', 'lr,31', 'lr,32', 'lr,33', 'lr,34', 'lr,35', 'lr,36', 'lr,37', 'lr,38', 'lr,39', 'lr,40', 'lr,41', 'lr,42', 'lr,43', 'lr,44', 'lr,45', 'lr,46', 'lr,47', 'lr,48', 'lr,49', 'lr,50'])\n"
     ]
    }
   ],
   "source": [
    "# print(baseDict['lr'].keys()    )\n",
    "print(ml_dicts['lr'].keys()    )\n",
    "print()\n",
    "print(ml_dicts6['lr'].keys()    )"
   ]
  },
  {
   "cell_type": "code",
   "execution_count": 6,
   "id": "5dd5f1be-96e6-4d5f-b781-db4b02f11952",
   "metadata": {},
   "outputs": [],
   "source": [
    "from source.calculate_jack import jack_SD # importing the baseline code from source.basline file"
   ]
  },
  {
   "cell_type": "code",
   "execution_count": 7,
   "id": "e38e5fcd-f6a0-42de-a8b4-891ead0c9bcf",
   "metadata": {},
   "outputs": [],
   "source": [
    "def acc (ml_dicts, models):\n",
    "    arr_all = []\n",
    "    for m, d in zip (models, ml_dicts.keys()):\n",
    "        acc_arr = [] \n",
    "        sd_arr = [] \n",
    "\n",
    "        # print(ml_dicts[d])\n",
    "        for key in ml_dicts[d].keys():\n",
    "            acc_arr.append(ml_dicts[d][key][ 'tot_acc' ]) # append total accuracy to an array\n",
    "            sd_train = jack_SD(np.zeros( len(ml_dicts[d][key][ 'jack_train' ]) ), ml_dicts[d][key][ 'jack_train' ])[0]\n",
    "            sd_test = jack_SD(np.zeros( len(ml_dicts[d][key][ 'jack_test' ]) ), ml_dicts[d][key][ 'jack_test' ])[0]\n",
    "            sd = np.sqrt( np.array((sd_train**2)) + np.array((sd_test**2)))\n",
    "            sd_arr.append(sd) # append sd_arr to an array\n",
    "        arr_all.append([ list(ml_dicts[d].keys()), acc_arr, sd_arr])    \n",
    "    return  arr_all   "
   ]
  },
  {
   "cell_type": "code",
   "execution_count": 8,
   "id": "310a7efa-6396-45dc-b7c9-ef39a979e0cb",
   "metadata": {},
   "outputs": [],
   "source": [
    "arr_all = acc(ml_dicts, models)\n",
    "arr_all6 = acc(ml_dicts6, models)"
   ]
  },
  {
   "cell_type": "code",
   "execution_count": 9,
   "id": "3a7176c1-28fe-4a62-96e8-4a7926bbb7bf",
   "metadata": {},
   "outputs": [
    {
     "name": "stdout",
     "output_type": "stream",
     "text": [
      "[0.49142857142857144, 0.6748768472906403, 0.6764705882352942, 0.6796116504854369, 0.7067307692307693, 0.7170731707317073, 0.7630331753554502, 0.7655502392344498, 0.7630331753554502, 0.7630331753554502, 0.7630331753554502, 0.7641509433962265, 0.7641509433962265, 0.7641509433962265, 0.7641509433962265, 0.7904761904761904, 0.7904761904761904, 0.7904761904761904, 0.7904761904761904, 0.7904761904761904, 0.7904761904761904, 0.7877358490566038, 0.7877358490566038, 0.784037558685446, 0.7735849056603774, 0.7699530516431925, 0.7699530516431925, 0.7699530516431925, 0.7699530516431925, 0.7788018433179723, 0.7798165137614679, 0.7798165137614679, 0.7798165137614679, 0.7798165137614679, 0.7798165137614679, 0.783410138248848, 0.783410138248848, 0.7824074074074074, 0.7824074074074074, 0.7824074074074074, 0.7824074074074074, 0.7824074074074074, 0.7818181818181819, 0.7782805429864253, 0.7782805429864253, 0.7818181818181819, 0.7782805429864253, 0.7772727272727272, 0.7853881278538812, 0.7853881278538812]\n",
      "[0.0, 0.5804597701149425, 0.6839378238341969, 0.7320574162679426, 0.7605633802816901, 0.7652582159624414, 0.7725118483412322, 0.7688679245283019, 0.7864077669902912, 0.7794117647058824, 0.7766990291262136, 0.7745098039215687, 0.7804878048780488, 0.7853658536585366, 0.7892156862745098, 0.7836538461538461, 0.7751196172248804, 0.7874396135265701, 0.7981220657276995, 0.8066037735849056, 0.8066037735849056, 0.8066037735849056, 0.8066037735849056, 0.8066037735849056, 0.8075117370892019, 0.8084112149532711, 0.813953488372093, 0.8148148148148148, 0.8148148148148148, 0.813953488372093, 0.813953488372093, 0.813953488372093, 0.813953488372093, 0.813953488372093, 0.8110599078341014, 0.8101851851851852, 0.8101851851851852, 0.8101851851851852, 0.8101851851851852, 0.8110599078341014, 0.8101851851851852, 0.8110599078341014, 0.8110599078341014, 0.8110599078341014, 0.8110599078341014, 0.8110599078341014, 0.8110599078341014, 0.8110599078341014, 0.8110599078341014, 0.8186046511627907]\n"
     ]
    }
   ],
   "source": [
    "# base: \n",
    "print(arr_all[0][1])\n",
    "print(arr_all6[0][1])\n",
    "\n"
   ]
  },
  {
   "cell_type": "code",
   "execution_count": 10,
   "id": "55a1daa9-9415-4b03-b738-09e74f7196e5",
   "metadata": {},
   "outputs": [
    {
     "name": "stdout",
     "output_type": "stream",
     "text": [
      "[0.         0.06122449 0.12244898 0.18367347 0.24489796 0.30612245\n",
      " 0.36734694 0.42857143 0.48979592 0.55102041 0.6122449  0.67346939\n",
      " 0.73469388 0.79591837 0.85714286 0.91836735 0.97959184 1.04081633\n",
      " 1.10204082 1.16326531 1.2244898  1.28571429 1.34693878 1.40816327\n",
      " 1.46938776 1.53061224 1.59183673 1.65306122 1.71428571 1.7755102\n",
      " 1.83673469 1.89795918 1.95918367 2.02040816 2.08163265 2.14285714\n",
      " 2.20408163 2.26530612 2.32653061 2.3877551  2.44897959 2.51020408\n",
      " 2.57142857 2.63265306 2.69387755 2.75510204 2.81632653 2.87755102\n",
      " 2.93877551 3.        ]\n",
      "[0.         0.06122449 0.12244898 0.18367347 0.24489796 0.30612245\n",
      " 0.36734694 0.42857143 0.48979592 0.55102041 0.6122449  0.67346939\n",
      " 0.73469388 0.79591837 0.85714286 0.91836735 0.97959184 1.04081633\n",
      " 1.10204082 1.16326531 1.2244898  1.28571429 1.34693878 1.40816327\n",
      " 1.46938776 1.53061224 1.59183673 1.65306122 1.71428571 1.7755102\n",
      " 1.83673469 1.89795918 1.95918367 2.02040816 2.08163265 2.14285714\n",
      " 2.20408163 2.26530612 2.32653061 2.3877551  2.44897959 2.51020408\n",
      " 2.57142857 2.63265306 2.69387755 2.75510204 2.81632653 2.87755102\n",
      " 2.93877551 3.        ]\n"
     ]
    },
    {
     "data": {
      "image/png": "[encoded data removed]",
      "text/plain": [
       "<Figure size 1080x504 with 1 Axes>"
      ]
     },
     "metadata": {
      "needs_background": "light"
     },
     "output_type": "display_data"
    }
   ],
   "source": [
    "colors = ['blue', 'purple', 'green', 'orange', 'red', 'brown']\n",
    "plt.figure(figsize=(15, 7))\n",
    "plt.title( \"Precision  for the first 50 features with the SD on the training data, where the selection on the best 200 features\", fontweight ='bold', fontsize =12)\n",
    "plt.xlabel(\"Features\", fontweight ='bold', fontsize =12)\n",
    "plt.ylabel(\"Precision\", fontweight ='bold', fontsize =12)\n",
    "\n",
    "count = 0\n",
    "n = len(colors)-1\n",
    "\n",
    "space = []\n",
    "tickFeat = []\n",
    "\n",
    "for result, model, color in zip(arr_all, models, colors):\n",
    "    a = np.linspace(n*count, n*(1+count)-2,50)\n",
    "    print(a)\n",
    "    space.extend(a)\n",
    "    tickFeat.extend(result[0])\n",
    "    plt.errorbar( a, result[1], result[2], fmt='o', label =model[1]+\"-RFE\", color = 'blue')\n",
    "    count += 1\n",
    "count = 0\n",
    "    \n",
    "for result, model, color in zip(arr_all6, models, colors):\n",
    "    a = np.linspace(n*count, n*(1+count)-2,50)\n",
    "    print(a)\n",
    "    space.extend(a)\n",
    "    tickFeat.extend(result[0])\n",
    "    plt.errorbar( a, result[1], result[2], fmt='o', label =model[1]+\"-SFS\", color = 'red')\n",
    "    count += 1\n",
    "\n",
    "plt.plot(np.array(space),[0.9187]*100, color = 'Black')        \n",
    "plt.xticks(space, tickFeat, rotation = 'vertical',  fontsize =12)\n",
    "plt.ylim(.2, 1)\n",
    "plt.legend()\n",
    "\n",
    "plt.show()"
   ]
  },
  {
   "cell_type": "code",
   "execution_count": 12,
   "id": "b63f2c60-45b1-4c9b-8520-93086ab1b86a",
   "metadata": {},
   "outputs": [],
   "source": [
    "# arr_diff_all = []\n",
    "\n",
    "# for m, m_key in zip (models, ml_dicts.keys()):\n",
    "#     acc_diff_arr = [] \n",
    "#     sd_diff_arr = [] \n",
    "#     for f_key in ml_dicts[m_key].keys():\n",
    "#         value = f_key.split(',')\n",
    "#         acc_diff_arr.append( ml_dicts[m_key][f_key][ 'tot_acc' ] - baseDict['lr']['lr, all'][ 'tot_acc' ]  )\n",
    "\n",
    "#         sd_train = jack_SD( baseDict['lr']['lr, all'][ 'jack_train' ], ml_dicts[m_key][f_key]['jack_train'] )[0]\n",
    "#         sd_test = jack_SD(  baseDict['lr']['lr, all'][ 'jack_test' ],  ml_dicts[m_key][f_key]['jack_test']   )[0]\n",
    "\n",
    "#         sd = np.sqrt( np.array((sd_train**2)) + np.array((sd_test**2)))\n",
    "#         sd_diff_arr.append(sd) # append sd_arr to an array\n",
    "#     arr_diff_all.append([ list(ml_dicts[m_key].keys()), acc_diff_arr, sd_diff_arr]) "
   ]
  },
  {
   "cell_type": "code",
   "execution_count": 13,
   "id": "9444c457-e05f-46b6-8937-6cffae594cdb",
   "metadata": {},
   "outputs": [],
   "source": [
    "# colors = ['blue', 'purple', 'green', 'orange', 'red', 'brown']\n",
    "# plt.figure(figsize=(15, 7))\n",
    "# plt.title( \"Precision  differences for ML methods versus LR_all for feature setsD\", fontweight ='bold', fontsize =12)\n",
    "# plt.xlabel(\"Features\", fontweight ='bold', fontsize =12)\n",
    "# plt.ylabel(\"Precision  difference\", fontweight ='bold', fontsize =12)\n",
    "\n",
    "# count = 0\n",
    "# n = len(colors)-0.5\n",
    "# space = []\n",
    "# tickFeat = []\n",
    "\n",
    "# for result, model, color in zip(arr_diff_all, models, colors):\n",
    "#     a = np.linspace(n*count, n*(1+count)-2,50)\n",
    "#     space.extend(a)\n",
    "#     tickFeat.extend(result[0])\n",
    "#     # plt.errorbar( a, result[1], result[2], fmt='o', label =model[1], color = color)\n",
    "#     plt.errorbar( a, result[1], np.zeros(len(result[2])), fmt='o', label =model[1], color = color)\n",
    "    \n",
    "#     count += 1\n",
    "    \n",
    "# plt.plot(np.array(space), np.zeros(50*1), color = 'Black')        \n",
    "# plt.xticks(space, tickFeat, rotation = 'vertical',  fontsize =12)\n",
    "# plt.ylim(-.5, 1)\n",
    "# plt.legend()\n",
    "\n",
    "# plt.show()"
   ]
  },
  {
   "cell_type": "code",
   "execution_count": 14,
   "id": "85deea14-a57f-43ab-ab70-ffb99c0dec0d",
   "metadata": {},
   "outputs": [],
   "source": [
    "\n",
    "imp_freqB = [1300.873, 870.89, 1302.18, 860.484, 1304.801, 853.684, 1322.776, 1497.77, 1296.32, 884.257, 1295.672, 884.86, 1294.379, 890.942, 1293.088, 1509.104, 887.283, 1291.156, 1291.799, 891.555, 1289.871, 895.558, 1286.67, 1496.906, 1914.801, 1508.226, 1285.394, 850.046, 1287.949, 910.657, 1509.983, 1284.758, 908.742, 1281.582, 896.797, 1282.85, 1498.636, 2485.753, 1282.216, 1507.349, 1279.684, 1277.163, 842.04, 1510.863, 1278.422, 1275.906, 926.274, 1514.393, 2425.295, 1275.278]\n",
    "\n",
    "imp_freq6B = [1992.806, 1376.867, 837.416, 1458.178, 1246.462, 870.89, 908.742, 926.274, 943.465, 1053.919, 934.285, 1046.686, 1056.065, 1046.263, 1070.454, 1098.577, 1281.582, 1155.366, 1510.863, 968.85, 1478.13, 1142.636, 2485.753, 890.942, 992.588, 1509.104, 998.322, 1022.738, 1124.79, 1111.767, 1018.319, 1017.121, 1044.998, 1997.412, 1968.596, 1032.513, 1030.461, 1521.503, 1256.124, 1239.905, 1129.691, 1011.17, 1025.976, 1013.146, 884.86, 895.558, 887.283, 1172.08, 1180.082, 896.797]"
   ]
  },
  {
   "cell_type": "code",
   "execution_count": 15,
   "id": "e71c9551-08d2-4cd7-9218-eed6f7403e60",
   "metadata": {},
   "outputs": [
    {
     "name": "stdout",
     "output_type": "stream",
     "text": [
      "[1154.851, 879.756, 885.163, 1163.141, 1329.559, 1492.597, 884.558, 1230.489, 1149.73, 888.5]\n",
      "[1906.353, 1361.681, 865.367, 1230.489, 1476.447, 1146.172, 2500.136, 2049.518, 1329.559, 1919.053]\n",
      "\n",
      "[1148.711, 886.979, 1217.202, 1502.109, 891.555, 1146.172, 894.322, 1142.636, 885.767, 1142.132]\n",
      "[1527.779, 1018.319, 2212.151, 2286.279, 979.834, 884.558, 1492.597, 894.322, 1934.806, 1123.815]\n",
      "\n",
      "[894.939, 895.249, 1478.13, 1348.928, 1476.447, 2483.372, 1351.037, 1509.104, 892.168, 1139.122]\n",
      "[1907.756, 946.911, 977.617, 868.847, 1539.573, 932.269, 2411.759, 864.79, 1900.763, 888.5]\n",
      "\n",
      "[900.222, 1449.212, 1353.859, 1454.089, 2457.479, 898.974, 900.848, 1446.786, 878.563, 977.617]\n",
      "[1433.19, 1533.2, 879.756, 850.604, 1940.599, 1979.115, 1897.98, 898.974, 1893.821, 1068.689]\n",
      "\n"
     ]
    },
    {
     "data": {
      "image/png": "[encoded data removed]",
      "text/plain": [
       "<Figure size 1080x504 with 1 Axes>"
      ]
     },
     "metadata": {
      "needs_background": "light"
     },
     "output_type": "display_data"
    }
   ],
   "source": [
    "plt.rcParams[\"figure.figsize\"] = (15,7)# 'xtick.labelsize', 'ytick.labelsize'\n",
    "plt.title( \"The location of the best 50 features using both methods SFS, RFE reduced on the best 200 features\", fontweight ='bold', fontsize =12)\n",
    "# plt.xlabel(\"Features\", fontweight ='bold', fontsize =12)\n",
    "# plt.ylabel(\"Precision\", fontweight ='bold', fontsize =12)\n",
    "\n",
    "arrr= [0, 10, 20, 30, 40]\n",
    "colrs = ['red', 'blue', 'green', 'yellow']\n",
    "\n",
    "for i in range (4):\n",
    "    print(imp_freq[arrr[i]:arrr[i+1]])\n",
    "    print(imp_freq6[arrr[i]:arrr[i+1]])\n",
    "    print()\n",
    "    if i == 0:\n",
    "        \n",
    "        plt.scatter(imp_freq[arrr[i]:arrr[i+1]], np.zeros(10)+i, color = 'blue', label =\"RFE\", marker = 'x')\n",
    "        plt.scatter(imp_freq6[arrr[i]:arrr[i+1]], np.zeros(10)+i, color = 'red', label =\"SFS\", marker = '.')\n",
    "    else:\n",
    "        plt.scatter(imp_freq[arrr[i]:arrr[i+1]], np.zeros(10)+i, color = 'blue',  marker = 'x')\n",
    "        plt.scatter(imp_freq6[arrr[i]:arrr[i+1]], np.zeros(10)+i, color = 'red',  marker = '.')\n",
    "    \n",
    "plt.legend()    \n",
    "plt.show()"
   ]
  },
  {
   "cell_type": "code",
   "execution_count": null,
   "id": "999bd451-ee40-4048-aade-fb661e69e75e",
   "metadata": {},
   "outputs": [],
   "source": []
  }
 ],
 "metadata": {
  "kernelspec": {
   "display_name": "apple_kernel",
   "language": "python",
   "name": "apple_kernel"
  },
  "language_info": {
   "codemirror_mode": {
    "name": "ipython",
    "version": 3
   },
   "file_extension": ".py",
   "mimetype": "text/x-python",
   "name": "python",
   "nbconvert_exporter": "python",
   "pygments_lexer": "ipython3",
   "version": "3.8.10"
  }
 },
 "nbformat": 4,
 "nbformat_minor": 5
}
