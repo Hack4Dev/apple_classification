{
 "cells": [
  {
   "cell_type": "markdown",
   "id": "6f893407-c45b-4a97-8906-702e72754885",
   "metadata": {},
   "source": [
    "# Tutorial: graphs"
   ]
  },
  {
   "cell_type": "markdown",
   "id": "7f7f0a3d-c257-43a6-84d1-643324886063",
   "metadata": {},
   "source": [
    "---"
   ]
  },
  {
   "cell_type": "code",
   "execution_count": 23,
   "id": "1ba5b328-7469-449d-b8ee-2360db0432f4",
   "metadata": {},
   "outputs": [],
   "source": [
    "import numpy as np\n",
    "from sklearn.linear_model import LogisticRegression\n",
    "# Python packages \n",
    "import pandas as pd # for importing data into data frame format\n",
    "import seaborn as sns # For drawing useful graphs, such as bar graphs\n",
    "import matplotlib.pyplot as plt"
   ]
  },
  {
   "cell_type": "code",
   "execution_count": 13,
   "id": "1eef33ad-651e-48f9-9d39-eef368607c46",
   "metadata": {},
   "outputs": [],
   "source": [
    "lr = LogisticRegression()\n",
    "models = [[lr, 'lr', 14]]"
   ]
  },
  {
   "cell_type": "code",
   "execution_count": 14,
   "id": "eaaae12b-34bf-46f6-8a5a-9884c196363a",
   "metadata": {},
   "outputs": [],
   "source": [
    "import json"
   ]
  },
  {
   "cell_type": "code",
   "execution_count": 15,
   "id": "02c4f2c1-a7cc-457e-9034-bc84d1ec8521",
   "metadata": {
    "tags": []
   },
   "outputs": [],
   "source": [
    "with open('ml_gd_fs.txt') as f:\n",
    "    data = f.read()\n",
    "    \n",
    "ml_dicts = json.loads(data)\n",
    "\n",
    "with open('ml_gd_fs6.txt') as f:\n",
    "    data = f.read()\n",
    "    \n",
    "ml_dicts6 = json.loads(data)\n",
    "\n",
    "# with open('base_gd_tr.txt') as f:\n",
    "#     data = f.read()\n",
    "    \n",
    "# baseDict = json.loads(data)\n",
    "# baseDict['lr'].keys()    "
   ]
  },
  {
   "cell_type": "code",
   "execution_count": 16,
   "id": "3204d7e8-9217-4d45-878d-39ef9237200b",
   "metadata": {},
   "outputs": [
    {
     "name": "stdout",
     "output_type": "stream",
     "text": [
      "dict_keys(['lr,1', 'lr,2', 'lr,3', 'lr,4', 'lr,5', 'lr,6', 'lr,7', 'lr,8', 'lr,9', 'lr,10', 'lr,11', 'lr,12', 'lr,13', 'lr,14', 'lr,15', 'lr,16', 'lr,17', 'lr,18', 'lr,19', 'lr,20', 'lr,21', 'lr,22', 'lr,23', 'lr,24', 'lr,25', 'lr,26', 'lr,27', 'lr,28', 'lr,29', 'lr,30', 'lr,31', 'lr,32', 'lr,33', 'lr,34', 'lr,35', 'lr,36', 'lr,37', 'lr,38', 'lr,39', 'lr,40', 'lr,41', 'lr,42', 'lr,43', 'lr,44', 'lr,45', 'lr,46', 'lr,47', 'lr,48', 'lr,49', 'lr,50'])\n",
      "\n",
      "dict_keys(['lr,1', 'lr,2', 'lr,3', 'lr,4', 'lr,5', 'lr,6', 'lr,7', 'lr,8', 'lr,9', 'lr,10', 'lr,11', 'lr,12', 'lr,13', 'lr,14', 'lr,15', 'lr,16', 'lr,17', 'lr,18', 'lr,19', 'lr,20', 'lr,21', 'lr,22', 'lr,23', 'lr,24', 'lr,25', 'lr,26', 'lr,27', 'lr,28', 'lr,29', 'lr,30', 'lr,31', 'lr,32', 'lr,33', 'lr,34', 'lr,35', 'lr,36', 'lr,37', 'lr,38', 'lr,39', 'lr,40', 'lr,41', 'lr,42', 'lr,43', 'lr,44', 'lr,45', 'lr,46', 'lr,47', 'lr,48', 'lr,49', 'lr,50'])\n"
     ]
    }
   ],
   "source": [
    "# print(baseDict['lr'].keys()    )\n",
    "print(ml_dicts['lr'].keys()    )\n",
    "print()\n",
    "print(ml_dicts6['lr'].keys()    )"
   ]
  },
  {
   "cell_type": "code",
   "execution_count": 20,
   "id": "5dd5f1be-96e6-4d5f-b781-db4b02f11952",
   "metadata": {},
   "outputs": [],
   "source": [
    "from source.calculate_jack import jack_SD # importing the baseline code from source.basline file"
   ]
  },
  {
   "cell_type": "code",
   "execution_count": 24,
   "id": "e38e5fcd-f6a0-42de-a8b4-891ead0c9bcf",
   "metadata": {},
   "outputs": [],
   "source": [
    "def acc (ml_dicts, models):\n",
    "    arr_all = []\n",
    "    for m, d in zip (models, ml_dicts.keys()):\n",
    "        acc_arr = [] \n",
    "        sd_arr = [] \n",
    "\n",
    "        # print(ml_dicts[d])\n",
    "        for key in ml_dicts[d].keys():\n",
    "            acc_arr.append(ml_dicts[d][key][ 'tot_acc' ]) # append total accuracy to an array\n",
    "            sd_train = jack_SD(np.zeros( len(ml_dicts[d][key][ 'jack_train' ]) ), ml_dicts[d][key][ 'jack_train' ])[0]\n",
    "            sd_test = jack_SD(np.zeros( len(ml_dicts[d][key][ 'jack_test' ]) ), ml_dicts[d][key][ 'jack_test' ])[0]\n",
    "            sd = np.sqrt( np.array((sd_train**2)) + np.array((sd_test**2)))\n",
    "            sd_arr.append(sd) # append sd_arr to an array\n",
    "        arr_all.append([ list(ml_dicts[d].keys()), acc_arr, sd_arr])    \n",
    "    return  arr_all   "
   ]
  },
  {
   "cell_type": "code",
   "execution_count": 25,
   "id": "310a7efa-6396-45dc-b7c9-ef39a979e0cb",
   "metadata": {},
   "outputs": [],
   "source": [
    "arr_all = acc(ml_dicts, models)\n",
    "arr_all6 = acc(ml_dicts6, models)"
   ]
  },
  {
   "cell_type": "code",
   "execution_count": 26,
   "id": "3a7176c1-28fe-4a62-96e8-4a7926bbb7bf",
   "metadata": {},
   "outputs": [
    {
     "name": "stdout",
     "output_type": "stream",
     "text": [
      "[0.5594059405940595, 0.7319587628865979, 0.7236180904522613, 0.7236180904522613, 0.8307692307692308, 0.8461538461538461, 0.8505154639175257, 0.8505154639175257, 0.8461538461538461, 0.8461538461538461, 0.8477157360406091, 0.8645833333333334, 0.8645833333333334, 0.8645833333333334, 0.8645833333333334, 0.8691099476439791, 0.8691099476439791, 0.8645833333333334, 0.8691099476439791, 0.868421052631579, 0.868421052631579, 0.873015873015873, 0.8871794871794871, 0.8917525773195877, 0.8917525773195877, 0.8917525773195877, 0.8917525773195877, 0.8917525773195877, 0.8917525773195877, 0.8917525773195877, 0.8917525773195877, 0.8917525773195877, 0.8917525773195877, 0.8917525773195877, 0.8947368421052632, 0.8900523560209425, 0.8900523560209425, 0.8947368421052632, 0.8900523560209425, 0.8686868686868687, 0.8686868686868687, 0.8686868686868687, 0.8686868686868687, 0.8686868686868687, 0.8686868686868687, 0.8686868686868687, 0.8686868686868687, 0.8686868686868687, 0.8686868686868687, 0.8686868686868687]\n",
      "[0.6, 0.6377551020408163, 0.845771144278607, 0.8542713567839196, 0.8472906403940886, 0.8507462686567164, 0.8592964824120602, 0.8592964824120602, 0.855, 0.8442211055276382, 0.8492462311557789, 0.8492462311557789, 0.8606965174129353, 0.87, 0.8656716417910447, 0.8861386138613861, 0.8861386138613861, 0.8984771573604061, 0.8984771573604061, 0.898989898989899, 0.9086294416243654, 0.9086294416243654, 0.9045226130653267, 0.9045226130653267, 0.9045226130653267, 0.9045226130653267, 0.9045226130653267, 0.9045226130653267, 0.9045226130653267, 0.9090909090909091, 0.9090909090909091, 0.9090909090909091, 0.9090909090909091, 0.9090909090909091, 0.9045226130653267, 0.9045226130653267, 0.9045226130653267, 0.9045226130653267, 0.9045226130653267, 0.9045226130653267, 0.9045226130653267, 0.9045226130653267, 0.9045226130653267, 0.9045226130653267, 0.9045226130653267, 0.9045226130653267, 0.9045226130653267, 0.9045226130653267, 0.9045226130653267, 0.9045226130653267]\n"
     ]
    }
   ],
   "source": [
    "# base: \n",
    "print(arr_all[0][1])\n",
    "print(arr_all6[0][1])\n",
    "\n"
   ]
  },
  {
   "cell_type": "code",
   "execution_count": 33,
   "id": "55a1daa9-9415-4b03-b738-09e74f7196e5",
   "metadata": {},
   "outputs": [
    {
     "name": "stdout",
     "output_type": "stream",
     "text": [
      "[0.         0.06122449 0.12244898 0.18367347 0.24489796 0.30612245\n",
      " 0.36734694 0.42857143 0.48979592 0.55102041 0.6122449  0.67346939\n",
      " 0.73469388 0.79591837 0.85714286 0.91836735 0.97959184 1.04081633\n",
      " 1.10204082 1.16326531 1.2244898  1.28571429 1.34693878 1.40816327\n",
      " 1.46938776 1.53061224 1.59183673 1.65306122 1.71428571 1.7755102\n",
      " 1.83673469 1.89795918 1.95918367 2.02040816 2.08163265 2.14285714\n",
      " 2.20408163 2.26530612 2.32653061 2.3877551  2.44897959 2.51020408\n",
      " 2.57142857 2.63265306 2.69387755 2.75510204 2.81632653 2.87755102\n",
      " 2.93877551 3.        ]\n",
      "[0.         0.06122449 0.12244898 0.18367347 0.24489796 0.30612245\n",
      " 0.36734694 0.42857143 0.48979592 0.55102041 0.6122449  0.67346939\n",
      " 0.73469388 0.79591837 0.85714286 0.91836735 0.97959184 1.04081633\n",
      " 1.10204082 1.16326531 1.2244898  1.28571429 1.34693878 1.40816327\n",
      " 1.46938776 1.53061224 1.59183673 1.65306122 1.71428571 1.7755102\n",
      " 1.83673469 1.89795918 1.95918367 2.02040816 2.08163265 2.14285714\n",
      " 2.20408163 2.26530612 2.32653061 2.3877551  2.44897959 2.51020408\n",
      " 2.57142857 2.63265306 2.69387755 2.75510204 2.81632653 2.87755102\n",
      " 2.93877551 3.        ]\n"
     ]
    },
    {
     "data": {
      "image/png": "[encoded data removed]",
      "text/plain": [
       "<Figure size 1080x504 with 1 Axes>"
      ]
     },
     "metadata": {
      "needs_background": "light"
     },
     "output_type": "display_data"
    }
   ],
   "source": [
    "colors = ['blue', 'purple', 'green', 'orange', 'red', 'brown']\n",
    "plt.figure(figsize=(15, 7))\n",
    "plt.title( \"Precision  for the first 50 features with the SD on the training data, where the selection happened on all features\", fontweight ='bold', fontsize =12)\n",
    "plt.xlabel(\"Features\", fontweight ='bold', fontsize =12)\n",
    "plt.ylabel(\"Precision\", fontweight ='bold', fontsize =12)\n",
    "\n",
    "count = 0\n",
    "n = len(colors)-1\n",
    "\n",
    "space = []\n",
    "tickFeat = []\n",
    "\n",
    "for result, model, color in zip(arr_all, models, colors):\n",
    "    a = np.linspace(n*count, n*(1+count)-2,50)\n",
    "    print(a)\n",
    "    space.extend(a)\n",
    "    tickFeat.extend(result[0])\n",
    "    plt.errorbar( a, result[1], result[2], fmt='o', label =model[1]+\"-RFE\", color = 'blue')\n",
    "    count += 1\n",
    "count = 0\n",
    "    \n",
    "for result, model, color in zip(arr_all6, models, colors):\n",
    "    a = np.linspace(n*count, n*(1+count)-2,50)\n",
    "    print(a)\n",
    "    space.extend(a)\n",
    "    tickFeat.extend(result[0])\n",
    "    plt.errorbar( a, result[1], result[2], fmt='o', label =model[1]+\"-SFS\", color = 'red')\n",
    "    count += 1\n",
    "\n",
    "plt.plot(np.array(space),[0.9187]*100, color = 'Black')        \n",
    "plt.xticks(space, tickFeat, rotation = 'vertical',  fontsize =12)\n",
    "plt.ylim(.2, 1)\n",
    "plt.legend()\n",
    "\n",
    "plt.show()"
   ]
  },
  {
   "cell_type": "code",
   "execution_count": 43,
   "id": "b63f2c60-45b1-4c9b-8520-93086ab1b86a",
   "metadata": {},
   "outputs": [],
   "source": [
    "# arr_diff_all = []\n",
    "\n",
    "# for m, m_key in zip (models, ml_dicts.keys()):\n",
    "#     acc_diff_arr = [] \n",
    "#     sd_diff_arr = [] \n",
    "#     for f_key in ml_dicts[m_key].keys():\n",
    "#         value = f_key.split(',')\n",
    "#         acc_diff_arr.append( ml_dicts[m_key][f_key][ 'tot_acc' ] - baseDict['lr']['lr, all'][ 'tot_acc' ]  )\n",
    "\n",
    "#         sd_train = jack_SD( baseDict['lr']['lr, all'][ 'jack_train' ], ml_dicts[m_key][f_key]['jack_train'] )[0]\n",
    "#         sd_test = jack_SD(  baseDict['lr']['lr, all'][ 'jack_test' ],  ml_dicts[m_key][f_key]['jack_test']   )[0]\n",
    "\n",
    "#         sd = np.sqrt( np.array((sd_train**2)) + np.array((sd_test**2)))\n",
    "#         sd_diff_arr.append(sd) # append sd_arr to an array\n",
    "#     arr_diff_all.append([ list(ml_dicts[m_key].keys()), acc_diff_arr, sd_diff_arr]) "
   ]
  },
  {
   "cell_type": "code",
   "execution_count": 40,
   "id": "9444c457-e05f-46b6-8937-6cffae594cdb",
   "metadata": {},
   "outputs": [],
   "source": [
    "# colors = ['blue', 'purple', 'green', 'orange', 'red', 'brown']\n",
    "# plt.figure(figsize=(15, 7))\n",
    "# plt.title( \"Precision  differences for ML methods versus LR_all for feature setsD\", fontweight ='bold', fontsize =12)\n",
    "# plt.xlabel(\"Features\", fontweight ='bold', fontsize =12)\n",
    "# plt.ylabel(\"Precision  difference\", fontweight ='bold', fontsize =12)\n",
    "\n",
    "# count = 0\n",
    "# n = len(colors)-0.5\n",
    "# space = []\n",
    "# tickFeat = []\n",
    "\n",
    "# for result, model, color in zip(arr_diff_all, models, colors):\n",
    "#     a = np.linspace(n*count, n*(1+count)-2,50)\n",
    "#     space.extend(a)\n",
    "#     tickFeat.extend(result[0])\n",
    "#     # plt.errorbar( a, result[1], result[2], fmt='o', label =model[1], color = color)\n",
    "#     plt.errorbar( a, result[1], np.zeros(len(result[2])), fmt='o', label =model[1], color = color)\n",
    "    \n",
    "#     count += 1\n",
    "    \n",
    "# plt.plot(np.array(space), np.zeros(50*1), color = 'Black')        \n",
    "# plt.xticks(space, tickFeat, rotation = 'vertical',  fontsize =12)\n",
    "# plt.ylim(-.5, 1)\n",
    "# plt.legend()\n",
    "\n",
    "# plt.show()"
   ]
  },
  {
   "cell_type": "code",
   "execution_count": 41,
   "id": "85deea14-a57f-43ab-ab70-ffb99c0dec0d",
   "metadata": {},
   "outputs": [],
   "source": [
    "\n",
    "imp_freq = [1347.526, 910.657, 1348.227, 916.451, 1348.928, 1473.929, 1346.826, 916.775, 1346.127, 916.128, 1345.428, 917.1, 1349.631, 1484.053, 1344.731, 917.424, 1344.033, 917.749, 1350.334, 1484.903, 1343.337, 918.074, 1342.641, 918.399, 1351.037, 1473.091, 1472.255, 2485.753, 1341.946, 918.724, 1341.252, 1485.754, 1340.559, 924.293, 1352.447, 1339.866, 924.622, 1351.742, 1876.006, 2495.323, 1486.606, 1339.174, 1338.483, 1487.459, 1076.231, 1337.792, 1075.784, 1337.102, 1483.204, 1336.413]\n",
    "imp_freq6 = [1393.893, 864.501, 1357.404, 1468.086, 1836.148, 1472.255, 868.847, 1163.141, 1338.483, 1354.567, 1144.149, 1145.159, 1862.529, 2488.138, 1151.261, 1076.231, 2478.624, 923.963, 1346.127, 1473.929, 1496.906, 1343.337, 915.158, 2492.924, 1309.415, 1896.591, 1909.161, 1850.564, 1351.037, 1086.605, 1384.218, 1376.867, 1312.729, 1477.288, 1366.706, 1518.829, 1367.427, 1361.681, 1363.113, 1356.693, 1324.127, 1344.731, 1363.83, 2441.281, 1352.447, 1320.754, 1353.153, 1364.548, 1306.774, 911.297]"
   ]
  },
  {
   "cell_type": "code",
   "execution_count": 46,
   "id": "e71c9551-08d2-4cd7-9218-eed6f7403e60",
   "metadata": {},
   "outputs": [
    {
     "name": "stdout",
     "output_type": "stream",
     "text": [
      "[1347.526, 910.657, 1348.227, 916.451, 1348.928, 1473.929, 1346.826, 916.775, 1346.127, 916.128]\n",
      "[1345.428, 917.1, 1349.631, 1484.053, 1344.731, 917.424, 1344.033, 917.749, 1350.334, 1484.903]\n",
      "[1343.337, 918.074, 1342.641, 918.399, 1351.037, 1473.091, 1472.255, 2485.753, 1341.946, 918.724]\n",
      "[1341.252, 1485.754, 1340.559, 924.293, 1352.447, 1339.866, 924.622, 1351.742, 1876.006, 2495.323]\n"
     ]
    },
    {
     "data": {
      "image/png": "[encoded data removed]",
      "text/plain": [
       "<Figure size 1080x504 with 1 Axes>"
      ]
     },
     "metadata": {
      "needs_background": "light"
     },
     "output_type": "display_data"
    }
   ],
   "source": [
    "plt.rcParams[\"figure.figsize\"] = (15,7)# 'xtick.labelsize', 'ytick.labelsize'\n",
    "# plt.rcParams['ytick.labelsize'] = (15)# 'xtick.labelsize', 'ytick.labelsize'\n",
    "# plt.rcParams['xtick.labelsize'] = (15)# 'xtick.labelsize', 'ytick.labelsize'\n",
    "# plt.rcParams['axes.labelsize'] = 15\n",
    "# plt.rcParams['axes.titlesize'] = 15\n",
    "arrr= [0, 10, 20, 30, 40]\n",
    "colrs = ['red', 'blue', 'green', 'yellow']\n",
    "for i in range (4):\n",
    "    \n",
    "    print(imp_freq[arrr[i]:arrr[i+1]])\n",
    "    plt.scatter(imp_freq[arrr[i]:arrr[i+1]], np.zeros(10)+i, color = 'blue', label =model[1]+\"-RFE\")\n",
    "    plt.scatter(imp_freq6[arrr[i]:arrr[i+1]], np.zeros(10)+i, color = 'red', label =model[1]+\"-SFS\")\n",
    "    \n",
    "plt.legend()    \n",
    "plt.show()"
   ]
  },
  {
   "cell_type": "code",
   "execution_count": null,
   "id": "999bd451-ee40-4048-aade-fb661e69e75e",
   "metadata": {},
   "outputs": [],
   "source": []
  }
 ],
 "metadata": {
  "kernelspec": {
   "display_name": "apple_kernel",
   "language": "python",
   "name": "apple_kernel"
  },
  "language_info": {
   "codemirror_mode": {
    "name": "ipython",
    "version": 3
   },
   "file_extension": ".py",
   "mimetype": "text/x-python",
   "name": "python",
   "nbconvert_exporter": "python",
   "pygments_lexer": "ipython3",
   "version": "3.8.10"
  }
 },
 "nbformat": 4,
 "nbformat_minor": 5
}
