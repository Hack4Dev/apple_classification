{
 "cells": [
  {
   "cell_type": "markdown",
   "id": "6f893407-c45b-4a97-8906-702e72754885",
   "metadata": {},
   "source": [
    "# Tutorial 7: Why is there a Jump??"
   ]
  },
  {
   "cell_type": "markdown",
   "id": "7f7f0a3d-c257-43a6-84d1-643324886063",
   "metadata": {},
   "source": [
    "---"
   ]
  },
  {
   "cell_type": "markdown",
   "id": "76a661a3-77c9-4e5c-ba18-72f455a25c91",
   "metadata": {},
   "source": [
    "### Introduction"
   ]
  },
  {
   "cell_type": "markdown",
   "id": "c21305f5-293e-4bbe-bfd8-ec8d01787f48",
   "metadata": {},
   "source": [
    "Hello, in the last notebook we noticed that there is a jump with a certain feature, now we want to investigate why is that is the case. In the prevoius notebook, we noticed a jump by the 5th feature. "
   ]
  },
  {
   "cell_type": "markdown",
   "id": "45456717-90bf-44c1-be0b-f2ad9314737f",
   "metadata": {},
   "source": [
    "first, let us call the data"
   ]
  },
  {
   "cell_type": "code",
   "execution_count": 1,
   "id": "fbec0b60-3e98-432e-9de6-fb444ce4c70c",
   "metadata": {},
   "outputs": [],
   "source": [
    "%store -r df_input_GD\n",
    "%store -r y_GD\n",
    "%store -r df_GD"
   ]
  },
  {
   "cell_type": "code",
   "execution_count": 2,
   "id": "cc2bd9ee-bb2c-453d-97fb-7104a64d8120",
   "metadata": {},
   "outputs": [],
   "source": [
    "y_GD = y_GD.map({'S': 1, 'B': 0})"
   ]
  },
  {
   "cell_type": "markdown",
   "id": "4a963998-c26e-40b6-bbfc-d5c1110dd9bf",
   "metadata": {},
   "source": [
    "---"
   ]
  },
  {
   "cell_type": "markdown",
   "id": "eea3bba6-fa62-43bf-a543-fb088617b9cf",
   "metadata": {},
   "source": [
    "calling some packages"
   ]
  },
  {
   "cell_type": "code",
   "execution_count": 3,
   "id": "4be29664-f490-4ef1-a263-7fcaaa093c34",
   "metadata": {},
   "outputs": [],
   "source": [
    "# Python packages \n",
    "import pandas as pd # for importing data into data frame format\n",
    "import seaborn as sns # For drawing useful graphs, such as bar graphs\n",
    "import numpy as np\n",
    "import matplotlib.pyplot as plt"
   ]
  },
  {
   "cell_type": "markdown",
   "id": "e08c43a3-5668-4360-92fb-7d28a1bdb3a0",
   "metadata": {},
   "source": [
    "---"
   ]
  },
  {
   "cell_type": "markdown",
   "id": "785b56a0-0772-4cc2-a2f6-34a9fe598b80",
   "metadata": {},
   "source": [
    "<b><i> Data splitting </i></b> "
   ]
  },
  {
   "cell_type": "code",
   "execution_count": 4,
   "id": "24b557bd-4d21-4767-bd55-f27cfbfdd8f8",
   "metadata": {},
   "outputs": [],
   "source": [
    "from sklearn.model_selection import train_test_split\n",
    "\n",
    "Xtrain, Xtest, Ytrain, Ytest = train_test_split( df_input_GD, y_GD, test_size = 0.3, random_state=3, stratify=y_GD) # train and valid sets"
   ]
  },
  {
   "cell_type": "code",
   "execution_count": 5,
   "id": "5acc93a2-c050-4d22-8e18-c37c179060a0",
   "metadata": {},
   "outputs": [
    {
     "name": "stdout",
     "output_type": "stream",
     "text": [
      "(382, 2074)\n",
      "(165, 2074)\n"
     ]
    }
   ],
   "source": [
    "print(Xtrain.shape)\n",
    "print(Xtest.shape)"
   ]
  },
  {
   "cell_type": "markdown",
   "id": "df8fc28e-022b-4cd0-be84-e590c7774324",
   "metadata": {},
   "source": [
    "---"
   ]
  },
  {
   "cell_type": "markdown",
   "id": "3c2c9fb6-2e96-47e3-8469-6e09beaecf49",
   "metadata": {},
   "source": [
    "<b><i> get the best N features </i></b> "
   ]
  },
  {
   "cell_type": "code",
   "execution_count": 6,
   "id": "6266887b-9436-4e2a-8171-a17156afd675",
   "metadata": {},
   "outputs": [],
   "source": [
    "%store -r featImp_GD"
   ]
  },
  {
   "cell_type": "code",
   "execution_count": 7,
   "id": "923b7f48-f1a0-417f-8627-9fac12335347",
   "metadata": {},
   "outputs": [
    {
     "name": "stdout",
     "output_type": "stream",
     "text": [
      "[ 15 205 144 153  71 180 157  60  43  86]\n"
     ]
    }
   ],
   "source": [
    "arrimp = np.array(featImp_GD).mean(0)\n",
    "sorted_idx = arrimp.argsort()\n",
    "print(sorted_idx[-10:])"
   ]
  },
  {
   "cell_type": "code",
   "execution_count": 8,
   "id": "ee471b52-e1ce-4089-b174-da8dc69196fa",
   "metadata": {},
   "outputs": [
    {
     "data": {
      "text/plain": [
       "Index([1018.719,  883.052, 1229.322,   989.18,  919.703, 2450.511, 1663.015,\n",
       "         975.41,  1551.55, 2002.039,\n",
       "       ...\n",
       "        837.687,  892.475,  874.121,  876.781,  853.123,   884.86,  877.969,\n",
       "        850.046,  845.334,  857.355],\n",
       "      dtype='object', length=400)"
      ]
     },
     "execution_count": 8,
     "metadata": {},
     "output_type": "execute_result"
    }
   ],
   "source": [
    "cols_ordered = df_input_GD.columns[sorted_idx][-400:]\n",
    "cols_ordered"
   ]
  },
  {
   "cell_type": "markdown",
   "id": "43148aed-4094-4725-929c-49df2386b9b6",
   "metadata": {},
   "source": [
    "---"
   ]
  },
  {
   "cell_type": "code",
   "execution_count": 9,
   "id": "c7b866b9-ee31-4b8f-86d6-3aca428a092a",
   "metadata": {},
   "outputs": [
    {
     "data": {
      "text/html": [
       "<div>\n",
       "<style scoped>\n",
       "    .dataframe tbody tr th:only-of-type {\n",
       "        vertical-align: middle;\n",
       "    }\n",
       "\n",
       "    .dataframe tbody tr th {\n",
       "        vertical-align: top;\n",
       "    }\n",
       "\n",
       "    .dataframe thead th {\n",
       "        text-align: right;\n",
       "    }\n",
       "</style>\n",
       "<table border=\"1\" class=\"dataframe\">\n",
       "  <thead>\n",
       "    <tr style=\"text-align: right;\">\n",
       "      <th></th>\n",
       "      <th>1018.719</th>\n",
       "      <th>883.052</th>\n",
       "      <th>1229.322</th>\n",
       "      <th>989.180</th>\n",
       "      <th>919.703</th>\n",
       "      <th>2450.511</th>\n",
       "      <th>1663.015</th>\n",
       "      <th>975.410</th>\n",
       "      <th>1551.550</th>\n",
       "      <th>2002.039</th>\n",
       "      <th>...</th>\n",
       "      <th>837.687</th>\n",
       "      <th>892.475</th>\n",
       "      <th>874.121</th>\n",
       "      <th>876.781</th>\n",
       "      <th>853.123</th>\n",
       "      <th>884.860</th>\n",
       "      <th>877.969</th>\n",
       "      <th>850.046</th>\n",
       "      <th>845.334</th>\n",
       "      <th>857.355</th>\n",
       "    </tr>\n",
       "  </thead>\n",
       "  <tbody>\n",
       "    <tr>\n",
       "      <th>228</th>\n",
       "      <td>-1.087990</td>\n",
       "      <td>-1.030926</td>\n",
       "      <td>-1.148293</td>\n",
       "      <td>-1.113318</td>\n",
       "      <td>-1.048227</td>\n",
       "      <td>-0.685276</td>\n",
       "      <td>-1.092314</td>\n",
       "      <td>-1.117591</td>\n",
       "      <td>-0.997408</td>\n",
       "      <td>-0.649178</td>\n",
       "      <td>...</td>\n",
       "      <td>-1.040947</td>\n",
       "      <td>-1.035275</td>\n",
       "      <td>-1.030146</td>\n",
       "      <td>-1.033481</td>\n",
       "      <td>-1.032521</td>\n",
       "      <td>-1.034466</td>\n",
       "      <td>-1.029368</td>\n",
       "      <td>-1.031805</td>\n",
       "      <td>-1.039755</td>\n",
       "      <td>-1.031936</td>\n",
       "    </tr>\n",
       "    <tr>\n",
       "      <th>474</th>\n",
       "      <td>1.300795</td>\n",
       "      <td>1.238410</td>\n",
       "      <td>1.339526</td>\n",
       "      <td>1.304189</td>\n",
       "      <td>1.260066</td>\n",
       "      <td>0.935879</td>\n",
       "      <td>1.344952</td>\n",
       "      <td>1.303722</td>\n",
       "      <td>1.300464</td>\n",
       "      <td>1.024498</td>\n",
       "      <td>...</td>\n",
       "      <td>1.210396</td>\n",
       "      <td>1.244742</td>\n",
       "      <td>1.230255</td>\n",
       "      <td>1.231594</td>\n",
       "      <td>1.220015</td>\n",
       "      <td>1.233132</td>\n",
       "      <td>1.230056</td>\n",
       "      <td>1.216652</td>\n",
       "      <td>1.215678</td>\n",
       "      <td>1.224416</td>\n",
       "    </tr>\n",
       "    <tr>\n",
       "      <th>273</th>\n",
       "      <td>1.150353</td>\n",
       "      <td>1.146772</td>\n",
       "      <td>1.144389</td>\n",
       "      <td>1.152049</td>\n",
       "      <td>1.143321</td>\n",
       "      <td>0.655422</td>\n",
       "      <td>1.082083</td>\n",
       "      <td>1.157107</td>\n",
       "      <td>1.084859</td>\n",
       "      <td>0.807275</td>\n",
       "      <td>...</td>\n",
       "      <td>1.127660</td>\n",
       "      <td>1.141946</td>\n",
       "      <td>1.144145</td>\n",
       "      <td>1.144791</td>\n",
       "      <td>1.137959</td>\n",
       "      <td>1.144632</td>\n",
       "      <td>1.144275</td>\n",
       "      <td>1.139449</td>\n",
       "      <td>1.133384</td>\n",
       "      <td>1.144581</td>\n",
       "    </tr>\n",
       "    <tr>\n",
       "      <th>285</th>\n",
       "      <td>0.908300</td>\n",
       "      <td>1.006635</td>\n",
       "      <td>0.788019</td>\n",
       "      <td>0.879218</td>\n",
       "      <td>0.985668</td>\n",
       "      <td>0.156375</td>\n",
       "      <td>0.599963</td>\n",
       "      <td>0.877727</td>\n",
       "      <td>0.541269</td>\n",
       "      <td>0.227356</td>\n",
       "      <td>...</td>\n",
       "      <td>1.017840</td>\n",
       "      <td>1.000981</td>\n",
       "      <td>1.012044</td>\n",
       "      <td>1.010621</td>\n",
       "      <td>1.020728</td>\n",
       "      <td>1.009804</td>\n",
       "      <td>1.008720</td>\n",
       "      <td>1.020247</td>\n",
       "      <td>1.022598</td>\n",
       "      <td>1.018547</td>\n",
       "    </tr>\n",
       "    <tr>\n",
       "      <th>20</th>\n",
       "      <td>-0.762880</td>\n",
       "      <td>-0.789648</td>\n",
       "      <td>-0.669492</td>\n",
       "      <td>-0.734424</td>\n",
       "      <td>-0.783509</td>\n",
       "      <td>0.021936</td>\n",
       "      <td>-0.357177</td>\n",
       "      <td>-0.721339</td>\n",
       "      <td>-0.196387</td>\n",
       "      <td>0.022215</td>\n",
       "      <td>...</td>\n",
       "      <td>-0.797608</td>\n",
       "      <td>-0.788356</td>\n",
       "      <td>-0.792682</td>\n",
       "      <td>-0.789674</td>\n",
       "      <td>-0.799611</td>\n",
       "      <td>-0.786075</td>\n",
       "      <td>-0.790533</td>\n",
       "      <td>-0.802299</td>\n",
       "      <td>-0.794386</td>\n",
       "      <td>-0.800824</td>\n",
       "    </tr>\n",
       "    <tr>\n",
       "      <th>...</th>\n",
       "      <td>...</td>\n",
       "      <td>...</td>\n",
       "      <td>...</td>\n",
       "      <td>...</td>\n",
       "      <td>...</td>\n",
       "      <td>...</td>\n",
       "      <td>...</td>\n",
       "      <td>...</td>\n",
       "      <td>...</td>\n",
       "      <td>...</td>\n",
       "      <td>...</td>\n",
       "      <td>...</td>\n",
       "      <td>...</td>\n",
       "      <td>...</td>\n",
       "      <td>...</td>\n",
       "      <td>...</td>\n",
       "      <td>...</td>\n",
       "      <td>...</td>\n",
       "      <td>...</td>\n",
       "      <td>...</td>\n",
       "      <td>...</td>\n",
       "    </tr>\n",
       "    <tr>\n",
       "      <th>391</th>\n",
       "      <td>1.267932</td>\n",
       "      <td>1.262031</td>\n",
       "      <td>1.286273</td>\n",
       "      <td>1.269223</td>\n",
       "      <td>1.266144</td>\n",
       "      <td>1.333936</td>\n",
       "      <td>1.362730</td>\n",
       "      <td>1.273116</td>\n",
       "      <td>1.383025</td>\n",
       "      <td>1.328693</td>\n",
       "      <td>...</td>\n",
       "      <td>1.240678</td>\n",
       "      <td>1.262327</td>\n",
       "      <td>1.258593</td>\n",
       "      <td>1.259826</td>\n",
       "      <td>1.246070</td>\n",
       "      <td>1.264388</td>\n",
       "      <td>1.259422</td>\n",
       "      <td>1.246331</td>\n",
       "      <td>1.244710</td>\n",
       "      <td>1.247542</td>\n",
       "    </tr>\n",
       "    <tr>\n",
       "      <th>71</th>\n",
       "      <td>-0.988367</td>\n",
       "      <td>-0.964915</td>\n",
       "      <td>-0.996997</td>\n",
       "      <td>-0.994270</td>\n",
       "      <td>-0.962605</td>\n",
       "      <td>0.076077</td>\n",
       "      <td>-0.790307</td>\n",
       "      <td>-0.989817</td>\n",
       "      <td>-0.598052</td>\n",
       "      <td>0.041415</td>\n",
       "      <td>...</td>\n",
       "      <td>-0.981073</td>\n",
       "      <td>-0.963380</td>\n",
       "      <td>-0.965990</td>\n",
       "      <td>-0.963353</td>\n",
       "      <td>-0.978024</td>\n",
       "      <td>-0.959486</td>\n",
       "      <td>-0.964945</td>\n",
       "      <td>-0.978210</td>\n",
       "      <td>-0.975422</td>\n",
       "      <td>-0.977062</td>\n",
       "    </tr>\n",
       "    <tr>\n",
       "      <th>287</th>\n",
       "      <td>1.158114</td>\n",
       "      <td>1.096258</td>\n",
       "      <td>1.181571</td>\n",
       "      <td>1.176683</td>\n",
       "      <td>1.108657</td>\n",
       "      <td>0.086486</td>\n",
       "      <td>0.903432</td>\n",
       "      <td>1.182322</td>\n",
       "      <td>0.697978</td>\n",
       "      <td>0.130295</td>\n",
       "      <td>...</td>\n",
       "      <td>1.088064</td>\n",
       "      <td>1.103508</td>\n",
       "      <td>1.098137</td>\n",
       "      <td>1.097991</td>\n",
       "      <td>1.090781</td>\n",
       "      <td>1.102332</td>\n",
       "      <td>1.098439</td>\n",
       "      <td>1.096154</td>\n",
       "      <td>1.096031</td>\n",
       "      <td>1.091843</td>\n",
       "    </tr>\n",
       "    <tr>\n",
       "      <th>66</th>\n",
       "      <td>-1.341772</td>\n",
       "      <td>-1.283949</td>\n",
       "      <td>-1.473712</td>\n",
       "      <td>-1.379037</td>\n",
       "      <td>-1.292361</td>\n",
       "      <td>-1.654704</td>\n",
       "      <td>-1.660482</td>\n",
       "      <td>-1.387514</td>\n",
       "      <td>-1.700697</td>\n",
       "      <td>-1.668134</td>\n",
       "      <td>...</td>\n",
       "      <td>-1.292153</td>\n",
       "      <td>-1.282100</td>\n",
       "      <td>-1.279279</td>\n",
       "      <td>-1.279909</td>\n",
       "      <td>-1.284921</td>\n",
       "      <td>-1.277541</td>\n",
       "      <td>-1.281256</td>\n",
       "      <td>-1.285772</td>\n",
       "      <td>-1.282308</td>\n",
       "      <td>-1.285889</td>\n",
       "    </tr>\n",
       "    <tr>\n",
       "      <th>85</th>\n",
       "      <td>-1.055156</td>\n",
       "      <td>-1.026815</td>\n",
       "      <td>-1.080390</td>\n",
       "      <td>-1.044240</td>\n",
       "      <td>-1.028090</td>\n",
       "      <td>-1.058400</td>\n",
       "      <td>-1.120412</td>\n",
       "      <td>-1.034055</td>\n",
       "      <td>-1.136569</td>\n",
       "      <td>-1.104175</td>\n",
       "      <td>...</td>\n",
       "      <td>-1.024621</td>\n",
       "      <td>-1.025982</td>\n",
       "      <td>-1.027971</td>\n",
       "      <td>-1.025618</td>\n",
       "      <td>-1.028104</td>\n",
       "      <td>-1.024180</td>\n",
       "      <td>-1.028601</td>\n",
       "      <td>-1.025806</td>\n",
       "      <td>-1.022977</td>\n",
       "      <td>-1.030241</td>\n",
       "    </tr>\n",
       "  </tbody>\n",
       "</table>\n",
       "<p>382 rows × 400 columns</p>\n",
       "</div>"
      ],
      "text/plain": [
       "     1018.719  883.052   1229.322  989.180   919.703   2450.511  1663.015  \\\n",
       "228 -1.087990 -1.030926 -1.148293 -1.113318 -1.048227 -0.685276 -1.092314   \n",
       "474  1.300795  1.238410  1.339526  1.304189  1.260066  0.935879  1.344952   \n",
       "273  1.150353  1.146772  1.144389  1.152049  1.143321  0.655422  1.082083   \n",
       "285  0.908300  1.006635  0.788019  0.879218  0.985668  0.156375  0.599963   \n",
       "20  -0.762880 -0.789648 -0.669492 -0.734424 -0.783509  0.021936 -0.357177   \n",
       "..        ...       ...       ...       ...       ...       ...       ...   \n",
       "391  1.267932  1.262031  1.286273  1.269223  1.266144  1.333936  1.362730   \n",
       "71  -0.988367 -0.964915 -0.996997 -0.994270 -0.962605  0.076077 -0.790307   \n",
       "287  1.158114  1.096258  1.181571  1.176683  1.108657  0.086486  0.903432   \n",
       "66  -1.341772 -1.283949 -1.473712 -1.379037 -1.292361 -1.654704 -1.660482   \n",
       "85  -1.055156 -1.026815 -1.080390 -1.044240 -1.028090 -1.058400 -1.120412   \n",
       "\n",
       "     975.410   1551.550  2002.039  ...  837.687   892.475   874.121   \\\n",
       "228 -1.117591 -0.997408 -0.649178  ... -1.040947 -1.035275 -1.030146   \n",
       "474  1.303722  1.300464  1.024498  ...  1.210396  1.244742  1.230255   \n",
       "273  1.157107  1.084859  0.807275  ...  1.127660  1.141946  1.144145   \n",
       "285  0.877727  0.541269  0.227356  ...  1.017840  1.000981  1.012044   \n",
       "20  -0.721339 -0.196387  0.022215  ... -0.797608 -0.788356 -0.792682   \n",
       "..        ...       ...       ...  ...       ...       ...       ...   \n",
       "391  1.273116  1.383025  1.328693  ...  1.240678  1.262327  1.258593   \n",
       "71  -0.989817 -0.598052  0.041415  ... -0.981073 -0.963380 -0.965990   \n",
       "287  1.182322  0.697978  0.130295  ...  1.088064  1.103508  1.098137   \n",
       "66  -1.387514 -1.700697 -1.668134  ... -1.292153 -1.282100 -1.279279   \n",
       "85  -1.034055 -1.136569 -1.104175  ... -1.024621 -1.025982 -1.027971   \n",
       "\n",
       "     876.781   853.123   884.860   877.969   850.046   845.334   857.355   \n",
       "228 -1.033481 -1.032521 -1.034466 -1.029368 -1.031805 -1.039755 -1.031936  \n",
       "474  1.231594  1.220015  1.233132  1.230056  1.216652  1.215678  1.224416  \n",
       "273  1.144791  1.137959  1.144632  1.144275  1.139449  1.133384  1.144581  \n",
       "285  1.010621  1.020728  1.009804  1.008720  1.020247  1.022598  1.018547  \n",
       "20  -0.789674 -0.799611 -0.786075 -0.790533 -0.802299 -0.794386 -0.800824  \n",
       "..        ...       ...       ...       ...       ...       ...       ...  \n",
       "391  1.259826  1.246070  1.264388  1.259422  1.246331  1.244710  1.247542  \n",
       "71  -0.963353 -0.978024 -0.959486 -0.964945 -0.978210 -0.975422 -0.977062  \n",
       "287  1.097991  1.090781  1.102332  1.098439  1.096154  1.096031  1.091843  \n",
       "66  -1.279909 -1.284921 -1.277541 -1.281256 -1.285772 -1.282308 -1.285889  \n",
       "85  -1.025618 -1.028104 -1.024180 -1.028601 -1.025806 -1.022977 -1.030241  \n",
       "\n",
       "[382 rows x 400 columns]"
      ]
     },
     "execution_count": 9,
     "metadata": {},
     "output_type": "execute_result"
    }
   ],
   "source": [
    "Xtrain[cols_ordered]"
   ]
  },
  {
   "cell_type": "markdown",
   "id": "fe4dfa48-8b96-4f31-9081-1d39baf91227",
   "metadata": {},
   "source": [
    "### RFE"
   ]
  },
  {
   "cell_type": "code",
   "execution_count": 10,
   "id": "e3d3e511-442e-4cf4-a107-3b8e8c7ef666",
   "metadata": {},
   "outputs": [],
   "source": [
    "# explore the number of selected features for RFE\n",
    "from numpy import mean\n",
    "from numpy import std\n",
    "from sklearn.model_selection import cross_val_score\n",
    "from sklearn.model_selection import RepeatedStratifiedKFold\n",
    "from sklearn.feature_selection import RFE\n",
    "from sklearn.pipeline import Pipeline\n",
    "from matplotlib import pyplot\n",
    "from sklearn.linear_model import LogisticRegression"
   ]
  },
  {
   "cell_type": "code",
   "execution_count": 11,
   "id": "dd9c4aa7-7e45-4e1e-960d-a8891cc7a46f",
   "metadata": {
    "tags": []
   },
   "outputs": [
    {
     "name": "stdout",
     "output_type": "stream",
     "text": [
      "1\n",
      "Column: 170, Selected True, Rank: 1.000\n",
      "\n",
      "2\n",
      "Column: 170, Selected True, Rank: 1.000\n",
      "Column: 191, Selected True, Rank: 1.000\n",
      "\n",
      "3\n",
      "Column: 136, Selected True, Rank: 1.000\n",
      "Column: 170, Selected True, Rank: 1.000\n",
      "Column: 191, Selected True, Rank: 1.000\n",
      "\n",
      "4\n",
      "Column: 110, Selected True, Rank: 1.000\n",
      "Column: 136, Selected True, Rank: 1.000\n",
      "Column: 170, Selected True, Rank: 1.000\n",
      "Column: 191, Selected True, Rank: 1.000\n",
      "\n",
      "5\n",
      "Column: 110, Selected True, Rank: 1.000\n",
      "Column: 136, Selected True, Rank: 1.000\n",
      "Column: 170, Selected True, Rank: 1.000\n",
      "Column: 191, Selected True, Rank: 1.000\n",
      "Column: 201, Selected True, Rank: 1.000\n",
      "\n"
     ]
    }
   ],
   "source": [
    "# https://machinelearningmastery.com/rfe-feature-selection-in-python/\n",
    "selected = []\n",
    "for i in range (1, 6):\n",
    "    print(i)\n",
    "    rfe = RFE(estimator=LogisticRegression(solver = 'newton-cg'), n_features_to_select=i)\n",
    "    # fit RFE\n",
    "    rfe.fit(Xtrain[cols_ordered].values, Ytrain)\n",
    "    # summarize all features\n",
    "    selected_feat = []\n",
    "    for i in range(Xtrain[cols_ordered].shape[1]):\n",
    "        if rfe.support_[i] == True:\n",
    "            selected_feat.append(i)\n",
    "            print('Column: %d, Selected %s, Rank: %.3f' % (i, rfe.support_[i], rfe.ranking_[i]))\n",
    "        \n",
    "    print()\n",
    "    selected.append(selected_feat)\n",
    "    \n",
    "    \n",
    "    "
   ]
  },
  {
   "cell_type": "markdown",
   "id": "54893115-0196-4a34-9244-7327c3ad3fc2",
   "metadata": {},
   "source": [
    "---"
   ]
  },
  {
   "cell_type": "code",
   "execution_count": 12,
   "id": "e6d1e7a9-7b89-4dbd-8e0c-c323734fc24e",
   "metadata": {},
   "outputs": [
    {
     "data": {
      "text/plain": [
       "[[170],\n",
       " [170, 191],\n",
       " [136, 170, 191],\n",
       " [110, 136, 170, 191],\n",
       " [110, 136, 170, 191, 201]]"
      ]
     },
     "execution_count": 12,
     "metadata": {},
     "output_type": "execute_result"
    }
   ],
   "source": [
    "selected"
   ]
  },
  {
   "cell_type": "code",
   "execution_count": 13,
   "id": "9eff63e7-9933-487d-aab2-19e51286e473",
   "metadata": {},
   "outputs": [
    {
     "data": {
      "text/plain": [
       "[[110],\n",
       " [136],\n",
       " [170],\n",
       " [191],\n",
       " [201],\n",
       " [110, 136],\n",
       " [110, 170],\n",
       " [110, 191],\n",
       " [110, 201],\n",
       " [136, 170],\n",
       " [136, 191],\n",
       " [136, 201],\n",
       " [170, 191],\n",
       " [170, 201],\n",
       " [191, 201],\n",
       " [110, 136, 170],\n",
       " [110, 136, 191],\n",
       " [110, 136, 201],\n",
       " [110, 170, 191],\n",
       " [110, 170, 201],\n",
       " [110, 191, 201],\n",
       " [136, 170, 191],\n",
       " [136, 170, 201],\n",
       " [136, 191, 201],\n",
       " [170, 191, 201],\n",
       " [110, 136, 170, 191],\n",
       " [110, 136, 170, 201],\n",
       " [110, 136, 191, 201],\n",
       " [110, 170, 191, 201],\n",
       " [136, 170, 191, 201],\n",
       " [110, 136, 170, 191, 201]]"
      ]
     },
     "execution_count": 13,
     "metadata": {},
     "output_type": "execute_result"
    }
   ],
   "source": [
    "from itertools import combinations\n",
    "\n",
    "input = selected[-1]\n",
    "\n",
    "output = sum([list(map(list, combinations(input, i))) for i in range(len(input) + 1)], [])\n",
    "selected2 = output[1:] \n",
    "selected2"
   ]
  },
  {
   "cell_type": "code",
   "execution_count": 14,
   "id": "74a32095-a0ad-4d16-a9c1-bc5094d85951",
   "metadata": {},
   "outputs": [
    {
     "data": {
      "text/plain": [
       "31"
      ]
     },
     "execution_count": 14,
     "metadata": {},
     "output_type": "execute_result"
    }
   ],
   "source": [
    "len(selected2)"
   ]
  },
  {
   "cell_type": "markdown",
   "id": "cc2b3ae3-b433-485b-ba64-407a4f6973bf",
   "metadata": {},
   "source": [
    "### LR"
   ]
  },
  {
   "cell_type": "code",
   "execution_count": 15,
   "id": "ee4737a0-0c38-4129-8bd3-06c6db467448",
   "metadata": {},
   "outputs": [],
   "source": [
    "lr = LogisticRegression()"
   ]
  },
  {
   "cell_type": "code",
   "execution_count": 16,
   "id": "2aa04eb1-468b-4ae4-9609-14e8e9d6b5be",
   "metadata": {},
   "outputs": [],
   "source": [
    "solvers = ['newton-cg', 'liblinear']\n",
    "penalty = ['l2']\n",
    "c_values = [1000, 100, 10, 1.0, 0.1, 0.01, 0.001]\n",
    "lr_par = dict(solver=solvers,penalty=penalty,C=c_values)"
   ]
  },
  {
   "cell_type": "code",
   "execution_count": 17,
   "id": "3ac639b5-aa00-4f5e-bde6-10880db78b5c",
   "metadata": {},
   "outputs": [],
   "source": [
    "models = [[lr, 'lr', 14]]\n",
    "par = [lr_par]"
   ]
  },
  {
   "cell_type": "code",
   "execution_count": 18,
   "id": "3249a265-608f-4923-8b8b-c9b9c5451946",
   "metadata": {},
   "outputs": [],
   "source": [
    "from source.ml_acc import get_accuracy_ml"
   ]
  },
  {
   "cell_type": "code",
   "execution_count": 19,
   "id": "37426a51-91bb-4d4d-83d0-ed64b27c893f",
   "metadata": {},
   "outputs": [
    {
     "name": "stdout",
     "output_type": "stream",
     "text": [
      "Index([899.598], dtype='object')\n",
      "Index([1331.608], dtype='object')\n",
      "Index([1330.241], dtype='object')\n",
      "Index([897.107], dtype='object')\n",
      "Index([1365.266], dtype='object')\n",
      "Index([899.598, 1331.608], dtype='object')\n",
      "Index([899.598, 1330.241], dtype='object')\n",
      "Index([899.598, 897.107], dtype='object')\n",
      "Index([899.598, 1365.266], dtype='object')\n",
      "Index([1331.608, 1330.241], dtype='object')\n",
      "Index([1331.608, 897.107], dtype='object')\n",
      "Index([1331.608, 1365.266], dtype='object')\n",
      "Index([1330.241, 897.107], dtype='object')\n",
      "Index([1330.241, 1365.266], dtype='object')\n",
      "Index([897.107, 1365.266], dtype='object')\n",
      "Index([899.598, 1331.608, 1330.241], dtype='object')\n",
      "Index([899.598, 1331.608, 897.107], dtype='object')\n",
      "Index([899.598, 1331.608, 1365.266], dtype='object')\n",
      "Index([899.598, 1330.241, 897.107], dtype='object')\n",
      "Index([899.598, 1330.241, 1365.266], dtype='object')\n",
      "Index([899.598, 897.107, 1365.266], dtype='object')\n",
      "Index([1331.608, 1330.241, 897.107], dtype='object')\n",
      "Index([1331.608, 1330.241, 1365.266], dtype='object')\n",
      "Index([1331.608, 897.107, 1365.266], dtype='object')\n",
      "Index([1330.241, 897.107, 1365.266], dtype='object')\n",
      "Index([899.598, 1331.608, 1330.241, 897.107], dtype='object')\n",
      "Index([899.598, 1331.608, 1330.241, 1365.266], dtype='object')\n",
      "Index([899.598, 1331.608, 897.107, 1365.266], dtype='object')\n",
      "Index([899.598, 1330.241, 897.107, 1365.266], dtype='object')\n",
      "Index([1331.608, 1330.241, 897.107, 1365.266], dtype='object')\n",
      "Index([899.598, 1331.608, 1330.241, 897.107, 1365.266], dtype='object')\n"
     ]
    }
   ],
   "source": [
    "num_ml_tools = len(par)\n",
    "ml_dicts = {}\n",
    "\n",
    "for m, par in zip(models, par):\n",
    "    key0 = str(m[1])\n",
    "    ml_dicts[key0] = {}\n",
    "    for f in selected2:\n",
    "        print(cols_ordered[f])\n",
    "\n",
    "        xtr =  Xtrain[cols_ordered].iloc[:, f]\n",
    "        xte =  Xtest[cols_ordered].iloc[:, f]\n",
    "        # print(xtr)\n",
    "        results = get_accuracy_ml (m[0], m[2], par, np.array(xtr), np.array(Ytrain), np.array(xte), np.array(Ytest)) # to get the accuracies for the ml model\n",
    "\n",
    "        key = str(m[1])+\",\"+str((f))\n",
    "        ml_dicts[key0][key] = {}\n",
    "\n",
    "        ml_dicts[key0][key]['tot_acc'] = results[0]\n",
    "        ml_dicts[key0][key]['jack_train'] = results[1]\n",
    "        ml_dicts[key0][key]['jack_test'] = results[2]"
   ]
  },
  {
   "cell_type": "markdown",
   "id": "1304bd7a-dd4d-4ce6-8745-69540fac025a",
   "metadata": {},
   "source": [
    "---"
   ]
  },
  {
   "cell_type": "code",
   "execution_count": 22,
   "id": "414a8053-6820-4fd5-ad87-b38c720e96e5",
   "metadata": {},
   "outputs": [],
   "source": [
    "# ml_dicts"
   ]
  },
  {
   "cell_type": "code",
   "execution_count": 20,
   "id": "eaaae12b-34bf-46f6-8a5a-9884c196363a",
   "metadata": {},
   "outputs": [],
   "source": [
    "import json"
   ]
  },
  {
   "cell_type": "code",
   "execution_count": 21,
   "id": "a2e6b5bd-7255-4b92-b9de-2f415f47e0ac",
   "metadata": {},
   "outputs": [],
   "source": [
    "with open('ml_gd_inv2.txt', 'w') as file:\n",
    "     file.write(json.dumps(ml_dicts)) # use `json.loads` to do the reverse"
   ]
  },
  {
   "cell_type": "code",
   "execution_count": 22,
   "id": "02c4f2c1-a7cc-457e-9034-bc84d1ec8521",
   "metadata": {},
   "outputs": [
    {
     "data": {
      "text/plain": [
       "dict_keys(['lr, all'])"
      ]
     },
     "execution_count": 22,
     "metadata": {},
     "output_type": "execute_result"
    }
   ],
   "source": [
    "import json\n",
    "with open('ml_gd_inv2.txt') as f:\n",
    "    data = f.read()\n",
    "    \n",
    "ml_dicts = json.loads(data)\n",
    "\n",
    "with open('base_gd.txt') as f:\n",
    "    data = f.read()\n",
    "    \n",
    "baseDict = json.loads(data)\n",
    "baseDict['lr'].keys()    "
   ]
  },
  {
   "cell_type": "code",
   "execution_count": 23,
   "id": "3204d7e8-9217-4d45-878d-39ef9237200b",
   "metadata": {},
   "outputs": [
    {
     "name": "stdout",
     "output_type": "stream",
     "text": [
      "dict_keys(['lr, all'])\n",
      "dict_keys(['lr,[110]', 'lr,[136]', 'lr,[170]', 'lr,[191]', 'lr,[201]', 'lr,[110, 136]', 'lr,[110, 170]', 'lr,[110, 191]', 'lr,[110, 201]', 'lr,[136, 170]', 'lr,[136, 191]', 'lr,[136, 201]', 'lr,[170, 191]', 'lr,[170, 201]', 'lr,[191, 201]', 'lr,[110, 136, 170]', 'lr,[110, 136, 191]', 'lr,[110, 136, 201]', 'lr,[110, 170, 191]', 'lr,[110, 170, 201]', 'lr,[110, 191, 201]', 'lr,[136, 170, 191]', 'lr,[136, 170, 201]', 'lr,[136, 191, 201]', 'lr,[170, 191, 201]', 'lr,[110, 136, 170, 191]', 'lr,[110, 136, 170, 201]', 'lr,[110, 136, 191, 201]', 'lr,[110, 170, 191, 201]', 'lr,[136, 170, 191, 201]', 'lr,[110, 136, 170, 191, 201]'])\n"
     ]
    }
   ],
   "source": [
    "print(baseDict['lr'].keys()    )\n",
    "print(ml_dicts['lr'].keys()    )"
   ]
  },
  {
   "cell_type": "code",
   "execution_count": 24,
   "id": "5dd5f1be-96e6-4d5f-b781-db4b02f11952",
   "metadata": {},
   "outputs": [],
   "source": [
    "from source.calculate_jack import jack_SD # importing the baseline code from source.basline file"
   ]
  },
  {
   "cell_type": "code",
   "execution_count": 25,
   "id": "e38e5fcd-f6a0-42de-a8b4-891ead0c9bcf",
   "metadata": {},
   "outputs": [],
   "source": [
    "arr_all = []\n",
    "for m, d in zip (models, ml_dicts.keys()):\n",
    "    acc_arr = [] \n",
    "    sd_arr = [] \n",
    "\n",
    "    # print(ml_dicts[d])\n",
    "    for key in ml_dicts[d].keys():\n",
    "        acc_arr.append(ml_dicts[d][key][ 'tot_acc' ]) # append total accuracy to an array\n",
    "        sd_train = jack_SD(np.zeros( len(ml_dicts[d][key][ 'jack_train' ]) ), ml_dicts[d][key][ 'jack_train' ])[0]\n",
    "        sd_test = jack_SD(np.zeros( len(ml_dicts[d][key][ 'jack_test' ]) ), ml_dicts[d][key][ 'jack_test' ])[0]\n",
    "        sd = np.sqrt( np.array((sd_train**2)) + np.array((sd_test**2)))\n",
    "        sd_arr.append(sd) # append sd_arr to an array\n",
    "    arr_all.append([ list(ml_dicts[d].keys()), acc_arr, sd_arr])    "
   ]
  },
  {
   "cell_type": "code",
   "execution_count": null,
   "id": "3a7176c1-28fe-4a62-96e8-4a7926bbb7bf",
   "metadata": {},
   "outputs": [],
   "source": []
  },
  {
   "cell_type": "code",
   "execution_count": 75,
   "id": "1da68fdc-0416-4ce4-9035-0fa299d08ab5",
   "metadata": {},
   "outputs": [],
   "source": [
    "def numbers_to_col(argument):\n",
    "    switcher = {\n",
    "        0: \"blue\",\n",
    "        5: \"red\",\n",
    "        15: \"green\",\n",
    "        25: \"orange\",\n",
    "        30: \"brown\",\n",
    "    }\n",
    " \n",
    "    return switcher.get(argument, \"nothing\")"
   ]
  },
  {
   "cell_type": "code",
   "execution_count": 76,
   "id": "34aedb22-7ab6-4e2d-b824-81cd59399502",
   "metadata": {},
   "outputs": [
    {
     "name": "stdout",
     "output_type": "stream",
     "text": [
      "['lr,[110]', 'lr,[136]', 'lr,[170]', 'lr,[191]', 'lr,[201]', 'lr,[110, 136]', 'lr,[110, 170]', 'lr,[110, 191]', 'lr,[110, 201]', 'lr,[136, 170]', 'lr,[136, 191]', 'lr,[136, 201]', 'lr,[170, 191]', 'lr,[170, 201]', 'lr,[191, 201]', 'lr,[110, 136, 170]', 'lr,[110, 136, 191]', 'lr,[110, 136, 201]', 'lr,[110, 170, 191]', 'lr,[110, 170, 201]', 'lr,[110, 191, 201]', 'lr,[136, 170, 191]', 'lr,[136, 170, 201]', 'lr,[136, 191, 201]', 'lr,[170, 191, 201]', 'lr,[110, 136, 170, 191]', 'lr,[110, 136, 170, 201]', 'lr,[110, 136, 191, 201]', 'lr,[110, 170, 191, 201]', 'lr,[136, 170, 191, 201]', 'lr,[110, 136, 170, 191, 201]']\n"
     ]
    }
   ],
   "source": [
    "print(arr_all[0][0])"
   ]
  },
  {
   "cell_type": "code",
   "execution_count": 79,
   "id": "55a1daa9-9415-4b03-b738-09e74f7196e5",
   "metadata": {},
   "outputs": [
    {
     "name": "stdout",
     "output_type": "stream",
     "text": [
      "1\n",
      "blue\n",
      "0\n",
      "5\n",
      "5\n",
      "red\n",
      "5\n",
      "15\n",
      "10\n",
      "green\n",
      "15\n",
      "25\n",
      "10\n",
      "orange\n",
      "25\n",
      "30\n",
      "5\n",
      "brown\n",
      "30\n",
      "31\n",
      "1\n"
     ]
    },
    {
     "data": {
      "image/png": "[encoded data removed]",
      "text/plain": [
       "<Figure size 1080x504 with 1 Axes>"
      ]
     },
     "metadata": {
      "needs_background": "light"
     },
     "output_type": "display_data"
    }
   ],
   "source": [
    "colors = ['blue', 'purple', 'green', 'orange', 'red', 'brown']\n",
    "plt.figure(figsize=(15, 7))\n",
    "plt.title( \"Precision  for different features with the SD\", fontweight ='bold', fontsize =12)\n",
    "plt.xlabel(\"Features\", fontweight ='bold', fontsize =12)\n",
    "plt.ylabel(\"Precision\", fontweight ='bold', fontsize =12)\n",
    "\n",
    "count = 0\n",
    "n = len(colors)-1\n",
    "\n",
    "space = []\n",
    "tickFeat = []\n",
    "p = [0, 5, 15, 25, 30, 31]\n",
    "for result, model, color in zip(arr_all, models, colors):\n",
    "    print(len(arr_all))\n",
    "    for t in [0, 5, 15, 25, 30]:\n",
    "        # if t in [0, 5, 15, 25, 30]:\n",
    "        colr =  numbers_to_col(t) \n",
    "\n",
    "        print(colr)\n",
    "        print(t)\n",
    "        print(p[count+1])\n",
    "        a = np.linspace(n*count, n*(1+count)-2, p[count+1] - t)\n",
    "        print(len(a))\n",
    "        space.extend(a)\n",
    "        plt.errorbar( a, result[1][t:p[count+1]], result[2][t:p[count+1]], fmt='o', label =model[1], color = colr)\n",
    "        count+=1\n",
    "    tickFeat.extend(result[0])\n",
    "\n",
    "plt.xticks(space, tickFeat, rotation = '90',  fontsize =12)\n",
    "plt.ylim(.2, 1)\n",
    "plt.legend()\n",
    "\n",
    "plt.show()"
   ]
  },
  {
   "cell_type": "code",
   "execution_count": null,
   "id": "97535205-879c-4e1b-ad08-aa753c7fda53",
   "metadata": {},
   "outputs": [],
   "source": []
  },
  {
   "cell_type": "code",
   "execution_count": 80,
   "id": "b63f2c60-45b1-4c9b-8520-93086ab1b86a",
   "metadata": {},
   "outputs": [],
   "source": [
    "arr_diff_all = []\n",
    "\n",
    "for m, m_key in zip (models, ml_dicts.keys()):\n",
    "    acc_diff_arr = [] \n",
    "    sd_diff_arr = [] \n",
    "    for f_key in ml_dicts[m_key].keys():\n",
    "        value = f_key.split(',')\n",
    "        acc_diff_arr.append( ml_dicts[m_key][f_key][ 'tot_acc' ] - baseDict['lr']['lr, all'][ 'tot_acc' ]  )\n",
    "\n",
    "        sd_train = jack_SD( baseDict['lr']['lr, all'][ 'jack_train' ], ml_dicts[m_key][f_key]['jack_train'] )[0]\n",
    "        sd_test = jack_SD(  baseDict['lr']['lr, all'][ 'jack_test' ],  ml_dicts[m_key][f_key]['jack_test']   )[0]\n",
    "\n",
    "        sd = np.sqrt( np.array((sd_train**2)) + np.array((sd_test**2)))\n",
    "        sd_diff_arr.append(sd) # append sd_arr to an array\n",
    "    arr_diff_all.append([ list(ml_dicts[m_key].keys()), acc_diff_arr, sd_diff_arr]) "
   ]
  },
  {
   "cell_type": "code",
   "execution_count": 81,
   "id": "9444c457-e05f-46b6-8937-6cffae594cdb",
   "metadata": {},
   "outputs": [
    {
     "data": {
      "image/png": "[encoded data removed]",
      "text/plain": [
       "<Figure size 1080x504 with 1 Axes>"
      ]
     },
     "metadata": {
      "needs_background": "light"
     },
     "output_type": "display_data"
    }
   ],
   "source": [
    "colors = ['blue', 'purple', 'green', 'orange', 'red', 'brown']\n",
    "plt.figure(figsize=(15, 7))\n",
    "plt.title( \"Precision  differences for ML methods versus LR_all for feature setsD\", fontweight ='bold', fontsize =12)\n",
    "plt.xlabel(\"Features\", fontweight ='bold', fontsize =12)\n",
    "plt.ylabel(\"Precision  difference\", fontweight ='bold', fontsize =12)\n",
    "\n",
    "count = 0\n",
    "n = len(colors)-0.5\n",
    "space = []\n",
    "tickFeat = []\n",
    "\n",
    "for result, model, color in zip(arr_diff_all, models, colors):\n",
    "    a = np.linspace(n*count, n*(1+count)-2,31)\n",
    "    space.extend(a)\n",
    "    tickFeat.extend(result[0])\n",
    "    plt.errorbar( a, result[1], result[2], fmt='o', label =model[1], color = color)\n",
    "    count += 1\n",
    "    \n",
    "plt.plot(np.array(space), np.zeros(31*1), color = 'Black')        \n",
    "plt.xticks(space, tickFeat, rotation = '45',  fontsize =12)\n",
    "plt.ylim(-.5, 1)\n",
    "plt.legend()\n",
    "\n",
    "plt.show()"
   ]
  },
  {
   "cell_type": "code",
   "execution_count": null,
   "id": "85deea14-a57f-43ab-ab70-ffb99c0dec0d",
   "metadata": {},
   "outputs": [],
   "source": [
    "[[170],\n",
    " [170, 191],\n",
    " [136, 170, 191],\n",
    " [110, 136, 170, 191],\n",
    " [110, 136, 170, 191, 201]]"
   ]
  },
  {
   "cell_type": "code",
   "execution_count": null,
   "id": "e71c9551-08d2-4cd7-9218-eed6f7403e60",
   "metadata": {},
   "outputs": [],
   "source": [
    "[201,110, 170]"
   ]
  }
 ],
 "metadata": {
  "kernelspec": {
   "display_name": "apple_kernel",
   "language": "python",
   "name": "apple_kernel"
  },
  "language_info": {
   "codemirror_mode": {
    "name": "ipython",
    "version": 3
   },
   "file_extension": ".py",
   "mimetype": "text/x-python",
   "name": "python",
   "nbconvert_exporter": "python",
   "pygments_lexer": "ipython3",
   "version": "3.8.10"
  }
 },
 "nbformat": 4,
 "nbformat_minor": 5
}
