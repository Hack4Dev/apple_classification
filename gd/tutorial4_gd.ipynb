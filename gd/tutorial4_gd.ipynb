{
 "cells": [
  {
   "cell_type": "markdown",
   "id": "6f893407-c45b-4a97-8906-702e72754885",
   "metadata": {},
   "source": [
    "# Tutorial 4: ML on the best [2~200] features"
   ]
  },
  {
   "cell_type": "markdown",
   "id": "7f7f0a3d-c257-43a6-84d1-643324886063",
   "metadata": {},
   "source": [
    "---"
   ]
  },
  {
   "cell_type": "markdown",
   "id": "76a661a3-77c9-4e5c-ba18-72f455a25c91",
   "metadata": {},
   "source": [
    "### Introduction"
   ]
  },
  {
   "cell_type": "markdown",
   "id": "c21305f5-293e-4bbe-bfd8-ec8d01787f48",
   "metadata": {},
   "source": [
    "Hello, this notebook will show how to use machine learning (ML) to classify apples using the best [2, .. , 50] wavelength. The notebook will show how to visualize the final accuracy and their relative performance in two different graphs."
   ]
  },
  {
   "cell_type": "markdown",
   "id": "45456717-90bf-44c1-be0b-f2ad9314737f",
   "metadata": {},
   "source": [
    "first, let us call the data"
   ]
  },
  {
   "cell_type": "code",
   "execution_count": 1,
   "id": "fbec0b60-3e98-432e-9de6-fb444ce4c70c",
   "metadata": {},
   "outputs": [],
   "source": [
    "%store -r df_input_GD\n",
    "%store -r y_GD\n",
    "%store -r df_GD"
   ]
  },
  {
   "cell_type": "code",
   "execution_count": 2,
   "id": "cc2bd9ee-bb2c-453d-97fb-7104a64d8120",
   "metadata": {},
   "outputs": [],
   "source": [
    "y_GD = y_GD.map({'S': 1, 'B': 0})"
   ]
  },
  {
   "cell_type": "markdown",
   "id": "4a963998-c26e-40b6-bbfc-d5c1110dd9bf",
   "metadata": {},
   "source": [
    "---"
   ]
  },
  {
   "cell_type": "markdown",
   "id": "eea3bba6-fa62-43bf-a543-fb088617b9cf",
   "metadata": {},
   "source": [
    "calling some packages"
   ]
  },
  {
   "cell_type": "code",
   "execution_count": 3,
   "id": "4be29664-f490-4ef1-a263-7fcaaa093c34",
   "metadata": {},
   "outputs": [],
   "source": [
    "# Python packages \n",
    "import pandas as pd # for importing data into data frame format\n",
    "import seaborn as sns # For drawing useful graphs, such as bar graphs\n",
    "import numpy as np\n",
    "import matplotlib.pyplot as plt"
   ]
  },
  {
   "cell_type": "markdown",
   "id": "e08c43a3-5668-4360-92fb-7d28a1bdb3a0",
   "metadata": {},
   "source": [
    "---"
   ]
  },
  {
   "cell_type": "markdown",
   "id": "785b56a0-0772-4cc2-a2f6-34a9fe598b80",
   "metadata": {},
   "source": [
    "<b><i> Data splitting </i></b> "
   ]
  },
  {
   "cell_type": "code",
   "execution_count": 4,
   "id": "24b557bd-4d21-4767-bd55-f27cfbfdd8f8",
   "metadata": {},
   "outputs": [],
   "source": [
    "from sklearn.model_selection import train_test_split\n",
    "\n",
    "Xtrain, Xtest, Ytrain, Ytest = train_test_split( df_input_GD, y_GD, test_size = 0.3, random_state=3, stratify=y_GD) # train and valid sets\n",
    "\n"
   ]
  },
  {
   "cell_type": "code",
   "execution_count": 5,
   "id": "5acc93a2-c050-4d22-8e18-c37c179060a0",
   "metadata": {},
   "outputs": [
    {
     "name": "stdout",
     "output_type": "stream",
     "text": [
      "(382, 2074)\n",
      "(165, 2074)\n"
     ]
    }
   ],
   "source": [
    "print(Xtrain.shape)\n",
    "print(Xtest.shape)"
   ]
  },
  {
   "cell_type": "markdown",
   "id": "df8fc28e-022b-4cd0-be84-e590c7774324",
   "metadata": {},
   "source": [
    "---"
   ]
  },
  {
   "cell_type": "markdown",
   "id": "3c2c9fb6-2e96-47e3-8469-6e09beaecf49",
   "metadata": {},
   "source": [
    "<b><i> get the best N features </i></b> "
   ]
  },
  {
   "cell_type": "code",
   "execution_count": 6,
   "id": "6266887b-9436-4e2a-8171-a17156afd675",
   "metadata": {},
   "outputs": [],
   "source": [
    "%store -r featImp_GD"
   ]
  },
  {
   "cell_type": "code",
   "execution_count": 7,
   "id": "923b7f48-f1a0-417f-8627-9fac12335347",
   "metadata": {},
   "outputs": [
    {
     "name": "stdout",
     "output_type": "stream",
     "text": [
      "[ 15 205 144 153  71 180 157  60  43  86]\n"
     ]
    }
   ],
   "source": [
    "arrimp = np.array(featImp_GD).mean(0)\n",
    "sorted_idx = arrimp.argsort()\n",
    "print(sorted_idx[-10:])"
   ]
  },
  {
   "cell_type": "code",
   "execution_count": 8,
   "id": "ee471b52-e1ce-4089-b174-da8dc69196fa",
   "metadata": {},
   "outputs": [
    {
     "data": {
      "text/plain": [
       "Index([ 837.416, 1365.266, 1399.159,  872.355, 1165.232,  866.235, 1129.691,\n",
       "         909.06, 1235.179, 2126.859,\n",
       "       ...\n",
       "        837.687,  892.475,  874.121,  876.781,  853.123,   884.86,  877.969,\n",
       "        850.046,  845.334,  857.355],\n",
       "      dtype='object', length=200)"
      ]
     },
     "execution_count": 8,
     "metadata": {},
     "output_type": "execute_result"
    }
   ],
   "source": [
    "cols_ordered = df_input_GD.columns[sorted_idx][-200:]\n",
    "cols_ordered"
   ]
  },
  {
   "cell_type": "markdown",
   "id": "43148aed-4094-4725-929c-49df2386b9b6",
   "metadata": {},
   "source": [
    "---"
   ]
  },
  {
   "cell_type": "markdown",
   "id": "aad166b5-87cf-4ac7-81da-e6351514f9ef",
   "metadata": {},
   "source": [
    "<b><i> prepare diffrint feature set sizes </i></b> "
   ]
  },
  {
   "cell_type": "code",
   "execution_count": 9,
   "id": "adafede0-01db-4a8c-8e97-c169bf85b697",
   "metadata": {},
   "outputs": [],
   "source": [
    "number_features = [2, 4, 6, 8, 10, 20, 50, 100, 200] # define the number features. \n"
   ]
  },
  {
   "cell_type": "markdown",
   "id": "338b5481-cd5e-4c5c-b1cd-64a68c907b66",
   "metadata": {},
   "source": [
    "---"
   ]
  },
  {
   "cell_type": "markdown",
   "id": "f2bb8b07-4957-4f49-b6f2-f9ab27fd3e8b",
   "metadata": {},
   "source": [
    "<b><i> ML model and thier hyper-parameters </i></b> "
   ]
  },
  {
   "cell_type": "code",
   "execution_count": 10,
   "id": "ceb26d5d-a221-42a9-8a31-b7291d7363e9",
   "metadata": {},
   "outputs": [],
   "source": [
    "from sklearn.neural_network import MLPClassifier\n",
    "from sklearn.linear_model import LogisticRegression\n",
    "from sklearn.svm import SVC\n",
    "from sklearn.ensemble import RandomForestClassifier\n",
    "from sklearn.neighbors import KNeighborsClassifier\n",
    "from xgboost import XGBClassifier\n",
    "from numpy import random as np_random"
   ]
  },
  {
   "cell_type": "markdown",
   "id": "38b74cb9-6eea-4214-8cc7-20a4a8448050",
   "metadata": {},
   "source": [
    "first let us define the model\n"
   ]
  },
  {
   "cell_type": "code",
   "execution_count": 11,
   "id": "8150affb-0221-4a6b-a93c-05913bc89f08",
   "metadata": {},
   "outputs": [],
   "source": [
    "lr = LogisticRegression()\n",
    "svm = SVC(kernel=\"rbf\")\n",
    "rf = RandomForestClassifier(random_state=1)\n",
    "xgb = XGBClassifier(random_state=1)\n",
    "knns = KNeighborsClassifier()\n",
    "anns = MLPClassifier(max_iter=3000, random_state=1, activation = 'relu', solver = 'sgd')"
   ]
  },
  {
   "cell_type": "markdown",
   "id": "6d41e85a-4553-4c15-8b01-40a3d6e43d4e",
   "metadata": {},
   "source": [
    "defining the hyper-paramter per model"
   ]
  },
  {
   "cell_type": "code",
   "execution_count": 12,
   "id": "2cf9c1c3-5b7f-438a-ac88-19277d9efe3b",
   "metadata": {},
   "outputs": [],
   "source": [
    "solvers = ['newton-cg', 'liblinear']\n",
    "penalty = ['l2']\n",
    "c_values = [1000, 100, 10, 1.0, 0.1, 0.01, 0.001]\n",
    "lr_par = dict(solver=solvers,penalty=penalty,C=c_values)\n",
    "\n",
    "##############################\n",
    "C_range = np.logspace(-1, 10, 20) # define a set of values for the parameter C\n",
    "gamma_range = np.logspace(-9, 3, 20) # define a set of values for the parameter gamma\n",
    "\n",
    "svm_par = dict(gamma=gamma_range, C=C_range)\n",
    "\n",
    "#########################\n",
    "\n",
    "# Number of trees in random forest\n",
    "n_estimators = [int(x) for x in np.linspace(start = 200, stop = 2000, num = 10)]\n",
    "# Number of features to consider at every split\n",
    "max_features = ['auto', 'sqrt']\n",
    "# Maximum number of levels in tree\n",
    "max_depth = [int(x) for x in np.linspace(10, 110, num = 11)]\n",
    "max_depth.append(None)\n",
    "# Minimum number of samples required to split a node\n",
    "min_samples_split = [2, 5, 10]\n",
    "# Minimum number of samples required at each leaf node\n",
    "min_samples_leaf = [1, 2, 4]\n",
    "# Method of selecting samples for training each tree\n",
    "bootstrap = [True, False]\n",
    "# Create the random grid\n",
    "\n",
    "#max_features = ['sqrt', 'log2']\n",
    "\n",
    "rf_par = {'n_estimators': n_estimators,\n",
    "               'max_features': max_features,\n",
    "               'max_depth': max_depth,\n",
    "               'min_samples_split': min_samples_split,\n",
    "               'min_samples_leaf': min_samples_leaf,\n",
    "               'bootstrap': bootstrap}\n",
    "#######################\n",
    "# https://www.kaggle.com/code/tilii7/hyperparameter-grid-search-with-xgboost/notebook\n",
    "xgb_par = {\n",
    "        'min_child_weight': [1, 5, 10],\n",
    "        'gamma': [0.5, 1, 1.5, 2, 5, 9],\n",
    "        'subsample': [0.6, 0.8, 1.0],\n",
    "        'colsample_bytree': [0.6, 0.8, 1.0],\n",
    "        'max_depth': [3, 4, 5, 8]\n",
    "        }\n",
    "##################################\n",
    "n_neighbors = range(1, 30, 2)\n",
    "weights = ['uniform', 'distance']\n",
    "metric = ['euclidean', 'manhattan', 'minkowski']\n",
    "\n",
    "knns_par = dict(n_neighbors=n_neighbors,weights=weights,metric=metric)\n",
    "################\n",
    "anns_par = {\n",
    "    'hidden_layer_sizes': [(3,3),(5,5),(8,3)],\n",
    "#     'activation': ['relu'],\n",
    "    'solver': ['sgd', 'adam'],\n",
    "    'alpha': [0.0001, 0.001,0.01,0.1, 0.05, 0.005 , 0.005, 0.00005],\n",
    "#     'learning_rate': ['constant','adaptive'],\n",
    "}\n",
    "################"
   ]
  },
  {
   "cell_type": "markdown",
   "id": "c5b6d3f5-7684-4e7d-aa9e-2db156b1f7ae",
   "metadata": {},
   "source": [
    "group the above into two lists"
   ]
  },
  {
   "cell_type": "code",
   "execution_count": 13,
   "id": "f022d938-448a-4de5-8688-d5d626c0e959",
   "metadata": {},
   "outputs": [],
   "source": [
    "models = [[lr, 'lr', 14], [svm, 'svm', 15], [rf, 'rf', 30], [xgb, 'xgb', 30], [knns, 'knns', 30], [anns, 'anns', 30]]\n",
    "par = [lr_par, svm_par, rf_par, xgb_par, knns_par, anns_par]\n",
    "\n",
    "# models = [[lr, 'lr', 14]]\n",
    "# par = [lr_par]"
   ]
  },
  {
   "cell_type": "markdown",
   "id": "f4fb20f6-da76-40e4-a71e-f52e812126eb",
   "metadata": {},
   "source": [
    "---"
   ]
  },
  {
   "cell_type": "markdown",
   "id": "c6ca1f27-6bdc-4101-b28d-4a9206a988b7",
   "metadata": {},
   "source": [
    "<b><i> train and test </i></b> "
   ]
  },
  {
   "cell_type": "code",
   "execution_count": 14,
   "id": "f4ec3bc6-20fa-4a1a-ae67-9b68cd6e0577",
   "metadata": {},
   "outputs": [],
   "source": [
    "from source.ml_acc import get_accuracy_ml"
   ]
  },
  {
   "cell_type": "code",
   "execution_count": 15,
   "id": "fee5f7d5-8636-43ec-b23b-f20971bbdd9d",
   "metadata": {
    "collapsed": true,
    "jupyter": {
     "outputs_hidden": true
    },
    "tags": []
   },
   "outputs": [
    {
     "name": "stdout",
     "output_type": "stream",
     "text": [
      "2\n",
      "Index([845.334, 857.355], dtype='object')\n",
      "<class 'pandas.core.frame.DataFrame'>\n",
      "4\n",
      "Index([877.969, 850.046, 845.334, 857.355], dtype='object')\n",
      "<class 'pandas.core.frame.DataFrame'>\n",
      "6\n",
      "Index([853.123, 884.86, 877.969, 850.046, 845.334, 857.355], dtype='object')\n",
      "<class 'pandas.core.frame.DataFrame'>\n",
      "8\n",
      "Index([874.121, 876.781, 853.123, 884.86, 877.969, 850.046, 845.334, 857.355], dtype='object')\n",
      "<class 'pandas.core.frame.DataFrame'>\n",
      "10\n",
      "Index([837.687, 892.475, 874.121, 876.781, 853.123,  884.86, 877.969, 850.046,\n",
      "       845.334, 857.355],\n",
      "      dtype='object')\n",
      "<class 'pandas.core.frame.DataFrame'>\n",
      "20\n",
      "Index([ 900.535, 1936.251,  871.769, 2443.582,  901.162,  891.555,  863.063,\n",
      "       2434.404,  842.587,  838.229,  837.687,  892.475,  874.121,  876.781,\n",
      "        853.123,   884.86,  877.969,  850.046,  845.334,  857.355],\n",
      "      dtype='object')\n",
      "<class 'pandas.core.frame.DataFrame'>\n",
      "50\n",
      "Index([ 894.322, 2052.764, 1181.696, 1881.452,  850.325, 1327.517,  931.934,\n",
      "        878.563, 2500.136,  853.404,  917.424,  879.756,  909.699, 1944.967,\n",
      "       1399.914, 1395.393, 1317.399, 1252.483,   869.43,  839.314, 1242.877,\n",
      "       1394.643, 1301.526,  874.415,  967.042, 1535.015, 1402.944,  881.851,\n",
      "        875.892, 1311.401,  900.535, 1936.251,  871.769, 2443.582,  901.162,\n",
      "        891.555,  863.063, 2434.404,  842.587,  838.229,  837.687,  892.475,\n",
      "        874.121,  876.781,  853.123,   884.86,  877.969,  850.046,  845.334,\n",
      "        857.355],\n",
      "      dtype='object')\n",
      "<class 'pandas.core.frame.DataFrame'>\n",
      "100\n",
      "Index([ 843.409,  895.867, 1275.906, 1158.981, 1859.857,  880.652, 1838.752,\n",
      "        886.373, 1393.144,  865.656, 1534.107,  894.014, 1997.412,  878.861,\n",
      "        847.545,  940.726,  984.672,  1180.62, 1404.464,  885.163, 1470.585,\n",
      "       1710.185, 1085.695,   954.58, 1296.969, 1977.605,  898.974,  865.079,\n",
      "         842.04,  890.024, 1170.492, 2490.529, 2294.372,   890.33, 1250.671,\n",
      "       1173.672,  2387.33,   1533.2,  854.247, 1854.535, 2483.372,  862.202,\n",
      "       1328.197,   932.94, 1254.301,  863.638, 1010.382,  1548.77,   881.55,\n",
      "       1398.404,  894.322, 2052.764, 1181.696, 1881.452,  850.325, 1327.517,\n",
      "        931.934,  878.563, 2500.136,  853.404,  917.424,  879.756,  909.699,\n",
      "       1944.967, 1399.914, 1395.393, 1317.399, 1252.483,   869.43,  839.314,\n",
      "       1242.877, 1394.643, 1301.526,  874.415,  967.042, 1535.015, 1402.944,\n",
      "        881.851,  875.892, 1311.401,  900.535, 1936.251,  871.769, 2443.582,\n",
      "        901.162,  891.555,  863.063, 2434.404,  842.587,  838.229,  837.687,\n",
      "        892.475,  874.121,  876.781,  853.123,   884.86,  877.969,  850.046,\n",
      "        845.334,  857.355],\n",
      "      dtype='object')\n",
      "<class 'pandas.core.frame.DataFrame'>\n",
      "200\n",
      "Index([ 837.416, 1365.266, 1399.159,  872.355, 1165.232,  866.235, 1129.691,\n",
      "         909.06, 1235.179, 2126.859,\n",
      "       ...\n",
      "        837.687,  892.475,  874.121,  876.781,  853.123,   884.86,  877.969,\n",
      "        850.046,  845.334,  857.355],\n",
      "      dtype='object', length=200)\n",
      "<class 'pandas.core.frame.DataFrame'>\n",
      "2\n",
      "Index([845.334, 857.355], dtype='object')\n",
      "<class 'pandas.core.frame.DataFrame'>\n",
      "4\n",
      "Index([877.969, 850.046, 845.334, 857.355], dtype='object')\n",
      "<class 'pandas.core.frame.DataFrame'>\n",
      "6\n",
      "Index([853.123, 884.86, 877.969, 850.046, 845.334, 857.355], dtype='object')\n",
      "<class 'pandas.core.frame.DataFrame'>\n",
      "8\n",
      "Index([874.121, 876.781, 853.123, 884.86, 877.969, 850.046, 845.334, 857.355], dtype='object')\n",
      "<class 'pandas.core.frame.DataFrame'>\n",
      "10\n",
      "Index([837.687, 892.475, 874.121, 876.781, 853.123,  884.86, 877.969, 850.046,\n",
      "       845.334, 857.355],\n",
      "      dtype='object')\n",
      "<class 'pandas.core.frame.DataFrame'>\n",
      "20\n",
      "Index([ 900.535, 1936.251,  871.769, 2443.582,  901.162,  891.555,  863.063,\n",
      "       2434.404,  842.587,  838.229,  837.687,  892.475,  874.121,  876.781,\n",
      "        853.123,   884.86,  877.969,  850.046,  845.334,  857.355],\n",
      "      dtype='object')\n",
      "<class 'pandas.core.frame.DataFrame'>\n",
      "50\n",
      "Index([ 894.322, 2052.764, 1181.696, 1881.452,  850.325, 1327.517,  931.934,\n",
      "        878.563, 2500.136,  853.404,  917.424,  879.756,  909.699, 1944.967,\n",
      "       1399.914, 1395.393, 1317.399, 1252.483,   869.43,  839.314, 1242.877,\n",
      "       1394.643, 1301.526,  874.415,  967.042, 1535.015, 1402.944,  881.851,\n",
      "        875.892, 1311.401,  900.535, 1936.251,  871.769, 2443.582,  901.162,\n",
      "        891.555,  863.063, 2434.404,  842.587,  838.229,  837.687,  892.475,\n",
      "        874.121,  876.781,  853.123,   884.86,  877.969,  850.046,  845.334,\n",
      "        857.355],\n",
      "      dtype='object')\n",
      "<class 'pandas.core.frame.DataFrame'>\n",
      "100\n",
      "Index([ 843.409,  895.867, 1275.906, 1158.981, 1859.857,  880.652, 1838.752,\n",
      "        886.373, 1393.144,  865.656, 1534.107,  894.014, 1997.412,  878.861,\n",
      "        847.545,  940.726,  984.672,  1180.62, 1404.464,  885.163, 1470.585,\n",
      "       1710.185, 1085.695,   954.58, 1296.969, 1977.605,  898.974,  865.079,\n",
      "         842.04,  890.024, 1170.492, 2490.529, 2294.372,   890.33, 1250.671,\n",
      "       1173.672,  2387.33,   1533.2,  854.247, 1854.535, 2483.372,  862.202,\n",
      "       1328.197,   932.94, 1254.301,  863.638, 1010.382,  1548.77,   881.55,\n",
      "       1398.404,  894.322, 2052.764, 1181.696, 1881.452,  850.325, 1327.517,\n",
      "        931.934,  878.563, 2500.136,  853.404,  917.424,  879.756,  909.699,\n",
      "       1944.967, 1399.914, 1395.393, 1317.399, 1252.483,   869.43,  839.314,\n",
      "       1242.877, 1394.643, 1301.526,  874.415,  967.042, 1535.015, 1402.944,\n",
      "        881.851,  875.892, 1311.401,  900.535, 1936.251,  871.769, 2443.582,\n",
      "        901.162,  891.555,  863.063, 2434.404,  842.587,  838.229,  837.687,\n",
      "        892.475,  874.121,  876.781,  853.123,   884.86,  877.969,  850.046,\n",
      "        845.334,  857.355],\n",
      "      dtype='object')\n",
      "<class 'pandas.core.frame.DataFrame'>\n",
      "200\n",
      "Index([ 837.416, 1365.266, 1399.159,  872.355, 1165.232,  866.235, 1129.691,\n",
      "         909.06, 1235.179, 2126.859,\n",
      "       ...\n",
      "        837.687,  892.475,  874.121,  876.781,  853.123,   884.86,  877.969,\n",
      "        850.046,  845.334,  857.355],\n",
      "      dtype='object', length=200)\n",
      "<class 'pandas.core.frame.DataFrame'>\n",
      "2\n",
      "Index([845.334, 857.355], dtype='object')\n",
      "<class 'pandas.core.frame.DataFrame'>\n",
      "4\n",
      "Index([877.969, 850.046, 845.334, 857.355], dtype='object')\n",
      "<class 'pandas.core.frame.DataFrame'>\n",
      "6\n",
      "Index([853.123, 884.86, 877.969, 850.046, 845.334, 857.355], dtype='object')\n",
      "<class 'pandas.core.frame.DataFrame'>\n",
      "8\n",
      "Index([874.121, 876.781, 853.123, 884.86, 877.969, 850.046, 845.334, 857.355], dtype='object')\n",
      "<class 'pandas.core.frame.DataFrame'>\n",
      "10\n",
      "Index([837.687, 892.475, 874.121, 876.781, 853.123,  884.86, 877.969, 850.046,\n",
      "       845.334, 857.355],\n",
      "      dtype='object')\n",
      "<class 'pandas.core.frame.DataFrame'>\n",
      "20\n",
      "Index([ 900.535, 1936.251,  871.769, 2443.582,  901.162,  891.555,  863.063,\n",
      "       2434.404,  842.587,  838.229,  837.687,  892.475,  874.121,  876.781,\n",
      "        853.123,   884.86,  877.969,  850.046,  845.334,  857.355],\n",
      "      dtype='object')\n",
      "<class 'pandas.core.frame.DataFrame'>\n",
      "50\n",
      "Index([ 894.322, 2052.764, 1181.696, 1881.452,  850.325, 1327.517,  931.934,\n",
      "        878.563, 2500.136,  853.404,  917.424,  879.756,  909.699, 1944.967,\n",
      "       1399.914, 1395.393, 1317.399, 1252.483,   869.43,  839.314, 1242.877,\n",
      "       1394.643, 1301.526,  874.415,  967.042, 1535.015, 1402.944,  881.851,\n",
      "        875.892, 1311.401,  900.535, 1936.251,  871.769, 2443.582,  901.162,\n",
      "        891.555,  863.063, 2434.404,  842.587,  838.229,  837.687,  892.475,\n",
      "        874.121,  876.781,  853.123,   884.86,  877.969,  850.046,  845.334,\n",
      "        857.355],\n",
      "      dtype='object')\n",
      "<class 'pandas.core.frame.DataFrame'>\n",
      "100\n",
      "Index([ 843.409,  895.867, 1275.906, 1158.981, 1859.857,  880.652, 1838.752,\n",
      "        886.373, 1393.144,  865.656, 1534.107,  894.014, 1997.412,  878.861,\n",
      "        847.545,  940.726,  984.672,  1180.62, 1404.464,  885.163, 1470.585,\n",
      "       1710.185, 1085.695,   954.58, 1296.969, 1977.605,  898.974,  865.079,\n",
      "         842.04,  890.024, 1170.492, 2490.529, 2294.372,   890.33, 1250.671,\n",
      "       1173.672,  2387.33,   1533.2,  854.247, 1854.535, 2483.372,  862.202,\n",
      "       1328.197,   932.94, 1254.301,  863.638, 1010.382,  1548.77,   881.55,\n",
      "       1398.404,  894.322, 2052.764, 1181.696, 1881.452,  850.325, 1327.517,\n",
      "        931.934,  878.563, 2500.136,  853.404,  917.424,  879.756,  909.699,\n",
      "       1944.967, 1399.914, 1395.393, 1317.399, 1252.483,   869.43,  839.314,\n",
      "       1242.877, 1394.643, 1301.526,  874.415,  967.042, 1535.015, 1402.944,\n",
      "        881.851,  875.892, 1311.401,  900.535, 1936.251,  871.769, 2443.582,\n",
      "        901.162,  891.555,  863.063, 2434.404,  842.587,  838.229,  837.687,\n",
      "        892.475,  874.121,  876.781,  853.123,   884.86,  877.969,  850.046,\n",
      "        845.334,  857.355],\n",
      "      dtype='object')\n",
      "<class 'pandas.core.frame.DataFrame'>\n",
      "200\n",
      "Index([ 837.416, 1365.266, 1399.159,  872.355, 1165.232,  866.235, 1129.691,\n",
      "         909.06, 1235.179, 2126.859,\n",
      "       ...\n",
      "        837.687,  892.475,  874.121,  876.781,  853.123,   884.86,  877.969,\n",
      "        850.046,  845.334,  857.355],\n",
      "      dtype='object', length=200)\n",
      "<class 'pandas.core.frame.DataFrame'>\n",
      "2\n",
      "Index([845.334, 857.355], dtype='object')\n",
      "<class 'pandas.core.frame.DataFrame'>\n",
      "4\n",
      "Index([877.969, 850.046, 845.334, 857.355], dtype='object')\n",
      "<class 'pandas.core.frame.DataFrame'>\n",
      "6\n",
      "Index([853.123, 884.86, 877.969, 850.046, 845.334, 857.355], dtype='object')\n",
      "<class 'pandas.core.frame.DataFrame'>\n",
      "8\n",
      "Index([874.121, 876.781, 853.123, 884.86, 877.969, 850.046, 845.334, 857.355], dtype='object')\n",
      "<class 'pandas.core.frame.DataFrame'>\n",
      "10\n",
      "Index([837.687, 892.475, 874.121, 876.781, 853.123,  884.86, 877.969, 850.046,\n",
      "       845.334, 857.355],\n",
      "      dtype='object')\n",
      "<class 'pandas.core.frame.DataFrame'>\n",
      "20\n",
      "Index([ 900.535, 1936.251,  871.769, 2443.582,  901.162,  891.555,  863.063,\n",
      "       2434.404,  842.587,  838.229,  837.687,  892.475,  874.121,  876.781,\n",
      "        853.123,   884.86,  877.969,  850.046,  845.334,  857.355],\n",
      "      dtype='object')\n",
      "<class 'pandas.core.frame.DataFrame'>\n",
      "50\n",
      "Index([ 894.322, 2052.764, 1181.696, 1881.452,  850.325, 1327.517,  931.934,\n",
      "        878.563, 2500.136,  853.404,  917.424,  879.756,  909.699, 1944.967,\n",
      "       1399.914, 1395.393, 1317.399, 1252.483,   869.43,  839.314, 1242.877,\n",
      "       1394.643, 1301.526,  874.415,  967.042, 1535.015, 1402.944,  881.851,\n",
      "        875.892, 1311.401,  900.535, 1936.251,  871.769, 2443.582,  901.162,\n",
      "        891.555,  863.063, 2434.404,  842.587,  838.229,  837.687,  892.475,\n",
      "        874.121,  876.781,  853.123,   884.86,  877.969,  850.046,  845.334,\n",
      "        857.355],\n",
      "      dtype='object')\n",
      "<class 'pandas.core.frame.DataFrame'>\n",
      "100\n",
      "Index([ 843.409,  895.867, 1275.906, 1158.981, 1859.857,  880.652, 1838.752,\n",
      "        886.373, 1393.144,  865.656, 1534.107,  894.014, 1997.412,  878.861,\n",
      "        847.545,  940.726,  984.672,  1180.62, 1404.464,  885.163, 1470.585,\n",
      "       1710.185, 1085.695,   954.58, 1296.969, 1977.605,  898.974,  865.079,\n",
      "         842.04,  890.024, 1170.492, 2490.529, 2294.372,   890.33, 1250.671,\n",
      "       1173.672,  2387.33,   1533.2,  854.247, 1854.535, 2483.372,  862.202,\n",
      "       1328.197,   932.94, 1254.301,  863.638, 1010.382,  1548.77,   881.55,\n",
      "       1398.404,  894.322, 2052.764, 1181.696, 1881.452,  850.325, 1327.517,\n",
      "        931.934,  878.563, 2500.136,  853.404,  917.424,  879.756,  909.699,\n",
      "       1944.967, 1399.914, 1395.393, 1317.399, 1252.483,   869.43,  839.314,\n",
      "       1242.877, 1394.643, 1301.526,  874.415,  967.042, 1535.015, 1402.944,\n",
      "        881.851,  875.892, 1311.401,  900.535, 1936.251,  871.769, 2443.582,\n",
      "        901.162,  891.555,  863.063, 2434.404,  842.587,  838.229,  837.687,\n",
      "        892.475,  874.121,  876.781,  853.123,   884.86,  877.969,  850.046,\n",
      "        845.334,  857.355],\n",
      "      dtype='object')\n",
      "<class 'pandas.core.frame.DataFrame'>\n",
      "200\n",
      "Index([ 837.416, 1365.266, 1399.159,  872.355, 1165.232,  866.235, 1129.691,\n",
      "         909.06, 1235.179, 2126.859,\n",
      "       ...\n",
      "        837.687,  892.475,  874.121,  876.781,  853.123,   884.86,  877.969,\n",
      "        850.046,  845.334,  857.355],\n",
      "      dtype='object', length=200)\n",
      "<class 'pandas.core.frame.DataFrame'>\n",
      "2\n",
      "Index([845.334, 857.355], dtype='object')\n",
      "<class 'pandas.core.frame.DataFrame'>\n",
      "4\n",
      "Index([877.969, 850.046, 845.334, 857.355], dtype='object')\n",
      "<class 'pandas.core.frame.DataFrame'>\n",
      "6\n",
      "Index([853.123, 884.86, 877.969, 850.046, 845.334, 857.355], dtype='object')\n",
      "<class 'pandas.core.frame.DataFrame'>\n",
      "8\n",
      "Index([874.121, 876.781, 853.123, 884.86, 877.969, 850.046, 845.334, 857.355], dtype='object')\n",
      "<class 'pandas.core.frame.DataFrame'>\n",
      "10\n",
      "Index([837.687, 892.475, 874.121, 876.781, 853.123,  884.86, 877.969, 850.046,\n",
      "       845.334, 857.355],\n",
      "      dtype='object')\n",
      "<class 'pandas.core.frame.DataFrame'>\n",
      "20\n",
      "Index([ 900.535, 1936.251,  871.769, 2443.582,  901.162,  891.555,  863.063,\n",
      "       2434.404,  842.587,  838.229,  837.687,  892.475,  874.121,  876.781,\n",
      "        853.123,   884.86,  877.969,  850.046,  845.334,  857.355],\n",
      "      dtype='object')\n",
      "<class 'pandas.core.frame.DataFrame'>\n",
      "50\n",
      "Index([ 894.322, 2052.764, 1181.696, 1881.452,  850.325, 1327.517,  931.934,\n",
      "        878.563, 2500.136,  853.404,  917.424,  879.756,  909.699, 1944.967,\n",
      "       1399.914, 1395.393, 1317.399, 1252.483,   869.43,  839.314, 1242.877,\n",
      "       1394.643, 1301.526,  874.415,  967.042, 1535.015, 1402.944,  881.851,\n",
      "        875.892, 1311.401,  900.535, 1936.251,  871.769, 2443.582,  901.162,\n",
      "        891.555,  863.063, 2434.404,  842.587,  838.229,  837.687,  892.475,\n",
      "        874.121,  876.781,  853.123,   884.86,  877.969,  850.046,  845.334,\n",
      "        857.355],\n",
      "      dtype='object')\n",
      "<class 'pandas.core.frame.DataFrame'>\n",
      "100\n",
      "Index([ 843.409,  895.867, 1275.906, 1158.981, 1859.857,  880.652, 1838.752,\n",
      "        886.373, 1393.144,  865.656, 1534.107,  894.014, 1997.412,  878.861,\n",
      "        847.545,  940.726,  984.672,  1180.62, 1404.464,  885.163, 1470.585,\n",
      "       1710.185, 1085.695,   954.58, 1296.969, 1977.605,  898.974,  865.079,\n",
      "         842.04,  890.024, 1170.492, 2490.529, 2294.372,   890.33, 1250.671,\n",
      "       1173.672,  2387.33,   1533.2,  854.247, 1854.535, 2483.372,  862.202,\n",
      "       1328.197,   932.94, 1254.301,  863.638, 1010.382,  1548.77,   881.55,\n",
      "       1398.404,  894.322, 2052.764, 1181.696, 1881.452,  850.325, 1327.517,\n",
      "        931.934,  878.563, 2500.136,  853.404,  917.424,  879.756,  909.699,\n",
      "       1944.967, 1399.914, 1395.393, 1317.399, 1252.483,   869.43,  839.314,\n",
      "       1242.877, 1394.643, 1301.526,  874.415,  967.042, 1535.015, 1402.944,\n",
      "        881.851,  875.892, 1311.401,  900.535, 1936.251,  871.769, 2443.582,\n",
      "        901.162,  891.555,  863.063, 2434.404,  842.587,  838.229,  837.687,\n",
      "        892.475,  874.121,  876.781,  853.123,   884.86,  877.969,  850.046,\n",
      "        845.334,  857.355],\n",
      "      dtype='object')\n",
      "<class 'pandas.core.frame.DataFrame'>\n",
      "200\n",
      "Index([ 837.416, 1365.266, 1399.159,  872.355, 1165.232,  866.235, 1129.691,\n",
      "         909.06, 1235.179, 2126.859,\n",
      "       ...\n",
      "        837.687,  892.475,  874.121,  876.781,  853.123,   884.86,  877.969,\n",
      "        850.046,  845.334,  857.355],\n",
      "      dtype='object', length=200)\n",
      "<class 'pandas.core.frame.DataFrame'>\n",
      "2\n",
      "Index([845.334, 857.355], dtype='object')\n",
      "<class 'pandas.core.frame.DataFrame'>\n",
      "4\n",
      "Index([877.969, 850.046, 845.334, 857.355], dtype='object')\n",
      "<class 'pandas.core.frame.DataFrame'>\n",
      "6\n",
      "Index([853.123, 884.86, 877.969, 850.046, 845.334, 857.355], dtype='object')\n",
      "<class 'pandas.core.frame.DataFrame'>\n",
      "8\n",
      "Index([874.121, 876.781, 853.123, 884.86, 877.969, 850.046, 845.334, 857.355], dtype='object')\n",
      "<class 'pandas.core.frame.DataFrame'>\n",
      "10\n",
      "Index([837.687, 892.475, 874.121, 876.781, 853.123,  884.86, 877.969, 850.046,\n",
      "       845.334, 857.355],\n",
      "      dtype='object')\n",
      "<class 'pandas.core.frame.DataFrame'>\n",
      "20\n",
      "Index([ 900.535, 1936.251,  871.769, 2443.582,  901.162,  891.555,  863.063,\n",
      "       2434.404,  842.587,  838.229,  837.687,  892.475,  874.121,  876.781,\n",
      "        853.123,   884.86,  877.969,  850.046,  845.334,  857.355],\n",
      "      dtype='object')\n",
      "<class 'pandas.core.frame.DataFrame'>\n",
      "50\n",
      "Index([ 894.322, 2052.764, 1181.696, 1881.452,  850.325, 1327.517,  931.934,\n",
      "        878.563, 2500.136,  853.404,  917.424,  879.756,  909.699, 1944.967,\n",
      "       1399.914, 1395.393, 1317.399, 1252.483,   869.43,  839.314, 1242.877,\n",
      "       1394.643, 1301.526,  874.415,  967.042, 1535.015, 1402.944,  881.851,\n",
      "        875.892, 1311.401,  900.535, 1936.251,  871.769, 2443.582,  901.162,\n",
      "        891.555,  863.063, 2434.404,  842.587,  838.229,  837.687,  892.475,\n",
      "        874.121,  876.781,  853.123,   884.86,  877.969,  850.046,  845.334,\n",
      "        857.355],\n",
      "      dtype='object')\n",
      "<class 'pandas.core.frame.DataFrame'>\n",
      "100\n",
      "Index([ 843.409,  895.867, 1275.906, 1158.981, 1859.857,  880.652, 1838.752,\n",
      "        886.373, 1393.144,  865.656, 1534.107,  894.014, 1997.412,  878.861,\n",
      "        847.545,  940.726,  984.672,  1180.62, 1404.464,  885.163, 1470.585,\n",
      "       1710.185, 1085.695,   954.58, 1296.969, 1977.605,  898.974,  865.079,\n",
      "         842.04,  890.024, 1170.492, 2490.529, 2294.372,   890.33, 1250.671,\n",
      "       1173.672,  2387.33,   1533.2,  854.247, 1854.535, 2483.372,  862.202,\n",
      "       1328.197,   932.94, 1254.301,  863.638, 1010.382,  1548.77,   881.55,\n",
      "       1398.404,  894.322, 2052.764, 1181.696, 1881.452,  850.325, 1327.517,\n",
      "        931.934,  878.563, 2500.136,  853.404,  917.424,  879.756,  909.699,\n",
      "       1944.967, 1399.914, 1395.393, 1317.399, 1252.483,   869.43,  839.314,\n",
      "       1242.877, 1394.643, 1301.526,  874.415,  967.042, 1535.015, 1402.944,\n",
      "        881.851,  875.892, 1311.401,  900.535, 1936.251,  871.769, 2443.582,\n",
      "        901.162,  891.555,  863.063, 2434.404,  842.587,  838.229,  837.687,\n",
      "        892.475,  874.121,  876.781,  853.123,   884.86,  877.969,  850.046,\n",
      "        845.334,  857.355],\n",
      "      dtype='object')\n",
      "<class 'pandas.core.frame.DataFrame'>\n",
      "200\n",
      "Index([ 837.416, 1365.266, 1399.159,  872.355, 1165.232,  866.235, 1129.691,\n",
      "         909.06, 1235.179, 2126.859,\n",
      "       ...\n",
      "        837.687,  892.475,  874.121,  876.781,  853.123,   884.86,  877.969,\n",
      "        850.046,  845.334,  857.355],\n",
      "      dtype='object', length=200)\n",
      "<class 'pandas.core.frame.DataFrame'>\n"
     ]
    }
   ],
   "source": [
    "num_ml_tools = len(par)\n",
    "ml_dicts = {}\n",
    "\n",
    "for m, par in zip(models, par):\n",
    "    key0 = str(m[1])\n",
    "    ml_dicts[key0] = {}\n",
    "    for f in number_features:\n",
    "        print(f)\n",
    "        print(cols_ordered[-f:])\n",
    "        print(type(Xtrain))\n",
    "        xtr =  Xtrain[cols_ordered[-f:]]\n",
    "        # xte =  Xtest[cols_ordered[-f:]]\n",
    "        results = get_accuracy_ml (m[0], m[2], par, np.array(xtr), np.array(Ytrain), np.array(xtr), np.array(Ytrain)) # to get the accuracies for the ml model\n",
    "        # results = get_accuracy_ml (m[0], m[2], par, np.array(xtr), np.array(Ytrain), np.array(xtr), np.array(Ytrain)) # to get the accuracies for the ml model\n",
    "\n",
    "        key = str(m[1])+\",\"+str((f))\n",
    "        ml_dicts[key0][key] = {}\n",
    "\n",
    "        ml_dicts[key0][key]['tot_acc'] = results[0]\n",
    "        ml_dicts[key0][key]['jack_train'] = results[1]\n",
    "        ml_dicts[key0][key]['jack_test'] = results[2]"
   ]
  },
  {
   "cell_type": "code",
   "execution_count": 18,
   "id": "3ba162e7-96f2-43b9-ba82-7d9614624673",
   "metadata": {},
   "outputs": [],
   "source": [
    "import json"
   ]
  },
  {
   "cell_type": "code",
   "execution_count": 19,
   "id": "dfed86ab-ac1b-4227-9445-36b264c96608",
   "metadata": {},
   "outputs": [],
   "source": [
    "with open('ml_gd.txt', 'w') as file:\n",
    "     file.write(json.dumps(ml_dicts)) # use `json.loads` to do the reverse"
   ]
  },
  {
   "cell_type": "markdown",
   "id": "42dc679a-7496-460b-8c1e-13600f07d8e4",
   "metadata": {},
   "source": [
    "---"
   ]
  },
  {
   "cell_type": "markdown",
   "id": "8b3d6bf5-1b84-4c06-92b7-f1deab65e55e",
   "metadata": {},
   "source": [
    "<b><i> accuracy visualisation </i></b> "
   ]
  },
  {
   "cell_type": "code",
   "execution_count": 20,
   "id": "f70a4cbc-fa33-4859-b3ff-be245a83de0a",
   "metadata": {},
   "outputs": [
    {
     "data": {
      "text/plain": [
       "dict_keys(['lr, all'])"
      ]
     },
     "execution_count": 20,
     "metadata": {},
     "output_type": "execute_result"
    }
   ],
   "source": [
    "import json\n",
    "with open('ml_gd.txt') as f:\n",
    "    data = f.read()\n",
    "    \n",
    "ml_dicts = json.loads(data)\n",
    "\n",
    "with open('base_gd_tr.txt') as f:\n",
    "    data = f.read()\n",
    "    \n",
    "baseDict = json.loads(data)\n",
    "baseDict['lr'].keys()    "
   ]
  },
  {
   "cell_type": "code",
   "execution_count": 21,
   "id": "250c10b9-1d38-426a-b7ed-4e2bb966b96e",
   "metadata": {},
   "outputs": [
    {
     "name": "stdout",
     "output_type": "stream",
     "text": [
      "dict_keys(['lr, all'])\n",
      "dict_keys(['lr,2', 'lr,4', 'lr,6', 'lr,8', 'lr,10', 'lr,20', 'lr,50', 'lr,100', 'lr,200'])\n"
     ]
    }
   ],
   "source": [
    "print(baseDict['lr'].keys()    )\n",
    "print(ml_dicts['lr'].keys()    )"
   ]
  },
  {
   "cell_type": "code",
   "execution_count": 22,
   "id": "3e1b30c1-5910-4c65-bc21-8b5fd4c37399",
   "metadata": {},
   "outputs": [],
   "source": [
    "from source.calculate_jack import jack_SD # importing the baseline code from source.basline file"
   ]
  },
  {
   "cell_type": "code",
   "execution_count": 23,
   "id": "fccc55b9-bb52-4e46-9f4b-4fbac7760ea4",
   "metadata": {},
   "outputs": [],
   "source": [
    "arr_all = []\n",
    "for m, d in zip (models, ml_dicts.keys()):\n",
    "    acc_arr = [] \n",
    "    sd_arr = [] \n",
    "\n",
    "    # print(ml_dicts[d])\n",
    "    for key in ml_dicts[d].keys():\n",
    "        acc_arr.append(ml_dicts[d][key][ 'tot_acc' ]) # append total accuracy to an array\n",
    "        sd_train = jack_SD(np.zeros( len(ml_dicts[d][key][ 'jack_train' ]) ), ml_dicts[d][key][ 'jack_train' ])[0]\n",
    "        sd_test = jack_SD(np.zeros( len(ml_dicts[d][key][ 'jack_test' ]) ), ml_dicts[d][key][ 'jack_test' ])[0]\n",
    "        sd = np.sqrt( np.array((sd_train**2)) + np.array((sd_test**2)))\n",
    "        sd_arr.append(sd) # append sd_arr to an array\n",
    "    arr_all.append([ list(ml_dicts[d].keys()), acc_arr, sd_arr])    "
   ]
  },
  {
   "cell_type": "code",
   "execution_count": 24,
   "id": "637d66b4-1dbc-4aad-9293-37e1c9415bbc",
   "metadata": {},
   "outputs": [
    {
     "name": "stdout",
     "output_type": "stream",
     "text": [
      "[[['lr,2', 'lr,4', 'lr,6', 'lr,8', 'lr,10', 'lr,20', 'lr,50', 'lr,100', 'lr,200'], [0.5022421524663677, 0.5022421524663677, 0.5515151515151515, 0.6310160427807486, 0.7566137566137566, 0.7894736842105263, 0.9183673469387755, 0.9336734693877551, 0.9540816326530612], [0.06429670428891349, 0.3887960718744614, 0.09734725282541587, 0.047324162092058586, 0.050756067635336535, 0.04479344595811387, 0.022749826357727893, 0.06267466701520241, 0.07868889447471802]], [['svm,2', 'svm,4', 'svm,6', 'svm,8', 'svm,10', 'svm,20', 'svm,50', 'svm,100', 'svm,200'], [0.6666666666666666, 0.6842105263157895, 0.6705202312138728, 0.6666666666666666, 0.75, 0.8235294117647058, 0.9108910891089109, 0.9261083743842364, 0.9289340101522843], [0.12286642564473246, 0.10555443562789053, 0.07504950040755269, 0.25794149814302886, 0.17232540679775507, 0.13601800115754434, 0.07285981241298405, 0.03078836766930981, 0.03678390591727628]], [['rf,2', 'rf,4', 'rf,6', 'rf,8', 'rf,10', 'rf,20', 'rf,50', 'rf,100', 'rf,200'], [0.8305084745762712, 0.8548387096774194, 0.8578947368421053, 0.8571428571428571, 0.9740932642487047, 1.0, 1.0, 1.0, 1.0], [0.0749890500990814, 0.06687854857858926, 0.062064589145404116, 0.1273327160986908, 0.5946782586058454, 0.0725378648201276, 0.02086799440323835, 0.0620591355319981, 0.09565767211813547]], [['xgb,2', 'xgb,4', 'xgb,6', 'xgb,8', 'xgb,10', 'xgb,20', 'xgb,50', 'xgb,100', 'xgb,200'], [0.7631578947368421, 0.6900584795321637, 0.6815642458100558, 0.7777777777777778, 0.6938775510204082, 0.9742268041237113, 0.9735449735449735, 0.9736842105263158, 0.9738219895287958], [0.2648280549705796, 0.19485877917222602, 0.5751795909546523, 0.3380274061557871, 0.29871520653706213, 0.3129026993604856, 0.144231337356061, 0.11617120809100295, 0.12963553771202865]], [['knns,2', 'knns,4', 'knns,6', 'knns,8', 'knns,10', 'knns,20', 'knns,50', 'knns,100', 'knns,200'], [0.6848484848484848, 0.6628571428571428, 0.644808743169399, 0.6571428571428571, 0.6534090909090909, 1.0, 1.0, 1.0, 1.0], [0.04976339213075825, 0.047322711576719655, 0.04957526340943553, 0.07025733619844857, 0.04818062711896346, 0.23613558858977718, 0.017730102995470492, 0.018878849024455507, 0.01645053155498238]], [['anns,2', 'anns,4', 'anns,6', 'anns,8', 'anns,10', 'anns,20', 'anns,50', 'anns,100', 'anns,200'], [0.6890756302521008, 0.5708333333333333, 0.5, 0.6767676767676768, 0.5572519083969466, 0.5575757575757576, 0.8549222797927462, 0.8472906403940886, 0.8144796380090498], [0.2072503104927446, 0.44821589778980125, 0.12796985154869764, 0.10416883980453813, 0.7665621109576248, 0.3798308630432883, 0.08997672457473103, 0.14216955890320265, 0.2228745173618627]]]\n"
     ]
    }
   ],
   "source": [
    "print(arr_all)"
   ]
  },
  {
   "cell_type": "code",
   "execution_count": 31,
   "id": "43344a45-963e-4aec-8673-63388a69d1dc",
   "metadata": {},
   "outputs": [
    {
     "name": "stdout",
     "output_type": "stream",
     "text": [
      "[0.    0.375 0.75  1.125 1.5   1.875 2.25  2.625 3.   ]\n",
      "[5.    5.375 5.75  6.125 6.5   6.875 7.25  7.625 8.   ]\n",
      "[10.    10.375 10.75  11.125 11.5   11.875 12.25  12.625 13.   ]\n",
      "[15.    15.375 15.75  16.125 16.5   16.875 17.25  17.625 18.   ]\n",
      "[20.    20.375 20.75  21.125 21.5   21.875 22.25  22.625 23.   ]\n",
      "[25.    25.375 25.75  26.125 26.5   26.875 27.25  27.625 28.   ]\n"
     ]
    },
    {
     "data": {
      "image/png": "[encoded data removed]",
      "text/plain": [
       "<Figure size 1080x504 with 1 Axes>"
      ]
     },
     "metadata": {
      "needs_background": "light"
     },
     "output_type": "display_data"
    }
   ],
   "source": [
    "colors = ['blue', 'purple', 'green', 'orange', 'red', 'brown']\n",
    "plt.figure(figsize=(15, 7))\n",
    "plt.title( \"Precision  for different features with the SD\", fontweight ='bold', fontsize =12)\n",
    "plt.xlabel(\"Features\", fontweight ='bold', fontsize =12)\n",
    "plt.ylabel(\"Precision\", fontweight ='bold', fontsize =12)\n",
    "\n",
    "count = 0\n",
    "n = len(colors)-1\n",
    "\n",
    "space = []\n",
    "tickFeat = []\n",
    "\n",
    "for result, model, color in zip(arr_all, models, colors):\n",
    "    a = np.linspace(n*count, n*(1+count)-2,9)\n",
    "    print(a)\n",
    "    space.extend(a)\n",
    "    tickFeat.extend(result[0])\n",
    "    plt.errorbar( a, result[1], result[2], fmt='o', label =model[1], color = color)\n",
    "    count += 1\n",
    "\n",
    "plt.plot(np.array(space),[0.9187]*54, color = 'Black')        \n",
    "plt.xticks(space, tickFeat, rotation = 'vertical',  fontsize =12)\n",
    "plt.ylim(.2, 1)\n",
    "plt.legend()\n",
    "\n",
    "plt.show()"
   ]
  },
  {
   "cell_type": "markdown",
   "id": "b3fbfcfc-a2f8-4a01-b01d-0867b45aa380",
   "metadata": {},
   "source": [
    "<b><i> relative performance </i></b> "
   ]
  },
  {
   "cell_type": "code",
   "execution_count": 26,
   "id": "f3dea982-8617-47c1-a7e0-a16d661be6db",
   "metadata": {},
   "outputs": [],
   "source": [
    "arr_diff_all = []\n",
    "\n",
    "for m, m_key in zip (models, ml_dicts.keys()):\n",
    "    acc_diff_arr = [] \n",
    "    sd_diff_arr = [] \n",
    "    for f_key in ml_dicts[m_key].keys():\n",
    "        value = f_key.split(',')\n",
    "        acc_diff_arr.append( ml_dicts[m_key][f_key][ 'tot_acc' ] - baseDict['lr']['lr, all'][ 'tot_acc' ]  )\n",
    "\n",
    "        sd_train = jack_SD( baseDict['lr']['lr, all'][ 'jack_train' ], ml_dicts[m_key][f_key]['jack_train'] )[0]\n",
    "        sd_test = jack_SD(  baseDict['lr']['lr, all'][ 'jack_test' ],  ml_dicts[m_key][f_key]['jack_test']   )[0]\n",
    "\n",
    "        sd = np.sqrt( np.array((sd_train**2)) + np.array((sd_test**2)))\n",
    "        sd_diff_arr.append(sd) # append sd_arr to an array\n",
    "    arr_diff_all.append([ list(ml_dicts[m_key].keys()), acc_diff_arr, sd_diff_arr]) "
   ]
  },
  {
   "cell_type": "code",
   "execution_count": 27,
   "id": "e93a0e34-e4b1-4b5a-ba89-caef3297647d",
   "metadata": {},
   "outputs": [
    {
     "data": {
      "image/png": "[encoded data removed]",
      "text/plain": [
       "<Figure size 1080x504 with 1 Axes>"
      ]
     },
     "metadata": {
      "needs_background": "light"
     },
     "output_type": "display_data"
    }
   ],
   "source": [
    "colors = ['blue', 'purple', 'green', 'orange', 'red', 'brown']\n",
    "plt.figure(figsize=(15, 7))\n",
    "plt.title( \"Precision  differences for ML methods versus LR_all for feature setsD\", fontweight ='bold', fontsize =12)\n",
    "plt.xlabel(\"Features\", fontweight ='bold', fontsize =12)\n",
    "plt.ylabel(\"Precision  difference\", fontweight ='bold', fontsize =12)\n",
    "\n",
    "count = 0\n",
    "n = len(colors)-0.5\n",
    "space = []\n",
    "tickFeat = []\n",
    "\n",
    "for result, model, color in zip(arr_diff_all, models, colors):\n",
    "    a = np.linspace(n*count, n*(1+count)-2,9)\n",
    "    space.extend(a)\n",
    "    tickFeat.extend(result[0])\n",
    "    plt.errorbar( a, result[1], result[2], fmt='o', label =model[1], color = color)\n",
    "    count += 1\n",
    "    \n",
    "plt.plot(np.array(space), np.zeros(9*6), color = 'Black')        \n",
    "plt.xticks(space, tickFeat, rotation = 'vertical',  fontsize =12)\n",
    "plt.ylim(-.5, 1)\n",
    "plt.legend()\n",
    "\n",
    "plt.show()"
   ]
  },
  {
   "cell_type": "code",
   "execution_count": null,
   "id": "ecbe0d8b-72e3-4fab-b994-e96873737bda",
   "metadata": {},
   "outputs": [],
   "source": []
  }
 ],
 "metadata": {
  "kernelspec": {
   "display_name": "apple_kernel",
   "language": "python",
   "name": "apple_kernel"
  },
  "language_info": {
   "codemirror_mode": {
    "name": "ipython",
    "version": 3
   },
   "file_extension": ".py",
   "mimetype": "text/x-python",
   "name": "python",
   "nbconvert_exporter": "python",
   "pygments_lexer": "ipython3",
   "version": "3.8.10"
  }
 },
 "nbformat": 4,
 "nbformat_minor": 5
}
